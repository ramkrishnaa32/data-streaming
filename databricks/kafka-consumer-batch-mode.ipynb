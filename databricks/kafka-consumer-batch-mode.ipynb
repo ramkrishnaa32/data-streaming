{
 "cells": [
  {
   "cell_type": "code",
   "execution_count": 0,
   "metadata": {
    "application/vnd.databricks.v1+cell": {
     "cellMetadata": {
      "byteLimit": 2048000,
      "rowLimit": 10000
     },
     "inputWidgets": {},
     "nuid": "ffc7c399-26b0-4626-abce-e674045c5610",
     "showTitle": false,
     "tableResultSettingsMap": {},
     "title": ""
    }
   },
   "outputs": [
    {
     "output_type": "display_data",
     "data": {
      "text/html": [
       "\n",
       "            <div>\n",
       "                <p><b>SparkSession - hive</b></p>\n",
       "                \n",
       "        <div>\n",
       "            <p><b>SparkContext</b></p>\n",
       "\n",
       "            <p><a href=\"/?o=2728196762175452#setting/sparkui/0424-075027-qah3lonv/driver-8733740156068551540\">Spark UI</a></p>\n",
       "\n",
       "            <dl>\n",
       "              <dt>Version</dt>\n",
       "                <dd><code>v3.3.2</code></dd>\n",
       "              <dt>Master</dt>\n",
       "                <dd><code>local[8]</code></dd>\n",
       "              <dt>AppName</dt>\n",
       "                <dd><code>Databricks Shell</code></dd>\n",
       "            </dl>\n",
       "        </div>\n",
       "        \n",
       "            </div>\n",
       "        "
      ]
     },
     "metadata": {
      "application/vnd.databricks.v1+output": {
       "addedWidgets": {},
       "arguments": {},
       "data": "\n            <div>\n                <p><b>SparkSession - hive</b></p>\n                \n        <div>\n            <p><b>SparkContext</b></p>\n\n            <p><a href=\"/?o=2728196762175452#setting/sparkui/0424-075027-qah3lonv/driver-8733740156068551540\">Spark UI</a></p>\n\n            <dl>\n              <dt>Version</dt>\n                <dd><code>v3.3.2</code></dd>\n              <dt>Master</dt>\n                <dd><code>local[8]</code></dd>\n              <dt>AppName</dt>\n                <dd><code>Databricks Shell</code></dd>\n            </dl>\n        </div>\n        \n            </div>\n        ",
       "datasetInfos": [],
       "metadata": {},
       "removedWidgets": [],
       "textData": null,
       "type": "htmlSandbox"
      }
     },
     "output_type": "display_data"
    }
   ],
   "source": [
    "spark"
   ]
  },
  {
   "cell_type": "code",
   "execution_count": 0,
   "metadata": {
    "application/vnd.databricks.v1+cell": {
     "cellMetadata": {
      "byteLimit": 2048000,
      "rowLimit": 10000
     },
     "inputWidgets": {},
     "nuid": "1cef0437-5746-42c3-85eb-263d1b639f9a",
     "showTitle": false,
     "tableResultSettingsMap": {},
     "title": ""
    }
   },
   "outputs": [],
   "source": [
    "from confluent_kafka import Consumer, KafkaError"
   ]
  },
  {
   "cell_type": "code",
   "execution_count": 0,
   "metadata": {
    "application/vnd.databricks.v1+cell": {
     "cellMetadata": {
      "byteLimit": 2048000,
      "rowLimit": 10000
     },
     "inputWidgets": {},
     "nuid": "3ff58bd3-de1c-4cb9-8b64-a946b76e6b40",
     "showTitle": false,
     "tableResultSettingsMap": {},
     "title": ""
    }
   },
   "outputs": [],
   "source": [
    "bootstrap_servers = 'pkc-p11xm.us-east-1.aws.confluent.cloud:9092'\n",
    "api_key = 'LPYADP34SBHCKA44'\n",
    "api_secret = 'J6U2wQkzFwCyfExoLYTdf5JJBbdIp0m1ElQQXQyHOhkz4B+VAUhBRufgRAvoIBwF'\n",
    "topic_name = 'retail-data-topic-01'"
   ]
  },
  {
   "cell_type": "code",
   "execution_count": 0,
   "metadata": {
    "application/vnd.databricks.v1+cell": {
     "cellMetadata": {
      "byteLimit": 2048000,
      "rowLimit": 10000
     },
     "inputWidgets": {},
     "nuid": "88922551-fd5e-4c19-917b-fffb01b59bf3",
     "showTitle": false,
     "tableResultSettingsMap": {},
     "title": ""
    }
   },
   "outputs": [],
   "source": [
    "orders_df = spark \\\n",
    "    .read \\\n",
    "    .format(\"kafka\") \\\n",
    "    .option(\"kafka.bootstrap.servers\", bootstrap_servers) \\\n",
    "    .option(\"kafka.security.protocol\", \"SASL_SSL\") \\\n",
    "    .option(\"kafka.sasl.mechanism\", \"PLAIN\") \\\n",
    "    .option(\"kafka.sasl.jaas.config\", f'org.apache.kafka.common.security.plain.PlainLoginModule required username=\"{api_key}\" password=\"{api_secret}\" serviceName=\"kafka\";') \\\n",
    "    .option(\"kafka.ssl.endpoint.identification.algorithm\", \"https\") \\\n",
    "    .option(\"subscribe\", topic_name) \\\n",
    "    .option(\"startingTimestamp\", 1) \\\n",
    "    .option(\"maxOffsetsPerTrigger\", 50) \\\n",
    "    .load()"
   ]
  },
  {
   "cell_type": "code",
   "execution_count": 0,
   "metadata": {
    "application/vnd.databricks.v1+cell": {
     "cellMetadata": {
      "byteLimit": 2048000,
      "rowLimit": 10000
     },
     "inputWidgets": {},
     "nuid": "24724744-a680-40ad-9e9a-2903f523fc17",
     "showTitle": false,
     "tableResultSettingsMap": {},
     "title": ""
    }
   },
   "outputs": [
    {
     "output_type": "display_data",
     "data": {
      "text/html": [
       "<style scoped>\n",
       "  .table-result-container {\n",
       "    max-height: 300px;\n",
       "    overflow: auto;\n",
       "  }\n",
       "  table, th, td {\n",
       "    border: 1px solid black;\n",
       "    border-collapse: collapse;\n",
       "  }\n",
       "  th, td {\n",
       "    padding: 5px;\n",
       "  }\n",
       "  th {\n",
       "    text-align: left;\n",
       "  }\n",
       "</style><div class='table-result-container'><table class='table-result'><thead style='background-color: white'><tr><th>key</th><th>value</th><th>topic</th><th>partition</th><th>offset</th><th>timestamp</th><th>timestampType</th></tr></thead><tbody><tr><td>MTI0</td><td>eyJvcmRlcl9pZCI6MTgsImN1c3RvbWVyX2lkIjoxMjA1LCJjdXN0b21lcl9mbmFtZSI6Ik1hcnkiLCJjdXN0b21lcl9sbmFtZSI6IlBvd2VsbCIsImNpdHkiOiJNaWFtaSIsInN0YXRlIjoiRkwiLCJwaW5jb2RlIjozMzEyNiw= (truncated)</td><td>retail-data-topic-01</td><td>2</td><td>0</td><td>2025-04-23T05:59:33.880+0000</td><td>0</td></tr><tr><td>NTY1Nw==</td><td>eydvcmRlcl9pZCc6IDksICdjdXN0b21lcl9pZCc6IDU2NTcsICdjdXN0b21lcl9mbmFtZSc6ICdNYXJ5JywgJ2N1c3RvbWVyX2xuYW1lJzogJ0phbWVzJywgJ2NpdHknOiAnTGFrZXdvb2QnLCAnc3RhdGUnOiAnT0gnLCAncGk= (truncated)</td><td>retail-data-topic-01</td><td>2</td><td>1</td><td>2025-04-24T06:36:47.860+0000</td><td>0</td></tr><tr><td>NTY0OA==</td><td>eydvcmRlcl9pZCc6IDEwLCAnY3VzdG9tZXJfaWQnOiA1NjQ4LCAnY3VzdG9tZXJfZm5hbWUnOiAnSm9zaHVhJywgJ2N1c3RvbWVyX2xuYW1lJzogJ1NtaXRoJywgJ2NpdHknOiAnTWVtcGhpcycsICdzdGF0ZSc6ICdUTicsICc= (truncated)</td><td>retail-data-topic-01</td><td>2</td><td>2</td><td>2025-04-24T06:36:52.732+0000</td><td>0</td></tr><tr><td>OTg0Mg==</td><td>eydvcmRlcl9pZCc6IDE0LCAnY3VzdG9tZXJfaWQnOiA5ODQyLCAnY3VzdG9tZXJfZm5hbWUnOiAnTWFyeScsICdjdXN0b21lcl9sbmFtZSc6ICdTbWl0aCcsICdjaXR5JzogJ0NhZ3VhcycsICdzdGF0ZSc6ICdQUicsICdwaW4= (truncated)</td><td>retail-data-topic-01</td><td>2</td><td>3</td><td>2025-04-24T06:37:05.541+0000</td><td>0</td></tr><tr><td>MzI0MQ==</td><td>eydvcmRlcl9pZCc6IDI3LCAnY3VzdG9tZXJfaWQnOiAzMjQxLCAnY3VzdG9tZXJfZm5hbWUnOiAnV2lsbGllJywgJ2N1c3RvbWVyX2xuYW1lJzogJ1NtaXRoJywgJ2NpdHknOiAnQ2FndWFzJywgJ3N0YXRlJzogJ1BSJywgJ3A= (truncated)</td><td>retail-data-topic-01</td><td>2</td><td>4</td><td>2025-04-24T06:37:36.284+0000</td><td>0</td></tr><tr><td>NDE4OQ==</td><td>eydvcmRlcl9pZCc6IDM0LCAnY3VzdG9tZXJfaWQnOiA0MTg5LCAnY3VzdG9tZXJfZm5hbWUnOiAnSGVhdGhlcicsICdjdXN0b21lcl9sbmFtZSc6ICdKb2huc29uJywgJ2NpdHknOiAnTG9zIEFuZ2VsZXMnLCAnc3RhdGUnOiA= (truncated)</td><td>retail-data-topic-01</td><td>2</td><td>5</td><td>2025-04-24T06:37:52.504+0000</td><td>0</td></tr><tr><td>ODEzNg==</td><td>eydvcmRlcl9pZCc6IDQxLCAnY3VzdG9tZXJfaWQnOiA4MTM2LCAnY3VzdG9tZXJfZm5hbWUnOiAnQ2hhcmxlcycsICdjdXN0b21lcl9sbmFtZSc6ICdTbWl0aCcsICdjaXR5JzogJ1NhaW50IENoYXJsZXMnLCAnc3RhdGUnOiA= (truncated)</td><td>retail-data-topic-01</td><td>2</td><td>6</td><td>2025-04-24T06:38:09.297+0000</td><td>0</td></tr><tr><td>Nzc3Ng==</td><td>eydvcmRlcl9pZCc6IDQzLCAnY3VzdG9tZXJfaWQnOiA3Nzc2LCAnY3VzdG9tZXJfZm5hbWUnOiAnSnVsaWUnLCAnY3VzdG9tZXJfbG5hbWUnOiAnU21pdGgnLCAnY2l0eSc6ICdDYWd1YXMnLCAnc3RhdGUnOiAnUFInLCAncGk= (truncated)</td><td>retail-data-topic-01</td><td>2</td><td>7</td><td>2025-04-24T06:38:14.827+0000</td><td>0</td></tr><tr><td>NTU3OQ==</td><td>eydvcmRlcl9pZCc6IDY0LCAnY3VzdG9tZXJfaWQnOiA1NTc5LCAnY3VzdG9tZXJfZm5hbWUnOiAnTWFyeScsICdjdXN0b21lcl9sbmFtZSc6ICdIdXJsZXknLCAnY2l0eSc6ICdFbGdpbicsICdzdGF0ZSc6ICdJTCcsICdwaW4= (truncated)</td><td>retail-data-topic-01</td><td>2</td><td>8</td><td>2025-04-24T06:38:58.729+0000</td><td>0</td></tr><tr><td>NDMyMA==</td><td>eydvcmRlcl9pZCc6IDY4LCAnY3VzdG9tZXJfaWQnOiA0MzIwLCAnY3VzdG9tZXJfZm5hbWUnOiAnSm9yZGFuJywgJ2N1c3RvbWVyX2xuYW1lJzogJ1RheWxvcicsICdjaXR5JzogJ0NhZ3VhcycsICdzdGF0ZSc6ICdQUicsICc= (truncated)</td><td>retail-data-topic-01</td><td>2</td><td>9</td><td>2025-04-24T06:39:09.891+0000</td><td>0</td></tr><tr><td>NzkxNQ==</td><td>eydvcmRlcl9pZCc6IDc3LCAnY3VzdG9tZXJfaWQnOiA3OTE1LCAnY3VzdG9tZXJfZm5hbWUnOiAnSnVzdGluJywgJ2N1c3RvbWVyX2xuYW1lJzogJ011cnBoeScsICdjaXR5JzogJ0NhZ3VhcycsICdzdGF0ZSc6ICdQUicsICc= (truncated)</td><td>retail-data-topic-01</td><td>2</td><td>10</td><td>2025-04-24T06:39:31.498+0000</td><td>0</td></tr><tr><td>MTI2NQ==</td><td>eydvcmRlcl9pZCc6IDgzLCAnY3VzdG9tZXJfaWQnOiAxMjY1LCAnY3VzdG9tZXJfZm5hbWUnOiAnQWxiZXJ0JywgJ2N1c3RvbWVyX2xuYW1lJzogJ0pvbmVzJywgJ2NpdHknOiAnU2FuIEZyYW5jaXNjbycsICdzdGF0ZSc6ICc= (truncated)</td><td>retail-data-topic-01</td><td>2</td><td>11</td><td>2025-04-24T06:39:37.030+0000</td><td>0</td></tr><tr><td>NjkzMg==</td><td>eydvcmRlcl9pZCc6IDkyLCAnY3VzdG9tZXJfaWQnOiA2OTMyLCAnY3VzdG9tZXJfZm5hbWUnOiAnRXZlbHluJywgJ2N1c3RvbWVyX2xuYW1lJzogJ0hlcnJpbmcnLCAnY2l0eSc6ICdCcm9va2x5bicsICdzdGF0ZSc6ICdOWSc= (truncated)</td><td>retail-data-topic-01</td><td>2</td><td>12</td><td>2025-04-24T06:39:50.627+0000</td><td>0</td></tr><tr><td>MTIxMzE=</td><td>eydvcmRlcl9pZCc6IDEwMCwgJ2N1c3RvbWVyX2lkJzogMTIxMzEsICdjdXN0b21lcl9mbmFtZSc6ICdEb3VnbGFzJywgJ2N1c3RvbWVyX2xuYW1lJzogJ1NtaXRoJywgJ2NpdHknOiAnRXZlcmV0dCcsICdzdGF0ZSc6ICdXQSc= (truncated)</td><td>retail-data-topic-01</td><td>2</td><td>13</td><td>2025-04-24T06:40:12.257+0000</td><td>0</td></tr><tr><td>MTg0NQ==</td><td>eydvcmRlcl9pZCc6IDEwNywgJ2N1c3RvbWVyX2lkJzogMTg0NSwgJ2N1c3RvbWVyX2ZuYW1lJzogJ01hcnknLCAnY3VzdG9tZXJfbG5hbWUnOiAnSm9uZXMnLCAnY2l0eSc6ICdZb3JrJywgJ3N0YXRlJzogJ1BBJywgJ3BpbmM= (truncated)</td><td>retail-data-topic-01</td><td>2</td><td>14</td><td>2025-04-24T06:40:28.557+0000</td><td>0</td></tr><tr><td>NTY1Nw==</td><td>eydvcmRlcl9pZCc6IDksICdjdXN0b21lcl9pZCc6IDU2NTcsICdjdXN0b21lcl9mbmFtZSc6ICdNYXJ5JywgJ2N1c3RvbWVyX2xuYW1lJzogJ0phbWVzJywgJ2NpdHknOiAnTGFrZXdvb2QnLCAnc3RhdGUnOiAnT0gnLCAncGk= (truncated)</td><td>retail-data-topic-01</td><td>2</td><td>15</td><td>2025-04-24T08:00:15.957+0000</td><td>0</td></tr><tr><td>NTY0OA==</td><td>eydvcmRlcl9pZCc6IDEwLCAnY3VzdG9tZXJfaWQnOiA1NjQ4LCAnY3VzdG9tZXJfZm5hbWUnOiAnSm9zaHVhJywgJ2N1c3RvbWVyX2xuYW1lJzogJ1NtaXRoJywgJ2NpdHknOiAnTWVtcGhpcycsICdzdGF0ZSc6ICdUTicsICc= (truncated)</td><td>retail-data-topic-01</td><td>2</td><td>16</td><td>2025-04-24T08:00:21.539+0000</td><td>0</td></tr><tr><td>OTg0Mg==</td><td>eydvcmRlcl9pZCc6IDE0LCAnY3VzdG9tZXJfaWQnOiA5ODQyLCAnY3VzdG9tZXJfZm5hbWUnOiAnTWFyeScsICdjdXN0b21lcl9sbmFtZSc6ICdTbWl0aCcsICdjaXR5JzogJ0NhZ3VhcycsICdzdGF0ZSc6ICdQUicsICdwaW4= (truncated)</td><td>retail-data-topic-01</td><td>2</td><td>17</td><td>2025-04-24T08:00:36.195+0000</td><td>0</td></tr><tr><td>NTY1Nw==</td><td>eydvcmRlcl9pZCc6IDksICdjdXN0b21lcl9pZCc6IDU2NTcsICdjdXN0b21lcl9mbmFtZSc6ICdNYXJ5JywgJ2N1c3RvbWVyX2xuYW1lJzogJ0phbWVzJywgJ2NpdHknOiAnTGFrZXdvb2QnLCAnc3RhdGUnOiAnT0gnLCAncGk= (truncated)</td><td>retail-data-topic-01</td><td>2</td><td>18</td><td>2025-04-24T09:22:37.935+0000</td><td>0</td></tr><tr><td>NTY0OA==</td><td>eydvcmRlcl9pZCc6IDEwLCAnY3VzdG9tZXJfaWQnOiA1NjQ4LCAnY3VzdG9tZXJfZm5hbWUnOiAnSm9zaHVhJywgJ2N1c3RvbWVyX2xuYW1lJzogJ1NtaXRoJywgJ2NpdHknOiAnTWVtcGhpcycsICdzdGF0ZSc6ICdUTicsICc= (truncated)</td><td>retail-data-topic-01</td><td>2</td><td>19</td><td>2025-04-24T09:22:43.098+0000</td><td>0</td></tr><tr><td>OTg0Mg==</td><td>eydvcmRlcl9pZCc6IDE0LCAnY3VzdG9tZXJfaWQnOiA5ODQyLCAnY3VzdG9tZXJfZm5hbWUnOiAnTWFyeScsICdjdXN0b21lcl9sbmFtZSc6ICdTbWl0aCcsICdjaXR5JzogJ0NhZ3VhcycsICdzdGF0ZSc6ICdQUicsICdwaW4= (truncated)</td><td>retail-data-topic-01</td><td>2</td><td>20</td><td>2025-04-24T09:22:47.952+0000</td><td>0</td></tr><tr><td>MzI0MQ==</td><td>eydvcmRlcl9pZCc6IDI3LCAnY3VzdG9tZXJfaWQnOiAzMjQxLCAnY3VzdG9tZXJfZm5hbWUnOiAnV2lsbGllJywgJ2N1c3RvbWVyX2xuYW1lJzogJ1NtaXRoJywgJ2NpdHknOiAnQ2FndWFzJywgJ3N0YXRlJzogJ1BSJywgJ3A= (truncated)</td><td>retail-data-topic-01</td><td>2</td><td>21</td><td>2025-04-24T09:22:55.573+0000</td><td>0</td></tr><tr><td>NDE4OQ==</td><td>eydvcmRlcl9pZCc6IDM0LCAnY3VzdG9tZXJfaWQnOiA0MTg5LCAnY3VzdG9tZXJfZm5hbWUnOiAnSGVhdGhlcicsICdjdXN0b21lcl9sbmFtZSc6ICdKb2huc29uJywgJ2NpdHknOiAnTG9zIEFuZ2VsZXMnLCAnc3RhdGUnOiA= (truncated)</td><td>retail-data-topic-01</td><td>2</td><td>22</td><td>2025-04-24T09:22:59.518+0000</td><td>0</td></tr><tr><td>ODEzNg==</td><td>eydvcmRlcl9pZCc6IDQxLCAnY3VzdG9tZXJfaWQnOiA4MTM2LCAnY3VzdG9tZXJfZm5hbWUnOiAnQ2hhcmxlcycsICdjdXN0b21lcl9sbmFtZSc6ICdTbWl0aCcsICdjaXR5JzogJ1NhaW50IENoYXJsZXMnLCAnc3RhdGUnOiA= (truncated)</td><td>retail-data-topic-01</td><td>2</td><td>23</td><td>2025-04-24T09:23:03.450+0000</td><td>0</td></tr><tr><td>Nzc3Ng==</td><td>eydvcmRlcl9pZCc6IDQzLCAnY3VzdG9tZXJfaWQnOiA3Nzc2LCAnY3VzdG9tZXJfZm5hbWUnOiAnSnVsaWUnLCAnY3VzdG9tZXJfbG5hbWUnOiAnU21pdGgnLCAnY2l0eSc6ICdDYWd1YXMnLCAnc3RhdGUnOiAnUFInLCAncGk= (truncated)</td><td>retail-data-topic-01</td><td>2</td><td>24</td><td>2025-04-24T09:23:04.859+0000</td><td>0</td></tr><tr><td>MjU2</td><td>eyJvcmRlcl9pZCI6MiwiY3VzdG9tZXJfaWQiOjI1NiwiY3VzdG9tZXJfZm5hbWUiOiJEYXZpZCIsImN1c3RvbWVyX2xuYW1lIjoiUm9kcmlndWV6IiwiY2l0eSI6IkNoaWNhZ28iLCJzdGF0ZSI6IklMIiwicGluY29kZSI6NjA= (truncated)</td><td>retail-data-topic-01</td><td>1</td><td>0</td><td>2025-04-24T06:20:13.564+0000</td><td>0</td></tr><tr><td>MjU2</td><td>eyJvcmRlcl9pZCI6MiwiY3VzdG9tZXJfaWQiOjI1NiwiY3VzdG9tZXJfZm5hbWUiOiJEYXZpZCIsImN1c3RvbWVyX2xuYW1lIjoiUm9kcmlndWV6IiwiY2l0eSI6IkNoaWNhZ28iLCJzdGF0ZSI6IklMIiwicGluY29kZSI6NjA= (truncated)</td><td>retail-data-topic-01</td><td>1</td><td>1</td><td>2025-04-24T06:24:05.359+0000</td><td>0</td></tr><tr><td>MjU2</td><td>eyJvcmRlcl9pZCI6MiwiY3VzdG9tZXJfaWQiOjI1NiwiY3VzdG9tZXJfZm5hbWUiOiJEYXZpZCIsImN1c3RvbWVyX2xuYW1lIjoiUm9kcmlndWV6IiwiY2l0eSI6IkNoaWNhZ28iLCJzdGF0ZSI6IklMIiwicGluY29kZSI6NjA= (truncated)</td><td>retail-data-topic-01</td><td>1</td><td>2</td><td>2025-04-24T06:26:50.822+0000</td><td>0</td></tr><tr><td>MjU2</td><td>eyJvcmRlcl9pZCI6MiwiY3VzdG9tZXJfaWQiOjI1NiwiY3VzdG9tZXJfZm5hbWUiOiJEYXZpZCIsImN1c3RvbWVyX2xuYW1lIjoiUm9kcmlndWV6IiwiY2l0eSI6IkNoaWNhZ28iLCJzdGF0ZSI6IklMIiwicGluY29kZSI6NjA= (truncated)</td><td>retail-data-topic-01</td><td>1</td><td>3</td><td>2025-04-24T06:27:31.889+0000</td><td>0</td></tr><tr><td>MjU2</td><td>eyJvcmRlcl9pZCI6MiwiY3VzdG9tZXJfaWQiOjI1NiwiY3VzdG9tZXJfZm5hbWUiOiJEYXZpZCIsImN1c3RvbWVyX2xuYW1lIjoiUm9kcmlndWV6IiwiY2l0eSI6IkNoaWNhZ28iLCJzdGF0ZSI6IklMIiwicGluY29kZSI6NjA= (truncated)</td><td>retail-data-topic-01</td><td>1</td><td>4</td><td>2025-04-24T06:28:03.361+0000</td><td>0</td></tr><tr><td>MjU2</td><td>eyJvcmRlcl9pZCI6MiwiY3VzdG9tZXJfaWQiOjI1NiwiY3VzdG9tZXJfZm5hbWUiOiJEYXZpZCIsImN1c3RvbWVyX2xuYW1lIjoiUm9kcmlndWV6IiwiY2l0eSI6IkNoaWNhZ28iLCJzdGF0ZSI6IklMIiwicGluY29kZSI6NjA= (truncated)</td><td>retail-data-topic-01</td><td>1</td><td>5</td><td>2025-04-24T06:32:06.916+0000</td><td>0</td></tr><tr><td>MjU2</td><td>eyJvcmRlcl9pZCI6MiwiY3VzdG9tZXJfaWQiOjI1NiwiY3VzdG9tZXJfZm5hbWUiOiJEYXZpZCIsImN1c3RvbWVyX2xuYW1lIjoiUm9kcmlndWV6IiwiY2l0eSI6IkNoaWNhZ28iLCJzdGF0ZSI6IklMIiwicGluY29kZSI6NjA= (truncated)</td><td>retail-data-topic-01</td><td>1</td><td>6</td><td>2025-04-24T06:32:19.271+0000</td><td>0</td></tr><tr><td>MjU2</td><td>eyJvcmRlcl9pZCI6MiwiY3VzdG9tZXJfaWQiOjI1NiwiY3VzdG9tZXJfZm5hbWUiOiJEYXZpZCIsImN1c3RvbWVyX2xuYW1lIjoiUm9kcmlndWV6IiwiY2l0eSI6IkNoaWNhZ28iLCJzdGF0ZSI6IklMIiwicGluY29kZSI6NjA= (truncated)</td><td>retail-data-topic-01</td><td>1</td><td>7</td><td>2025-04-24T06:32:45.420+0000</td><td>0</td></tr><tr><td>MjU2</td><td>eydvcmRlcl9pZCc6IDIsICdjdXN0b21lcl9pZCc6IDI1NiwgJ2N1c3RvbWVyX2ZuYW1lJzogJ0RhdmlkJywgJ2N1c3RvbWVyX2xuYW1lJzogJ1JvZHJpZ3VleicsICdjaXR5JzogJ0NoaWNhZ28nLCAnc3RhdGUnOiAnSUwnLCA= (truncated)</td><td>retail-data-topic-01</td><td>1</td><td>8</td><td>2025-04-24T06:36:28.334+0000</td><td>0</td></tr><tr><td>NDUzMA==</td><td>eydvcmRlcl9pZCc6IDcsICdjdXN0b21lcl9pZCc6IDQ1MzAsICdjdXN0b21lcl9mbmFtZSc6ICdNYXJ5JywgJ2N1c3RvbWVyX2xuYW1lJzogJ1NtaXRoJywgJ2NpdHknOiAnTWlhbWknLCAnc3RhdGUnOiAnRkwnLCAncGluY28= (truncated)</td><td>retail-data-topic-01</td><td>1</td><td>9</td><td>2025-04-24T06:36:40.515+0000</td><td>0</td></tr><tr><td>OTE4</td><td>eydvcmRlcl9pZCc6IDExLCAnY3VzdG9tZXJfaWQnOiA5MTgsICdjdXN0b21lcl9mbmFtZSc6ICdOYXRoYW4nLCAnY3VzdG9tZXJfbG5hbWUnOiAnU21pdGgnLCAnY2l0eSc6ICdDYWd1YXMnLCAnc3RhdGUnOiAnUFInLCAncGk= (truncated)</td><td>retail-data-topic-01</td><td>1</td><td>10</td><td>2025-04-24T06:36:55.442+0000</td><td>0</td></tr><tr><td>OTE0OQ==</td><td>eydvcmRlcl9pZCc6IDEzLCAnY3VzdG9tZXJfaWQnOiA5MTQ5LCAnY3VzdG9tZXJfZm5hbWUnOiAnUm9uYWxkJywgJ2N1c3RvbWVyX2xuYW1lJzogJ1doaXRlaGVhZCcsICdjaXR5JzogJ1NhbnRhIEFuYScsICdzdGF0ZSc6ICc= (truncated)</td><td>retail-data-topic-01</td><td>1</td><td>11</td><td>2025-04-24T06:37:02.818+0000</td><td>0</td></tr><tr><td>NzI3Ng==</td><td>eydvcmRlcl9pZCc6IDE2LCAnY3VzdG9tZXJfaWQnOiA3Mjc2LCAnY3VzdG9tZXJfZm5hbWUnOiAnUGFtZWxhJywgJ2N1c3RvbWVyX2xuYW1lJzogJ1NtaXRoJywgJ2NpdHknOiAnQ2FndWFzJywgJ3N0YXRlJzogJ1BSJywgJ3A= (truncated)</td><td>retail-data-topic-01</td><td>1</td><td>12</td><td>2025-04-24T06:37:11.223+0000</td><td>0</td></tr><tr><td>NDM2Nw==</td><td>eydvcmRlcl9pZCc6IDIzLCAnY3VzdG9tZXJfaWQnOiA0MzY3LCAnY3VzdG9tZXJfZm5hbWUnOiAnRGFuaWVsbGUnLCAnY3VzdG9tZXJfbG5hbWUnOiAnTW9yYW4nLCAnY2l0eSc6ICdTcHJpbmdmaWVsZCcsICdzdGF0ZSc6ICc= (truncated)</td><td>retail-data-topic-01</td><td>1</td><td>13</td><td>2025-04-24T06:37:27.800+0000</td><td>0</td></tr><tr><td>OTc3Ng==</td><td>eydvcmRlcl9pZCc6IDQyLCAnY3VzdG9tZXJfaWQnOiA5Nzc2LCAnY3VzdG9tZXJfZm5hbWUnOiAnRGlhbmUnLCAnY3VzdG9tZXJfbG5hbWUnOiAnRGF2aXMnLCAnY2l0eSc6ICdFbmRpY290dCcsICdzdGF0ZSc6ICdOWScsICc= (truncated)</td><td>retail-data-topic-01</td><td>1</td><td>14</td><td>2025-04-24T06:38:12.035+0000</td><td>0</td></tr><tr><td>MTA1MTk=</td><td>eydvcmRlcl9pZCc6IDU2LCAnY3VzdG9tZXJfaWQnOiAxMDUxOSwgJ2N1c3RvbWVyX2ZuYW1lJzogJ01hcnknLCAnY3VzdG9tZXJfbG5hbWUnOiAnU21pdGgnLCAnY2l0eSc6ICdDYWd1YXMnLCAnc3RhdGUnOiAnUFInLCAncGk= (truncated)</td><td>retail-data-topic-01</td><td>1</td><td>15</td><td>2025-04-24T06:38:39.823+0000</td><td>0</td></tr><tr><td>NTkwMw==</td><td>eydvcmRlcl9pZCc6IDY1LCAnY3VzdG9tZXJfaWQnOiA1OTAzLCAnY3VzdG9tZXJfZm5hbWUnOiAnVmlyZ2luaWEnLCAnY3VzdG9tZXJfbG5hbWUnOiAnU21pdGgnLCAnY2l0eSc6ICdBbnRpb2NoJywgJ3N0YXRlJzogJ1ROJyw= (truncated)</td><td>retail-data-topic-01</td><td>1</td><td>16</td><td>2025-04-24T06:39:01.595+0000</td><td>0</td></tr><tr><td>MTc5Mg==</td><td>eydvcmRlcl9pZCc6IDY2LCAnY3VzdG9tZXJfaWQnOiAxNzkyLCAnY3VzdG9tZXJfZm5hbWUnOiAnUm95JywgJ2N1c3RvbWVyX2xuYW1lJzogJ1JvZHJpZ3VleicsICdjaXR5JzogJ0plcnNleSBDaXR5JywgJ3N0YXRlJzogJ04= (truncated)</td><td>retail-data-topic-01</td><td>1</td><td>17</td><td>2025-04-24T06:39:04.397+0000</td><td>0</td></tr><tr><td>ODUwNA==</td><td>eydvcmRlcl9pZCc6IDczLCAnY3VzdG9tZXJfaWQnOiA4NTA0LCAnY3VzdG9tZXJfZm5hbWUnOiAnTWFyeScsICdjdXN0b21lcl9sbmFtZSc6ICdEYXZpcycsICdjaXR5JzogJ1ZpcmdpbmlhIEJlYWNoJywgJ3N0YXRlJzogJ1Y= (truncated)</td><td>retail-data-topic-01</td><td>1</td><td>18</td><td>2025-04-24T06:39:23.492+0000</td><td>0</td></tr><tr><td>ODY4Mw==</td><td>eydvcmRlcl9pZCc6IDk2LCAnY3VzdG9tZXJfaWQnOiA4NjgzLCAnY3VzdG9tZXJfZm5hbWUnOiAnU2FtYW50aGEnLCAnY3VzdG9tZXJfbG5hbWUnOiAnU21pdGgnLCAnY2l0eSc6ICdCcmlnaHRvbicsICdzdGF0ZSc6ICdNQSc= (truncated)</td><td>retail-data-topic-01</td><td>1</td><td>19</td><td>2025-04-24T06:40:01.437+0000</td><td>0</td></tr><tr><td>MjU2</td><td>eydvcmRlcl9pZCc6IDIsICdjdXN0b21lcl9pZCc6IDI1NiwgJ2N1c3RvbWVyX2ZuYW1lJzogJ0RhdmlkJywgJ2N1c3RvbWVyX2xuYW1lJzogJ1JvZHJpZ3VleicsICdjaXR5JzogJ0NoaWNhZ28nLCAnc3RhdGUnOiAnSUwnLCA= (truncated)</td><td>retail-data-topic-01</td><td>1</td><td>20</td><td>2025-04-24T07:59:52.206+0000</td><td>0</td></tr><tr><td>NDUzMA==</td><td>eydvcmRlcl9pZCc6IDcsICdjdXN0b21lcl9pZCc6IDQ1MzAsICdjdXN0b21lcl9mbmFtZSc6ICdNYXJ5JywgJ2N1c3RvbWVyX2xuYW1lJzogJ1NtaXRoJywgJ2NpdHknOiAnTWlhbWknLCAnc3RhdGUnOiAnRkwnLCAncGluY28= (truncated)</td><td>retail-data-topic-01</td><td>1</td><td>21</td><td>2025-04-24T08:00:07.290+0000</td><td>0</td></tr><tr><td>OTE4</td><td>eydvcmRlcl9pZCc6IDExLCAnY3VzdG9tZXJfaWQnOiA5MTgsICdjdXN0b21lcl9mbmFtZSc6ICdOYXRoYW4nLCAnY3VzdG9tZXJfbG5hbWUnOiAnU21pdGgnLCAnY2l0eSc6ICdDYWd1YXMnLCAnc3RhdGUnOiAnUFInLCAncGk= (truncated)</td><td>retail-data-topic-01</td><td>1</td><td>22</td><td>2025-04-24T08:00:24.427+0000</td><td>0</td></tr><tr><td>OTE0OQ==</td><td>eydvcmRlcl9pZCc6IDEzLCAnY3VzdG9tZXJfaWQnOiA5MTQ5LCAnY3VzdG9tZXJfZm5hbWUnOiAnUm9uYWxkJywgJ2N1c3RvbWVyX2xuYW1lJzogJ1doaXRlaGVhZCcsICdjaXR5JzogJ1NhbnRhIEFuYScsICdzdGF0ZSc6ICc= (truncated)</td><td>retail-data-topic-01</td><td>1</td><td>23</td><td>2025-04-24T08:00:33.246+0000</td><td>0</td></tr><tr><td>NzI3Ng==</td><td>eydvcmRlcl9pZCc6IDE2LCAnY3VzdG9tZXJfaWQnOiA3Mjc2LCAnY3VzdG9tZXJfZm5hbWUnOiAnUGFtZWxhJywgJ2N1c3RvbWVyX2xuYW1lJzogJ1NtaXRoJywgJ2NpdHknOiAnQ2FndWFzJywgJ3N0YXRlJzogJ1BSJywgJ3A= (truncated)</td><td>retail-data-topic-01</td><td>1</td><td>24</td><td>2025-04-24T08:00:42.090+0000</td><td>0</td></tr><tr><td>MjU2</td><td>eydvcmRlcl9pZCc6IDIsICdjdXN0b21lcl9pZCc6IDI1NiwgJ2N1c3RvbWVyX2ZuYW1lJzogJ0RhdmlkJywgJ2N1c3RvbWVyX2xuYW1lJzogJ1JvZHJpZ3VleicsICdjaXR5JzogJ0NoaWNhZ28nLCAnc3RhdGUnOiAnSUwnLCA= (truncated)</td><td>retail-data-topic-01</td><td>1</td><td>25</td><td>2025-04-24T09:22:21.033+0000</td><td>0</td></tr><tr><td>NDUzMA==</td><td>eydvcmRlcl9pZCc6IDcsICdjdXN0b21lcl9pZCc6IDQ1MzAsICdjdXN0b21lcl9mbmFtZSc6ICdNYXJ5JywgJ2N1c3RvbWVyX2xuYW1lJzogJ1NtaXRoJywgJ2NpdHknOiAnTWlhbWknLCAnc3RhdGUnOiAnRkwnLCAncGluY28= (truncated)</td><td>retail-data-topic-01</td><td>1</td><td>26</td><td>2025-04-24T09:22:32.651+0000</td><td>0</td></tr><tr><td>OTE4</td><td>eydvcmRlcl9pZCc6IDExLCAnY3VzdG9tZXJfaWQnOiA5MTgsICdjdXN0b21lcl9mbmFtZSc6ICdOYXRoYW4nLCAnY3VzdG9tZXJfbG5hbWUnOiAnU21pdGgnLCAnY2l0eSc6ICdDYWd1YXMnLCAnc3RhdGUnOiAnUFInLCAncGk= (truncated)</td><td>retail-data-topic-01</td><td>1</td><td>27</td><td>2025-04-24T09:22:43.798+0000</td><td>0</td></tr><tr><td>OTE0OQ==</td><td>eydvcmRlcl9pZCc6IDEzLCAnY3VzdG9tZXJfaWQnOiA5MTQ5LCAnY3VzdG9tZXJfZm5hbWUnOiAnUm9uYWxkJywgJ2N1c3RvbWVyX2xuYW1lJzogJ1doaXRlaGVhZCcsICdjaXR5JzogJ1NhbnRhIEFuYScsICdzdGF0ZSc6ICc= (truncated)</td><td>retail-data-topic-01</td><td>1</td><td>28</td><td>2025-04-24T09:22:47.241+0000</td><td>0</td></tr><tr><td>NzI3Ng==</td><td>eydvcmRlcl9pZCc6IDE2LCAnY3VzdG9tZXJfaWQnOiA3Mjc2LCAnY3VzdG9tZXJfZm5hbWUnOiAnUGFtZWxhJywgJ2N1c3RvbWVyX2xuYW1lJzogJ1NtaXRoJywgJ2NpdHknOiAnQ2FndWFzJywgJ3N0YXRlJzogJ1BSJywgJ3A= (truncated)</td><td>retail-data-topic-01</td><td>1</td><td>29</td><td>2025-04-24T09:22:49.363+0000</td><td>0</td></tr><tr><td>NDM2Nw==</td><td>eydvcmRlcl9pZCc6IDIzLCAnY3VzdG9tZXJfaWQnOiA0MzY3LCAnY3VzdG9tZXJfZm5hbWUnOiAnRGFuaWVsbGUnLCAnY3VzdG9tZXJfbG5hbWUnOiAnTW9yYW4nLCAnY2l0eSc6ICdTcHJpbmdmaWVsZCcsICdzdGF0ZSc6ICc= (truncated)</td><td>retail-data-topic-01</td><td>1</td><td>30</td><td>2025-04-24T09:22:53.437+0000</td><td>0</td></tr><tr><td>OTc3Ng==</td><td>eydvcmRlcl9pZCc6IDQyLCAnY3VzdG9tZXJfaWQnOiA5Nzc2LCAnY3VzdG9tZXJfZm5hbWUnOiAnRGlhbmUnLCAnY3VzdG9tZXJfbG5hbWUnOiAnRGF2aXMnLCAnY2l0eSc6ICdFbmRpY290dCcsICdzdGF0ZSc6ICdOWScsICc= (truncated)</td><td>retail-data-topic-01</td><td>1</td><td>31</td><td>2025-04-24T09:23:04.150+0000</td><td>0</td></tr><tr><td>MTA1MTk=</td><td>eydvcmRlcl9pZCc6IDU2LCAnY3VzdG9tZXJfaWQnOiAxMDUxOSwgJ2N1c3RvbWVyX2ZuYW1lJzogJ01hcnknLCAnY3VzdG9tZXJfbG5hbWUnOiAnU21pdGgnLCAnY2l0eSc6ICdDYWd1YXMnLCAnc3RhdGUnOiAnUFInLCAncGk= (truncated)</td><td>retail-data-topic-01</td><td>1</td><td>32</td><td>2025-04-24T09:23:11.251+0000</td><td>0</td></tr><tr><td>MTIz</td><td>eyJvcmRlcl9pZCI6MSwiY3VzdG9tZXJfaWQiOjExNTk5LCJjdXN0b21lcl9mbmFtZSI6Ik1hcnkiLCJjdXN0b21lcl9sbmFtZSI6Ik1hbG9uZSIsImNpdHkiOiJIaWNrb3J5Iiwic3RhdGUiOiJOQyIsInBpbmNvZGUiOjI4NjA= (truncated)</td><td>retail-data-topic-01</td><td>5</td><td>0</td><td>2025-04-23T05:56:30.775+0000</td><td>0</td></tr><tr><td>MTIz</td><td>eyJvcmRlcl9pZCI6MiwiY3VzdG9tZXJfaWQiOjI1NiwiY3VzdG9tZXJfZm5hbWUiOiJEYXZpZCIsImN1c3RvbWVyX2xuYW1lIjoiUm9kcmlndWV6IiwiY2l0eSI6IkNoaWNhZ28iLCJzdGF0ZSI6IklMIiwicGluY29kZSI6NjA= (truncated)</td><td>retail-data-topic-01</td><td>5</td><td>1</td><td>2025-04-23T05:57:57.707+0000</td><td>0</td></tr><tr><td>MTIz</td><td>eyJvcmRlcl9pZCI6NCwiY3VzdG9tZXJfaWQiOjg4MjcsImN1c3RvbWVyX2ZuYW1lIjoiQnJpYW4iLCJjdXN0b21lcl9sbmFtZSI6IldpbHNvbiIsImNpdHkiOiJTYW4gQW50b25pbyIsInN0YXRlIjoiVFgiLCJwaW5jb2RlIjo= (truncated)</td><td>retail-data-topic-01</td><td>5</td><td>2</td><td>2025-04-23T05:58:40.129+0000</td><td>0</td></tr><tr><td>MjkxMQ==</td><td>eydvcmRlcl9pZCc6IDgsICdjdXN0b21lcl9pZCc6IDI5MTEsICdjdXN0b21lcl9mbmFtZSc6ICdNYXJ5JywgJ2N1c3RvbWVyX2xuYW1lJzogJ1NtaXRoJywgJ2NpdHknOiAnQ2FndWFzJywgJ3N0YXRlJzogJ1BSJywgJ3BpbmM= (truncated)</td><td>retail-data-topic-01</td><td>5</td><td>3</td><td>2025-04-24T06:36:43.359+0000</td><td>0</td></tr><tr><td>MjcxMQ==</td><td>eydvcmRlcl9pZCc6IDIxLCAnY3VzdG9tZXJfaWQnOiAyNzExLCAnY3VzdG9tZXJfZm5hbWUnOiAnQWxpY2UnLCAnY3VzdG9tZXJfbG5hbWUnOiAnUm9kcmlndWV6JywgJ2NpdHknOiAnQnJvbngnLCAnc3RhdGUnOiAnTlknLCA= (truncated)</td><td>retail-data-topic-01</td><td>5</td><td>4</td><td>2025-04-24T06:37:25.091+0000</td><td>0</td></tr><tr><td>OTUwMw==</td><td>eydvcmRlcl9pZCc6IDI1LCAnY3VzdG9tZXJfaWQnOiA5NTAzLCAnY3VzdG9tZXJfZm5hbWUnOiAnTWFyeScsICdjdXN0b21lcl9sbmFtZSc6ICdGaXR6cGF0cmljaycsICdjaXR5JzogJ09ybGFuZG8nLCAnc3RhdGUnOiAnRkw= (truncated)</td><td>retail-data-topic-01</td><td>5</td><td>5</td><td>2025-04-24T06:37:33.560+0000</td><td>0</td></tr><tr><td>NDg0MA==</td><td>eydvcmRlcl9pZCc6IDM1LCAnY3VzdG9tZXJfaWQnOiA0ODQwLCAnY3VzdG9tZXJfZm5hbWUnOiAnTWFyeScsICdjdXN0b21lcl9sbmFtZSc6ICdNYXJzaGFsbCcsICdjaXR5JzogJ0lydmluZycsICdzdGF0ZSc6ICdUWCcsICc= (truncated)</td><td>retail-data-topic-01</td><td>5</td><td>6</td><td>2025-04-24T06:37:55.242+0000</td><td>0</td></tr><tr><td>ODIxNA==</td><td>eydvcmRlcl9pZCc6IDM5LCAnY3VzdG9tZXJfaWQnOiA4MjE0LCAnY3VzdG9tZXJfZm5hbWUnOiAnTWFyeScsICdjdXN0b21lcl9sbmFtZSc6ICdTbWl0aCcsICdjaXR5JzogJ05vcnRoIEhpbGxzJywgJ3N0YXRlJzogJ0NBJyw= (truncated)</td><td>retail-data-topic-01</td><td>5</td><td>7</td><td>2025-04-24T06:38:06.586+0000</td><td>0</td></tr><tr><td>MjYzNg==</td><td>eydvcmRlcl9pZCc6IDQ1LCAnY3VzdG9tZXJfaWQnOiAyNjM2LCAnY3VzdG9tZXJfZm5hbWUnOiAnQ2hyaXN0aWFuJywgJ2N1c3RvbWVyX2xuYW1lJzogJ1NtaXRoJywgJ2NpdHknOiAnQ2FndWFzJywgJ3N0YXRlJzogJ1BSJyw= (truncated)</td><td>retail-data-topic-01</td><td>5</td><td>8</td><td>2025-04-24T06:38:20.364+0000</td><td>0</td></tr><tr><td>OTIxMw==</td><td>eydvcmRlcl9pZCc6IDU4LCAnY3VzdG9tZXJfaWQnOiA5MjEzLCAnY3VzdG9tZXJfZm5hbWUnOiAnSmVubmlmZXInLCAnY3VzdG9tZXJfbG5hbWUnOiAnV2lsbGlhbXNvbicsICdjaXR5JzogJ1JpbyBHcmFuZGUnLCAnc3RhdGU= (truncated)</td><td>retail-data-topic-01</td><td>5</td><td>9</td><td>2025-04-24T06:38:45.316+0000</td><td>0</td></tr><tr><td>MTE2NDQ=</td><td>eydvcmRlcl9pZCc6IDU5LCAnY3VzdG9tZXJfaWQnOiAxMTY0NCwgJ2N1c3RvbWVyX2ZuYW1lJzogJ01pbGRyZWQnLCAnY3VzdG9tZXJfbG5hbWUnOiAnU21pdGgnLCAnY2l0eSc6ICdDYWd1YXMnLCAnc3RhdGUnOiAnUFInLCA= (truncated)</td><td>retail-data-topic-01</td><td>5</td><td>10</td><td>2025-04-24T06:38:47.945+0000</td><td>0</td></tr><tr><td>MjI1Ng==</td><td>eydvcmRlcl9pZCc6IDkzLCAnY3VzdG9tZXJfaWQnOiAyMjU2LCAnY3VzdG9tZXJfZm5hbWUnOiAnTWFyeScsICdjdXN0b21lcl9sbmFtZSc6ICdTbWl0aCcsICdjaXR5JzogJ1NhbiBKb3NlJywgJ3N0YXRlJzogJ0NBJywgJ3A= (truncated)</td><td>retail-data-topic-01</td><td>5</td><td>11</td><td>2025-04-24T06:39:53.414+0000</td><td>0</td></tr><tr><td>MTA3ODQ=</td><td>eydvcmRlcl9pZCc6IDk3LCAnY3VzdG9tZXJfaWQnOiAxMDc4NCwgJ2N1c3RvbWVyX2ZuYW1lJzogJ1JheW1vbmQnLCAnY3VzdG9tZXJfbG5hbWUnOiAnUmVlZCcsICdjaXR5JzogJ0xvdmVsYW5kJywgJ3N0YXRlJzogJ09IJyw= (truncated)</td><td>retail-data-topic-01</td><td>5</td><td>12</td><td>2025-04-24T06:40:04.166+0000</td><td>0</td></tr><tr><td>MTE1NDI=</td><td>eydvcmRlcl9pZCc6IDk5LCAnY3VzdG9tZXJfaWQnOiAxMTU0MiwgJ2N1c3RvbWVyX2ZuYW1lJzogJ01hcnknLCAnY3VzdG9tZXJfbG5hbWUnOiAnUGVya2lucycsICdjaXR5JzogJ0NhZ3VhcycsICdzdGF0ZSc6ICdQUicsICc= (truncated)</td><td>retail-data-topic-01</td><td>5</td><td>13</td><td>2025-04-24T06:40:09.628+0000</td><td>0</td></tr><tr><td>NTExNg==</td><td>eydvcmRlcl9pZCc6IDEwMSwgJ2N1c3RvbWVyX2lkJzogNTExNiwgJ2N1c3RvbWVyX2ZuYW1lJzogJ0RvcmlzJywgJ2N1c3RvbWVyX2xuYW1lJzogJ1NtaXRoJywgJ2NpdHknOiAnQnJvY2t0b24nLCAnc3RhdGUnOiAnTUEnLCA= (truncated)</td><td>retail-data-topic-01</td><td>5</td><td>14</td><td>2025-04-24T06:40:15.016+0000</td><td>0</td></tr><tr><td>Nzc5MA==</td><td>eydvcmRlcl9pZCc6IDEwNCwgJ2N1c3RvbWVyX2lkJzogNzc5MCwgJ2N1c3RvbWVyX2ZuYW1lJzogJ0Vkd2FyZCcsICdjdXN0b21lcl9sbmFtZSc6ICdDYXN0YW5lZGEnLCAnY2l0eSc6ICdGdWxsZXJ0b24nLCAnc3RhdGUnOiA= (truncated)</td><td>retail-data-topic-01</td><td>5</td><td>15</td><td>2025-04-24T06:40:20.453+0000</td><td>0</td></tr><tr><td>ODIyMA==</td><td>eydvcmRlcl9pZCc6IDEwNSwgJ2N1c3RvbWVyX2lkJzogODIyMCwgJ2N1c3RvbWVyX2ZuYW1lJzogJ01pY2hhZWwnLCAnY3VzdG9tZXJfbG5hbWUnOiAnU21pdGgnLCAnY2l0eSc6ICdPcmxhbmRvJywgJ3N0YXRlJzogJ0ZMJyw= (truncated)</td><td>retail-data-topic-01</td><td>5</td><td>16</td><td>2025-04-24T06:40:23.110+0000</td><td>0</td></tr><tr><td>MjkxMQ==</td><td>eydvcmRlcl9pZCc6IDgsICdjdXN0b21lcl9pZCc6IDI5MTEsICdjdXN0b21lcl9mbmFtZSc6ICdNYXJ5JywgJ2N1c3RvbWVyX2xuYW1lJzogJ1NtaXRoJywgJ2NpdHknOiAnQ2FndWFzJywgJ3N0YXRlJzogJ1BSJywgJ3BpbmM= (truncated)</td><td>retail-data-topic-01</td><td>5</td><td>17</td><td>2025-04-24T08:00:10.179+0000</td><td>0</td></tr><tr><td>MjcxMQ==</td><td>eydvcmRlcl9pZCc6IDIxLCAnY3VzdG9tZXJfaWQnOiAyNzExLCAnY3VzdG9tZXJfZm5hbWUnOiAnQWxpY2UnLCAnY3VzdG9tZXJfbG5hbWUnOiAnUm9kcmlndWV6JywgJ2NpdHknOiAnQnJvbngnLCAnc3RhdGUnOiAnTlknLCA= (truncated)</td><td>retail-data-topic-01</td><td>5</td><td>18</td><td>2025-04-24T08:00:57.244+0000</td><td>0</td></tr><tr><td>MjkxMQ==</td><td>eydvcmRlcl9pZCc6IDgsICdjdXN0b21lcl9pZCc6IDI5MTEsICdjdXN0b21lcl9mbmFtZSc6ICdNYXJ5JywgJ2N1c3RvbWVyX2xuYW1lJzogJ1NtaXRoJywgJ2NpdHknOiAnQ2FndWFzJywgJ3N0YXRlJzogJ1BSJywgJ3BpbmM= (truncated)</td><td>retail-data-topic-01</td><td>5</td><td>19</td><td>2025-04-24T09:22:33.506+0000</td><td>0</td></tr><tr><td>MjcxMQ==</td><td>eydvcmRlcl9pZCc6IDIxLCAnY3VzdG9tZXJfaWQnOiAyNzExLCAnY3VzdG9tZXJfZm5hbWUnOiAnQWxpY2UnLCAnY3VzdG9tZXJfbG5hbWUnOiAnUm9kcmlndWV6JywgJ2NpdHknOiAnQnJvbngnLCAnc3RhdGUnOiAnTlknLCA= (truncated)</td><td>retail-data-topic-01</td><td>5</td><td>20</td><td>2025-04-24T09:22:52.720+0000</td><td>0</td></tr><tr><td>OTUwMw==</td><td>eydvcmRlcl9pZCc6IDI1LCAnY3VzdG9tZXJfaWQnOiA5NTAzLCAnY3VzdG9tZXJfZm5hbWUnOiAnTWFyeScsICdjdXN0b21lcl9sbmFtZSc6ICdGaXR6cGF0cmljaycsICdjaXR5JzogJ09ybGFuZG8nLCAnc3RhdGUnOiAnRkw= (truncated)</td><td>retail-data-topic-01</td><td>5</td><td>21</td><td>2025-04-24T09:22:54.854+0000</td><td>0</td></tr><tr><td>NDg0MA==</td><td>eydvcmRlcl9pZCc6IDM1LCAnY3VzdG9tZXJfaWQnOiA0ODQwLCAnY3VzdG9tZXJfZm5hbWUnOiAnTWFyeScsICdjdXN0b21lcl9sbmFtZSc6ICdNYXJzaGFsbCcsICdjaXR5JzogJ0lydmluZycsICdzdGF0ZSc6ICdUWCcsICc= (truncated)</td><td>retail-data-topic-01</td><td>5</td><td>22</td><td>2025-04-24T09:23:00.218+0000</td><td>0</td></tr><tr><td>ODIxNA==</td><td>eydvcmRlcl9pZCc6IDM5LCAnY3VzdG9tZXJfaWQnOiA4MjE0LCAnY3VzdG9tZXJfZm5hbWUnOiAnTWFyeScsICdjdXN0b21lcl9sbmFtZSc6ICdTbWl0aCcsICdjaXR5JzogJ05vcnRoIEhpbGxzJywgJ3N0YXRlJzogJ0NBJyw= (truncated)</td><td>retail-data-topic-01</td><td>5</td><td>23</td><td>2025-04-24T09:23:02.731+0000</td><td>0</td></tr><tr><td>MjYzNg==</td><td>eydvcmRlcl9pZCc6IDQ1LCAnY3VzdG9tZXJfaWQnOiAyNjM2LCAnY3VzdG9tZXJfZm5hbWUnOiAnQ2hyaXN0aWFuJywgJ2N1c3RvbWVyX2xuYW1lJzogJ1NtaXRoJywgJ2NpdHknOiAnQ2FndWFzJywgJ3N0YXRlJzogJ1BSJyw= (truncated)</td><td>retail-data-topic-01</td><td>5</td><td>24</td><td>2025-04-24T09:23:06.266+0000</td><td>0</td></tr><tr><td>OTIxMw==</td><td>eydvcmRlcl9pZCc6IDU4LCAnY3VzdG9tZXJfaWQnOiA5MjEzLCAnY3VzdG9tZXJfZm5hbWUnOiAnSmVubmlmZXInLCAnY3VzdG9tZXJfbG5hbWUnOiAnV2lsbGlhbXNvbicsICdjaXR5JzogJ1JpbyBHcmFuZGUnLCAnc3RhdGU= (truncated)</td><td>retail-data-topic-01</td><td>5</td><td>25</td><td>2025-04-24T09:23:12.555+0000</td><td>0</td></tr><tr><td>MTE2NDQ=</td><td>eydvcmRlcl9pZCc6IDU5LCAnY3VzdG9tZXJfaWQnOiAxMTY0NCwgJ2N1c3RvbWVyX2ZuYW1lJzogJ01pbGRyZWQnLCAnY3VzdG9tZXJfbG5hbWUnOiAnU21pdGgnLCAnY2l0eSc6ICdDYWd1YXMnLCAnc3RhdGUnOiAnUFInLCA= (truncated)</td><td>retail-data-topic-01</td><td>5</td><td>26</td><td>2025-04-24T09:23:13.273+0000</td><td>0</td></tr><tr><td>MTgzNw==</td><td>eydvcmRlcl9pZCc6IDEyLCAnY3VzdG9tZXJfaWQnOiAxODM3LCAnY3VzdG9tZXJfZm5hbWUnOiAnTWFyeScsICdjdXN0b21lcl9sbmFtZSc6ICdWZWdhJywgJ2NpdHknOiAnQ2FndWFzJywgJ3N0YXRlJzogJ1BSJywgJ3BpbmM= (truncated)</td><td>retail-data-topic-01</td><td>3</td><td>0</td><td>2025-04-24T06:36:58.253+0000</td><td>0</td></tr><tr><td>NjU2</td><td>eydvcmRlcl9pZCc6IDI4LCAnY3VzdG9tZXJfaWQnOiA2NTYsICdjdXN0b21lcl9mbmFtZSc6ICdKdWxpZScsICdjdXN0b21lcl9sbmFtZSc6ICdTbWl0aCcsICdjaXR5JzogJ1BvbW9uYScsICdzdGF0ZSc6ICdDQScsICdwaW4= (truncated)</td><td>retail-data-topic-01</td><td>3</td><td>1</td><td>2025-04-24T06:37:39.062+0000</td><td>0</td></tr><tr><td>Njk4Mw==</td><td>eydvcmRlcl9pZCc6IDMxLCAnY3VzdG9tZXJfaWQnOiA2OTgzLCAnY3VzdG9tZXJfZm5hbWUnOiAnTWFyeScsICdjdXN0b21lcl9sbmFtZSc6ICdCbGFjaycsICdjaXR5JzogJ0NhZ3VhcycsICdzdGF0ZSc6ICdQUicsICdwaW4= (truncated)</td><td>retail-data-topic-01</td><td>3</td><td>2</td><td>2025-04-24T06:37:47.111+0000</td><td>0</td></tr><tr><td>NTIyNQ==</td><td>eydvcmRlcl9pZCc6IDUwLCAnY3VzdG9tZXJfaWQnOiA1MjI1LCAnY3VzdG9tZXJfZm5hbWUnOiAnTWFyeScsICdjdXN0b21lcl9sbmFtZSc6ICdTbWl0aCcsICdjaXR5JzogJ1BlYWJvZHknLCAnc3RhdGUnOiAnTUEnLCAncGk= (truncated)</td><td>retail-data-topic-01</td><td>3</td><td>3</td><td>2025-04-24T06:38:31.493+0000</td><td>0</td></tr><tr><td>MTIyNzE=</td><td>eydvcmRlcl9pZCc6IDUxLCAnY3VzdG9tZXJfaWQnOiAxMjI3MSwgJ2N1c3RvbWVyX2ZuYW1lJzogJ01hcnknLCAnY3VzdG9tZXJfbG5hbWUnOiAnU21hbGwnLCAnY2l0eSc6ICdPbnRhcmlvJywgJ3N0YXRlJzogJ0NBJywgJ3A= (truncated)</td><td>retail-data-topic-01</td><td>3</td><td>4</td><td>2025-04-24T06:38:34.243+0000</td><td>0</td></tr><tr><td>NDc5MQ==</td><td>eydvcmRlcl9pZCc6IDYxLCAnY3VzdG9tZXJfaWQnOiA0NzkxLCAnY3VzdG9tZXJfZm5hbWUnOiAnTWFyeScsICdjdXN0b21lcl9sbmFtZSc6ICdQYXR0b24nLCAnY2l0eSc6ICdIaWFsZWFoJywgJ3N0YXRlJzogJ0ZMJywgJ3A= (truncated)</td><td>retail-data-topic-01</td><td>3</td><td>5</td><td>2025-04-24T06:38:50.624+0000</td><td>0</td></tr><tr><td>MjgyMQ==</td><td>eydvcmRlcl9pZCc6IDY5LCAnY3VzdG9tZXJfaWQnOiAyODIxLCAnY3VzdG9tZXJfZm5hbWUnOiAnTWFyeScsICdjdXN0b21lcl9sbmFtZSc6ICdXaWxsaWFtcycsICdjaXR5JzogJ1NhbnRhIEFuYScsICdzdGF0ZSc6ICdDQSc= (truncated)</td><td>retail-data-topic-01</td><td>3</td><td>6</td><td>2025-04-24T06:39:12.758+0000</td><td>0</td></tr><tr><td>NjYy</td><td>eydvcmRlcl9pZCc6IDc0LCAnY3VzdG9tZXJfaWQnOiA2NjIsICdjdXN0b21lcl9mbmFtZSc6ICdNaWNoZWxsZScsICdjdXN0b21lcl9sbmFtZSc6ICdNb3NzJywgJ2NpdHknOiAnQ2FndWFzJywgJ3N0YXRlJzogJ1BSJywgJ3A= (truncated)</td><td>retail-data-topic-01</td><td>3</td><td>7</td><td>2025-04-24T06:39:26.216+0000</td><td>0</td></tr><tr><td>MjUwNQ==</td><td>eydvcmRlcl9pZCc6IDc1LCAnY3VzdG9tZXJfaWQnOiAyNTA1LCAnY3VzdG9tZXJfZm5hbWUnOiAnSmVzc2ljYScsICdjdXN0b21lcl9sbmFtZSc6ICdKb2huc29uJywgJ2NpdHknOiAnQ2FndWFzJywgJ3N0YXRlJzogJ1BSJyw= (truncated)</td><td>retail-data-topic-01</td><td>3</td><td>8</td><td>2025-04-24T06:39:28.846+0000</td><td>0</td></tr><tr><td>Njc0</td><td>eydvcmRlcl9pZCc6IDgxLCAnY3VzdG9tZXJfaWQnOiA2NzQsICdjdXN0b21lcl9mbmFtZSc6ICdKb3NlJywgJ2N1c3RvbWVyX2xuYW1lJzogJ1JleW5vbGRzJywgJ2NpdHknOiAnTW9ycmlzdmlsbGUnLCAnc3RhdGUnOiAnUEE= (truncated)</td><td>retail-data-topic-01</td><td>3</td><td>9</td><td>2025-04-24T06:39:34.366+0000</td><td>0</td></tr><tr><td>Njc4OQ==</td><td>eydvcmRlcl9pZCc6IDg0LCAnY3VzdG9tZXJfaWQnOiA2Nzg5LCAnY3VzdG9tZXJfZm5hbWUnOiAnSmVzc2ljYScsICdjdXN0b21lcl9sbmFtZSc6ICdNY2ludG9zaCcsICdjaXR5JzogJ1BvbXBhbm8gQmVhY2gnLCAnc3RhdGU= (truncated)</td><td>retail-data-topic-01</td><td>3</td><td>10</td><td>2025-04-24T06:39:39.814+0000</td><td>0</td></tr><tr><td>MzA2NQ==</td><td>eydvcmRlcl9pZCc6IDg3LCAnY3VzdG9tZXJfaWQnOiAzMDY1LCAnY3VzdG9tZXJfZm5hbWUnOiAnQW15JywgJ2N1c3RvbWVyX2xuYW1lJzogJ0N1bW1pbmdzJywgJ2NpdHknOiAnQ2FndWFzJywgJ3N0YXRlJzogJ1BSJywgJ3A= (truncated)</td><td>retail-data-topic-01</td><td>3</td><td>11</td><td>2025-04-24T06:39:42.505+0000</td><td>0</td></tr><tr><td>ODkxMg==</td><td>eydvcmRlcl9pZCc6IDkxLCAnY3VzdG9tZXJfaWQnOiA4OTEyLCAnY3VzdG9tZXJfZm5hbWUnOiAnTWFyeScsICdjdXN0b21lcl9sbmFtZSc6ICdCbGFua2Vuc2hpcCcsICdjaXR5JzogJ0NhZ3VhcycsICdzdGF0ZSc6ICdQUic= (truncated)</td><td>retail-data-topic-01</td><td>3</td><td>12</td><td>2025-04-24T06:39:47.985+0000</td><td>0</td></tr><tr><td>MTE1ODk=</td><td>eydvcmRlcl9pZCc6IDk0LCAnY3VzdG9tZXJfaWQnOiAxMTU4OSwgJ2N1c3RvbWVyX2ZuYW1lJzogJ01hcnknLCAnY3VzdG9tZXJfbG5hbWUnOiAnQW5kZXJzb24nLCAnY2l0eSc6ICdLZW50JywgJ3N0YXRlJzogJ1dBJywgJ3A= (truncated)</td><td>retail-data-topic-01</td><td>3</td><td>13</td><td>2025-04-24T06:39:56.093+0000</td><td>0</td></tr><tr><td>OTAzMg==</td><td>eydvcmRlcl9pZCc6IDk1LCAnY3VzdG9tZXJfaWQnOiA5MDMyLCAnY3VzdG9tZXJfZm5hbWUnOiAnTGF1cmVuJywgJ2N1c3RvbWVyX2xuYW1lJzogJ011bm96JywgJ2NpdHknOiAnQ2FndWFzJywgJ3N0YXRlJzogJ1BSJywgJ3A= (truncated)</td><td>retail-data-topic-01</td><td>3</td><td>14</td><td>2025-04-24T06:39:58.739+0000</td><td>0</td></tr><tr><td>MTgzNw==</td><td>eydvcmRlcl9pZCc6IDEyLCAnY3VzdG9tZXJfaWQnOiAxODM3LCAnY3VzdG9tZXJfZm5hbWUnOiAnTWFyeScsICdjdXN0b21lcl9sbmFtZSc6ICdWZWdhJywgJ2NpdHknOiAnQ2FndWFzJywgJ3N0YXRlJzogJ1BSJywgJ3BpbmM= (truncated)</td><td>retail-data-topic-01</td><td>3</td><td>15</td><td>2025-04-24T08:00:27.484+0000</td><td>0</td></tr><tr><td>MTgzNw==</td><td>eydvcmRlcl9pZCc6IDEyLCAnY3VzdG9tZXJfaWQnOiAxODM3LCAnY3VzdG9tZXJfZm5hbWUnOiAnTWFyeScsICdjdXN0b21lcl9sbmFtZSc6ICdWZWdhJywgJ2NpdHknOiAnQ2FndWFzJywgJ3N0YXRlJzogJ1BSJywgJ3BpbmM= (truncated)</td><td>retail-data-topic-01</td><td>3</td><td>16</td><td>2025-04-24T09:22:44.509+0000</td><td>0</td></tr><tr><td>NjU2</td><td>eydvcmRlcl9pZCc6IDI4LCAnY3VzdG9tZXJfaWQnOiA2NTYsICdjdXN0b21lcl9mbmFtZSc6ICdKdWxpZScsICdjdXN0b21lcl9sbmFtZSc6ICdTbWl0aCcsICdjaXR5JzogJ1BvbW9uYScsICdzdGF0ZSc6ICdDQScsICdwaW4= (truncated)</td><td>retail-data-topic-01</td><td>3</td><td>17</td><td>2025-04-24T09:22:56.273+0000</td><td>0</td></tr><tr><td>Njk4Mw==</td><td>eydvcmRlcl9pZCc6IDMxLCAnY3VzdG9tZXJfaWQnOiA2OTgzLCAnY3VzdG9tZXJfZm5hbWUnOiAnTWFyeScsICdjdXN0b21lcl9sbmFtZSc6ICdCbGFjaycsICdjaXR5JzogJ0NhZ3VhcycsICdzdGF0ZSc6ICdQUicsICdwaW4= (truncated)</td><td>retail-data-topic-01</td><td>3</td><td>18</td><td>2025-04-24T09:22:58.182+0000</td><td>0</td></tr><tr><td>NTIyNQ==</td><td>eydvcmRlcl9pZCc6IDUwLCAnY3VzdG9tZXJfaWQnOiA1MjI1LCAnY3VzdG9tZXJfZm5hbWUnOiAnTWFyeScsICdjdXN0b21lcl9sbmFtZSc6ICdTbWl0aCcsICdjaXR5JzogJ1BlYWJvZHknLCAnc3RhdGUnOiAnTUEnLCAncGk= (truncated)</td><td>retail-data-topic-01</td><td>3</td><td>19</td><td>2025-04-24T09:23:09.110+0000</td><td>0</td></tr><tr><td>MTIyNzE=</td><td>eydvcmRlcl9pZCc6IDUxLCAnY3VzdG9tZXJfaWQnOiAxMjI3MSwgJ2N1c3RvbWVyX2ZuYW1lJzogJ01hcnknLCAnY3VzdG9tZXJfbG5hbWUnOiAnU21hbGwnLCAnY2l0eSc6ICdPbnRhcmlvJywgJ3N0YXRlJzogJ0NBJywgJ3A= (truncated)</td><td>retail-data-topic-01</td><td>3</td><td>20</td><td>2025-04-24T09:23:09.827+0000</td><td>0</td></tr><tr><td>ODgyNw==</td><td>eydvcmRlcl9pZCc6IDQsICdjdXN0b21lcl9pZCc6IDg4MjcsICdjdXN0b21lcl9mbmFtZSc6ICdCcmlhbicsICdjdXN0b21lcl9sbmFtZSc6ICdXaWxzb24nLCAnY2l0eSc6ICdTYW4gQW50b25pbycsICdzdGF0ZSc6ICdUWCc= (truncated)</td><td>retail-data-topic-01</td><td>4</td><td>0</td><td>2025-04-24T06:36:33.429+0000</td><td>0</td></tr><tr><td>MTEzMTg=</td><td>eydvcmRlcl9pZCc6IDUsICdjdXN0b21lcl9pZCc6IDExMzE4LCAnY3VzdG9tZXJfZm5hbWUnOiAnTWFyeScsICdjdXN0b21lcl9sbmFtZSc6ICdIZW5yeScsICdjaXR5JzogJ0NhZ3VhcycsICdzdGF0ZSc6ICdQUicsICdwaW4= (truncated)</td><td>retail-data-topic-01</td><td>4</td><td>1</td><td>2025-04-24T06:36:37.893+0000</td><td>0</td></tr><tr><td>OTQ4OA==</td><td>eydvcmRlcl9pZCc6IDE5LCAnY3VzdG9tZXJfaWQnOiA5NDg4LCAnY3VzdG9tZXJfZm5hbWUnOiAnTWFyeScsICdjdXN0b21lcl9sbmFtZSc6ICdTbWl0aCcsICdjaXR5JzogJ0hpYWxlYWgnLCAnc3RhdGUnOiAnRkwnLCAncGk= (truncated)</td><td>retail-data-topic-01</td><td>4</td><td>2</td><td>2025-04-24T06:37:19.622+0000</td><td>0</td></tr><tr><td>OTE5OA==</td><td>eydvcmRlcl9pZCc6IDIwLCAnY3VzdG9tZXJfaWQnOiA5MTk4LCAnY3VzdG9tZXJfZm5hbWUnOiAnRGF2aWQnLCAnY3VzdG9tZXJfbG5hbWUnOiAnS2VycicsICdjaXR5JzogJ0Jvd2xpbmcgR3JlZW4nLCAnc3RhdGUnOiAnS1k= (truncated)</td><td>retail-data-topic-01</td><td>4</td><td>3</td><td>2025-04-24T06:37:22.475+0000</td><td>0</td></tr><tr><td>MTk2</td><td>eydvcmRlcl9pZCc6IDI5LCAnY3VzdG9tZXJfaWQnOiAxOTYsICdjdXN0b21lcl9mbmFtZSc6ICdUaG9tYXMnLCAnY3VzdG9tZXJfbG5hbWUnOiAnV2F0c29uJywgJ2NpdHknOiAnRGVhcmJvcm4nLCAnc3RhdGUnOiAnTUknLCA= (truncated)</td><td>retail-data-topic-01</td><td>4</td><td>4</td><td>2025-04-24T06:37:41.827+0000</td><td>0</td></tr><tr><td>MTAwMzk=</td><td>eydvcmRlcl9pZCc6IDMwLCAnY3VzdG9tZXJfaWQnOiAxMDAzOSwgJ2N1c3RvbWVyX2ZuYW1lJzogJ01hcnknLCAnY3VzdG9tZXJfbG5hbWUnOiAnQnV0bGVyJywgJ2NpdHknOiAnQ29ud2F5JywgJ3N0YXRlJzogJ0FSJywgJ3A= (truncated)</td><td>retail-data-topic-01</td><td>4</td><td>5</td><td>2025-04-24T06:37:44.492+0000</td><td>0</td></tr><tr><td>NTc5Mw==</td><td>eydvcmRlcl9pZCc6IDMzLCAnY3VzdG9tZXJfaWQnOiA1NzkzLCAnY3VzdG9tZXJfZm5hbWUnOiAnTWFyZ2FyZXQnLCAnY3VzdG9tZXJfbG5hbWUnOiAnV2Vla3MnLCAnY2l0eSc6ICdDYWd1YXMnLCAnc3RhdGUnOiAnUFInLCA= (truncated)</td><td>retail-data-topic-01</td><td>4</td><td>6</td><td>2025-04-24T06:37:49.800+0000</td><td>0</td></tr><tr><td>NTY0OQ==</td><td>eydvcmRlcl9pZCc6IDM2LCAnY3VzdG9tZXJfaWQnOiA1NjQ5LCAnY3VzdG9tZXJfZm5hbWUnOiAnTWFyeScsICdjdXN0b21lcl9sbmFtZSc6ICdOZ3V5ZW4nLCAnY2l0eSc6ICdDYWd1YXMnLCAnc3RhdGUnOiAnUFInLCAncGk= (truncated)</td><td>retail-data-topic-01</td><td>4</td><td>7</td><td>2025-04-24T06:37:58.029+0000</td><td>0</td></tr><tr><td>NTg2Mw==</td><td>eydvcmRlcl9pZCc6IDM3LCAnY3VzdG9tZXJfaWQnOiA1ODYzLCAnY3VzdG9tZXJfZm5hbWUnOiAnQW15JywgJ2N1c3RvbWVyX2xuYW1lJzogJ1NtaXRoJywgJ2NpdHknOiAnQ29yZG92YScsICdzdGF0ZSc6ICdUTicsICdwaW4= (truncated)</td><td>retail-data-topic-01</td><td>4</td><td>8</td><td>2025-04-24T06:38:00.752+0000</td><td>0</td></tr><tr><td>MTE1ODY=</td><td>eydvcmRlcl9pZCc6IDM4LCAnY3VzdG9tZXJfaWQnOiAxMTU4NiwgJ2N1c3RvbWVyX2ZuYW1lJzogJ05hbmN5JywgJ2N1c3RvbWVyX2xuYW1lJzogJ1dyaWdodCcsICdjaXR5JzogJ05ldyBPcmxlYW5zJywgJ3N0YXRlJzogJ0w= (truncated)</td><td>retail-data-topic-01</td><td>4</td><td>9</td><td>2025-04-24T06:38:03.907+0000</td><td>0</td></tr><tr><td>NzA3Mw==</td><td>eydvcmRlcl9pZCc6IDU3LCAnY3VzdG9tZXJfaWQnOiA3MDczLCAnY3VzdG9tZXJfZm5hbWUnOiAnSm9hbicsICdjdXN0b21lcl9sbmFtZSc6ICdTbWl0aCcsICdjaXR5JzogJ0RlbCBSaW8nLCAnc3RhdGUnOiAnVFgnLCAncGk= (truncated)</td><td>retail-data-topic-01</td><td>4</td><td>10</td><td>2025-04-24T06:38:42.653+0000</td><td>0</td></tr><tr><td>OTExMQ==</td><td>eydvcmRlcl9pZCc6IDYyLCAnY3VzdG9tZXJfaWQnOiA5MTExLCAnY3VzdG9tZXJfZm5hbWUnOiAnTWFyeScsICdjdXN0b21lcl9sbmFtZSc6ICdTbWl0aCcsICdjaXR5JzogJ0NhZ3VhcycsICdzdGF0ZSc6ICdQUicsICdwaW4= (truncated)</td><td>retail-data-topic-01</td><td>4</td><td>11</td><td>2025-04-24T06:38:53.304+0000</td><td>0</td></tr><tr><td>MTQwNg==</td><td>eydvcmRlcl9pZCc6IDY3LCAnY3VzdG9tZXJfaWQnOiAxNDA2LCAnY3VzdG9tZXJfZm5hbWUnOiAnQW15JywgJ2N1c3RvbWVyX2xuYW1lJzogJ1NtaXRoJywgJ2NpdHknOiAnQ2FndWFzJywgJ3N0YXRlJzogJ1BSJywgJ3BpbmM= (truncated)</td><td>retail-data-topic-01</td><td>4</td><td>12</td><td>2025-04-24T06:39:07.232+0000</td><td>0</td></tr><tr><td>MTE4MDk=</td><td>eydvcmRlcl9pZCc6IDcwLCAnY3VzdG9tZXJfaWQnOiAxMTgwOSwgJ2N1c3RvbWVyX2ZuYW1lJzogJ0VyaWMnLCAnY3VzdG9tZXJfbG5hbWUnOiAnU21pdGgnLCAnY2l0eSc6ICdKZXJzZXkgQ2l0eScsICdzdGF0ZSc6ICdOSic= (truncated)</td><td>retail-data-topic-01</td><td>4</td><td>13</td><td>2025-04-24T06:39:15.389+0000</td><td>0</td></tr><tr><td>NDM0OQ==</td><td>eydvcmRlcl9pZCc6IDcyLCAnY3VzdG9tZXJfaWQnOiA0MzQ5LCAnY3VzdG9tZXJfZm5hbWUnOiAnRG9ubmEnLCAnY3VzdG9tZXJfbG5hbWUnOiAnV2lsbGlhbXMnLCAnY2l0eSc6ICdTYWx0IExha2UgQ2l0eScsICdzdGF0ZSc= (truncated)</td><td>retail-data-topic-01</td><td>4</td><td>14</td><td>2025-04-24T06:39:20.793+0000</td><td>0</td></tr><tr><td>MTIyNTY=</td><td>eydvcmRlcl9pZCc6IDEwMywgJ2N1c3RvbWVyX2lkJzogMTIyNTYsICdjdXN0b21lcl9mbmFtZSc6ICdWaWN0b3JpYScsICdjdXN0b21lcl9sbmFtZSc6ICdBbHZhcmV6JywgJ2NpdHknOiAnU3VtbWVydmlsbGUnLCAnc3RhdGU= (truncated)</td><td>retail-data-topic-01</td><td>4</td><td>15</td><td>2025-04-24T06:40:17.680+0000</td><td>0</td></tr><tr><td>ODgyNw==</td><td>eydvcmRlcl9pZCc6IDQsICdjdXN0b21lcl9pZCc6IDg4MjcsICdjdXN0b21lcl9mbmFtZSc6ICdCcmlhbicsICdjdXN0b21lcl9sbmFtZSc6ICdXaWxzb24nLCAnY2l0eSc6ICdTYW4gQW50b25pbycsICdzdGF0ZSc6ICdUWCc= (truncated)</td><td>retail-data-topic-01</td><td>4</td><td>16</td><td>2025-04-24T07:59:58.480+0000</td><td>0</td></tr><tr><td>MTEzMTg=</td><td>eydvcmRlcl9pZCc6IDUsICdjdXN0b21lcl9pZCc6IDExMzE4LCAnY3VzdG9tZXJfZm5hbWUnOiAnTWFyeScsICdjdXN0b21lcl9sbmFtZSc6ICdIZW5yeScsICdjaXR5JzogJ0NhZ3VhcycsICdzdGF0ZSc6ICdQUicsICdwaW4= (truncated)</td><td>retail-data-topic-01</td><td>4</td><td>17</td><td>2025-04-24T08:00:04.528+0000</td><td>0</td></tr><tr><td>OTQ4OA==</td><td>eydvcmRlcl9pZCc6IDE5LCAnY3VzdG9tZXJfaWQnOiA5NDg4LCAnY3VzdG9tZXJfZm5hbWUnOiAnTWFyeScsICdjdXN0b21lcl9sbmFtZSc6ICdTbWl0aCcsICdjaXR5JzogJ0hpYWxlYWgnLCAnc3RhdGUnOiAnRkwnLCAncGk= (truncated)</td><td>retail-data-topic-01</td><td>4</td><td>18</td><td>2025-04-24T08:00:51.270+0000</td><td>0</td></tr><tr><td>OTE5OA==</td><td>eydvcmRlcl9pZCc6IDIwLCAnY3VzdG9tZXJfaWQnOiA5MTk4LCAnY3VzdG9tZXJfZm5hbWUnOiAnRGF2aWQnLCAnY3VzdG9tZXJfbG5hbWUnOiAnS2VycicsICdjaXR5JzogJ0Jvd2xpbmcgR3JlZW4nLCAnc3RhdGUnOiAnS1k= (truncated)</td><td>retail-data-topic-01</td><td>4</td><td>19</td><td>2025-04-24T08:00:54.174+0000</td><td>0</td></tr><tr><td>ODgyNw==</td><td>eydvcmRlcl9pZCc6IDQsICdjdXN0b21lcl9pZCc6IDg4MjcsICdjdXN0b21lcl9mbmFtZSc6ICdCcmlhbicsICdjdXN0b21lcl9sbmFtZSc6ICdXaWxzb24nLCAnY2l0eSc6ICdTYW4gQW50b25pbycsICdzdGF0ZSc6ICdUWCc= (truncated)</td><td>retail-data-topic-01</td><td>4</td><td>20</td><td>2025-04-24T09:22:29.070+0000</td><td>0</td></tr><tr><td>MTEzMTg=</td><td>eydvcmRlcl9pZCc6IDUsICdjdXN0b21lcl9pZCc6IDExMzE4LCAnY3VzdG9tZXJfZm5hbWUnOiAnTWFyeScsICdjdXN0b21lcl9sbmFtZSc6ICdIZW5yeScsICdjaXR5JzogJ0NhZ3VhcycsICdzdGF0ZSc6ICdQUicsICdwaW4= (truncated)</td><td>retail-data-topic-01</td><td>4</td><td>21</td><td>2025-04-24T09:22:31.924+0000</td><td>0</td></tr><tr><td>OTQ4OA==</td><td>eydvcmRlcl9pZCc6IDE5LCAnY3VzdG9tZXJfaWQnOiA5NDg4LCAnY3VzdG9tZXJfZm5hbWUnOiAnTWFyeScsICdjdXN0b21lcl9sbmFtZSc6ICdTbWl0aCcsICdjaXR5JzogJ0hpYWxlYWgnLCAnc3RhdGUnOiAnRkwnLCAncGk= (truncated)</td><td>retail-data-topic-01</td><td>4</td><td>22</td><td>2025-04-24T09:22:51.486+0000</td><td>0</td></tr><tr><td>OTE5OA==</td><td>eydvcmRlcl9pZCc6IDIwLCAnY3VzdG9tZXJfaWQnOiA5MTk4LCAnY3VzdG9tZXJfZm5hbWUnOiAnRGF2aWQnLCAnY3VzdG9tZXJfbG5hbWUnOiAnS2VycicsICdjaXR5JzogJ0Jvd2xpbmcgR3JlZW4nLCAnc3RhdGUnOiAnS1k= (truncated)</td><td>retail-data-topic-01</td><td>4</td><td>23</td><td>2025-04-24T09:22:52.096+0000</td><td>0</td></tr><tr><td>MTk2</td><td>eydvcmRlcl9pZCc6IDI5LCAnY3VzdG9tZXJfaWQnOiAxOTYsICdjdXN0b21lcl9mbmFtZSc6ICdUaG9tYXMnLCAnY3VzdG9tZXJfbG5hbWUnOiAnV2F0c29uJywgJ2NpdHknOiAnRGVhcmJvcm4nLCAnc3RhdGUnOiAnTUknLCA= (truncated)</td><td>retail-data-topic-01</td><td>4</td><td>24</td><td>2025-04-24T09:22:56.991+0000</td><td>0</td></tr><tr><td>MTAwMzk=</td><td>eydvcmRlcl9pZCc6IDMwLCAnY3VzdG9tZXJfaWQnOiAxMDAzOSwgJ2N1c3RvbWVyX2ZuYW1lJzogJ01hcnknLCAnY3VzdG9tZXJfbG5hbWUnOiAnQnV0bGVyJywgJ2NpdHknOiAnQ29ud2F5JywgJ3N0YXRlJzogJ0FSJywgJ3A= (truncated)</td><td>retail-data-topic-01</td><td>4</td><td>25</td><td>2025-04-24T09:22:57.586+0000</td><td>0</td></tr><tr><td>NTc5Mw==</td><td>eydvcmRlcl9pZCc6IDMzLCAnY3VzdG9tZXJfaWQnOiA1NzkzLCAnY3VzdG9tZXJfZm5hbWUnOiAnTWFyZ2FyZXQnLCAnY3VzdG9tZXJfbG5hbWUnOiAnV2Vla3MnLCAnY2l0eSc6ICdDYWd1YXMnLCAnc3RhdGUnOiAnUFInLCA= (truncated)</td><td>retail-data-topic-01</td><td>4</td><td>26</td><td>2025-04-24T09:22:58.923+0000</td><td>0</td></tr><tr><td>NTY0OQ==</td><td>eydvcmRlcl9pZCc6IDM2LCAnY3VzdG9tZXJfaWQnOiA1NjQ5LCAnY3VzdG9tZXJfZm5hbWUnOiAnTWFyeScsICdjdXN0b21lcl9sbmFtZSc6ICdOZ3V5ZW4nLCAnY2l0eSc6ICdDYWd1YXMnLCAnc3RhdGUnOiAnUFInLCAncGk= (truncated)</td><td>retail-data-topic-01</td><td>4</td><td>27</td><td>2025-04-24T09:23:00.942+0000</td><td>0</td></tr><tr><td>NTg2Mw==</td><td>eydvcmRlcl9pZCc6IDM3LCAnY3VzdG9tZXJfaWQnOiA1ODYzLCAnY3VzdG9tZXJfZm5hbWUnOiAnQW15JywgJ2N1c3RvbWVyX2xuYW1lJzogJ1NtaXRoJywgJ2NpdHknOiAnQ29yZG92YScsICdzdGF0ZSc6ICdUTicsICdwaW4= (truncated)</td><td>retail-data-topic-01</td><td>4</td><td>28</td><td>2025-04-24T09:23:01.535+0000</td><td>0</td></tr><tr><td>MTE1ODY=</td><td>eydvcmRlcl9pZCc6IDM4LCAnY3VzdG9tZXJfaWQnOiAxMTU4NiwgJ2N1c3RvbWVyX2ZuYW1lJzogJ05hbmN5JywgJ2N1c3RvbWVyX2xuYW1lJzogJ1dyaWdodCcsICdjaXR5JzogJ05ldyBPcmxlYW5zJywgJ3N0YXRlJzogJ0w= (truncated)</td><td>retail-data-topic-01</td><td>4</td><td>29</td><td>2025-04-24T09:23:02.130+0000</td><td>0</td></tr><tr><td>NzA3Mw==</td><td>eydvcmRlcl9pZCc6IDU3LCAnY3VzdG9tZXJfaWQnOiA3MDczLCAnY3VzdG9tZXJfZm5hbWUnOiAnSm9hbicsICdjdXN0b21lcl9sbmFtZSc6ICdTbWl0aCcsICdjaXR5JzogJ0RlbCBSaW8nLCAnc3RhdGUnOiAnVFgnLCAncGk= (truncated)</td><td>retail-data-topic-01</td><td>4</td><td>30</td><td>2025-04-24T09:23:11.959+0000</td><td>0</td></tr><tr><td>MTE1OTk=</td><td>eyJvcmRlcl9pZCI6MSwiY3VzdG9tZXJfaWQiOjExNTk5LCJjdXN0b21lcl9mbmFtZSI6Ik1hcnkiLCJjdXN0b21lcl9sbmFtZSI6Ik1hbG9uZSIsImNpdHkiOiJIaWNrb3J5Iiwic3RhdGUiOiJOQyIsInBpbmNvZGUiOjI4NjA= (truncated)</td><td>retail-data-topic-01</td><td>0</td><td>0</td><td>2025-04-24T06:17:38.791+0000</td><td>0</td></tr><tr><td>MTE1OTk=</td><td>eydvcmRlcl9pZCc6IDEsICdjdXN0b21lcl9pZCc6IDExNTk5LCAnY3VzdG9tZXJfZm5hbWUnOiAnTWFyeScsICdjdXN0b21lcl9sbmFtZSc6ICdNYWxvbmUnLCAnY2l0eSc6ICdIaWNrb3J5JywgJ3N0YXRlJzogJ05DJywgJ3A= (truncated)</td><td>retail-data-topic-01</td><td>0</td><td>1</td><td>2025-04-24T06:36:21.973+0000</td><td>0</td></tr><tr><td>MjU2OA==</td><td>eydvcmRlcl9pZCc6IDE1LCAnY3VzdG9tZXJfaWQnOiAyNTY4LCAnY3VzdG9tZXJfZm5hbWUnOiAnTWFyaWEnLCAnY3VzdG9tZXJfbG5hbWUnOiAnU21pdGgnLCAnY2l0eSc6ICdNZW1waGlzJywgJ3N0YXRlJzogJ1ROJywgJ3A= (truncated)</td><td>retail-data-topic-01</td><td>0</td><td>2</td><td>2025-04-24T06:37:08.315+0000</td><td>0</td></tr><tr><td>MjY2Nw==</td><td>eydvcmRlcl9pZCc6IDE3LCAnY3VzdG9tZXJfaWQnOiAyNjY3LCAnY3VzdG9tZXJfZm5hbWUnOiAnVGFtbXknLCAnY3VzdG9tZXJfbG5hbWUnOiAnU21pdGgnLCAnY2l0eSc6ICdTdW4gVmFsbGV5JywgJ3N0YXRlJzogJ0NBJyw= (truncated)</td><td>retail-data-topic-01</td><td>0</td><td>3</td><td>2025-04-24T06:37:14.036+0000</td><td>0</td></tr><tr><td>MTIwNQ==</td><td>eydvcmRlcl9pZCc6IDE4LCAnY3VzdG9tZXJfaWQnOiAxMjA1LCAnY3VzdG9tZXJfZm5hbWUnOiAnTWFyeScsICdjdXN0b21lcl9sbmFtZSc6ICdQb3dlbGwnLCAnY2l0eSc6ICdNaWFtaScsICdzdGF0ZSc6ICdGTCcsICdwaW4= (truncated)</td><td>retail-data-topic-01</td><td>0</td><td>4</td><td>2025-04-24T06:37:16.752+0000</td><td>0</td></tr><tr><td>MTE0NDE=</td><td>eydvcmRlcl9pZCc6IDI0LCAnY3VzdG9tZXJfaWQnOiAxMTQ0MSwgJ2N1c3RvbWVyX2ZuYW1lJzogJ01hcnknLCAnY3VzdG9tZXJfbG5hbWUnOiAnRmVyZ3Vzb24nLCAnY2l0eSc6ICdMdXR6JywgJ3N0YXRlJzogJ0ZMJywgJ3A= (truncated)</td><td>retail-data-topic-01</td><td>0</td><td>5</td><td>2025-04-24T06:37:30.665+0000</td><td>0</td></tr><tr><td>MTA1MDA=</td><td>eydvcmRlcl9pZCc6IDQ0LCAnY3VzdG9tZXJfaWQnOiAxMDUwMCwgJ2N1c3RvbWVyX2ZuYW1lJzogJ01hcnknLCAnY3VzdG9tZXJfbG5hbWUnOiAnU21pdGgnLCAnY2l0eSc6ICdDYWd1YXMnLCAnc3RhdGUnOiAnUFInLCAncGk= (truncated)</td><td>retail-data-topic-01</td><td>0</td><td>6</td><td>2025-04-24T06:38:17.651+0000</td><td>0</td></tr><tr><td>MTU0OQ==</td><td>eydvcmRlcl9pZCc6IDQ2LCAnY3VzdG9tZXJfaWQnOiAxNTQ5LCAnY3VzdG9tZXJfZm5hbWUnOiAnRGlhbmUnLCAnY3VzdG9tZXJfbG5hbWUnOiAnV2lnZ2lucycsICdjaXR5JzogJ09yZWdvbiBDaXR5JywgJ3N0YXRlJzogJ08= (truncated)</td><td>retail-data-topic-01</td><td>0</td><td>7</td><td>2025-04-24T06:38:23.000+0000</td><td>0</td></tr><tr><td>MTIxODY=</td><td>eydvcmRlcl9pZCc6IDQ4LCAnY3VzdG9tZXJfaWQnOiAxMjE4NiwgJ2N1c3RvbWVyX2ZuYW1lJzogJ0dsb3JpYScsICdjdXN0b21lcl9sbmFtZSc6ICdNY2tuaWdodCcsICdjaXR5JzogJ0ZsdXNoaW5nJywgJ3N0YXRlJzogJ04= (truncated)</td><td>retail-data-topic-01</td><td>0</td><td>8</td><td>2025-04-24T06:38:25.822+0000</td><td>0</td></tr><tr><td>MTg3MQ==</td><td>eydvcmRlcl9pZCc6IDQ5LCAnY3VzdG9tZXJfaWQnOiAxODcxLCAnY3VzdG9tZXJfZm5hbWUnOiAnTWFyeScsICdjdXN0b21lcl9sbmFtZSc6ICdNY2tuaWdodCcsICdjaXR5JzogJ0NhZ3VhcycsICdzdGF0ZSc6ICdQUicsICc= (truncated)</td><td>retail-data-topic-01</td><td>0</td><td>9</td><td>2025-04-24T06:38:28.727+0000</td><td>0</td></tr><tr><td>NTEyNg==</td><td>eydvcmRlcl9pZCc6IDUyLCAnY3VzdG9tZXJfaWQnOiA1MTI2LCAnY3VzdG9tZXJfZm5hbWUnOiAnS2FyZW4nLCAnY3VzdG9tZXJfbG5hbWUnOiAnUm9iZXJ0cycsICdjaXR5JzogJ1doZWVsaW5nJywgJ3N0YXRlJzogJ1dWJyw= (truncated)</td><td>retail-data-topic-01</td><td>0</td><td>10</td><td>2025-04-24T06:38:36.921+0000</td><td>0</td></tr><tr><td>MTE0OA==</td><td>eydvcmRlcl9pZCc6IDYzLCAnY3VzdG9tZXJfaWQnOiAxMTQ4LCAnY3VzdG9tZXJfZm5hbWUnOiAnTWFyeScsICdjdXN0b21lcl9sbmFtZSc6ICdBbmRlcnNvbicsICdjaXR5JzogJ0F1Z3VzdGEnLCAnc3RhdGUnOiAnR0EnLCA= (truncated)</td><td>retail-data-topic-01</td><td>0</td><td>11</td><td>2025-04-24T06:38:55.924+0000</td><td>0</td></tr><tr><td>ODY0Ng==</td><td>eydvcmRlcl9pZCc6IDcxLCAnY3VzdG9tZXJfaWQnOiA4NjQ2LCAnY3VzdG9tZXJfZm5hbWUnOiAnTWFyeScsICdjdXN0b21lcl9sbmFtZSc6ICdTbWl0aCcsICdjaXR5JzogJ1Bpc2NhdGF3YXknLCAnc3RhdGUnOiAnTkonLCA= (truncated)</td><td>retail-data-topic-01</td><td>0</td><td>12</td><td>2025-04-24T06:39:18.083+0000</td><td>0</td></tr><tr><td>MzgwOQ==</td><td>eydvcmRlcl9pZCc6IDg4LCAnY3VzdG9tZXJfaWQnOiAzODA5LCAnY3VzdG9tZXJfZm5hbWUnOiAnTWVsaXNzYScsICdjdXN0b21lcl9sbmFtZSc6ICdUYXlsb3InLCAnY2l0eSc6ICdMYWtld29vZCcsICdzdGF0ZSc6ICdOSic= (truncated)</td><td>retail-data-topic-01</td><td>0</td><td>13</td><td>2025-04-24T06:39:45.226+0000</td><td>0</td></tr><tr><td>NTI0Mw==</td><td>eydvcmRlcl9pZCc6IDk4LCAnY3VzdG9tZXJfaWQnOiA1MjQzLCAnY3VzdG9tZXJfZm5hbWUnOiAnTWFyeScsICdjdXN0b21lcl9sbmFtZSc6ICdTbWl0aCcsICdjaXR5JzogJ0NhZ3VhcycsICdzdGF0ZSc6ICdQUicsICdwaW4= (truncated)</td><td>retail-data-topic-01</td><td>0</td><td>14</td><td>2025-04-24T06:40:06.914+0000</td><td>0</td></tr><tr><td>Mzk1</td><td>eydvcmRlcl9pZCc6IDEwNiwgJ2N1c3RvbWVyX2lkJzogMzk1LCAnY3VzdG9tZXJfZm5hbWUnOiAnRWR3YXJkJywgJ2N1c3RvbWVyX2xuYW1lJzogJ0Nhc3RybycsICdjaXR5JzogJ1JldmVyZScsICdzdGF0ZSc6ICdNQScsICc= (truncated)</td><td>retail-data-topic-01</td><td>0</td><td>15</td><td>2025-04-24T06:40:25.747+0000</td><td>0</td></tr><tr><td>MTE1OTk=</td><td>eydvcmRlcl9pZCc6IDEsICdjdXN0b21lcl9pZCc6IDExNTk5LCAnY3VzdG9tZXJfZm5hbWUnOiAnTWFyeScsICdjdXN0b21lcl9sbmFtZSc6ICdNYWxvbmUnLCAnY2l0eSc6ICdIaWNrb3J5JywgJ3N0YXRlJzogJ05DJywgJ3A= (truncated)</td><td>retail-data-topic-01</td><td>0</td><td>16</td><td>2025-04-24T07:59:45.272+0000</td><td>0</td></tr><tr><td>MjU2OA==</td><td>eydvcmRlcl9pZCc6IDE1LCAnY3VzdG9tZXJfaWQnOiAyNTY4LCAnY3VzdG9tZXJfZm5hbWUnOiAnTWFyaWEnLCAnY3VzdG9tZXJfbG5hbWUnOiAnU21pdGgnLCAnY2l0eSc6ICdNZW1waGlzJywgJ3N0YXRlJzogJ1ROJywgJ3A= (truncated)</td><td>retail-data-topic-01</td><td>0</td><td>17</td><td>2025-04-24T08:00:39.334+0000</td><td>0</td></tr><tr><td>MjY2Nw==</td><td>eydvcmRlcl9pZCc6IDE3LCAnY3VzdG9tZXJfaWQnOiAyNjY3LCAnY3VzdG9tZXJfZm5hbWUnOiAnVGFtbXknLCAnY3VzdG9tZXJfbG5hbWUnOiAnU21pdGgnLCAnY2l0eSc6ICdTdW4gVmFsbGV5JywgJ3N0YXRlJzogJ0NBJyw= (truncated)</td><td>retail-data-topic-01</td><td>0</td><td>18</td><td>2025-04-24T08:00:44.830+0000</td><td>0</td></tr><tr><td>MTIwNQ==</td><td>eydvcmRlcl9pZCc6IDE4LCAnY3VzdG9tZXJfaWQnOiAxMjA1LCAnY3VzdG9tZXJfZm5hbWUnOiAnTWFyeScsICdjdXN0b21lcl9sbmFtZSc6ICdQb3dlbGwnLCAnY2l0eSc6ICdNaWFtaScsICdzdGF0ZSc6ICdGTCcsICdwaW4= (truncated)</td><td>retail-data-topic-01</td><td>0</td><td>19</td><td>2025-04-24T08:00:47.757+0000</td><td>0</td></tr><tr><td>MTE1OTk=</td><td>eydvcmRlcl9pZCc6IDEsICdjdXN0b21lcl9pZCc6IDExNTk5LCAnY3VzdG9tZXJfZm5hbWUnOiAnTWFyeScsICdjdXN0b21lcl9sbmFtZSc6ICdNYWxvbmUnLCAnY2l0eSc6ICdIaWNrb3J5JywgJ3N0YXRlJzogJ05DJywgJ3A= (truncated)</td><td>retail-data-topic-01</td><td>0</td><td>20</td><td>2025-04-24T09:22:13.481+0000</td><td>0</td></tr><tr><td>MjU2OA==</td><td>eydvcmRlcl9pZCc6IDE1LCAnY3VzdG9tZXJfaWQnOiAyNTY4LCAnY3VzdG9tZXJfZm5hbWUnOiAnTWFyaWEnLCAnY3VzdG9tZXJfbG5hbWUnOiAnU21pdGgnLCAnY2l0eSc6ICdNZW1waGlzJywgJ3N0YXRlJzogJ1ROJywgJ3A= (truncated)</td><td>retail-data-topic-01</td><td>0</td><td>21</td><td>2025-04-24T09:22:48.654+0000</td><td>0</td></tr><tr><td>MjY2Nw==</td><td>eydvcmRlcl9pZCc6IDE3LCAnY3VzdG9tZXJfaWQnOiAyNjY3LCAnY3VzdG9tZXJfZm5hbWUnOiAnVGFtbXknLCAnY3VzdG9tZXJfbG5hbWUnOiAnU21pdGgnLCAnY2l0eSc6ICdTdW4gVmFsbGV5JywgJ3N0YXRlJzogJ0NBJyw= (truncated)</td><td>retail-data-topic-01</td><td>0</td><td>22</td><td>2025-04-24T09:22:50.071+0000</td><td>0</td></tr><tr><td>MTIwNQ==</td><td>eydvcmRlcl9pZCc6IDE4LCAnY3VzdG9tZXJfaWQnOiAxMjA1LCAnY3VzdG9tZXJfZm5hbWUnOiAnTWFyeScsICdjdXN0b21lcl9sbmFtZSc6ICdQb3dlbGwnLCAnY2l0eSc6ICdNaWFtaScsICdzdGF0ZSc6ICdGTCcsICdwaW4= (truncated)</td><td>retail-data-topic-01</td><td>0</td><td>23</td><td>2025-04-24T09:22:50.779+0000</td><td>0</td></tr><tr><td>MTE0NDE=</td><td>eydvcmRlcl9pZCc6IDI0LCAnY3VzdG9tZXJfaWQnOiAxMTQ0MSwgJ2N1c3RvbWVyX2ZuYW1lJzogJ01hcnknLCAnY3VzdG9tZXJfbG5hbWUnOiAnRmVyZ3Vzb24nLCAnY2l0eSc6ICdMdXR6JywgJ3N0YXRlJzogJ0ZMJywgJ3A= (truncated)</td><td>retail-data-topic-01</td><td>0</td><td>24</td><td>2025-04-24T09:22:54.143+0000</td><td>0</td></tr><tr><td>MTA1MDA=</td><td>eydvcmRlcl9pZCc6IDQ0LCAnY3VzdG9tZXJfaWQnOiAxMDUwMCwgJ2N1c3RvbWVyX2ZuYW1lJzogJ01hcnknLCAnY3VzdG9tZXJfbG5hbWUnOiAnU21pdGgnLCAnY2l0eSc6ICdDYWd1YXMnLCAnc3RhdGUnOiAnUFInLCAncGk= (truncated)</td><td>retail-data-topic-01</td><td>0</td><td>25</td><td>2025-04-24T09:23:05.560+0000</td><td>0</td></tr><tr><td>MTU0OQ==</td><td>eydvcmRlcl9pZCc6IDQ2LCAnY3VzdG9tZXJfaWQnOiAxNTQ5LCAnY3VzdG9tZXJfZm5hbWUnOiAnRGlhbmUnLCAnY3VzdG9tZXJfbG5hbWUnOiAnV2lnZ2lucycsICdjaXR5JzogJ09yZWdvbiBDaXR5JywgJ3N0YXRlJzogJ08= (truncated)</td><td>retail-data-topic-01</td><td>0</td><td>26</td><td>2025-04-24T09:23:06.985+0000</td><td>0</td></tr><tr><td>MTIxODY=</td><td>eydvcmRlcl9pZCc6IDQ4LCAnY3VzdG9tZXJfaWQnOiAxMjE4NiwgJ2N1c3RvbWVyX2ZuYW1lJzogJ0dsb3JpYScsICdjdXN0b21lcl9sbmFtZSc6ICdNY2tuaWdodCcsICdjaXR5JzogJ0ZsdXNoaW5nJywgJ3N0YXRlJzogJ04= (truncated)</td><td>retail-data-topic-01</td><td>0</td><td>27</td><td>2025-04-24T09:23:07.694+0000</td><td>0</td></tr><tr><td>MTg3MQ==</td><td>eydvcmRlcl9pZCc6IDQ5LCAnY3VzdG9tZXJfaWQnOiAxODcxLCAnY3VzdG9tZXJfZm5hbWUnOiAnTWFyeScsICdjdXN0b21lcl9sbmFtZSc6ICdNY2tuaWdodCcsICdjaXR5JzogJ0NhZ3VhcycsICdzdGF0ZSc6ICdQUicsICc= (truncated)</td><td>retail-data-topic-01</td><td>0</td><td>28</td><td>2025-04-24T09:23:08.402+0000</td><td>0</td></tr><tr><td>NTEyNg==</td><td>eydvcmRlcl9pZCc6IDUyLCAnY3VzdG9tZXJfaWQnOiA1MTI2LCAnY3VzdG9tZXJfZm5hbWUnOiAnS2FyZW4nLCAnY3VzdG9tZXJfbG5hbWUnOiAnUm9iZXJ0cycsICdjaXR5JzogJ1doZWVsaW5nJywgJ3N0YXRlJzogJ1dWJyw= (truncated)</td><td>retail-data-topic-01</td><td>0</td><td>29</td><td>2025-04-24T09:23:10.543+0000</td><td>0</td></tr></tbody></table></div>"
      ]
     },
     "metadata": {
      "application/vnd.databricks.v1+output": {
       "addedWidgets": {},
       "aggData": [],
       "aggError": "",
       "aggOverflow": false,
       "aggSchema": [],
       "aggSeriesLimitReached": false,
       "aggType": "",
       "arguments": {},
       "columnCustomDisplayInfos": {},
       "data": [
        [
         "MTI0",
         "eyJvcmRlcl9pZCI6MTgsImN1c3RvbWVyX2lkIjoxMjA1LCJjdXN0b21lcl9mbmFtZSI6Ik1hcnkiLCJjdXN0b21lcl9sbmFtZSI6IlBvd2VsbCIsImNpdHkiOiJNaWFtaSIsInN0YXRlIjoiRkwiLCJwaW5jb2RlIjozMzEyNiw= (truncated)",
         "retail-data-topic-01",
         2,
         0,
         "2025-04-23T05:59:33.880+0000",
         0
        ],
        [
         "NTY1Nw==",
         "eydvcmRlcl9pZCc6IDksICdjdXN0b21lcl9pZCc6IDU2NTcsICdjdXN0b21lcl9mbmFtZSc6ICdNYXJ5JywgJ2N1c3RvbWVyX2xuYW1lJzogJ0phbWVzJywgJ2NpdHknOiAnTGFrZXdvb2QnLCAnc3RhdGUnOiAnT0gnLCAncGk= (truncated)",
         "retail-data-topic-01",
         2,
         1,
         "2025-04-24T06:36:47.860+0000",
         0
        ],
        [
         "NTY0OA==",
         "eydvcmRlcl9pZCc6IDEwLCAnY3VzdG9tZXJfaWQnOiA1NjQ4LCAnY3VzdG9tZXJfZm5hbWUnOiAnSm9zaHVhJywgJ2N1c3RvbWVyX2xuYW1lJzogJ1NtaXRoJywgJ2NpdHknOiAnTWVtcGhpcycsICdzdGF0ZSc6ICdUTicsICc= (truncated)",
         "retail-data-topic-01",
         2,
         2,
         "2025-04-24T06:36:52.732+0000",
         0
        ],
        [
         "OTg0Mg==",
         "eydvcmRlcl9pZCc6IDE0LCAnY3VzdG9tZXJfaWQnOiA5ODQyLCAnY3VzdG9tZXJfZm5hbWUnOiAnTWFyeScsICdjdXN0b21lcl9sbmFtZSc6ICdTbWl0aCcsICdjaXR5JzogJ0NhZ3VhcycsICdzdGF0ZSc6ICdQUicsICdwaW4= (truncated)",
         "retail-data-topic-01",
         2,
         3,
         "2025-04-24T06:37:05.541+0000",
         0
        ],
        [
         "MzI0MQ==",
         "eydvcmRlcl9pZCc6IDI3LCAnY3VzdG9tZXJfaWQnOiAzMjQxLCAnY3VzdG9tZXJfZm5hbWUnOiAnV2lsbGllJywgJ2N1c3RvbWVyX2xuYW1lJzogJ1NtaXRoJywgJ2NpdHknOiAnQ2FndWFzJywgJ3N0YXRlJzogJ1BSJywgJ3A= (truncated)",
         "retail-data-topic-01",
         2,
         4,
         "2025-04-24T06:37:36.284+0000",
         0
        ],
        [
         "NDE4OQ==",
         "eydvcmRlcl9pZCc6IDM0LCAnY3VzdG9tZXJfaWQnOiA0MTg5LCAnY3VzdG9tZXJfZm5hbWUnOiAnSGVhdGhlcicsICdjdXN0b21lcl9sbmFtZSc6ICdKb2huc29uJywgJ2NpdHknOiAnTG9zIEFuZ2VsZXMnLCAnc3RhdGUnOiA= (truncated)",
         "retail-data-topic-01",
         2,
         5,
         "2025-04-24T06:37:52.504+0000",
         0
        ],
        [
         "ODEzNg==",
         "eydvcmRlcl9pZCc6IDQxLCAnY3VzdG9tZXJfaWQnOiA4MTM2LCAnY3VzdG9tZXJfZm5hbWUnOiAnQ2hhcmxlcycsICdjdXN0b21lcl9sbmFtZSc6ICdTbWl0aCcsICdjaXR5JzogJ1NhaW50IENoYXJsZXMnLCAnc3RhdGUnOiA= (truncated)",
         "retail-data-topic-01",
         2,
         6,
         "2025-04-24T06:38:09.297+0000",
         0
        ],
        [
         "Nzc3Ng==",
         "eydvcmRlcl9pZCc6IDQzLCAnY3VzdG9tZXJfaWQnOiA3Nzc2LCAnY3VzdG9tZXJfZm5hbWUnOiAnSnVsaWUnLCAnY3VzdG9tZXJfbG5hbWUnOiAnU21pdGgnLCAnY2l0eSc6ICdDYWd1YXMnLCAnc3RhdGUnOiAnUFInLCAncGk= (truncated)",
         "retail-data-topic-01",
         2,
         7,
         "2025-04-24T06:38:14.827+0000",
         0
        ],
        [
         "NTU3OQ==",
         "eydvcmRlcl9pZCc6IDY0LCAnY3VzdG9tZXJfaWQnOiA1NTc5LCAnY3VzdG9tZXJfZm5hbWUnOiAnTWFyeScsICdjdXN0b21lcl9sbmFtZSc6ICdIdXJsZXknLCAnY2l0eSc6ICdFbGdpbicsICdzdGF0ZSc6ICdJTCcsICdwaW4= (truncated)",
         "retail-data-topic-01",
         2,
         8,
         "2025-04-24T06:38:58.729+0000",
         0
        ],
        [
         "NDMyMA==",
         "eydvcmRlcl9pZCc6IDY4LCAnY3VzdG9tZXJfaWQnOiA0MzIwLCAnY3VzdG9tZXJfZm5hbWUnOiAnSm9yZGFuJywgJ2N1c3RvbWVyX2xuYW1lJzogJ1RheWxvcicsICdjaXR5JzogJ0NhZ3VhcycsICdzdGF0ZSc6ICdQUicsICc= (truncated)",
         "retail-data-topic-01",
         2,
         9,
         "2025-04-24T06:39:09.891+0000",
         0
        ],
        [
         "NzkxNQ==",
         "eydvcmRlcl9pZCc6IDc3LCAnY3VzdG9tZXJfaWQnOiA3OTE1LCAnY3VzdG9tZXJfZm5hbWUnOiAnSnVzdGluJywgJ2N1c3RvbWVyX2xuYW1lJzogJ011cnBoeScsICdjaXR5JzogJ0NhZ3VhcycsICdzdGF0ZSc6ICdQUicsICc= (truncated)",
         "retail-data-topic-01",
         2,
         10,
         "2025-04-24T06:39:31.498+0000",
         0
        ],
        [
         "MTI2NQ==",
         "eydvcmRlcl9pZCc6IDgzLCAnY3VzdG9tZXJfaWQnOiAxMjY1LCAnY3VzdG9tZXJfZm5hbWUnOiAnQWxiZXJ0JywgJ2N1c3RvbWVyX2xuYW1lJzogJ0pvbmVzJywgJ2NpdHknOiAnU2FuIEZyYW5jaXNjbycsICdzdGF0ZSc6ICc= (truncated)",
         "retail-data-topic-01",
         2,
         11,
         "2025-04-24T06:39:37.030+0000",
         0
        ],
        [
         "NjkzMg==",
         "eydvcmRlcl9pZCc6IDkyLCAnY3VzdG9tZXJfaWQnOiA2OTMyLCAnY3VzdG9tZXJfZm5hbWUnOiAnRXZlbHluJywgJ2N1c3RvbWVyX2xuYW1lJzogJ0hlcnJpbmcnLCAnY2l0eSc6ICdCcm9va2x5bicsICdzdGF0ZSc6ICdOWSc= (truncated)",
         "retail-data-topic-01",
         2,
         12,
         "2025-04-24T06:39:50.627+0000",
         0
        ],
        [
         "MTIxMzE=",
         "eydvcmRlcl9pZCc6IDEwMCwgJ2N1c3RvbWVyX2lkJzogMTIxMzEsICdjdXN0b21lcl9mbmFtZSc6ICdEb3VnbGFzJywgJ2N1c3RvbWVyX2xuYW1lJzogJ1NtaXRoJywgJ2NpdHknOiAnRXZlcmV0dCcsICdzdGF0ZSc6ICdXQSc= (truncated)",
         "retail-data-topic-01",
         2,
         13,
         "2025-04-24T06:40:12.257+0000",
         0
        ],
        [
         "MTg0NQ==",
         "eydvcmRlcl9pZCc6IDEwNywgJ2N1c3RvbWVyX2lkJzogMTg0NSwgJ2N1c3RvbWVyX2ZuYW1lJzogJ01hcnknLCAnY3VzdG9tZXJfbG5hbWUnOiAnSm9uZXMnLCAnY2l0eSc6ICdZb3JrJywgJ3N0YXRlJzogJ1BBJywgJ3BpbmM= (truncated)",
         "retail-data-topic-01",
         2,
         14,
         "2025-04-24T06:40:28.557+0000",
         0
        ],
        [
         "NTY1Nw==",
         "eydvcmRlcl9pZCc6IDksICdjdXN0b21lcl9pZCc6IDU2NTcsICdjdXN0b21lcl9mbmFtZSc6ICdNYXJ5JywgJ2N1c3RvbWVyX2xuYW1lJzogJ0phbWVzJywgJ2NpdHknOiAnTGFrZXdvb2QnLCAnc3RhdGUnOiAnT0gnLCAncGk= (truncated)",
         "retail-data-topic-01",
         2,
         15,
         "2025-04-24T08:00:15.957+0000",
         0
        ],
        [
         "NTY0OA==",
         "eydvcmRlcl9pZCc6IDEwLCAnY3VzdG9tZXJfaWQnOiA1NjQ4LCAnY3VzdG9tZXJfZm5hbWUnOiAnSm9zaHVhJywgJ2N1c3RvbWVyX2xuYW1lJzogJ1NtaXRoJywgJ2NpdHknOiAnTWVtcGhpcycsICdzdGF0ZSc6ICdUTicsICc= (truncated)",
         "retail-data-topic-01",
         2,
         16,
         "2025-04-24T08:00:21.539+0000",
         0
        ],
        [
         "OTg0Mg==",
         "eydvcmRlcl9pZCc6IDE0LCAnY3VzdG9tZXJfaWQnOiA5ODQyLCAnY3VzdG9tZXJfZm5hbWUnOiAnTWFyeScsICdjdXN0b21lcl9sbmFtZSc6ICdTbWl0aCcsICdjaXR5JzogJ0NhZ3VhcycsICdzdGF0ZSc6ICdQUicsICdwaW4= (truncated)",
         "retail-data-topic-01",
         2,
         17,
         "2025-04-24T08:00:36.195+0000",
         0
        ],
        [
         "NTY1Nw==",
         "eydvcmRlcl9pZCc6IDksICdjdXN0b21lcl9pZCc6IDU2NTcsICdjdXN0b21lcl9mbmFtZSc6ICdNYXJ5JywgJ2N1c3RvbWVyX2xuYW1lJzogJ0phbWVzJywgJ2NpdHknOiAnTGFrZXdvb2QnLCAnc3RhdGUnOiAnT0gnLCAncGk= (truncated)",
         "retail-data-topic-01",
         2,
         18,
         "2025-04-24T09:22:37.935+0000",
         0
        ],
        [
         "NTY0OA==",
         "eydvcmRlcl9pZCc6IDEwLCAnY3VzdG9tZXJfaWQnOiA1NjQ4LCAnY3VzdG9tZXJfZm5hbWUnOiAnSm9zaHVhJywgJ2N1c3RvbWVyX2xuYW1lJzogJ1NtaXRoJywgJ2NpdHknOiAnTWVtcGhpcycsICdzdGF0ZSc6ICdUTicsICc= (truncated)",
         "retail-data-topic-01",
         2,
         19,
         "2025-04-24T09:22:43.098+0000",
         0
        ],
        [
         "OTg0Mg==",
         "eydvcmRlcl9pZCc6IDE0LCAnY3VzdG9tZXJfaWQnOiA5ODQyLCAnY3VzdG9tZXJfZm5hbWUnOiAnTWFyeScsICdjdXN0b21lcl9sbmFtZSc6ICdTbWl0aCcsICdjaXR5JzogJ0NhZ3VhcycsICdzdGF0ZSc6ICdQUicsICdwaW4= (truncated)",
         "retail-data-topic-01",
         2,
         20,
         "2025-04-24T09:22:47.952+0000",
         0
        ],
        [
         "MzI0MQ==",
         "eydvcmRlcl9pZCc6IDI3LCAnY3VzdG9tZXJfaWQnOiAzMjQxLCAnY3VzdG9tZXJfZm5hbWUnOiAnV2lsbGllJywgJ2N1c3RvbWVyX2xuYW1lJzogJ1NtaXRoJywgJ2NpdHknOiAnQ2FndWFzJywgJ3N0YXRlJzogJ1BSJywgJ3A= (truncated)",
         "retail-data-topic-01",
         2,
         21,
         "2025-04-24T09:22:55.573+0000",
         0
        ],
        [
         "NDE4OQ==",
         "eydvcmRlcl9pZCc6IDM0LCAnY3VzdG9tZXJfaWQnOiA0MTg5LCAnY3VzdG9tZXJfZm5hbWUnOiAnSGVhdGhlcicsICdjdXN0b21lcl9sbmFtZSc6ICdKb2huc29uJywgJ2NpdHknOiAnTG9zIEFuZ2VsZXMnLCAnc3RhdGUnOiA= (truncated)",
         "retail-data-topic-01",
         2,
         22,
         "2025-04-24T09:22:59.518+0000",
         0
        ],
        [
         "ODEzNg==",
         "eydvcmRlcl9pZCc6IDQxLCAnY3VzdG9tZXJfaWQnOiA4MTM2LCAnY3VzdG9tZXJfZm5hbWUnOiAnQ2hhcmxlcycsICdjdXN0b21lcl9sbmFtZSc6ICdTbWl0aCcsICdjaXR5JzogJ1NhaW50IENoYXJsZXMnLCAnc3RhdGUnOiA= (truncated)",
         "retail-data-topic-01",
         2,
         23,
         "2025-04-24T09:23:03.450+0000",
         0
        ],
        [
         "Nzc3Ng==",
         "eydvcmRlcl9pZCc6IDQzLCAnY3VzdG9tZXJfaWQnOiA3Nzc2LCAnY3VzdG9tZXJfZm5hbWUnOiAnSnVsaWUnLCAnY3VzdG9tZXJfbG5hbWUnOiAnU21pdGgnLCAnY2l0eSc6ICdDYWd1YXMnLCAnc3RhdGUnOiAnUFInLCAncGk= (truncated)",
         "retail-data-topic-01",
         2,
         24,
         "2025-04-24T09:23:04.859+0000",
         0
        ],
        [
         "MjU2",
         "eyJvcmRlcl9pZCI6MiwiY3VzdG9tZXJfaWQiOjI1NiwiY3VzdG9tZXJfZm5hbWUiOiJEYXZpZCIsImN1c3RvbWVyX2xuYW1lIjoiUm9kcmlndWV6IiwiY2l0eSI6IkNoaWNhZ28iLCJzdGF0ZSI6IklMIiwicGluY29kZSI6NjA= (truncated)",
         "retail-data-topic-01",
         1,
         0,
         "2025-04-24T06:20:13.564+0000",
         0
        ],
        [
         "MjU2",
         "eyJvcmRlcl9pZCI6MiwiY3VzdG9tZXJfaWQiOjI1NiwiY3VzdG9tZXJfZm5hbWUiOiJEYXZpZCIsImN1c3RvbWVyX2xuYW1lIjoiUm9kcmlndWV6IiwiY2l0eSI6IkNoaWNhZ28iLCJzdGF0ZSI6IklMIiwicGluY29kZSI6NjA= (truncated)",
         "retail-data-topic-01",
         1,
         1,
         "2025-04-24T06:24:05.359+0000",
         0
        ],
        [
         "MjU2",
         "eyJvcmRlcl9pZCI6MiwiY3VzdG9tZXJfaWQiOjI1NiwiY3VzdG9tZXJfZm5hbWUiOiJEYXZpZCIsImN1c3RvbWVyX2xuYW1lIjoiUm9kcmlndWV6IiwiY2l0eSI6IkNoaWNhZ28iLCJzdGF0ZSI6IklMIiwicGluY29kZSI6NjA= (truncated)",
         "retail-data-topic-01",
         1,
         2,
         "2025-04-24T06:26:50.822+0000",
         0
        ],
        [
         "MjU2",
         "eyJvcmRlcl9pZCI6MiwiY3VzdG9tZXJfaWQiOjI1NiwiY3VzdG9tZXJfZm5hbWUiOiJEYXZpZCIsImN1c3RvbWVyX2xuYW1lIjoiUm9kcmlndWV6IiwiY2l0eSI6IkNoaWNhZ28iLCJzdGF0ZSI6IklMIiwicGluY29kZSI6NjA= (truncated)",
         "retail-data-topic-01",
         1,
         3,
         "2025-04-24T06:27:31.889+0000",
         0
        ],
        [
         "MjU2",
         "eyJvcmRlcl9pZCI6MiwiY3VzdG9tZXJfaWQiOjI1NiwiY3VzdG9tZXJfZm5hbWUiOiJEYXZpZCIsImN1c3RvbWVyX2xuYW1lIjoiUm9kcmlndWV6IiwiY2l0eSI6IkNoaWNhZ28iLCJzdGF0ZSI6IklMIiwicGluY29kZSI6NjA= (truncated)",
         "retail-data-topic-01",
         1,
         4,
         "2025-04-24T06:28:03.361+0000",
         0
        ],
        [
         "MjU2",
         "eyJvcmRlcl9pZCI6MiwiY3VzdG9tZXJfaWQiOjI1NiwiY3VzdG9tZXJfZm5hbWUiOiJEYXZpZCIsImN1c3RvbWVyX2xuYW1lIjoiUm9kcmlndWV6IiwiY2l0eSI6IkNoaWNhZ28iLCJzdGF0ZSI6IklMIiwicGluY29kZSI6NjA= (truncated)",
         "retail-data-topic-01",
         1,
         5,
         "2025-04-24T06:32:06.916+0000",
         0
        ],
        [
         "MjU2",
         "eyJvcmRlcl9pZCI6MiwiY3VzdG9tZXJfaWQiOjI1NiwiY3VzdG9tZXJfZm5hbWUiOiJEYXZpZCIsImN1c3RvbWVyX2xuYW1lIjoiUm9kcmlndWV6IiwiY2l0eSI6IkNoaWNhZ28iLCJzdGF0ZSI6IklMIiwicGluY29kZSI6NjA= (truncated)",
         "retail-data-topic-01",
         1,
         6,
         "2025-04-24T06:32:19.271+0000",
         0
        ],
        [
         "MjU2",
         "eyJvcmRlcl9pZCI6MiwiY3VzdG9tZXJfaWQiOjI1NiwiY3VzdG9tZXJfZm5hbWUiOiJEYXZpZCIsImN1c3RvbWVyX2xuYW1lIjoiUm9kcmlndWV6IiwiY2l0eSI6IkNoaWNhZ28iLCJzdGF0ZSI6IklMIiwicGluY29kZSI6NjA= (truncated)",
         "retail-data-topic-01",
         1,
         7,
         "2025-04-24T06:32:45.420+0000",
         0
        ],
        [
         "MjU2",
         "eydvcmRlcl9pZCc6IDIsICdjdXN0b21lcl9pZCc6IDI1NiwgJ2N1c3RvbWVyX2ZuYW1lJzogJ0RhdmlkJywgJ2N1c3RvbWVyX2xuYW1lJzogJ1JvZHJpZ3VleicsICdjaXR5JzogJ0NoaWNhZ28nLCAnc3RhdGUnOiAnSUwnLCA= (truncated)",
         "retail-data-topic-01",
         1,
         8,
         "2025-04-24T06:36:28.334+0000",
         0
        ],
        [
         "NDUzMA==",
         "eydvcmRlcl9pZCc6IDcsICdjdXN0b21lcl9pZCc6IDQ1MzAsICdjdXN0b21lcl9mbmFtZSc6ICdNYXJ5JywgJ2N1c3RvbWVyX2xuYW1lJzogJ1NtaXRoJywgJ2NpdHknOiAnTWlhbWknLCAnc3RhdGUnOiAnRkwnLCAncGluY28= (truncated)",
         "retail-data-topic-01",
         1,
         9,
         "2025-04-24T06:36:40.515+0000",
         0
        ],
        [
         "OTE4",
         "eydvcmRlcl9pZCc6IDExLCAnY3VzdG9tZXJfaWQnOiA5MTgsICdjdXN0b21lcl9mbmFtZSc6ICdOYXRoYW4nLCAnY3VzdG9tZXJfbG5hbWUnOiAnU21pdGgnLCAnY2l0eSc6ICdDYWd1YXMnLCAnc3RhdGUnOiAnUFInLCAncGk= (truncated)",
         "retail-data-topic-01",
         1,
         10,
         "2025-04-24T06:36:55.442+0000",
         0
        ],
        [
         "OTE0OQ==",
         "eydvcmRlcl9pZCc6IDEzLCAnY3VzdG9tZXJfaWQnOiA5MTQ5LCAnY3VzdG9tZXJfZm5hbWUnOiAnUm9uYWxkJywgJ2N1c3RvbWVyX2xuYW1lJzogJ1doaXRlaGVhZCcsICdjaXR5JzogJ1NhbnRhIEFuYScsICdzdGF0ZSc6ICc= (truncated)",
         "retail-data-topic-01",
         1,
         11,
         "2025-04-24T06:37:02.818+0000",
         0
        ],
        [
         "NzI3Ng==",
         "eydvcmRlcl9pZCc6IDE2LCAnY3VzdG9tZXJfaWQnOiA3Mjc2LCAnY3VzdG9tZXJfZm5hbWUnOiAnUGFtZWxhJywgJ2N1c3RvbWVyX2xuYW1lJzogJ1NtaXRoJywgJ2NpdHknOiAnQ2FndWFzJywgJ3N0YXRlJzogJ1BSJywgJ3A= (truncated)",
         "retail-data-topic-01",
         1,
         12,
         "2025-04-24T06:37:11.223+0000",
         0
        ],
        [
         "NDM2Nw==",
         "eydvcmRlcl9pZCc6IDIzLCAnY3VzdG9tZXJfaWQnOiA0MzY3LCAnY3VzdG9tZXJfZm5hbWUnOiAnRGFuaWVsbGUnLCAnY3VzdG9tZXJfbG5hbWUnOiAnTW9yYW4nLCAnY2l0eSc6ICdTcHJpbmdmaWVsZCcsICdzdGF0ZSc6ICc= (truncated)",
         "retail-data-topic-01",
         1,
         13,
         "2025-04-24T06:37:27.800+0000",
         0
        ],
        [
         "OTc3Ng==",
         "eydvcmRlcl9pZCc6IDQyLCAnY3VzdG9tZXJfaWQnOiA5Nzc2LCAnY3VzdG9tZXJfZm5hbWUnOiAnRGlhbmUnLCAnY3VzdG9tZXJfbG5hbWUnOiAnRGF2aXMnLCAnY2l0eSc6ICdFbmRpY290dCcsICdzdGF0ZSc6ICdOWScsICc= (truncated)",
         "retail-data-topic-01",
         1,
         14,
         "2025-04-24T06:38:12.035+0000",
         0
        ],
        [
         "MTA1MTk=",
         "eydvcmRlcl9pZCc6IDU2LCAnY3VzdG9tZXJfaWQnOiAxMDUxOSwgJ2N1c3RvbWVyX2ZuYW1lJzogJ01hcnknLCAnY3VzdG9tZXJfbG5hbWUnOiAnU21pdGgnLCAnY2l0eSc6ICdDYWd1YXMnLCAnc3RhdGUnOiAnUFInLCAncGk= (truncated)",
         "retail-data-topic-01",
         1,
         15,
         "2025-04-24T06:38:39.823+0000",
         0
        ],
        [
         "NTkwMw==",
         "eydvcmRlcl9pZCc6IDY1LCAnY3VzdG9tZXJfaWQnOiA1OTAzLCAnY3VzdG9tZXJfZm5hbWUnOiAnVmlyZ2luaWEnLCAnY3VzdG9tZXJfbG5hbWUnOiAnU21pdGgnLCAnY2l0eSc6ICdBbnRpb2NoJywgJ3N0YXRlJzogJ1ROJyw= (truncated)",
         "retail-data-topic-01",
         1,
         16,
         "2025-04-24T06:39:01.595+0000",
         0
        ],
        [
         "MTc5Mg==",
         "eydvcmRlcl9pZCc6IDY2LCAnY3VzdG9tZXJfaWQnOiAxNzkyLCAnY3VzdG9tZXJfZm5hbWUnOiAnUm95JywgJ2N1c3RvbWVyX2xuYW1lJzogJ1JvZHJpZ3VleicsICdjaXR5JzogJ0plcnNleSBDaXR5JywgJ3N0YXRlJzogJ04= (truncated)",
         "retail-data-topic-01",
         1,
         17,
         "2025-04-24T06:39:04.397+0000",
         0
        ],
        [
         "ODUwNA==",
         "eydvcmRlcl9pZCc6IDczLCAnY3VzdG9tZXJfaWQnOiA4NTA0LCAnY3VzdG9tZXJfZm5hbWUnOiAnTWFyeScsICdjdXN0b21lcl9sbmFtZSc6ICdEYXZpcycsICdjaXR5JzogJ1ZpcmdpbmlhIEJlYWNoJywgJ3N0YXRlJzogJ1Y= (truncated)",
         "retail-data-topic-01",
         1,
         18,
         "2025-04-24T06:39:23.492+0000",
         0
        ],
        [
         "ODY4Mw==",
         "eydvcmRlcl9pZCc6IDk2LCAnY3VzdG9tZXJfaWQnOiA4NjgzLCAnY3VzdG9tZXJfZm5hbWUnOiAnU2FtYW50aGEnLCAnY3VzdG9tZXJfbG5hbWUnOiAnU21pdGgnLCAnY2l0eSc6ICdCcmlnaHRvbicsICdzdGF0ZSc6ICdNQSc= (truncated)",
         "retail-data-topic-01",
         1,
         19,
         "2025-04-24T06:40:01.437+0000",
         0
        ],
        [
         "MjU2",
         "eydvcmRlcl9pZCc6IDIsICdjdXN0b21lcl9pZCc6IDI1NiwgJ2N1c3RvbWVyX2ZuYW1lJzogJ0RhdmlkJywgJ2N1c3RvbWVyX2xuYW1lJzogJ1JvZHJpZ3VleicsICdjaXR5JzogJ0NoaWNhZ28nLCAnc3RhdGUnOiAnSUwnLCA= (truncated)",
         "retail-data-topic-01",
         1,
         20,
         "2025-04-24T07:59:52.206+0000",
         0
        ],
        [
         "NDUzMA==",
         "eydvcmRlcl9pZCc6IDcsICdjdXN0b21lcl9pZCc6IDQ1MzAsICdjdXN0b21lcl9mbmFtZSc6ICdNYXJ5JywgJ2N1c3RvbWVyX2xuYW1lJzogJ1NtaXRoJywgJ2NpdHknOiAnTWlhbWknLCAnc3RhdGUnOiAnRkwnLCAncGluY28= (truncated)",
         "retail-data-topic-01",
         1,
         21,
         "2025-04-24T08:00:07.290+0000",
         0
        ],
        [
         "OTE4",
         "eydvcmRlcl9pZCc6IDExLCAnY3VzdG9tZXJfaWQnOiA5MTgsICdjdXN0b21lcl9mbmFtZSc6ICdOYXRoYW4nLCAnY3VzdG9tZXJfbG5hbWUnOiAnU21pdGgnLCAnY2l0eSc6ICdDYWd1YXMnLCAnc3RhdGUnOiAnUFInLCAncGk= (truncated)",
         "retail-data-topic-01",
         1,
         22,
         "2025-04-24T08:00:24.427+0000",
         0
        ],
        [
         "OTE0OQ==",
         "eydvcmRlcl9pZCc6IDEzLCAnY3VzdG9tZXJfaWQnOiA5MTQ5LCAnY3VzdG9tZXJfZm5hbWUnOiAnUm9uYWxkJywgJ2N1c3RvbWVyX2xuYW1lJzogJ1doaXRlaGVhZCcsICdjaXR5JzogJ1NhbnRhIEFuYScsICdzdGF0ZSc6ICc= (truncated)",
         "retail-data-topic-01",
         1,
         23,
         "2025-04-24T08:00:33.246+0000",
         0
        ],
        [
         "NzI3Ng==",
         "eydvcmRlcl9pZCc6IDE2LCAnY3VzdG9tZXJfaWQnOiA3Mjc2LCAnY3VzdG9tZXJfZm5hbWUnOiAnUGFtZWxhJywgJ2N1c3RvbWVyX2xuYW1lJzogJ1NtaXRoJywgJ2NpdHknOiAnQ2FndWFzJywgJ3N0YXRlJzogJ1BSJywgJ3A= (truncated)",
         "retail-data-topic-01",
         1,
         24,
         "2025-04-24T08:00:42.090+0000",
         0
        ],
        [
         "MjU2",
         "eydvcmRlcl9pZCc6IDIsICdjdXN0b21lcl9pZCc6IDI1NiwgJ2N1c3RvbWVyX2ZuYW1lJzogJ0RhdmlkJywgJ2N1c3RvbWVyX2xuYW1lJzogJ1JvZHJpZ3VleicsICdjaXR5JzogJ0NoaWNhZ28nLCAnc3RhdGUnOiAnSUwnLCA= (truncated)",
         "retail-data-topic-01",
         1,
         25,
         "2025-04-24T09:22:21.033+0000",
         0
        ],
        [
         "NDUzMA==",
         "eydvcmRlcl9pZCc6IDcsICdjdXN0b21lcl9pZCc6IDQ1MzAsICdjdXN0b21lcl9mbmFtZSc6ICdNYXJ5JywgJ2N1c3RvbWVyX2xuYW1lJzogJ1NtaXRoJywgJ2NpdHknOiAnTWlhbWknLCAnc3RhdGUnOiAnRkwnLCAncGluY28= (truncated)",
         "retail-data-topic-01",
         1,
         26,
         "2025-04-24T09:22:32.651+0000",
         0
        ],
        [
         "OTE4",
         "eydvcmRlcl9pZCc6IDExLCAnY3VzdG9tZXJfaWQnOiA5MTgsICdjdXN0b21lcl9mbmFtZSc6ICdOYXRoYW4nLCAnY3VzdG9tZXJfbG5hbWUnOiAnU21pdGgnLCAnY2l0eSc6ICdDYWd1YXMnLCAnc3RhdGUnOiAnUFInLCAncGk= (truncated)",
         "retail-data-topic-01",
         1,
         27,
         "2025-04-24T09:22:43.798+0000",
         0
        ],
        [
         "OTE0OQ==",
         "eydvcmRlcl9pZCc6IDEzLCAnY3VzdG9tZXJfaWQnOiA5MTQ5LCAnY3VzdG9tZXJfZm5hbWUnOiAnUm9uYWxkJywgJ2N1c3RvbWVyX2xuYW1lJzogJ1doaXRlaGVhZCcsICdjaXR5JzogJ1NhbnRhIEFuYScsICdzdGF0ZSc6ICc= (truncated)",
         "retail-data-topic-01",
         1,
         28,
         "2025-04-24T09:22:47.241+0000",
         0
        ],
        [
         "NzI3Ng==",
         "eydvcmRlcl9pZCc6IDE2LCAnY3VzdG9tZXJfaWQnOiA3Mjc2LCAnY3VzdG9tZXJfZm5hbWUnOiAnUGFtZWxhJywgJ2N1c3RvbWVyX2xuYW1lJzogJ1NtaXRoJywgJ2NpdHknOiAnQ2FndWFzJywgJ3N0YXRlJzogJ1BSJywgJ3A= (truncated)",
         "retail-data-topic-01",
         1,
         29,
         "2025-04-24T09:22:49.363+0000",
         0
        ],
        [
         "NDM2Nw==",
         "eydvcmRlcl9pZCc6IDIzLCAnY3VzdG9tZXJfaWQnOiA0MzY3LCAnY3VzdG9tZXJfZm5hbWUnOiAnRGFuaWVsbGUnLCAnY3VzdG9tZXJfbG5hbWUnOiAnTW9yYW4nLCAnY2l0eSc6ICdTcHJpbmdmaWVsZCcsICdzdGF0ZSc6ICc= (truncated)",
         "retail-data-topic-01",
         1,
         30,
         "2025-04-24T09:22:53.437+0000",
         0
        ],
        [
         "OTc3Ng==",
         "eydvcmRlcl9pZCc6IDQyLCAnY3VzdG9tZXJfaWQnOiA5Nzc2LCAnY3VzdG9tZXJfZm5hbWUnOiAnRGlhbmUnLCAnY3VzdG9tZXJfbG5hbWUnOiAnRGF2aXMnLCAnY2l0eSc6ICdFbmRpY290dCcsICdzdGF0ZSc6ICdOWScsICc= (truncated)",
         "retail-data-topic-01",
         1,
         31,
         "2025-04-24T09:23:04.150+0000",
         0
        ],
        [
         "MTA1MTk=",
         "eydvcmRlcl9pZCc6IDU2LCAnY3VzdG9tZXJfaWQnOiAxMDUxOSwgJ2N1c3RvbWVyX2ZuYW1lJzogJ01hcnknLCAnY3VzdG9tZXJfbG5hbWUnOiAnU21pdGgnLCAnY2l0eSc6ICdDYWd1YXMnLCAnc3RhdGUnOiAnUFInLCAncGk= (truncated)",
         "retail-data-topic-01",
         1,
         32,
         "2025-04-24T09:23:11.251+0000",
         0
        ],
        [
         "MTIz",
         "eyJvcmRlcl9pZCI6MSwiY3VzdG9tZXJfaWQiOjExNTk5LCJjdXN0b21lcl9mbmFtZSI6Ik1hcnkiLCJjdXN0b21lcl9sbmFtZSI6Ik1hbG9uZSIsImNpdHkiOiJIaWNrb3J5Iiwic3RhdGUiOiJOQyIsInBpbmNvZGUiOjI4NjA= (truncated)",
         "retail-data-topic-01",
         5,
         0,
         "2025-04-23T05:56:30.775+0000",
         0
        ],
        [
         "MTIz",
         "eyJvcmRlcl9pZCI6MiwiY3VzdG9tZXJfaWQiOjI1NiwiY3VzdG9tZXJfZm5hbWUiOiJEYXZpZCIsImN1c3RvbWVyX2xuYW1lIjoiUm9kcmlndWV6IiwiY2l0eSI6IkNoaWNhZ28iLCJzdGF0ZSI6IklMIiwicGluY29kZSI6NjA= (truncated)",
         "retail-data-topic-01",
         5,
         1,
         "2025-04-23T05:57:57.707+0000",
         0
        ],
        [
         "MTIz",
         "eyJvcmRlcl9pZCI6NCwiY3VzdG9tZXJfaWQiOjg4MjcsImN1c3RvbWVyX2ZuYW1lIjoiQnJpYW4iLCJjdXN0b21lcl9sbmFtZSI6IldpbHNvbiIsImNpdHkiOiJTYW4gQW50b25pbyIsInN0YXRlIjoiVFgiLCJwaW5jb2RlIjo= (truncated)",
         "retail-data-topic-01",
         5,
         2,
         "2025-04-23T05:58:40.129+0000",
         0
        ],
        [
         "MjkxMQ==",
         "eydvcmRlcl9pZCc6IDgsICdjdXN0b21lcl9pZCc6IDI5MTEsICdjdXN0b21lcl9mbmFtZSc6ICdNYXJ5JywgJ2N1c3RvbWVyX2xuYW1lJzogJ1NtaXRoJywgJ2NpdHknOiAnQ2FndWFzJywgJ3N0YXRlJzogJ1BSJywgJ3BpbmM= (truncated)",
         "retail-data-topic-01",
         5,
         3,
         "2025-04-24T06:36:43.359+0000",
         0
        ],
        [
         "MjcxMQ==",
         "eydvcmRlcl9pZCc6IDIxLCAnY3VzdG9tZXJfaWQnOiAyNzExLCAnY3VzdG9tZXJfZm5hbWUnOiAnQWxpY2UnLCAnY3VzdG9tZXJfbG5hbWUnOiAnUm9kcmlndWV6JywgJ2NpdHknOiAnQnJvbngnLCAnc3RhdGUnOiAnTlknLCA= (truncated)",
         "retail-data-topic-01",
         5,
         4,
         "2025-04-24T06:37:25.091+0000",
         0
        ],
        [
         "OTUwMw==",
         "eydvcmRlcl9pZCc6IDI1LCAnY3VzdG9tZXJfaWQnOiA5NTAzLCAnY3VzdG9tZXJfZm5hbWUnOiAnTWFyeScsICdjdXN0b21lcl9sbmFtZSc6ICdGaXR6cGF0cmljaycsICdjaXR5JzogJ09ybGFuZG8nLCAnc3RhdGUnOiAnRkw= (truncated)",
         "retail-data-topic-01",
         5,
         5,
         "2025-04-24T06:37:33.560+0000",
         0
        ],
        [
         "NDg0MA==",
         "eydvcmRlcl9pZCc6IDM1LCAnY3VzdG9tZXJfaWQnOiA0ODQwLCAnY3VzdG9tZXJfZm5hbWUnOiAnTWFyeScsICdjdXN0b21lcl9sbmFtZSc6ICdNYXJzaGFsbCcsICdjaXR5JzogJ0lydmluZycsICdzdGF0ZSc6ICdUWCcsICc= (truncated)",
         "retail-data-topic-01",
         5,
         6,
         "2025-04-24T06:37:55.242+0000",
         0
        ],
        [
         "ODIxNA==",
         "eydvcmRlcl9pZCc6IDM5LCAnY3VzdG9tZXJfaWQnOiA4MjE0LCAnY3VzdG9tZXJfZm5hbWUnOiAnTWFyeScsICdjdXN0b21lcl9sbmFtZSc6ICdTbWl0aCcsICdjaXR5JzogJ05vcnRoIEhpbGxzJywgJ3N0YXRlJzogJ0NBJyw= (truncated)",
         "retail-data-topic-01",
         5,
         7,
         "2025-04-24T06:38:06.586+0000",
         0
        ],
        [
         "MjYzNg==",
         "eydvcmRlcl9pZCc6IDQ1LCAnY3VzdG9tZXJfaWQnOiAyNjM2LCAnY3VzdG9tZXJfZm5hbWUnOiAnQ2hyaXN0aWFuJywgJ2N1c3RvbWVyX2xuYW1lJzogJ1NtaXRoJywgJ2NpdHknOiAnQ2FndWFzJywgJ3N0YXRlJzogJ1BSJyw= (truncated)",
         "retail-data-topic-01",
         5,
         8,
         "2025-04-24T06:38:20.364+0000",
         0
        ],
        [
         "OTIxMw==",
         "eydvcmRlcl9pZCc6IDU4LCAnY3VzdG9tZXJfaWQnOiA5MjEzLCAnY3VzdG9tZXJfZm5hbWUnOiAnSmVubmlmZXInLCAnY3VzdG9tZXJfbG5hbWUnOiAnV2lsbGlhbXNvbicsICdjaXR5JzogJ1JpbyBHcmFuZGUnLCAnc3RhdGU= (truncated)",
         "retail-data-topic-01",
         5,
         9,
         "2025-04-24T06:38:45.316+0000",
         0
        ],
        [
         "MTE2NDQ=",
         "eydvcmRlcl9pZCc6IDU5LCAnY3VzdG9tZXJfaWQnOiAxMTY0NCwgJ2N1c3RvbWVyX2ZuYW1lJzogJ01pbGRyZWQnLCAnY3VzdG9tZXJfbG5hbWUnOiAnU21pdGgnLCAnY2l0eSc6ICdDYWd1YXMnLCAnc3RhdGUnOiAnUFInLCA= (truncated)",
         "retail-data-topic-01",
         5,
         10,
         "2025-04-24T06:38:47.945+0000",
         0
        ],
        [
         "MjI1Ng==",
         "eydvcmRlcl9pZCc6IDkzLCAnY3VzdG9tZXJfaWQnOiAyMjU2LCAnY3VzdG9tZXJfZm5hbWUnOiAnTWFyeScsICdjdXN0b21lcl9sbmFtZSc6ICdTbWl0aCcsICdjaXR5JzogJ1NhbiBKb3NlJywgJ3N0YXRlJzogJ0NBJywgJ3A= (truncated)",
         "retail-data-topic-01",
         5,
         11,
         "2025-04-24T06:39:53.414+0000",
         0
        ],
        [
         "MTA3ODQ=",
         "eydvcmRlcl9pZCc6IDk3LCAnY3VzdG9tZXJfaWQnOiAxMDc4NCwgJ2N1c3RvbWVyX2ZuYW1lJzogJ1JheW1vbmQnLCAnY3VzdG9tZXJfbG5hbWUnOiAnUmVlZCcsICdjaXR5JzogJ0xvdmVsYW5kJywgJ3N0YXRlJzogJ09IJyw= (truncated)",
         "retail-data-topic-01",
         5,
         12,
         "2025-04-24T06:40:04.166+0000",
         0
        ],
        [
         "MTE1NDI=",
         "eydvcmRlcl9pZCc6IDk5LCAnY3VzdG9tZXJfaWQnOiAxMTU0MiwgJ2N1c3RvbWVyX2ZuYW1lJzogJ01hcnknLCAnY3VzdG9tZXJfbG5hbWUnOiAnUGVya2lucycsICdjaXR5JzogJ0NhZ3VhcycsICdzdGF0ZSc6ICdQUicsICc= (truncated)",
         "retail-data-topic-01",
         5,
         13,
         "2025-04-24T06:40:09.628+0000",
         0
        ],
        [
         "NTExNg==",
         "eydvcmRlcl9pZCc6IDEwMSwgJ2N1c3RvbWVyX2lkJzogNTExNiwgJ2N1c3RvbWVyX2ZuYW1lJzogJ0RvcmlzJywgJ2N1c3RvbWVyX2xuYW1lJzogJ1NtaXRoJywgJ2NpdHknOiAnQnJvY2t0b24nLCAnc3RhdGUnOiAnTUEnLCA= (truncated)",
         "retail-data-topic-01",
         5,
         14,
         "2025-04-24T06:40:15.016+0000",
         0
        ],
        [
         "Nzc5MA==",
         "eydvcmRlcl9pZCc6IDEwNCwgJ2N1c3RvbWVyX2lkJzogNzc5MCwgJ2N1c3RvbWVyX2ZuYW1lJzogJ0Vkd2FyZCcsICdjdXN0b21lcl9sbmFtZSc6ICdDYXN0YW5lZGEnLCAnY2l0eSc6ICdGdWxsZXJ0b24nLCAnc3RhdGUnOiA= (truncated)",
         "retail-data-topic-01",
         5,
         15,
         "2025-04-24T06:40:20.453+0000",
         0
        ],
        [
         "ODIyMA==",
         "eydvcmRlcl9pZCc6IDEwNSwgJ2N1c3RvbWVyX2lkJzogODIyMCwgJ2N1c3RvbWVyX2ZuYW1lJzogJ01pY2hhZWwnLCAnY3VzdG9tZXJfbG5hbWUnOiAnU21pdGgnLCAnY2l0eSc6ICdPcmxhbmRvJywgJ3N0YXRlJzogJ0ZMJyw= (truncated)",
         "retail-data-topic-01",
         5,
         16,
         "2025-04-24T06:40:23.110+0000",
         0
        ],
        [
         "MjkxMQ==",
         "eydvcmRlcl9pZCc6IDgsICdjdXN0b21lcl9pZCc6IDI5MTEsICdjdXN0b21lcl9mbmFtZSc6ICdNYXJ5JywgJ2N1c3RvbWVyX2xuYW1lJzogJ1NtaXRoJywgJ2NpdHknOiAnQ2FndWFzJywgJ3N0YXRlJzogJ1BSJywgJ3BpbmM= (truncated)",
         "retail-data-topic-01",
         5,
         17,
         "2025-04-24T08:00:10.179+0000",
         0
        ],
        [
         "MjcxMQ==",
         "eydvcmRlcl9pZCc6IDIxLCAnY3VzdG9tZXJfaWQnOiAyNzExLCAnY3VzdG9tZXJfZm5hbWUnOiAnQWxpY2UnLCAnY3VzdG9tZXJfbG5hbWUnOiAnUm9kcmlndWV6JywgJ2NpdHknOiAnQnJvbngnLCAnc3RhdGUnOiAnTlknLCA= (truncated)",
         "retail-data-topic-01",
         5,
         18,
         "2025-04-24T08:00:57.244+0000",
         0
        ],
        [
         "MjkxMQ==",
         "eydvcmRlcl9pZCc6IDgsICdjdXN0b21lcl9pZCc6IDI5MTEsICdjdXN0b21lcl9mbmFtZSc6ICdNYXJ5JywgJ2N1c3RvbWVyX2xuYW1lJzogJ1NtaXRoJywgJ2NpdHknOiAnQ2FndWFzJywgJ3N0YXRlJzogJ1BSJywgJ3BpbmM= (truncated)",
         "retail-data-topic-01",
         5,
         19,
         "2025-04-24T09:22:33.506+0000",
         0
        ],
        [
         "MjcxMQ==",
         "eydvcmRlcl9pZCc6IDIxLCAnY3VzdG9tZXJfaWQnOiAyNzExLCAnY3VzdG9tZXJfZm5hbWUnOiAnQWxpY2UnLCAnY3VzdG9tZXJfbG5hbWUnOiAnUm9kcmlndWV6JywgJ2NpdHknOiAnQnJvbngnLCAnc3RhdGUnOiAnTlknLCA= (truncated)",
         "retail-data-topic-01",
         5,
         20,
         "2025-04-24T09:22:52.720+0000",
         0
        ],
        [
         "OTUwMw==",
         "eydvcmRlcl9pZCc6IDI1LCAnY3VzdG9tZXJfaWQnOiA5NTAzLCAnY3VzdG9tZXJfZm5hbWUnOiAnTWFyeScsICdjdXN0b21lcl9sbmFtZSc6ICdGaXR6cGF0cmljaycsICdjaXR5JzogJ09ybGFuZG8nLCAnc3RhdGUnOiAnRkw= (truncated)",
         "retail-data-topic-01",
         5,
         21,
         "2025-04-24T09:22:54.854+0000",
         0
        ],
        [
         "NDg0MA==",
         "eydvcmRlcl9pZCc6IDM1LCAnY3VzdG9tZXJfaWQnOiA0ODQwLCAnY3VzdG9tZXJfZm5hbWUnOiAnTWFyeScsICdjdXN0b21lcl9sbmFtZSc6ICdNYXJzaGFsbCcsICdjaXR5JzogJ0lydmluZycsICdzdGF0ZSc6ICdUWCcsICc= (truncated)",
         "retail-data-topic-01",
         5,
         22,
         "2025-04-24T09:23:00.218+0000",
         0
        ],
        [
         "ODIxNA==",
         "eydvcmRlcl9pZCc6IDM5LCAnY3VzdG9tZXJfaWQnOiA4MjE0LCAnY3VzdG9tZXJfZm5hbWUnOiAnTWFyeScsICdjdXN0b21lcl9sbmFtZSc6ICdTbWl0aCcsICdjaXR5JzogJ05vcnRoIEhpbGxzJywgJ3N0YXRlJzogJ0NBJyw= (truncated)",
         "retail-data-topic-01",
         5,
         23,
         "2025-04-24T09:23:02.731+0000",
         0
        ],
        [
         "MjYzNg==",
         "eydvcmRlcl9pZCc6IDQ1LCAnY3VzdG9tZXJfaWQnOiAyNjM2LCAnY3VzdG9tZXJfZm5hbWUnOiAnQ2hyaXN0aWFuJywgJ2N1c3RvbWVyX2xuYW1lJzogJ1NtaXRoJywgJ2NpdHknOiAnQ2FndWFzJywgJ3N0YXRlJzogJ1BSJyw= (truncated)",
         "retail-data-topic-01",
         5,
         24,
         "2025-04-24T09:23:06.266+0000",
         0
        ],
        [
         "OTIxMw==",
         "eydvcmRlcl9pZCc6IDU4LCAnY3VzdG9tZXJfaWQnOiA5MjEzLCAnY3VzdG9tZXJfZm5hbWUnOiAnSmVubmlmZXInLCAnY3VzdG9tZXJfbG5hbWUnOiAnV2lsbGlhbXNvbicsICdjaXR5JzogJ1JpbyBHcmFuZGUnLCAnc3RhdGU= (truncated)",
         "retail-data-topic-01",
         5,
         25,
         "2025-04-24T09:23:12.555+0000",
         0
        ],
        [
         "MTE2NDQ=",
         "eydvcmRlcl9pZCc6IDU5LCAnY3VzdG9tZXJfaWQnOiAxMTY0NCwgJ2N1c3RvbWVyX2ZuYW1lJzogJ01pbGRyZWQnLCAnY3VzdG9tZXJfbG5hbWUnOiAnU21pdGgnLCAnY2l0eSc6ICdDYWd1YXMnLCAnc3RhdGUnOiAnUFInLCA= (truncated)",
         "retail-data-topic-01",
         5,
         26,
         "2025-04-24T09:23:13.273+0000",
         0
        ],
        [
         "MTgzNw==",
         "eydvcmRlcl9pZCc6IDEyLCAnY3VzdG9tZXJfaWQnOiAxODM3LCAnY3VzdG9tZXJfZm5hbWUnOiAnTWFyeScsICdjdXN0b21lcl9sbmFtZSc6ICdWZWdhJywgJ2NpdHknOiAnQ2FndWFzJywgJ3N0YXRlJzogJ1BSJywgJ3BpbmM= (truncated)",
         "retail-data-topic-01",
         3,
         0,
         "2025-04-24T06:36:58.253+0000",
         0
        ],
        [
         "NjU2",
         "eydvcmRlcl9pZCc6IDI4LCAnY3VzdG9tZXJfaWQnOiA2NTYsICdjdXN0b21lcl9mbmFtZSc6ICdKdWxpZScsICdjdXN0b21lcl9sbmFtZSc6ICdTbWl0aCcsICdjaXR5JzogJ1BvbW9uYScsICdzdGF0ZSc6ICdDQScsICdwaW4= (truncated)",
         "retail-data-topic-01",
         3,
         1,
         "2025-04-24T06:37:39.062+0000",
         0
        ],
        [
         "Njk4Mw==",
         "eydvcmRlcl9pZCc6IDMxLCAnY3VzdG9tZXJfaWQnOiA2OTgzLCAnY3VzdG9tZXJfZm5hbWUnOiAnTWFyeScsICdjdXN0b21lcl9sbmFtZSc6ICdCbGFjaycsICdjaXR5JzogJ0NhZ3VhcycsICdzdGF0ZSc6ICdQUicsICdwaW4= (truncated)",
         "retail-data-topic-01",
         3,
         2,
         "2025-04-24T06:37:47.111+0000",
         0
        ],
        [
         "NTIyNQ==",
         "eydvcmRlcl9pZCc6IDUwLCAnY3VzdG9tZXJfaWQnOiA1MjI1LCAnY3VzdG9tZXJfZm5hbWUnOiAnTWFyeScsICdjdXN0b21lcl9sbmFtZSc6ICdTbWl0aCcsICdjaXR5JzogJ1BlYWJvZHknLCAnc3RhdGUnOiAnTUEnLCAncGk= (truncated)",
         "retail-data-topic-01",
         3,
         3,
         "2025-04-24T06:38:31.493+0000",
         0
        ],
        [
         "MTIyNzE=",
         "eydvcmRlcl9pZCc6IDUxLCAnY3VzdG9tZXJfaWQnOiAxMjI3MSwgJ2N1c3RvbWVyX2ZuYW1lJzogJ01hcnknLCAnY3VzdG9tZXJfbG5hbWUnOiAnU21hbGwnLCAnY2l0eSc6ICdPbnRhcmlvJywgJ3N0YXRlJzogJ0NBJywgJ3A= (truncated)",
         "retail-data-topic-01",
         3,
         4,
         "2025-04-24T06:38:34.243+0000",
         0
        ],
        [
         "NDc5MQ==",
         "eydvcmRlcl9pZCc6IDYxLCAnY3VzdG9tZXJfaWQnOiA0NzkxLCAnY3VzdG9tZXJfZm5hbWUnOiAnTWFyeScsICdjdXN0b21lcl9sbmFtZSc6ICdQYXR0b24nLCAnY2l0eSc6ICdIaWFsZWFoJywgJ3N0YXRlJzogJ0ZMJywgJ3A= (truncated)",
         "retail-data-topic-01",
         3,
         5,
         "2025-04-24T06:38:50.624+0000",
         0
        ],
        [
         "MjgyMQ==",
         "eydvcmRlcl9pZCc6IDY5LCAnY3VzdG9tZXJfaWQnOiAyODIxLCAnY3VzdG9tZXJfZm5hbWUnOiAnTWFyeScsICdjdXN0b21lcl9sbmFtZSc6ICdXaWxsaWFtcycsICdjaXR5JzogJ1NhbnRhIEFuYScsICdzdGF0ZSc6ICdDQSc= (truncated)",
         "retail-data-topic-01",
         3,
         6,
         "2025-04-24T06:39:12.758+0000",
         0
        ],
        [
         "NjYy",
         "eydvcmRlcl9pZCc6IDc0LCAnY3VzdG9tZXJfaWQnOiA2NjIsICdjdXN0b21lcl9mbmFtZSc6ICdNaWNoZWxsZScsICdjdXN0b21lcl9sbmFtZSc6ICdNb3NzJywgJ2NpdHknOiAnQ2FndWFzJywgJ3N0YXRlJzogJ1BSJywgJ3A= (truncated)",
         "retail-data-topic-01",
         3,
         7,
         "2025-04-24T06:39:26.216+0000",
         0
        ],
        [
         "MjUwNQ==",
         "eydvcmRlcl9pZCc6IDc1LCAnY3VzdG9tZXJfaWQnOiAyNTA1LCAnY3VzdG9tZXJfZm5hbWUnOiAnSmVzc2ljYScsICdjdXN0b21lcl9sbmFtZSc6ICdKb2huc29uJywgJ2NpdHknOiAnQ2FndWFzJywgJ3N0YXRlJzogJ1BSJyw= (truncated)",
         "retail-data-topic-01",
         3,
         8,
         "2025-04-24T06:39:28.846+0000",
         0
        ],
        [
         "Njc0",
         "eydvcmRlcl9pZCc6IDgxLCAnY3VzdG9tZXJfaWQnOiA2NzQsICdjdXN0b21lcl9mbmFtZSc6ICdKb3NlJywgJ2N1c3RvbWVyX2xuYW1lJzogJ1JleW5vbGRzJywgJ2NpdHknOiAnTW9ycmlzdmlsbGUnLCAnc3RhdGUnOiAnUEE= (truncated)",
         "retail-data-topic-01",
         3,
         9,
         "2025-04-24T06:39:34.366+0000",
         0
        ],
        [
         "Njc4OQ==",
         "eydvcmRlcl9pZCc6IDg0LCAnY3VzdG9tZXJfaWQnOiA2Nzg5LCAnY3VzdG9tZXJfZm5hbWUnOiAnSmVzc2ljYScsICdjdXN0b21lcl9sbmFtZSc6ICdNY2ludG9zaCcsICdjaXR5JzogJ1BvbXBhbm8gQmVhY2gnLCAnc3RhdGU= (truncated)",
         "retail-data-topic-01",
         3,
         10,
         "2025-04-24T06:39:39.814+0000",
         0
        ],
        [
         "MzA2NQ==",
         "eydvcmRlcl9pZCc6IDg3LCAnY3VzdG9tZXJfaWQnOiAzMDY1LCAnY3VzdG9tZXJfZm5hbWUnOiAnQW15JywgJ2N1c3RvbWVyX2xuYW1lJzogJ0N1bW1pbmdzJywgJ2NpdHknOiAnQ2FndWFzJywgJ3N0YXRlJzogJ1BSJywgJ3A= (truncated)",
         "retail-data-topic-01",
         3,
         11,
         "2025-04-24T06:39:42.505+0000",
         0
        ],
        [
         "ODkxMg==",
         "eydvcmRlcl9pZCc6IDkxLCAnY3VzdG9tZXJfaWQnOiA4OTEyLCAnY3VzdG9tZXJfZm5hbWUnOiAnTWFyeScsICdjdXN0b21lcl9sbmFtZSc6ICdCbGFua2Vuc2hpcCcsICdjaXR5JzogJ0NhZ3VhcycsICdzdGF0ZSc6ICdQUic= (truncated)",
         "retail-data-topic-01",
         3,
         12,
         "2025-04-24T06:39:47.985+0000",
         0
        ],
        [
         "MTE1ODk=",
         "eydvcmRlcl9pZCc6IDk0LCAnY3VzdG9tZXJfaWQnOiAxMTU4OSwgJ2N1c3RvbWVyX2ZuYW1lJzogJ01hcnknLCAnY3VzdG9tZXJfbG5hbWUnOiAnQW5kZXJzb24nLCAnY2l0eSc6ICdLZW50JywgJ3N0YXRlJzogJ1dBJywgJ3A= (truncated)",
         "retail-data-topic-01",
         3,
         13,
         "2025-04-24T06:39:56.093+0000",
         0
        ],
        [
         "OTAzMg==",
         "eydvcmRlcl9pZCc6IDk1LCAnY3VzdG9tZXJfaWQnOiA5MDMyLCAnY3VzdG9tZXJfZm5hbWUnOiAnTGF1cmVuJywgJ2N1c3RvbWVyX2xuYW1lJzogJ011bm96JywgJ2NpdHknOiAnQ2FndWFzJywgJ3N0YXRlJzogJ1BSJywgJ3A= (truncated)",
         "retail-data-topic-01",
         3,
         14,
         "2025-04-24T06:39:58.739+0000",
         0
        ],
        [
         "MTgzNw==",
         "eydvcmRlcl9pZCc6IDEyLCAnY3VzdG9tZXJfaWQnOiAxODM3LCAnY3VzdG9tZXJfZm5hbWUnOiAnTWFyeScsICdjdXN0b21lcl9sbmFtZSc6ICdWZWdhJywgJ2NpdHknOiAnQ2FndWFzJywgJ3N0YXRlJzogJ1BSJywgJ3BpbmM= (truncated)",
         "retail-data-topic-01",
         3,
         15,
         "2025-04-24T08:00:27.484+0000",
         0
        ],
        [
         "MTgzNw==",
         "eydvcmRlcl9pZCc6IDEyLCAnY3VzdG9tZXJfaWQnOiAxODM3LCAnY3VzdG9tZXJfZm5hbWUnOiAnTWFyeScsICdjdXN0b21lcl9sbmFtZSc6ICdWZWdhJywgJ2NpdHknOiAnQ2FndWFzJywgJ3N0YXRlJzogJ1BSJywgJ3BpbmM= (truncated)",
         "retail-data-topic-01",
         3,
         16,
         "2025-04-24T09:22:44.509+0000",
         0
        ],
        [
         "NjU2",
         "eydvcmRlcl9pZCc6IDI4LCAnY3VzdG9tZXJfaWQnOiA2NTYsICdjdXN0b21lcl9mbmFtZSc6ICdKdWxpZScsICdjdXN0b21lcl9sbmFtZSc6ICdTbWl0aCcsICdjaXR5JzogJ1BvbW9uYScsICdzdGF0ZSc6ICdDQScsICdwaW4= (truncated)",
         "retail-data-topic-01",
         3,
         17,
         "2025-04-24T09:22:56.273+0000",
         0
        ],
        [
         "Njk4Mw==",
         "eydvcmRlcl9pZCc6IDMxLCAnY3VzdG9tZXJfaWQnOiA2OTgzLCAnY3VzdG9tZXJfZm5hbWUnOiAnTWFyeScsICdjdXN0b21lcl9sbmFtZSc6ICdCbGFjaycsICdjaXR5JzogJ0NhZ3VhcycsICdzdGF0ZSc6ICdQUicsICdwaW4= (truncated)",
         "retail-data-topic-01",
         3,
         18,
         "2025-04-24T09:22:58.182+0000",
         0
        ],
        [
         "NTIyNQ==",
         "eydvcmRlcl9pZCc6IDUwLCAnY3VzdG9tZXJfaWQnOiA1MjI1LCAnY3VzdG9tZXJfZm5hbWUnOiAnTWFyeScsICdjdXN0b21lcl9sbmFtZSc6ICdTbWl0aCcsICdjaXR5JzogJ1BlYWJvZHknLCAnc3RhdGUnOiAnTUEnLCAncGk= (truncated)",
         "retail-data-topic-01",
         3,
         19,
         "2025-04-24T09:23:09.110+0000",
         0
        ],
        [
         "MTIyNzE=",
         "eydvcmRlcl9pZCc6IDUxLCAnY3VzdG9tZXJfaWQnOiAxMjI3MSwgJ2N1c3RvbWVyX2ZuYW1lJzogJ01hcnknLCAnY3VzdG9tZXJfbG5hbWUnOiAnU21hbGwnLCAnY2l0eSc6ICdPbnRhcmlvJywgJ3N0YXRlJzogJ0NBJywgJ3A= (truncated)",
         "retail-data-topic-01",
         3,
         20,
         "2025-04-24T09:23:09.827+0000",
         0
        ],
        [
         "ODgyNw==",
         "eydvcmRlcl9pZCc6IDQsICdjdXN0b21lcl9pZCc6IDg4MjcsICdjdXN0b21lcl9mbmFtZSc6ICdCcmlhbicsICdjdXN0b21lcl9sbmFtZSc6ICdXaWxzb24nLCAnY2l0eSc6ICdTYW4gQW50b25pbycsICdzdGF0ZSc6ICdUWCc= (truncated)",
         "retail-data-topic-01",
         4,
         0,
         "2025-04-24T06:36:33.429+0000",
         0
        ],
        [
         "MTEzMTg=",
         "eydvcmRlcl9pZCc6IDUsICdjdXN0b21lcl9pZCc6IDExMzE4LCAnY3VzdG9tZXJfZm5hbWUnOiAnTWFyeScsICdjdXN0b21lcl9sbmFtZSc6ICdIZW5yeScsICdjaXR5JzogJ0NhZ3VhcycsICdzdGF0ZSc6ICdQUicsICdwaW4= (truncated)",
         "retail-data-topic-01",
         4,
         1,
         "2025-04-24T06:36:37.893+0000",
         0
        ],
        [
         "OTQ4OA==",
         "eydvcmRlcl9pZCc6IDE5LCAnY3VzdG9tZXJfaWQnOiA5NDg4LCAnY3VzdG9tZXJfZm5hbWUnOiAnTWFyeScsICdjdXN0b21lcl9sbmFtZSc6ICdTbWl0aCcsICdjaXR5JzogJ0hpYWxlYWgnLCAnc3RhdGUnOiAnRkwnLCAncGk= (truncated)",
         "retail-data-topic-01",
         4,
         2,
         "2025-04-24T06:37:19.622+0000",
         0
        ],
        [
         "OTE5OA==",
         "eydvcmRlcl9pZCc6IDIwLCAnY3VzdG9tZXJfaWQnOiA5MTk4LCAnY3VzdG9tZXJfZm5hbWUnOiAnRGF2aWQnLCAnY3VzdG9tZXJfbG5hbWUnOiAnS2VycicsICdjaXR5JzogJ0Jvd2xpbmcgR3JlZW4nLCAnc3RhdGUnOiAnS1k= (truncated)",
         "retail-data-topic-01",
         4,
         3,
         "2025-04-24T06:37:22.475+0000",
         0
        ],
        [
         "MTk2",
         "eydvcmRlcl9pZCc6IDI5LCAnY3VzdG9tZXJfaWQnOiAxOTYsICdjdXN0b21lcl9mbmFtZSc6ICdUaG9tYXMnLCAnY3VzdG9tZXJfbG5hbWUnOiAnV2F0c29uJywgJ2NpdHknOiAnRGVhcmJvcm4nLCAnc3RhdGUnOiAnTUknLCA= (truncated)",
         "retail-data-topic-01",
         4,
         4,
         "2025-04-24T06:37:41.827+0000",
         0
        ],
        [
         "MTAwMzk=",
         "eydvcmRlcl9pZCc6IDMwLCAnY3VzdG9tZXJfaWQnOiAxMDAzOSwgJ2N1c3RvbWVyX2ZuYW1lJzogJ01hcnknLCAnY3VzdG9tZXJfbG5hbWUnOiAnQnV0bGVyJywgJ2NpdHknOiAnQ29ud2F5JywgJ3N0YXRlJzogJ0FSJywgJ3A= (truncated)",
         "retail-data-topic-01",
         4,
         5,
         "2025-04-24T06:37:44.492+0000",
         0
        ],
        [
         "NTc5Mw==",
         "eydvcmRlcl9pZCc6IDMzLCAnY3VzdG9tZXJfaWQnOiA1NzkzLCAnY3VzdG9tZXJfZm5hbWUnOiAnTWFyZ2FyZXQnLCAnY3VzdG9tZXJfbG5hbWUnOiAnV2Vla3MnLCAnY2l0eSc6ICdDYWd1YXMnLCAnc3RhdGUnOiAnUFInLCA= (truncated)",
         "retail-data-topic-01",
         4,
         6,
         "2025-04-24T06:37:49.800+0000",
         0
        ],
        [
         "NTY0OQ==",
         "eydvcmRlcl9pZCc6IDM2LCAnY3VzdG9tZXJfaWQnOiA1NjQ5LCAnY3VzdG9tZXJfZm5hbWUnOiAnTWFyeScsICdjdXN0b21lcl9sbmFtZSc6ICdOZ3V5ZW4nLCAnY2l0eSc6ICdDYWd1YXMnLCAnc3RhdGUnOiAnUFInLCAncGk= (truncated)",
         "retail-data-topic-01",
         4,
         7,
         "2025-04-24T06:37:58.029+0000",
         0
        ],
        [
         "NTg2Mw==",
         "eydvcmRlcl9pZCc6IDM3LCAnY3VzdG9tZXJfaWQnOiA1ODYzLCAnY3VzdG9tZXJfZm5hbWUnOiAnQW15JywgJ2N1c3RvbWVyX2xuYW1lJzogJ1NtaXRoJywgJ2NpdHknOiAnQ29yZG92YScsICdzdGF0ZSc6ICdUTicsICdwaW4= (truncated)",
         "retail-data-topic-01",
         4,
         8,
         "2025-04-24T06:38:00.752+0000",
         0
        ],
        [
         "MTE1ODY=",
         "eydvcmRlcl9pZCc6IDM4LCAnY3VzdG9tZXJfaWQnOiAxMTU4NiwgJ2N1c3RvbWVyX2ZuYW1lJzogJ05hbmN5JywgJ2N1c3RvbWVyX2xuYW1lJzogJ1dyaWdodCcsICdjaXR5JzogJ05ldyBPcmxlYW5zJywgJ3N0YXRlJzogJ0w= (truncated)",
         "retail-data-topic-01",
         4,
         9,
         "2025-04-24T06:38:03.907+0000",
         0
        ],
        [
         "NzA3Mw==",
         "eydvcmRlcl9pZCc6IDU3LCAnY3VzdG9tZXJfaWQnOiA3MDczLCAnY3VzdG9tZXJfZm5hbWUnOiAnSm9hbicsICdjdXN0b21lcl9sbmFtZSc6ICdTbWl0aCcsICdjaXR5JzogJ0RlbCBSaW8nLCAnc3RhdGUnOiAnVFgnLCAncGk= (truncated)",
         "retail-data-topic-01",
         4,
         10,
         "2025-04-24T06:38:42.653+0000",
         0
        ],
        [
         "OTExMQ==",
         "eydvcmRlcl9pZCc6IDYyLCAnY3VzdG9tZXJfaWQnOiA5MTExLCAnY3VzdG9tZXJfZm5hbWUnOiAnTWFyeScsICdjdXN0b21lcl9sbmFtZSc6ICdTbWl0aCcsICdjaXR5JzogJ0NhZ3VhcycsICdzdGF0ZSc6ICdQUicsICdwaW4= (truncated)",
         "retail-data-topic-01",
         4,
         11,
         "2025-04-24T06:38:53.304+0000",
         0
        ],
        [
         "MTQwNg==",
         "eydvcmRlcl9pZCc6IDY3LCAnY3VzdG9tZXJfaWQnOiAxNDA2LCAnY3VzdG9tZXJfZm5hbWUnOiAnQW15JywgJ2N1c3RvbWVyX2xuYW1lJzogJ1NtaXRoJywgJ2NpdHknOiAnQ2FndWFzJywgJ3N0YXRlJzogJ1BSJywgJ3BpbmM= (truncated)",
         "retail-data-topic-01",
         4,
         12,
         "2025-04-24T06:39:07.232+0000",
         0
        ],
        [
         "MTE4MDk=",
         "eydvcmRlcl9pZCc6IDcwLCAnY3VzdG9tZXJfaWQnOiAxMTgwOSwgJ2N1c3RvbWVyX2ZuYW1lJzogJ0VyaWMnLCAnY3VzdG9tZXJfbG5hbWUnOiAnU21pdGgnLCAnY2l0eSc6ICdKZXJzZXkgQ2l0eScsICdzdGF0ZSc6ICdOSic= (truncated)",
         "retail-data-topic-01",
         4,
         13,
         "2025-04-24T06:39:15.389+0000",
         0
        ],
        [
         "NDM0OQ==",
         "eydvcmRlcl9pZCc6IDcyLCAnY3VzdG9tZXJfaWQnOiA0MzQ5LCAnY3VzdG9tZXJfZm5hbWUnOiAnRG9ubmEnLCAnY3VzdG9tZXJfbG5hbWUnOiAnV2lsbGlhbXMnLCAnY2l0eSc6ICdTYWx0IExha2UgQ2l0eScsICdzdGF0ZSc= (truncated)",
         "retail-data-topic-01",
         4,
         14,
         "2025-04-24T06:39:20.793+0000",
         0
        ],
        [
         "MTIyNTY=",
         "eydvcmRlcl9pZCc6IDEwMywgJ2N1c3RvbWVyX2lkJzogMTIyNTYsICdjdXN0b21lcl9mbmFtZSc6ICdWaWN0b3JpYScsICdjdXN0b21lcl9sbmFtZSc6ICdBbHZhcmV6JywgJ2NpdHknOiAnU3VtbWVydmlsbGUnLCAnc3RhdGU= (truncated)",
         "retail-data-topic-01",
         4,
         15,
         "2025-04-24T06:40:17.680+0000",
         0
        ],
        [
         "ODgyNw==",
         "eydvcmRlcl9pZCc6IDQsICdjdXN0b21lcl9pZCc6IDg4MjcsICdjdXN0b21lcl9mbmFtZSc6ICdCcmlhbicsICdjdXN0b21lcl9sbmFtZSc6ICdXaWxzb24nLCAnY2l0eSc6ICdTYW4gQW50b25pbycsICdzdGF0ZSc6ICdUWCc= (truncated)",
         "retail-data-topic-01",
         4,
         16,
         "2025-04-24T07:59:58.480+0000",
         0
        ],
        [
         "MTEzMTg=",
         "eydvcmRlcl9pZCc6IDUsICdjdXN0b21lcl9pZCc6IDExMzE4LCAnY3VzdG9tZXJfZm5hbWUnOiAnTWFyeScsICdjdXN0b21lcl9sbmFtZSc6ICdIZW5yeScsICdjaXR5JzogJ0NhZ3VhcycsICdzdGF0ZSc6ICdQUicsICdwaW4= (truncated)",
         "retail-data-topic-01",
         4,
         17,
         "2025-04-24T08:00:04.528+0000",
         0
        ],
        [
         "OTQ4OA==",
         "eydvcmRlcl9pZCc6IDE5LCAnY3VzdG9tZXJfaWQnOiA5NDg4LCAnY3VzdG9tZXJfZm5hbWUnOiAnTWFyeScsICdjdXN0b21lcl9sbmFtZSc6ICdTbWl0aCcsICdjaXR5JzogJ0hpYWxlYWgnLCAnc3RhdGUnOiAnRkwnLCAncGk= (truncated)",
         "retail-data-topic-01",
         4,
         18,
         "2025-04-24T08:00:51.270+0000",
         0
        ],
        [
         "OTE5OA==",
         "eydvcmRlcl9pZCc6IDIwLCAnY3VzdG9tZXJfaWQnOiA5MTk4LCAnY3VzdG9tZXJfZm5hbWUnOiAnRGF2aWQnLCAnY3VzdG9tZXJfbG5hbWUnOiAnS2VycicsICdjaXR5JzogJ0Jvd2xpbmcgR3JlZW4nLCAnc3RhdGUnOiAnS1k= (truncated)",
         "retail-data-topic-01",
         4,
         19,
         "2025-04-24T08:00:54.174+0000",
         0
        ],
        [
         "ODgyNw==",
         "eydvcmRlcl9pZCc6IDQsICdjdXN0b21lcl9pZCc6IDg4MjcsICdjdXN0b21lcl9mbmFtZSc6ICdCcmlhbicsICdjdXN0b21lcl9sbmFtZSc6ICdXaWxzb24nLCAnY2l0eSc6ICdTYW4gQW50b25pbycsICdzdGF0ZSc6ICdUWCc= (truncated)",
         "retail-data-topic-01",
         4,
         20,
         "2025-04-24T09:22:29.070+0000",
         0
        ],
        [
         "MTEzMTg=",
         "eydvcmRlcl9pZCc6IDUsICdjdXN0b21lcl9pZCc6IDExMzE4LCAnY3VzdG9tZXJfZm5hbWUnOiAnTWFyeScsICdjdXN0b21lcl9sbmFtZSc6ICdIZW5yeScsICdjaXR5JzogJ0NhZ3VhcycsICdzdGF0ZSc6ICdQUicsICdwaW4= (truncated)",
         "retail-data-topic-01",
         4,
         21,
         "2025-04-24T09:22:31.924+0000",
         0
        ],
        [
         "OTQ4OA==",
         "eydvcmRlcl9pZCc6IDE5LCAnY3VzdG9tZXJfaWQnOiA5NDg4LCAnY3VzdG9tZXJfZm5hbWUnOiAnTWFyeScsICdjdXN0b21lcl9sbmFtZSc6ICdTbWl0aCcsICdjaXR5JzogJ0hpYWxlYWgnLCAnc3RhdGUnOiAnRkwnLCAncGk= (truncated)",
         "retail-data-topic-01",
         4,
         22,
         "2025-04-24T09:22:51.486+0000",
         0
        ],
        [
         "OTE5OA==",
         "eydvcmRlcl9pZCc6IDIwLCAnY3VzdG9tZXJfaWQnOiA5MTk4LCAnY3VzdG9tZXJfZm5hbWUnOiAnRGF2aWQnLCAnY3VzdG9tZXJfbG5hbWUnOiAnS2VycicsICdjaXR5JzogJ0Jvd2xpbmcgR3JlZW4nLCAnc3RhdGUnOiAnS1k= (truncated)",
         "retail-data-topic-01",
         4,
         23,
         "2025-04-24T09:22:52.096+0000",
         0
        ],
        [
         "MTk2",
         "eydvcmRlcl9pZCc6IDI5LCAnY3VzdG9tZXJfaWQnOiAxOTYsICdjdXN0b21lcl9mbmFtZSc6ICdUaG9tYXMnLCAnY3VzdG9tZXJfbG5hbWUnOiAnV2F0c29uJywgJ2NpdHknOiAnRGVhcmJvcm4nLCAnc3RhdGUnOiAnTUknLCA= (truncated)",
         "retail-data-topic-01",
         4,
         24,
         "2025-04-24T09:22:56.991+0000",
         0
        ],
        [
         "MTAwMzk=",
         "eydvcmRlcl9pZCc6IDMwLCAnY3VzdG9tZXJfaWQnOiAxMDAzOSwgJ2N1c3RvbWVyX2ZuYW1lJzogJ01hcnknLCAnY3VzdG9tZXJfbG5hbWUnOiAnQnV0bGVyJywgJ2NpdHknOiAnQ29ud2F5JywgJ3N0YXRlJzogJ0FSJywgJ3A= (truncated)",
         "retail-data-topic-01",
         4,
         25,
         "2025-04-24T09:22:57.586+0000",
         0
        ],
        [
         "NTc5Mw==",
         "eydvcmRlcl9pZCc6IDMzLCAnY3VzdG9tZXJfaWQnOiA1NzkzLCAnY3VzdG9tZXJfZm5hbWUnOiAnTWFyZ2FyZXQnLCAnY3VzdG9tZXJfbG5hbWUnOiAnV2Vla3MnLCAnY2l0eSc6ICdDYWd1YXMnLCAnc3RhdGUnOiAnUFInLCA= (truncated)",
         "retail-data-topic-01",
         4,
         26,
         "2025-04-24T09:22:58.923+0000",
         0
        ],
        [
         "NTY0OQ==",
         "eydvcmRlcl9pZCc6IDM2LCAnY3VzdG9tZXJfaWQnOiA1NjQ5LCAnY3VzdG9tZXJfZm5hbWUnOiAnTWFyeScsICdjdXN0b21lcl9sbmFtZSc6ICdOZ3V5ZW4nLCAnY2l0eSc6ICdDYWd1YXMnLCAnc3RhdGUnOiAnUFInLCAncGk= (truncated)",
         "retail-data-topic-01",
         4,
         27,
         "2025-04-24T09:23:00.942+0000",
         0
        ],
        [
         "NTg2Mw==",
         "eydvcmRlcl9pZCc6IDM3LCAnY3VzdG9tZXJfaWQnOiA1ODYzLCAnY3VzdG9tZXJfZm5hbWUnOiAnQW15JywgJ2N1c3RvbWVyX2xuYW1lJzogJ1NtaXRoJywgJ2NpdHknOiAnQ29yZG92YScsICdzdGF0ZSc6ICdUTicsICdwaW4= (truncated)",
         "retail-data-topic-01",
         4,
         28,
         "2025-04-24T09:23:01.535+0000",
         0
        ],
        [
         "MTE1ODY=",
         "eydvcmRlcl9pZCc6IDM4LCAnY3VzdG9tZXJfaWQnOiAxMTU4NiwgJ2N1c3RvbWVyX2ZuYW1lJzogJ05hbmN5JywgJ2N1c3RvbWVyX2xuYW1lJzogJ1dyaWdodCcsICdjaXR5JzogJ05ldyBPcmxlYW5zJywgJ3N0YXRlJzogJ0w= (truncated)",
         "retail-data-topic-01",
         4,
         29,
         "2025-04-24T09:23:02.130+0000",
         0
        ],
        [
         "NzA3Mw==",
         "eydvcmRlcl9pZCc6IDU3LCAnY3VzdG9tZXJfaWQnOiA3MDczLCAnY3VzdG9tZXJfZm5hbWUnOiAnSm9hbicsICdjdXN0b21lcl9sbmFtZSc6ICdTbWl0aCcsICdjaXR5JzogJ0RlbCBSaW8nLCAnc3RhdGUnOiAnVFgnLCAncGk= (truncated)",
         "retail-data-topic-01",
         4,
         30,
         "2025-04-24T09:23:11.959+0000",
         0
        ],
        [
         "MTE1OTk=",
         "eyJvcmRlcl9pZCI6MSwiY3VzdG9tZXJfaWQiOjExNTk5LCJjdXN0b21lcl9mbmFtZSI6Ik1hcnkiLCJjdXN0b21lcl9sbmFtZSI6Ik1hbG9uZSIsImNpdHkiOiJIaWNrb3J5Iiwic3RhdGUiOiJOQyIsInBpbmNvZGUiOjI4NjA= (truncated)",
         "retail-data-topic-01",
         0,
         0,
         "2025-04-24T06:17:38.791+0000",
         0
        ],
        [
         "MTE1OTk=",
         "eydvcmRlcl9pZCc6IDEsICdjdXN0b21lcl9pZCc6IDExNTk5LCAnY3VzdG9tZXJfZm5hbWUnOiAnTWFyeScsICdjdXN0b21lcl9sbmFtZSc6ICdNYWxvbmUnLCAnY2l0eSc6ICdIaWNrb3J5JywgJ3N0YXRlJzogJ05DJywgJ3A= (truncated)",
         "retail-data-topic-01",
         0,
         1,
         "2025-04-24T06:36:21.973+0000",
         0
        ],
        [
         "MjU2OA==",
         "eydvcmRlcl9pZCc6IDE1LCAnY3VzdG9tZXJfaWQnOiAyNTY4LCAnY3VzdG9tZXJfZm5hbWUnOiAnTWFyaWEnLCAnY3VzdG9tZXJfbG5hbWUnOiAnU21pdGgnLCAnY2l0eSc6ICdNZW1waGlzJywgJ3N0YXRlJzogJ1ROJywgJ3A= (truncated)",
         "retail-data-topic-01",
         0,
         2,
         "2025-04-24T06:37:08.315+0000",
         0
        ],
        [
         "MjY2Nw==",
         "eydvcmRlcl9pZCc6IDE3LCAnY3VzdG9tZXJfaWQnOiAyNjY3LCAnY3VzdG9tZXJfZm5hbWUnOiAnVGFtbXknLCAnY3VzdG9tZXJfbG5hbWUnOiAnU21pdGgnLCAnY2l0eSc6ICdTdW4gVmFsbGV5JywgJ3N0YXRlJzogJ0NBJyw= (truncated)",
         "retail-data-topic-01",
         0,
         3,
         "2025-04-24T06:37:14.036+0000",
         0
        ],
        [
         "MTIwNQ==",
         "eydvcmRlcl9pZCc6IDE4LCAnY3VzdG9tZXJfaWQnOiAxMjA1LCAnY3VzdG9tZXJfZm5hbWUnOiAnTWFyeScsICdjdXN0b21lcl9sbmFtZSc6ICdQb3dlbGwnLCAnY2l0eSc6ICdNaWFtaScsICdzdGF0ZSc6ICdGTCcsICdwaW4= (truncated)",
         "retail-data-topic-01",
         0,
         4,
         "2025-04-24T06:37:16.752+0000",
         0
        ],
        [
         "MTE0NDE=",
         "eydvcmRlcl9pZCc6IDI0LCAnY3VzdG9tZXJfaWQnOiAxMTQ0MSwgJ2N1c3RvbWVyX2ZuYW1lJzogJ01hcnknLCAnY3VzdG9tZXJfbG5hbWUnOiAnRmVyZ3Vzb24nLCAnY2l0eSc6ICdMdXR6JywgJ3N0YXRlJzogJ0ZMJywgJ3A= (truncated)",
         "retail-data-topic-01",
         0,
         5,
         "2025-04-24T06:37:30.665+0000",
         0
        ],
        [
         "MTA1MDA=",
         "eydvcmRlcl9pZCc6IDQ0LCAnY3VzdG9tZXJfaWQnOiAxMDUwMCwgJ2N1c3RvbWVyX2ZuYW1lJzogJ01hcnknLCAnY3VzdG9tZXJfbG5hbWUnOiAnU21pdGgnLCAnY2l0eSc6ICdDYWd1YXMnLCAnc3RhdGUnOiAnUFInLCAncGk= (truncated)",
         "retail-data-topic-01",
         0,
         6,
         "2025-04-24T06:38:17.651+0000",
         0
        ],
        [
         "MTU0OQ==",
         "eydvcmRlcl9pZCc6IDQ2LCAnY3VzdG9tZXJfaWQnOiAxNTQ5LCAnY3VzdG9tZXJfZm5hbWUnOiAnRGlhbmUnLCAnY3VzdG9tZXJfbG5hbWUnOiAnV2lnZ2lucycsICdjaXR5JzogJ09yZWdvbiBDaXR5JywgJ3N0YXRlJzogJ08= (truncated)",
         "retail-data-topic-01",
         0,
         7,
         "2025-04-24T06:38:23.000+0000",
         0
        ],
        [
         "MTIxODY=",
         "eydvcmRlcl9pZCc6IDQ4LCAnY3VzdG9tZXJfaWQnOiAxMjE4NiwgJ2N1c3RvbWVyX2ZuYW1lJzogJ0dsb3JpYScsICdjdXN0b21lcl9sbmFtZSc6ICdNY2tuaWdodCcsICdjaXR5JzogJ0ZsdXNoaW5nJywgJ3N0YXRlJzogJ04= (truncated)",
         "retail-data-topic-01",
         0,
         8,
         "2025-04-24T06:38:25.822+0000",
         0
        ],
        [
         "MTg3MQ==",
         "eydvcmRlcl9pZCc6IDQ5LCAnY3VzdG9tZXJfaWQnOiAxODcxLCAnY3VzdG9tZXJfZm5hbWUnOiAnTWFyeScsICdjdXN0b21lcl9sbmFtZSc6ICdNY2tuaWdodCcsICdjaXR5JzogJ0NhZ3VhcycsICdzdGF0ZSc6ICdQUicsICc= (truncated)",
         "retail-data-topic-01",
         0,
         9,
         "2025-04-24T06:38:28.727+0000",
         0
        ],
        [
         "NTEyNg==",
         "eydvcmRlcl9pZCc6IDUyLCAnY3VzdG9tZXJfaWQnOiA1MTI2LCAnY3VzdG9tZXJfZm5hbWUnOiAnS2FyZW4nLCAnY3VzdG9tZXJfbG5hbWUnOiAnUm9iZXJ0cycsICdjaXR5JzogJ1doZWVsaW5nJywgJ3N0YXRlJzogJ1dWJyw= (truncated)",
         "retail-data-topic-01",
         0,
         10,
         "2025-04-24T06:38:36.921+0000",
         0
        ],
        [
         "MTE0OA==",
         "eydvcmRlcl9pZCc6IDYzLCAnY3VzdG9tZXJfaWQnOiAxMTQ4LCAnY3VzdG9tZXJfZm5hbWUnOiAnTWFyeScsICdjdXN0b21lcl9sbmFtZSc6ICdBbmRlcnNvbicsICdjaXR5JzogJ0F1Z3VzdGEnLCAnc3RhdGUnOiAnR0EnLCA= (truncated)",
         "retail-data-topic-01",
         0,
         11,
         "2025-04-24T06:38:55.924+0000",
         0
        ],
        [
         "ODY0Ng==",
         "eydvcmRlcl9pZCc6IDcxLCAnY3VzdG9tZXJfaWQnOiA4NjQ2LCAnY3VzdG9tZXJfZm5hbWUnOiAnTWFyeScsICdjdXN0b21lcl9sbmFtZSc6ICdTbWl0aCcsICdjaXR5JzogJ1Bpc2NhdGF3YXknLCAnc3RhdGUnOiAnTkonLCA= (truncated)",
         "retail-data-topic-01",
         0,
         12,
         "2025-04-24T06:39:18.083+0000",
         0
        ],
        [
         "MzgwOQ==",
         "eydvcmRlcl9pZCc6IDg4LCAnY3VzdG9tZXJfaWQnOiAzODA5LCAnY3VzdG9tZXJfZm5hbWUnOiAnTWVsaXNzYScsICdjdXN0b21lcl9sbmFtZSc6ICdUYXlsb3InLCAnY2l0eSc6ICdMYWtld29vZCcsICdzdGF0ZSc6ICdOSic= (truncated)",
         "retail-data-topic-01",
         0,
         13,
         "2025-04-24T06:39:45.226+0000",
         0
        ],
        [
         "NTI0Mw==",
         "eydvcmRlcl9pZCc6IDk4LCAnY3VzdG9tZXJfaWQnOiA1MjQzLCAnY3VzdG9tZXJfZm5hbWUnOiAnTWFyeScsICdjdXN0b21lcl9sbmFtZSc6ICdTbWl0aCcsICdjaXR5JzogJ0NhZ3VhcycsICdzdGF0ZSc6ICdQUicsICdwaW4= (truncated)",
         "retail-data-topic-01",
         0,
         14,
         "2025-04-24T06:40:06.914+0000",
         0
        ],
        [
         "Mzk1",
         "eydvcmRlcl9pZCc6IDEwNiwgJ2N1c3RvbWVyX2lkJzogMzk1LCAnY3VzdG9tZXJfZm5hbWUnOiAnRWR3YXJkJywgJ2N1c3RvbWVyX2xuYW1lJzogJ0Nhc3RybycsICdjaXR5JzogJ1JldmVyZScsICdzdGF0ZSc6ICdNQScsICc= (truncated)",
         "retail-data-topic-01",
         0,
         15,
         "2025-04-24T06:40:25.747+0000",
         0
        ],
        [
         "MTE1OTk=",
         "eydvcmRlcl9pZCc6IDEsICdjdXN0b21lcl9pZCc6IDExNTk5LCAnY3VzdG9tZXJfZm5hbWUnOiAnTWFyeScsICdjdXN0b21lcl9sbmFtZSc6ICdNYWxvbmUnLCAnY2l0eSc6ICdIaWNrb3J5JywgJ3N0YXRlJzogJ05DJywgJ3A= (truncated)",
         "retail-data-topic-01",
         0,
         16,
         "2025-04-24T07:59:45.272+0000",
         0
        ],
        [
         "MjU2OA==",
         "eydvcmRlcl9pZCc6IDE1LCAnY3VzdG9tZXJfaWQnOiAyNTY4LCAnY3VzdG9tZXJfZm5hbWUnOiAnTWFyaWEnLCAnY3VzdG9tZXJfbG5hbWUnOiAnU21pdGgnLCAnY2l0eSc6ICdNZW1waGlzJywgJ3N0YXRlJzogJ1ROJywgJ3A= (truncated)",
         "retail-data-topic-01",
         0,
         17,
         "2025-04-24T08:00:39.334+0000",
         0
        ],
        [
         "MjY2Nw==",
         "eydvcmRlcl9pZCc6IDE3LCAnY3VzdG9tZXJfaWQnOiAyNjY3LCAnY3VzdG9tZXJfZm5hbWUnOiAnVGFtbXknLCAnY3VzdG9tZXJfbG5hbWUnOiAnU21pdGgnLCAnY2l0eSc6ICdTdW4gVmFsbGV5JywgJ3N0YXRlJzogJ0NBJyw= (truncated)",
         "retail-data-topic-01",
         0,
         18,
         "2025-04-24T08:00:44.830+0000",
         0
        ],
        [
         "MTIwNQ==",
         "eydvcmRlcl9pZCc6IDE4LCAnY3VzdG9tZXJfaWQnOiAxMjA1LCAnY3VzdG9tZXJfZm5hbWUnOiAnTWFyeScsICdjdXN0b21lcl9sbmFtZSc6ICdQb3dlbGwnLCAnY2l0eSc6ICdNaWFtaScsICdzdGF0ZSc6ICdGTCcsICdwaW4= (truncated)",
         "retail-data-topic-01",
         0,
         19,
         "2025-04-24T08:00:47.757+0000",
         0
        ],
        [
         "MTE1OTk=",
         "eydvcmRlcl9pZCc6IDEsICdjdXN0b21lcl9pZCc6IDExNTk5LCAnY3VzdG9tZXJfZm5hbWUnOiAnTWFyeScsICdjdXN0b21lcl9sbmFtZSc6ICdNYWxvbmUnLCAnY2l0eSc6ICdIaWNrb3J5JywgJ3N0YXRlJzogJ05DJywgJ3A= (truncated)",
         "retail-data-topic-01",
         0,
         20,
         "2025-04-24T09:22:13.481+0000",
         0
        ],
        [
         "MjU2OA==",
         "eydvcmRlcl9pZCc6IDE1LCAnY3VzdG9tZXJfaWQnOiAyNTY4LCAnY3VzdG9tZXJfZm5hbWUnOiAnTWFyaWEnLCAnY3VzdG9tZXJfbG5hbWUnOiAnU21pdGgnLCAnY2l0eSc6ICdNZW1waGlzJywgJ3N0YXRlJzogJ1ROJywgJ3A= (truncated)",
         "retail-data-topic-01",
         0,
         21,
         "2025-04-24T09:22:48.654+0000",
         0
        ],
        [
         "MjY2Nw==",
         "eydvcmRlcl9pZCc6IDE3LCAnY3VzdG9tZXJfaWQnOiAyNjY3LCAnY3VzdG9tZXJfZm5hbWUnOiAnVGFtbXknLCAnY3VzdG9tZXJfbG5hbWUnOiAnU21pdGgnLCAnY2l0eSc6ICdTdW4gVmFsbGV5JywgJ3N0YXRlJzogJ0NBJyw= (truncated)",
         "retail-data-topic-01",
         0,
         22,
         "2025-04-24T09:22:50.071+0000",
         0
        ],
        [
         "MTIwNQ==",
         "eydvcmRlcl9pZCc6IDE4LCAnY3VzdG9tZXJfaWQnOiAxMjA1LCAnY3VzdG9tZXJfZm5hbWUnOiAnTWFyeScsICdjdXN0b21lcl9sbmFtZSc6ICdQb3dlbGwnLCAnY2l0eSc6ICdNaWFtaScsICdzdGF0ZSc6ICdGTCcsICdwaW4= (truncated)",
         "retail-data-topic-01",
         0,
         23,
         "2025-04-24T09:22:50.779+0000",
         0
        ],
        [
         "MTE0NDE=",
         "eydvcmRlcl9pZCc6IDI0LCAnY3VzdG9tZXJfaWQnOiAxMTQ0MSwgJ2N1c3RvbWVyX2ZuYW1lJzogJ01hcnknLCAnY3VzdG9tZXJfbG5hbWUnOiAnRmVyZ3Vzb24nLCAnY2l0eSc6ICdMdXR6JywgJ3N0YXRlJzogJ0ZMJywgJ3A= (truncated)",
         "retail-data-topic-01",
         0,
         24,
         "2025-04-24T09:22:54.143+0000",
         0
        ],
        [
         "MTA1MDA=",
         "eydvcmRlcl9pZCc6IDQ0LCAnY3VzdG9tZXJfaWQnOiAxMDUwMCwgJ2N1c3RvbWVyX2ZuYW1lJzogJ01hcnknLCAnY3VzdG9tZXJfbG5hbWUnOiAnU21pdGgnLCAnY2l0eSc6ICdDYWd1YXMnLCAnc3RhdGUnOiAnUFInLCAncGk= (truncated)",
         "retail-data-topic-01",
         0,
         25,
         "2025-04-24T09:23:05.560+0000",
         0
        ],
        [
         "MTU0OQ==",
         "eydvcmRlcl9pZCc6IDQ2LCAnY3VzdG9tZXJfaWQnOiAxNTQ5LCAnY3VzdG9tZXJfZm5hbWUnOiAnRGlhbmUnLCAnY3VzdG9tZXJfbG5hbWUnOiAnV2lnZ2lucycsICdjaXR5JzogJ09yZWdvbiBDaXR5JywgJ3N0YXRlJzogJ08= (truncated)",
         "retail-data-topic-01",
         0,
         26,
         "2025-04-24T09:23:06.985+0000",
         0
        ],
        [
         "MTIxODY=",
         "eydvcmRlcl9pZCc6IDQ4LCAnY3VzdG9tZXJfaWQnOiAxMjE4NiwgJ2N1c3RvbWVyX2ZuYW1lJzogJ0dsb3JpYScsICdjdXN0b21lcl9sbmFtZSc6ICdNY2tuaWdodCcsICdjaXR5JzogJ0ZsdXNoaW5nJywgJ3N0YXRlJzogJ04= (truncated)",
         "retail-data-topic-01",
         0,
         27,
         "2025-04-24T09:23:07.694+0000",
         0
        ],
        [
         "MTg3MQ==",
         "eydvcmRlcl9pZCc6IDQ5LCAnY3VzdG9tZXJfaWQnOiAxODcxLCAnY3VzdG9tZXJfZm5hbWUnOiAnTWFyeScsICdjdXN0b21lcl9sbmFtZSc6ICdNY2tuaWdodCcsICdjaXR5JzogJ0NhZ3VhcycsICdzdGF0ZSc6ICdQUicsICc= (truncated)",
         "retail-data-topic-01",
         0,
         28,
         "2025-04-24T09:23:08.402+0000",
         0
        ],
        [
         "NTEyNg==",
         "eydvcmRlcl9pZCc6IDUyLCAnY3VzdG9tZXJfaWQnOiA1MTI2LCAnY3VzdG9tZXJfZm5hbWUnOiAnS2FyZW4nLCAnY3VzdG9tZXJfbG5hbWUnOiAnUm9iZXJ0cycsICdjaXR5JzogJ1doZWVsaW5nJywgJ3N0YXRlJzogJ1dWJyw= (truncated)",
         "retail-data-topic-01",
         0,
         29,
         "2025-04-24T09:23:10.543+0000",
         0
        ]
       ],
       "datasetInfos": [],
       "dbfsResultPath": null,
       "isJsonSchema": true,
       "metadata": {},
       "overflow": false,
       "plotOptions": {
        "customPlotOptions": {},
        "displayType": "table",
        "pivotAggregation": null,
        "pivotColumns": null,
        "xColumns": null,
        "yColumns": null
       },
       "removedWidgets": [],
       "schema": [
        {
         "metadata": "{}",
         "name": "key",
         "type": "\"binary\""
        },
        {
         "metadata": "{}",
         "name": "value",
         "type": "\"binary\""
        },
        {
         "metadata": "{}",
         "name": "topic",
         "type": "\"string\""
        },
        {
         "metadata": "{}",
         "name": "partition",
         "type": "\"integer\""
        },
        {
         "metadata": "{}",
         "name": "offset",
         "type": "\"long\""
        },
        {
         "metadata": "{}",
         "name": "timestamp",
         "type": "\"timestamp\""
        },
        {
         "metadata": "{}",
         "name": "timestampType",
         "type": "\"integer\""
        }
       ],
       "type": "table"
      }
     },
     "output_type": "display_data"
    }
   ],
   "source": [
    "display(orders_df)"
   ]
  },
  {
   "cell_type": "code",
   "execution_count": 0,
   "metadata": {
    "application/vnd.databricks.v1+cell": {
     "cellMetadata": {
      "byteLimit": 2048000,
      "rowLimit": 10000
     },
     "inputWidgets": {},
     "nuid": "c721cc15-e97d-4a38-b28a-3b618f6d71a9",
     "showTitle": false,
     "tableResultSettingsMap": {},
     "title": ""
    }
   },
   "outputs": [],
   "source": [
    "df = orders_df.selectExpr(\"cast(key as string) as key\", \"cast(value as string) as value\", \"topic\", \"partition\", \"offset\", \"timestamp\")"
   ]
  },
  {
   "cell_type": "code",
   "execution_count": 0,
   "metadata": {
    "application/vnd.databricks.v1+cell": {
     "cellMetadata": {
      "byteLimit": 2048000,
      "rowLimit": 10000
     },
     "inputWidgets": {},
     "nuid": "cbf24c18-643a-463f-bc62-7f5ee4368a53",
     "showTitle": false,
     "tableResultSettingsMap": {},
     "title": ""
    }
   },
   "outputs": [
    {
     "output_type": "display_data",
     "data": {
      "text/html": [
       "<style scoped>\n",
       "  .table-result-container {\n",
       "    max-height: 300px;\n",
       "    overflow: auto;\n",
       "  }\n",
       "  table, th, td {\n",
       "    border: 1px solid black;\n",
       "    border-collapse: collapse;\n",
       "  }\n",
       "  th, td {\n",
       "    padding: 5px;\n",
       "  }\n",
       "  th {\n",
       "    text-align: left;\n",
       "  }\n",
       "</style><div class='table-result-container'><table class='table-result'><thead style='background-color: white'><tr><th>key</th><th>value</th><th>topic</th><th>partition</th><th>offset</th><th>timestamp</th></tr></thead><tbody><tr><td>124</td><td>{\"order_id\":18,\"customer_id\":1205,\"customer_fname\":\"Mary\",\"customer_lname\":\"Powell\",\"city\":\"Miami\",\"state\":\"FL\",\"pincode\":33126,\"line_items\":[{\"order_item_id\":55,\"order_item_product_id\":1073,\"order_item_quantity\":1,\"order_item_product_price\":199.99,\"order_item_subtotal\":199.99},{\"order_item_id\":56,\"order_item_product_id\":365,\"order_item_quantity\":2,\"order_item_product_price\":59.99,\"order_item_subtotal\":119.98},{\"order_item_id\":57,\"order_item_product_id\":403,\"order_item_quantity\":1,\"order_item_product_price\":129.99,\"order_item_subtotal\":129.99}]}</td><td>retail-data-topic-01</td><td>2</td><td>0</td><td>2025-04-23T05:59:33.880+0000</td></tr><tr><td>5657</td><td>{'order_id': 9, 'customer_id': 5657, 'customer_fname': 'Mary', 'customer_lname': 'James', 'city': 'Lakewood', 'state': 'OH', 'pincode': 44107, 'line_items': [{'order_item_id': 21, 'order_item_product_id': 191, 'order_item_quantity': 2, 'order_item_product_price': 99.99, 'order_item_subtotal': 199.98}, {'order_item_id': 22, 'order_item_product_id': 1073, 'order_item_quantity': 1, 'order_item_product_price': 199.99, 'order_item_subtotal': 199.99}, {'order_item_id': 23, 'order_item_product_id': 1073, 'order_item_quantity': 1, 'order_item_product_price': 199.99, 'order_item_subtotal': 199.99}]}</td><td>retail-data-topic-01</td><td>2</td><td>1</td><td>2025-04-24T06:36:47.860+0000</td></tr><tr><td>5648</td><td>{'order_id': 10, 'customer_id': 5648, 'customer_fname': 'Joshua', 'customer_lname': 'Smith', 'city': 'Memphis', 'state': 'TN', 'pincode': 38111, 'line_items': [{'order_item_id': 24, 'order_item_product_id': 1073, 'order_item_quantity': 1, 'order_item_product_price': 199.99, 'order_item_subtotal': 199.99}, {'order_item_id': 25, 'order_item_product_id': 1014, 'order_item_quantity': 2, 'order_item_product_price': 49.98, 'order_item_subtotal': 99.96}, {'order_item_id': 26, 'order_item_product_id': 403, 'order_item_quantity': 1, 'order_item_product_price': 129.99, 'order_item_subtotal': 129.99}, {'order_item_id': 27, 'order_item_product_id': 917, 'order_item_quantity': 1, 'order_item_product_price': 21.99, 'order_item_subtotal': 21.99}, {'order_item_id': 28, 'order_item_product_id': 1073, 'order_item_quantity': 1, 'order_item_product_price': 199.99, 'order_item_subtotal': 199.99}]}</td><td>retail-data-topic-01</td><td>2</td><td>2</td><td>2025-04-24T06:36:52.732+0000</td></tr><tr><td>9842</td><td>{'order_id': 14, 'customer_id': 9842, 'customer_fname': 'Mary', 'customer_lname': 'Smith', 'city': 'Caguas', 'state': 'PR', 'pincode': 725, 'line_items': [{'order_item_id': 40, 'order_item_product_id': 1004, 'order_item_quantity': 1, 'order_item_product_price': 399.98, 'order_item_subtotal': 399.98}, {'order_item_id': 41, 'order_item_product_id': 1014, 'order_item_quantity': 2, 'order_item_product_price': 49.98, 'order_item_subtotal': 99.96}, {'order_item_id': 42, 'order_item_product_id': 502, 'order_item_quantity': 1, 'order_item_product_price': 50.0, 'order_item_subtotal': 50.0}]}</td><td>retail-data-topic-01</td><td>2</td><td>3</td><td>2025-04-24T06:37:05.541+0000</td></tr><tr><td>3241</td><td>{'order_id': 27, 'customer_id': 3241, 'customer_fname': 'Willie', 'customer_lname': 'Smith', 'city': 'Caguas', 'state': 'PR', 'pincode': 725, 'line_items': [{'order_item_id': 75, 'order_item_product_id': 502, 'order_item_quantity': 3, 'order_item_product_price': 50.0, 'order_item_subtotal': 150.0}, {'order_item_id': 76, 'order_item_product_id': 1073, 'order_item_quantity': 1, 'order_item_product_price': 199.99, 'order_item_subtotal': 199.99}, {'order_item_id': 77, 'order_item_product_id': 1004, 'order_item_quantity': 1, 'order_item_product_price': 399.98, 'order_item_subtotal': 399.98}]}</td><td>retail-data-topic-01</td><td>2</td><td>4</td><td>2025-04-24T06:37:36.284+0000</td></tr><tr><td>4189</td><td>{'order_id': 34, 'customer_id': 4189, 'customer_fname': 'Heather', 'customer_lname': 'Johnson', 'city': 'Los Angeles', 'state': 'CA', 'pincode': 90044, 'line_items': [{'order_item_id': 94, 'order_item_product_id': 957, 'order_item_quantity': 1, 'order_item_product_price': 299.98, 'order_item_subtotal': 299.98}]}</td><td>retail-data-topic-01</td><td>2</td><td>5</td><td>2025-04-24T06:37:52.504+0000</td></tr><tr><td>8136</td><td>{'order_id': 41, 'customer_id': 8136, 'customer_fname': 'Charles', 'customer_lname': 'Smith', 'city': 'Saint Charles', 'state': 'MO', 'pincode': 63301, 'line_items': [{'order_item_id': 104, 'order_item_product_id': 1014, 'order_item_quantity': 4, 'order_item_product_price': 49.98, 'order_item_subtotal': 199.92}, {'order_item_id': 105, 'order_item_product_id': 825, 'order_item_quantity': 4, 'order_item_product_price': 31.99, 'order_item_subtotal': 127.96}]}</td><td>retail-data-topic-01</td><td>2</td><td>6</td><td>2025-04-24T06:38:09.297+0000</td></tr><tr><td>7776</td><td>{'order_id': 43, 'customer_id': 7776, 'customer_fname': 'Julie', 'customer_lname': 'Smith', 'city': 'Caguas', 'state': 'PR', 'pincode': 725, 'line_items': [{'order_item_id': 109, 'order_item_product_id': 957, 'order_item_quantity': 1, 'order_item_product_price': 299.98, 'order_item_subtotal': 299.98}, {'order_item_id': 110, 'order_item_product_id': 191, 'order_item_quantity': 1, 'order_item_product_price': 99.99, 'order_item_subtotal': 99.99}, {'order_item_id': 111, 'order_item_product_id': 403, 'order_item_quantity': 1, 'order_item_product_price': 129.99, 'order_item_subtotal': 129.99}]}</td><td>retail-data-topic-01</td><td>2</td><td>7</td><td>2025-04-24T06:38:14.827+0000</td></tr><tr><td>5579</td><td>{'order_id': 64, 'customer_id': 5579, 'customer_fname': 'Mary', 'customer_lname': 'Hurley', 'city': 'Elgin', 'state': 'IL', 'pincode': 60123, 'line_items': [{'order_item_id': 156, 'order_item_product_id': 502, 'order_item_quantity': 3, 'order_item_product_price': 50.0, 'order_item_subtotal': 150.0}, {'order_item_id': 157, 'order_item_product_id': 502, 'order_item_quantity': 1, 'order_item_product_price': 50.0, 'order_item_subtotal': 50.0}, {'order_item_id': 158, 'order_item_product_id': 365, 'order_item_quantity': 1, 'order_item_product_price': 59.99, 'order_item_subtotal': 59.99}, {'order_item_id': 159, 'order_item_product_id': 191, 'order_item_quantity': 2, 'order_item_product_price': 99.99, 'order_item_subtotal': 199.98}, {'order_item_id': 160, 'order_item_product_id': 502, 'order_item_quantity': 4, 'order_item_product_price': 50.0, 'order_item_subtotal': 200.0}]}</td><td>retail-data-topic-01</td><td>2</td><td>8</td><td>2025-04-24T06:38:58.729+0000</td></tr><tr><td>4320</td><td>{'order_id': 68, 'customer_id': 4320, 'customer_fname': 'Jordan', 'customer_lname': 'Taylor', 'city': 'Caguas', 'state': 'PR', 'pincode': 725, 'line_items': [{'order_item_id': 167, 'order_item_product_id': 957, 'order_item_quantity': 1, 'order_item_product_price': 299.98, 'order_item_subtotal': 299.98}]}</td><td>retail-data-topic-01</td><td>2</td><td>9</td><td>2025-04-24T06:39:09.891+0000</td></tr><tr><td>7915</td><td>{'order_id': 77, 'customer_id': 7915, 'customer_fname': 'Justin', 'customer_lname': 'Murphy', 'city': 'Caguas', 'state': 'PR', 'pincode': 725, 'line_items': [{'order_item_id': 189, 'order_item_product_id': 1014, 'order_item_quantity': 2, 'order_item_product_price': 49.98, 'order_item_subtotal': 99.96}, {'order_item_id': 190, 'order_item_product_id': 365, 'order_item_quantity': 5, 'order_item_product_price': 59.99, 'order_item_subtotal': 299.95}, {'order_item_id': 191, 'order_item_product_id': 191, 'order_item_quantity': 1, 'order_item_product_price': 99.99, 'order_item_subtotal': 99.99}, {'order_item_id': 192, 'order_item_product_id': 403, 'order_item_quantity': 1, 'order_item_product_price': 129.99, 'order_item_subtotal': 129.99}, {'order_item_id': 193, 'order_item_product_id': 502, 'order_item_quantity': 2, 'order_item_product_price': 50.0, 'order_item_subtotal': 100.0}]}</td><td>retail-data-topic-01</td><td>2</td><td>10</td><td>2025-04-24T06:39:31.498+0000</td></tr><tr><td>1265</td><td>{'order_id': 83, 'customer_id': 1265, 'customer_fname': 'Albert', 'customer_lname': 'Jones', 'city': 'San Francisco', 'state': 'CA', 'pincode': 94122, 'line_items': [{'order_item_id': 198, 'order_item_product_id': 1073, 'order_item_quantity': 1, 'order_item_product_price': 199.99, 'order_item_subtotal': 199.99}]}</td><td>retail-data-topic-01</td><td>2</td><td>11</td><td>2025-04-24T06:39:37.030+0000</td></tr><tr><td>6932</td><td>{'order_id': 92, 'customer_id': 6932, 'customer_fname': 'Evelyn', 'customer_lname': 'Herring', 'city': 'Brooklyn', 'state': 'NY', 'pincode': 11236, 'line_items': [{'order_item_id': 209, 'order_item_product_id': 1014, 'order_item_quantity': 4, 'order_item_product_price': 49.98, 'order_item_subtotal': 199.92}]}</td><td>retail-data-topic-01</td><td>2</td><td>12</td><td>2025-04-24T06:39:50.627+0000</td></tr><tr><td>12131</td><td>{'order_id': 100, 'customer_id': 12131, 'customer_fname': 'Douglas', 'customer_lname': 'Smith', 'city': 'Everett', 'state': 'WA', 'pincode': 98208, 'line_items': [{'order_item_id': 226, 'order_item_product_id': 403, 'order_item_quantity': 1, 'order_item_product_price': 129.99, 'order_item_subtotal': 129.99}, {'order_item_id': 227, 'order_item_product_id': 365, 'order_item_quantity': 2, 'order_item_product_price': 59.99, 'order_item_subtotal': 119.98}, {'order_item_id': 228, 'order_item_product_id': 191, 'order_item_quantity': 3, 'order_item_product_price': 99.99, 'order_item_subtotal': 299.97}]}</td><td>retail-data-topic-01</td><td>2</td><td>13</td><td>2025-04-24T06:40:12.257+0000</td></tr><tr><td>1845</td><td>{'order_id': 107, 'customer_id': 1845, 'customer_fname': 'Mary', 'customer_lname': 'Jones', 'city': 'York', 'state': 'PA', 'pincode': 17404, 'line_items': [{'order_item_id': 243, 'order_item_product_id': 565, 'order_item_quantity': 4, 'order_item_product_price': 70.0, 'order_item_subtotal': 280.0}, {'order_item_id': 244, 'order_item_product_id': 502, 'order_item_quantity': 5, 'order_item_product_price': 50.0, 'order_item_subtotal': 250.0}, {'order_item_id': 245, 'order_item_product_id': 403, 'order_item_quantity': 1, 'order_item_product_price': 129.99, 'order_item_subtotal': 129.99}, {'order_item_id': 246, 'order_item_product_id': 627, 'order_item_quantity': 2, 'order_item_product_price': 39.99, 'order_item_subtotal': 79.98}, {'order_item_id': 247, 'order_item_product_id': 957, 'order_item_quantity': 1, 'order_item_product_price': 299.98, 'order_item_subtotal': 299.98}]}</td><td>retail-data-topic-01</td><td>2</td><td>14</td><td>2025-04-24T06:40:28.557+0000</td></tr><tr><td>5657</td><td>{'order_id': 9, 'customer_id': 5657, 'customer_fname': 'Mary', 'customer_lname': 'James', 'city': 'Lakewood', 'state': 'OH', 'pincode': 44107, 'line_items': [{'order_item_id': 21, 'order_item_product_id': 191, 'order_item_quantity': 2, 'order_item_product_price': 99.99, 'order_item_subtotal': 199.98}, {'order_item_id': 22, 'order_item_product_id': 1073, 'order_item_quantity': 1, 'order_item_product_price': 199.99, 'order_item_subtotal': 199.99}, {'order_item_id': 23, 'order_item_product_id': 1073, 'order_item_quantity': 1, 'order_item_product_price': 199.99, 'order_item_subtotal': 199.99}]}</td><td>retail-data-topic-01</td><td>2</td><td>15</td><td>2025-04-24T08:00:15.957+0000</td></tr><tr><td>5648</td><td>{'order_id': 10, 'customer_id': 5648, 'customer_fname': 'Joshua', 'customer_lname': 'Smith', 'city': 'Memphis', 'state': 'TN', 'pincode': 38111, 'line_items': [{'order_item_id': 24, 'order_item_product_id': 1073, 'order_item_quantity': 1, 'order_item_product_price': 199.99, 'order_item_subtotal': 199.99}, {'order_item_id': 25, 'order_item_product_id': 1014, 'order_item_quantity': 2, 'order_item_product_price': 49.98, 'order_item_subtotal': 99.96}, {'order_item_id': 26, 'order_item_product_id': 403, 'order_item_quantity': 1, 'order_item_product_price': 129.99, 'order_item_subtotal': 129.99}, {'order_item_id': 27, 'order_item_product_id': 917, 'order_item_quantity': 1, 'order_item_product_price': 21.99, 'order_item_subtotal': 21.99}, {'order_item_id': 28, 'order_item_product_id': 1073, 'order_item_quantity': 1, 'order_item_product_price': 199.99, 'order_item_subtotal': 199.99}]}</td><td>retail-data-topic-01</td><td>2</td><td>16</td><td>2025-04-24T08:00:21.539+0000</td></tr><tr><td>9842</td><td>{'order_id': 14, 'customer_id': 9842, 'customer_fname': 'Mary', 'customer_lname': 'Smith', 'city': 'Caguas', 'state': 'PR', 'pincode': 725, 'line_items': [{'order_item_id': 40, 'order_item_product_id': 1004, 'order_item_quantity': 1, 'order_item_product_price': 399.98, 'order_item_subtotal': 399.98}, {'order_item_id': 41, 'order_item_product_id': 1014, 'order_item_quantity': 2, 'order_item_product_price': 49.98, 'order_item_subtotal': 99.96}, {'order_item_id': 42, 'order_item_product_id': 502, 'order_item_quantity': 1, 'order_item_product_price': 50.0, 'order_item_subtotal': 50.0}]}</td><td>retail-data-topic-01</td><td>2</td><td>17</td><td>2025-04-24T08:00:36.195+0000</td></tr><tr><td>5657</td><td>{'order_id': 9, 'customer_id': 5657, 'customer_fname': 'Mary', 'customer_lname': 'James', 'city': 'Lakewood', 'state': 'OH', 'pincode': 44107, 'line_items': [{'order_item_id': 21, 'order_item_product_id': 191, 'order_item_quantity': 2, 'order_item_product_price': 99.99, 'order_item_subtotal': 199.98}, {'order_item_id': 22, 'order_item_product_id': 1073, 'order_item_quantity': 1, 'order_item_product_price': 199.99, 'order_item_subtotal': 199.99}, {'order_item_id': 23, 'order_item_product_id': 1073, 'order_item_quantity': 1, 'order_item_product_price': 199.99, 'order_item_subtotal': 199.99}]}</td><td>retail-data-topic-01</td><td>2</td><td>18</td><td>2025-04-24T09:22:37.935+0000</td></tr><tr><td>5648</td><td>{'order_id': 10, 'customer_id': 5648, 'customer_fname': 'Joshua', 'customer_lname': 'Smith', 'city': 'Memphis', 'state': 'TN', 'pincode': 38111, 'line_items': [{'order_item_id': 24, 'order_item_product_id': 1073, 'order_item_quantity': 1, 'order_item_product_price': 199.99, 'order_item_subtotal': 199.99}, {'order_item_id': 25, 'order_item_product_id': 1014, 'order_item_quantity': 2, 'order_item_product_price': 49.98, 'order_item_subtotal': 99.96}, {'order_item_id': 26, 'order_item_product_id': 403, 'order_item_quantity': 1, 'order_item_product_price': 129.99, 'order_item_subtotal': 129.99}, {'order_item_id': 27, 'order_item_product_id': 917, 'order_item_quantity': 1, 'order_item_product_price': 21.99, 'order_item_subtotal': 21.99}, {'order_item_id': 28, 'order_item_product_id': 1073, 'order_item_quantity': 1, 'order_item_product_price': 199.99, 'order_item_subtotal': 199.99}]}</td><td>retail-data-topic-01</td><td>2</td><td>19</td><td>2025-04-24T09:22:43.098+0000</td></tr><tr><td>9842</td><td>{'order_id': 14, 'customer_id': 9842, 'customer_fname': 'Mary', 'customer_lname': 'Smith', 'city': 'Caguas', 'state': 'PR', 'pincode': 725, 'line_items': [{'order_item_id': 40, 'order_item_product_id': 1004, 'order_item_quantity': 1, 'order_item_product_price': 399.98, 'order_item_subtotal': 399.98}, {'order_item_id': 41, 'order_item_product_id': 1014, 'order_item_quantity': 2, 'order_item_product_price': 49.98, 'order_item_subtotal': 99.96}, {'order_item_id': 42, 'order_item_product_id': 502, 'order_item_quantity': 1, 'order_item_product_price': 50.0, 'order_item_subtotal': 50.0}]}</td><td>retail-data-topic-01</td><td>2</td><td>20</td><td>2025-04-24T09:22:47.952+0000</td></tr><tr><td>3241</td><td>{'order_id': 27, 'customer_id': 3241, 'customer_fname': 'Willie', 'customer_lname': 'Smith', 'city': 'Caguas', 'state': 'PR', 'pincode': 725, 'line_items': [{'order_item_id': 75, 'order_item_product_id': 502, 'order_item_quantity': 3, 'order_item_product_price': 50.0, 'order_item_subtotal': 150.0}, {'order_item_id': 76, 'order_item_product_id': 1073, 'order_item_quantity': 1, 'order_item_product_price': 199.99, 'order_item_subtotal': 199.99}, {'order_item_id': 77, 'order_item_product_id': 1004, 'order_item_quantity': 1, 'order_item_product_price': 399.98, 'order_item_subtotal': 399.98}]}</td><td>retail-data-topic-01</td><td>2</td><td>21</td><td>2025-04-24T09:22:55.573+0000</td></tr><tr><td>4189</td><td>{'order_id': 34, 'customer_id': 4189, 'customer_fname': 'Heather', 'customer_lname': 'Johnson', 'city': 'Los Angeles', 'state': 'CA', 'pincode': 90044, 'line_items': [{'order_item_id': 94, 'order_item_product_id': 957, 'order_item_quantity': 1, 'order_item_product_price': 299.98, 'order_item_subtotal': 299.98}]}</td><td>retail-data-topic-01</td><td>2</td><td>22</td><td>2025-04-24T09:22:59.518+0000</td></tr><tr><td>8136</td><td>{'order_id': 41, 'customer_id': 8136, 'customer_fname': 'Charles', 'customer_lname': 'Smith', 'city': 'Saint Charles', 'state': 'MO', 'pincode': 63301, 'line_items': [{'order_item_id': 104, 'order_item_product_id': 1014, 'order_item_quantity': 4, 'order_item_product_price': 49.98, 'order_item_subtotal': 199.92}, {'order_item_id': 105, 'order_item_product_id': 825, 'order_item_quantity': 4, 'order_item_product_price': 31.99, 'order_item_subtotal': 127.96}]}</td><td>retail-data-topic-01</td><td>2</td><td>23</td><td>2025-04-24T09:23:03.450+0000</td></tr><tr><td>7776</td><td>{'order_id': 43, 'customer_id': 7776, 'customer_fname': 'Julie', 'customer_lname': 'Smith', 'city': 'Caguas', 'state': 'PR', 'pincode': 725, 'line_items': [{'order_item_id': 109, 'order_item_product_id': 957, 'order_item_quantity': 1, 'order_item_product_price': 299.98, 'order_item_subtotal': 299.98}, {'order_item_id': 110, 'order_item_product_id': 191, 'order_item_quantity': 1, 'order_item_product_price': 99.99, 'order_item_subtotal': 99.99}, {'order_item_id': 111, 'order_item_product_id': 403, 'order_item_quantity': 1, 'order_item_product_price': 129.99, 'order_item_subtotal': 129.99}]}</td><td>retail-data-topic-01</td><td>2</td><td>24</td><td>2025-04-24T09:23:04.859+0000</td></tr><tr><td>256</td><td>{\"order_id\":2,\"customer_id\":256,\"customer_fname\":\"David\",\"customer_lname\":\"Rodriguez\",\"city\":\"Chicago\",\"state\":\"IL\",\"pincode\":60625,\"line_items\":[{\"order_item_id\":2,\"order_item_product_id\":1073,\"order_item_quantity\":1,\"order_item_product_price\":199.99,\"order_item_subtotal\":199.99},{\"order_item_id\":3,\"order_item_product_id\":502,\"order_item_quantity\":5,\"order_item_product_price\":50.0,\"order_item_subtotal\":250.0},{\"order_item_id\":4,\"order_item_product_id\":403,\"order_item_quantity\":1,\"order_item_product_price\":129.99,\"order_item_subtotal\":129.99}]}</td><td>retail-data-topic-01</td><td>1</td><td>0</td><td>2025-04-24T06:20:13.564+0000</td></tr><tr><td>256</td><td>{\"order_id\":2,\"customer_id\":256,\"customer_fname\":\"David\",\"customer_lname\":\"Rodriguez\",\"city\":\"Chicago\",\"state\":\"IL\",\"pincode\":60625,\"line_items\":[{\"order_item_id\":2,\"order_item_product_id\":1073,\"order_item_quantity\":1,\"order_item_product_price\":199.99,\"order_item_subtotal\":199.99},{\"order_item_id\":3,\"order_item_product_id\":502,\"order_item_quantity\":5,\"order_item_product_price\":50.0,\"order_item_subtotal\":250.0},{\"order_item_id\":4,\"order_item_product_id\":403,\"order_item_quantity\":1,\"order_item_product_price\":129.99,\"order_item_subtotal\":129.99}]}</td><td>retail-data-topic-01</td><td>1</td><td>1</td><td>2025-04-24T06:24:05.359+0000</td></tr><tr><td>256</td><td>{\"order_id\":2,\"customer_id\":256,\"customer_fname\":\"David\",\"customer_lname\":\"Rodriguez\",\"city\":\"Chicago\",\"state\":\"IL\",\"pincode\":60625,\"line_items\":[{\"order_item_id\":2,\"order_item_product_id\":1073,\"order_item_quantity\":1,\"order_item_product_price\":199.99,\"order_item_subtotal\":199.99},{\"order_item_id\":3,\"order_item_product_id\":502,\"order_item_quantity\":5,\"order_item_product_price\":50.0,\"order_item_subtotal\":250.0},{\"order_item_id\":4,\"order_item_product_id\":403,\"order_item_quantity\":1,\"order_item_product_price\":129.99,\"order_item_subtotal\":129.99}]}</td><td>retail-data-topic-01</td><td>1</td><td>2</td><td>2025-04-24T06:26:50.822+0000</td></tr><tr><td>256</td><td>{\"order_id\":2,\"customer_id\":256,\"customer_fname\":\"David\",\"customer_lname\":\"Rodriguez\",\"city\":\"Chicago\",\"state\":\"IL\",\"pincode\":60625,\"line_items\":[{\"order_item_id\":2,\"order_item_product_id\":1073,\"order_item_quantity\":1,\"order_item_product_price\":199.99,\"order_item_subtotal\":199.99},{\"order_item_id\":3,\"order_item_product_id\":502,\"order_item_quantity\":5,\"order_item_product_price\":50.0,\"order_item_subtotal\":250.0},{\"order_item_id\":4,\"order_item_product_id\":403,\"order_item_quantity\":1,\"order_item_product_price\":129.99,\"order_item_subtotal\":129.99}]}</td><td>retail-data-topic-01</td><td>1</td><td>3</td><td>2025-04-24T06:27:31.889+0000</td></tr><tr><td>256</td><td>{\"order_id\":2,\"customer_id\":256,\"customer_fname\":\"David\",\"customer_lname\":\"Rodriguez\",\"city\":\"Chicago\",\"state\":\"IL\",\"pincode\":60625,\"line_items\":[{\"order_item_id\":2,\"order_item_product_id\":1073,\"order_item_quantity\":1,\"order_item_product_price\":199.99,\"order_item_subtotal\":199.99},{\"order_item_id\":3,\"order_item_product_id\":502,\"order_item_quantity\":5,\"order_item_product_price\":50.0,\"order_item_subtotal\":250.0},{\"order_item_id\":4,\"order_item_product_id\":403,\"order_item_quantity\":1,\"order_item_product_price\":129.99,\"order_item_subtotal\":129.99}]}</td><td>retail-data-topic-01</td><td>1</td><td>4</td><td>2025-04-24T06:28:03.361+0000</td></tr><tr><td>256</td><td>{\"order_id\":2,\"customer_id\":256,\"customer_fname\":\"David\",\"customer_lname\":\"Rodriguez\",\"city\":\"Chicago\",\"state\":\"IL\",\"pincode\":60625,\"line_items\":[{\"order_item_id\":2,\"order_item_product_id\":1073,\"order_item_quantity\":1,\"order_item_product_price\":199.99,\"order_item_subtotal\":199.99},{\"order_item_id\":3,\"order_item_product_id\":502,\"order_item_quantity\":5,\"order_item_product_price\":50.0,\"order_item_subtotal\":250.0},{\"order_item_id\":4,\"order_item_product_id\":403,\"order_item_quantity\":1,\"order_item_product_price\":129.99,\"order_item_subtotal\":129.99}]}</td><td>retail-data-topic-01</td><td>1</td><td>5</td><td>2025-04-24T06:32:06.916+0000</td></tr><tr><td>256</td><td>{\"order_id\":2,\"customer_id\":256,\"customer_fname\":\"David\",\"customer_lname\":\"Rodriguez\",\"city\":\"Chicago\",\"state\":\"IL\",\"pincode\":60625,\"line_items\":[{\"order_item_id\":2,\"order_item_product_id\":1073,\"order_item_quantity\":1,\"order_item_product_price\":199.99,\"order_item_subtotal\":199.99},{\"order_item_id\":3,\"order_item_product_id\":502,\"order_item_quantity\":5,\"order_item_product_price\":50.0,\"order_item_subtotal\":250.0},{\"order_item_id\":4,\"order_item_product_id\":403,\"order_item_quantity\":1,\"order_item_product_price\":129.99,\"order_item_subtotal\":129.99}]}</td><td>retail-data-topic-01</td><td>1</td><td>6</td><td>2025-04-24T06:32:19.271+0000</td></tr><tr><td>256</td><td>{\"order_id\":2,\"customer_id\":256,\"customer_fname\":\"David\",\"customer_lname\":\"Rodriguez\",\"city\":\"Chicago\",\"state\":\"IL\",\"pincode\":60625,\"line_items\":[{\"order_item_id\":2,\"order_item_product_id\":1073,\"order_item_quantity\":1,\"order_item_product_price\":199.99,\"order_item_subtotal\":199.99},{\"order_item_id\":3,\"order_item_product_id\":502,\"order_item_quantity\":5,\"order_item_product_price\":50.0,\"order_item_subtotal\":250.0},{\"order_item_id\":4,\"order_item_product_id\":403,\"order_item_quantity\":1,\"order_item_product_price\":129.99,\"order_item_subtotal\":129.99}]}</td><td>retail-data-topic-01</td><td>1</td><td>7</td><td>2025-04-24T06:32:45.420+0000</td></tr><tr><td>256</td><td>{'order_id': 2, 'customer_id': 256, 'customer_fname': 'David', 'customer_lname': 'Rodriguez', 'city': 'Chicago', 'state': 'IL', 'pincode': 60625, 'line_items': [{'order_item_id': 2, 'order_item_product_id': 1073, 'order_item_quantity': 1, 'order_item_product_price': 199.99, 'order_item_subtotal': 199.99}, {'order_item_id': 3, 'order_item_product_id': 502, 'order_item_quantity': 5, 'order_item_product_price': 50.0, 'order_item_subtotal': 250.0}, {'order_item_id': 4, 'order_item_product_id': 403, 'order_item_quantity': 1, 'order_item_product_price': 129.99, 'order_item_subtotal': 129.99}]}</td><td>retail-data-topic-01</td><td>1</td><td>8</td><td>2025-04-24T06:36:28.334+0000</td></tr><tr><td>4530</td><td>{'order_id': 7, 'customer_id': 4530, 'customer_fname': 'Mary', 'customer_lname': 'Smith', 'city': 'Miami', 'state': 'FL', 'pincode': 33161, 'line_items': [{'order_item_id': 14, 'order_item_product_id': 1073, 'order_item_quantity': 1, 'order_item_product_price': 199.99, 'order_item_subtotal': 199.99}, {'order_item_id': 15, 'order_item_product_id': 957, 'order_item_quantity': 1, 'order_item_product_price': 299.98, 'order_item_subtotal': 299.98}, {'order_item_id': 16, 'order_item_product_id': 926, 'order_item_quantity': 5, 'order_item_product_price': 15.99, 'order_item_subtotal': 79.95}]}</td><td>retail-data-topic-01</td><td>1</td><td>9</td><td>2025-04-24T06:36:40.515+0000</td></tr><tr><td>918</td><td>{'order_id': 11, 'customer_id': 918, 'customer_fname': 'Nathan', 'customer_lname': 'Smith', 'city': 'Caguas', 'state': 'PR', 'pincode': 725, 'line_items': [{'order_item_id': 29, 'order_item_product_id': 365, 'order_item_quantity': 1, 'order_item_product_price': 59.99, 'order_item_subtotal': 59.99}, {'order_item_id': 30, 'order_item_product_id': 627, 'order_item_quantity': 4, 'order_item_product_price': 39.99, 'order_item_subtotal': 159.96}, {'order_item_id': 31, 'order_item_product_id': 1014, 'order_item_quantity': 1, 'order_item_product_price': 49.98, 'order_item_subtotal': 49.98}, {'order_item_id': 32, 'order_item_product_id': 191, 'order_item_quantity': 4, 'order_item_product_price': 99.99, 'order_item_subtotal': 399.96}, {'order_item_id': 33, 'order_item_product_id': 1014, 'order_item_quantity': 5, 'order_item_product_price': 49.98, 'order_item_subtotal': 249.9}]}</td><td>retail-data-topic-01</td><td>1</td><td>10</td><td>2025-04-24T06:36:55.442+0000</td></tr><tr><td>9149</td><td>{'order_id': 13, 'customer_id': 9149, 'customer_fname': 'Ronald', 'customer_lname': 'Whitehead', 'city': 'Santa Ana', 'state': 'CA', 'pincode': 92705, 'line_items': [{'order_item_id': 39, 'order_item_product_id': 276, 'order_item_quantity': 4, 'order_item_product_price': 31.99, 'order_item_subtotal': 127.96}]}</td><td>retail-data-topic-01</td><td>1</td><td>11</td><td>2025-04-24T06:37:02.818+0000</td></tr><tr><td>7276</td><td>{'order_id': 16, 'customer_id': 7276, 'customer_fname': 'Pamela', 'customer_lname': 'Smith', 'city': 'Caguas', 'state': 'PR', 'pincode': 725, 'line_items': [{'order_item_id': 48, 'order_item_product_id': 365, 'order_item_quantity': 2, 'order_item_product_price': 59.99, 'order_item_subtotal': 119.98}, {'order_item_id': 49, 'order_item_product_id': 365, 'order_item_quantity': 5, 'order_item_product_price': 59.99, 'order_item_subtotal': 299.95}]}</td><td>retail-data-topic-01</td><td>1</td><td>12</td><td>2025-04-24T06:37:11.223+0000</td></tr><tr><td>4367</td><td>{'order_id': 23, 'customer_id': 4367, 'customer_fname': 'Danielle', 'customer_lname': 'Moran', 'city': 'Springfield', 'state': 'MO', 'pincode': 65807, 'line_items': [{'order_item_id': 68, 'order_item_product_id': 957, 'order_item_quantity': 1, 'order_item_product_price': 299.98, 'order_item_subtotal': 299.98}]}</td><td>retail-data-topic-01</td><td>1</td><td>13</td><td>2025-04-24T06:37:27.800+0000</td></tr><tr><td>9776</td><td>{'order_id': 42, 'customer_id': 9776, 'customer_fname': 'Diane', 'customer_lname': 'Davis', 'city': 'Endicott', 'state': 'NY', 'pincode': 13760, 'line_items': [{'order_item_id': 106, 'order_item_product_id': 627, 'order_item_quantity': 1, 'order_item_product_price': 39.99, 'order_item_subtotal': 39.99}, {'order_item_id': 107, 'order_item_product_id': 365, 'order_item_quantity': 5, 'order_item_product_price': 59.99, 'order_item_subtotal': 299.95}, {'order_item_id': 108, 'order_item_product_id': 1004, 'order_item_quantity': 1, 'order_item_product_price': 399.98, 'order_item_subtotal': 399.98}]}</td><td>retail-data-topic-01</td><td>1</td><td>14</td><td>2025-04-24T06:38:12.035+0000</td></tr><tr><td>10519</td><td>{'order_id': 56, 'customer_id': 10519, 'customer_fname': 'Mary', 'customer_lname': 'Smith', 'city': 'Caguas', 'state': 'PR', 'pincode': 725, 'line_items': [{'order_item_id': 130, 'order_item_product_id': 1073, 'order_item_quantity': 1, 'order_item_product_price': 199.99, 'order_item_subtotal': 199.99}, {'order_item_id': 131, 'order_item_product_id': 1014, 'order_item_quantity': 4, 'order_item_product_price': 49.98, 'order_item_subtotal': 199.92}, {'order_item_id': 132, 'order_item_product_id': 957, 'order_item_quantity': 1, 'order_item_product_price': 299.98, 'order_item_subtotal': 299.98}]}</td><td>retail-data-topic-01</td><td>1</td><td>15</td><td>2025-04-24T06:38:39.823+0000</td></tr><tr><td>5903</td><td>{'order_id': 65, 'customer_id': 5903, 'customer_fname': 'Virginia', 'customer_lname': 'Smith', 'city': 'Antioch', 'state': 'TN', 'pincode': 37013, 'line_items': [{'order_item_id': 161, 'order_item_product_id': 957, 'order_item_quantity': 1, 'order_item_product_price': 299.98, 'order_item_subtotal': 299.98}]}</td><td>retail-data-topic-01</td><td>1</td><td>16</td><td>2025-04-24T06:39:01.595+0000</td></tr><tr><td>1792</td><td>{'order_id': 66, 'customer_id': 1792, 'customer_fname': 'Roy', 'customer_lname': 'Rodriguez', 'city': 'Jersey City', 'state': 'NJ', 'pincode': 7305, 'line_items': [{'order_item_id': 162, 'order_item_product_id': 403, 'order_item_quantity': 1, 'order_item_product_price': 129.99, 'order_item_subtotal': 129.99}, {'order_item_id': 163, 'order_item_product_id': 365, 'order_item_quantity': 2, 'order_item_product_price': 59.99, 'order_item_subtotal': 119.98}, {'order_item_id': 164, 'order_item_product_id': 957, 'order_item_quantity': 1, 'order_item_product_price': 299.98, 'order_item_subtotal': 299.98}, {'order_item_id': 165, 'order_item_product_id': 403, 'order_item_quantity': 1, 'order_item_product_price': 129.99, 'order_item_subtotal': 129.99}]}</td><td>retail-data-topic-01</td><td>1</td><td>17</td><td>2025-04-24T06:39:04.397+0000</td></tr><tr><td>8504</td><td>{'order_id': 73, 'customer_id': 8504, 'customer_fname': 'Mary', 'customer_lname': 'Davis', 'city': 'Virginia Beach', 'state': 'VA', 'pincode': 23462, 'line_items': [{'order_item_id': 179, 'order_item_product_id': 1014, 'order_item_quantity': 5, 'order_item_product_price': 49.98, 'order_item_subtotal': 249.9}, {'order_item_id': 180, 'order_item_product_id': 1014, 'order_item_quantity': 5, 'order_item_product_price': 49.98, 'order_item_subtotal': 249.9}, {'order_item_id': 181, 'order_item_product_id': 1014, 'order_item_quantity': 5, 'order_item_product_price': 49.98, 'order_item_subtotal': 249.9}, {'order_item_id': 182, 'order_item_product_id': 403, 'order_item_quantity': 1, 'order_item_product_price': 129.99, 'order_item_subtotal': 129.99}, {'order_item_id': 183, 'order_item_product_id': 191, 'order_item_quantity': 4, 'order_item_product_price': 99.99, 'order_item_subtotal': 399.96}]}</td><td>retail-data-topic-01</td><td>1</td><td>18</td><td>2025-04-24T06:39:23.492+0000</td></tr><tr><td>8683</td><td>{'order_id': 96, 'customer_id': 8683, 'customer_fname': 'Samantha', 'customer_lname': 'Smith', 'city': 'Brighton', 'state': 'MA', 'pincode': 2135, 'line_items': [{'order_item_id': 216, 'order_item_product_id': 1014, 'order_item_quantity': 2, 'order_item_product_price': 49.98, 'order_item_subtotal': 99.96}, {'order_item_id': 217, 'order_item_product_id': 957, 'order_item_quantity': 1, 'order_item_product_price': 299.98, 'order_item_subtotal': 299.98}, {'order_item_id': 218, 'order_item_product_id': 403, 'order_item_quantity': 1, 'order_item_product_price': 129.99, 'order_item_subtotal': 129.99}]}</td><td>retail-data-topic-01</td><td>1</td><td>19</td><td>2025-04-24T06:40:01.437+0000</td></tr><tr><td>256</td><td>{'order_id': 2, 'customer_id': 256, 'customer_fname': 'David', 'customer_lname': 'Rodriguez', 'city': 'Chicago', 'state': 'IL', 'pincode': 60625, 'line_items': [{'order_item_id': 2, 'order_item_product_id': 1073, 'order_item_quantity': 1, 'order_item_product_price': 199.99, 'order_item_subtotal': 199.99}, {'order_item_id': 3, 'order_item_product_id': 502, 'order_item_quantity': 5, 'order_item_product_price': 50.0, 'order_item_subtotal': 250.0}, {'order_item_id': 4, 'order_item_product_id': 403, 'order_item_quantity': 1, 'order_item_product_price': 129.99, 'order_item_subtotal': 129.99}]}</td><td>retail-data-topic-01</td><td>1</td><td>20</td><td>2025-04-24T07:59:52.206+0000</td></tr><tr><td>4530</td><td>{'order_id': 7, 'customer_id': 4530, 'customer_fname': 'Mary', 'customer_lname': 'Smith', 'city': 'Miami', 'state': 'FL', 'pincode': 33161, 'line_items': [{'order_item_id': 14, 'order_item_product_id': 1073, 'order_item_quantity': 1, 'order_item_product_price': 199.99, 'order_item_subtotal': 199.99}, {'order_item_id': 15, 'order_item_product_id': 957, 'order_item_quantity': 1, 'order_item_product_price': 299.98, 'order_item_subtotal': 299.98}, {'order_item_id': 16, 'order_item_product_id': 926, 'order_item_quantity': 5, 'order_item_product_price': 15.99, 'order_item_subtotal': 79.95}]}</td><td>retail-data-topic-01</td><td>1</td><td>21</td><td>2025-04-24T08:00:07.290+0000</td></tr><tr><td>918</td><td>{'order_id': 11, 'customer_id': 918, 'customer_fname': 'Nathan', 'customer_lname': 'Smith', 'city': 'Caguas', 'state': 'PR', 'pincode': 725, 'line_items': [{'order_item_id': 29, 'order_item_product_id': 365, 'order_item_quantity': 1, 'order_item_product_price': 59.99, 'order_item_subtotal': 59.99}, {'order_item_id': 30, 'order_item_product_id': 627, 'order_item_quantity': 4, 'order_item_product_price': 39.99, 'order_item_subtotal': 159.96}, {'order_item_id': 31, 'order_item_product_id': 1014, 'order_item_quantity': 1, 'order_item_product_price': 49.98, 'order_item_subtotal': 49.98}, {'order_item_id': 32, 'order_item_product_id': 191, 'order_item_quantity': 4, 'order_item_product_price': 99.99, 'order_item_subtotal': 399.96}, {'order_item_id': 33, 'order_item_product_id': 1014, 'order_item_quantity': 5, 'order_item_product_price': 49.98, 'order_item_subtotal': 249.9}]}</td><td>retail-data-topic-01</td><td>1</td><td>22</td><td>2025-04-24T08:00:24.427+0000</td></tr><tr><td>9149</td><td>{'order_id': 13, 'customer_id': 9149, 'customer_fname': 'Ronald', 'customer_lname': 'Whitehead', 'city': 'Santa Ana', 'state': 'CA', 'pincode': 92705, 'line_items': [{'order_item_id': 39, 'order_item_product_id': 276, 'order_item_quantity': 4, 'order_item_product_price': 31.99, 'order_item_subtotal': 127.96}]}</td><td>retail-data-topic-01</td><td>1</td><td>23</td><td>2025-04-24T08:00:33.246+0000</td></tr><tr><td>7276</td><td>{'order_id': 16, 'customer_id': 7276, 'customer_fname': 'Pamela', 'customer_lname': 'Smith', 'city': 'Caguas', 'state': 'PR', 'pincode': 725, 'line_items': [{'order_item_id': 48, 'order_item_product_id': 365, 'order_item_quantity': 2, 'order_item_product_price': 59.99, 'order_item_subtotal': 119.98}, {'order_item_id': 49, 'order_item_product_id': 365, 'order_item_quantity': 5, 'order_item_product_price': 59.99, 'order_item_subtotal': 299.95}]}</td><td>retail-data-topic-01</td><td>1</td><td>24</td><td>2025-04-24T08:00:42.090+0000</td></tr><tr><td>256</td><td>{'order_id': 2, 'customer_id': 256, 'customer_fname': 'David', 'customer_lname': 'Rodriguez', 'city': 'Chicago', 'state': 'IL', 'pincode': 60625, 'line_items': [{'order_item_id': 2, 'order_item_product_id': 1073, 'order_item_quantity': 1, 'order_item_product_price': 199.99, 'order_item_subtotal': 199.99}, {'order_item_id': 3, 'order_item_product_id': 502, 'order_item_quantity': 5, 'order_item_product_price': 50.0, 'order_item_subtotal': 250.0}, {'order_item_id': 4, 'order_item_product_id': 403, 'order_item_quantity': 1, 'order_item_product_price': 129.99, 'order_item_subtotal': 129.99}]}</td><td>retail-data-topic-01</td><td>1</td><td>25</td><td>2025-04-24T09:22:21.033+0000</td></tr><tr><td>4530</td><td>{'order_id': 7, 'customer_id': 4530, 'customer_fname': 'Mary', 'customer_lname': 'Smith', 'city': 'Miami', 'state': 'FL', 'pincode': 33161, 'line_items': [{'order_item_id': 14, 'order_item_product_id': 1073, 'order_item_quantity': 1, 'order_item_product_price': 199.99, 'order_item_subtotal': 199.99}, {'order_item_id': 15, 'order_item_product_id': 957, 'order_item_quantity': 1, 'order_item_product_price': 299.98, 'order_item_subtotal': 299.98}, {'order_item_id': 16, 'order_item_product_id': 926, 'order_item_quantity': 5, 'order_item_product_price': 15.99, 'order_item_subtotal': 79.95}]}</td><td>retail-data-topic-01</td><td>1</td><td>26</td><td>2025-04-24T09:22:32.651+0000</td></tr><tr><td>918</td><td>{'order_id': 11, 'customer_id': 918, 'customer_fname': 'Nathan', 'customer_lname': 'Smith', 'city': 'Caguas', 'state': 'PR', 'pincode': 725, 'line_items': [{'order_item_id': 29, 'order_item_product_id': 365, 'order_item_quantity': 1, 'order_item_product_price': 59.99, 'order_item_subtotal': 59.99}, {'order_item_id': 30, 'order_item_product_id': 627, 'order_item_quantity': 4, 'order_item_product_price': 39.99, 'order_item_subtotal': 159.96}, {'order_item_id': 31, 'order_item_product_id': 1014, 'order_item_quantity': 1, 'order_item_product_price': 49.98, 'order_item_subtotal': 49.98}, {'order_item_id': 32, 'order_item_product_id': 191, 'order_item_quantity': 4, 'order_item_product_price': 99.99, 'order_item_subtotal': 399.96}, {'order_item_id': 33, 'order_item_product_id': 1014, 'order_item_quantity': 5, 'order_item_product_price': 49.98, 'order_item_subtotal': 249.9}]}</td><td>retail-data-topic-01</td><td>1</td><td>27</td><td>2025-04-24T09:22:43.798+0000</td></tr><tr><td>9149</td><td>{'order_id': 13, 'customer_id': 9149, 'customer_fname': 'Ronald', 'customer_lname': 'Whitehead', 'city': 'Santa Ana', 'state': 'CA', 'pincode': 92705, 'line_items': [{'order_item_id': 39, 'order_item_product_id': 276, 'order_item_quantity': 4, 'order_item_product_price': 31.99, 'order_item_subtotal': 127.96}]}</td><td>retail-data-topic-01</td><td>1</td><td>28</td><td>2025-04-24T09:22:47.241+0000</td></tr><tr><td>7276</td><td>{'order_id': 16, 'customer_id': 7276, 'customer_fname': 'Pamela', 'customer_lname': 'Smith', 'city': 'Caguas', 'state': 'PR', 'pincode': 725, 'line_items': [{'order_item_id': 48, 'order_item_product_id': 365, 'order_item_quantity': 2, 'order_item_product_price': 59.99, 'order_item_subtotal': 119.98}, {'order_item_id': 49, 'order_item_product_id': 365, 'order_item_quantity': 5, 'order_item_product_price': 59.99, 'order_item_subtotal': 299.95}]}</td><td>retail-data-topic-01</td><td>1</td><td>29</td><td>2025-04-24T09:22:49.363+0000</td></tr><tr><td>4367</td><td>{'order_id': 23, 'customer_id': 4367, 'customer_fname': 'Danielle', 'customer_lname': 'Moran', 'city': 'Springfield', 'state': 'MO', 'pincode': 65807, 'line_items': [{'order_item_id': 68, 'order_item_product_id': 957, 'order_item_quantity': 1, 'order_item_product_price': 299.98, 'order_item_subtotal': 299.98}]}</td><td>retail-data-topic-01</td><td>1</td><td>30</td><td>2025-04-24T09:22:53.437+0000</td></tr><tr><td>9776</td><td>{'order_id': 42, 'customer_id': 9776, 'customer_fname': 'Diane', 'customer_lname': 'Davis', 'city': 'Endicott', 'state': 'NY', 'pincode': 13760, 'line_items': [{'order_item_id': 106, 'order_item_product_id': 627, 'order_item_quantity': 1, 'order_item_product_price': 39.99, 'order_item_subtotal': 39.99}, {'order_item_id': 107, 'order_item_product_id': 365, 'order_item_quantity': 5, 'order_item_product_price': 59.99, 'order_item_subtotal': 299.95}, {'order_item_id': 108, 'order_item_product_id': 1004, 'order_item_quantity': 1, 'order_item_product_price': 399.98, 'order_item_subtotal': 399.98}]}</td><td>retail-data-topic-01</td><td>1</td><td>31</td><td>2025-04-24T09:23:04.150+0000</td></tr><tr><td>10519</td><td>{'order_id': 56, 'customer_id': 10519, 'customer_fname': 'Mary', 'customer_lname': 'Smith', 'city': 'Caguas', 'state': 'PR', 'pincode': 725, 'line_items': [{'order_item_id': 130, 'order_item_product_id': 1073, 'order_item_quantity': 1, 'order_item_product_price': 199.99, 'order_item_subtotal': 199.99}, {'order_item_id': 131, 'order_item_product_id': 1014, 'order_item_quantity': 4, 'order_item_product_price': 49.98, 'order_item_subtotal': 199.92}, {'order_item_id': 132, 'order_item_product_id': 957, 'order_item_quantity': 1, 'order_item_product_price': 299.98, 'order_item_subtotal': 299.98}]}</td><td>retail-data-topic-01</td><td>1</td><td>32</td><td>2025-04-24T09:23:11.251+0000</td></tr><tr><td>123</td><td>{\"order_id\":1,\"customer_id\":11599,\"customer_fname\":\"Mary\",\"customer_lname\":\"Malone\",\"city\":\"Hickory\",\"state\":\"NC\",\"pincode\":28601,\"line_items\":[{\"order_item_id\":1,\"order_item_product_id\":957,\"order_item_quantity\":1,\"order_item_product_price\":299.98,\"order_item_subtotal\":299.98}]}</td><td>retail-data-topic-01</td><td>5</td><td>0</td><td>2025-04-23T05:56:30.775+0000</td></tr><tr><td>123</td><td>{\"order_id\":2,\"customer_id\":256,\"customer_fname\":\"David\",\"customer_lname\":\"Rodriguez\",\"city\":\"Chicago\",\"state\":\"IL\",\"pincode\":60625,\"line_items\":[{\"order_item_id\":2,\"order_item_product_id\":1073,\"order_item_quantity\":1,\"order_item_product_price\":199.99,\"order_item_subtotal\":199.99},{\"order_item_id\":3,\"order_item_product_id\":502,\"order_item_quantity\":5,\"order_item_product_price\":50,\"order_item_subtotal\":250},{\"order_item_id\":4,\"order_item_product_id\":403,\"order_item_quantity\":1,\"order_item_product_price\":129.99,\"order_item_subtotal\":129.99}]}</td><td>retail-data-topic-01</td><td>5</td><td>1</td><td>2025-04-23T05:57:57.707+0000</td></tr><tr><td>123</td><td>{\"order_id\":4,\"customer_id\":8827,\"customer_fname\":\"Brian\",\"customer_lname\":\"Wilson\",\"city\":\"San Antonio\",\"state\":\"TX\",\"pincode\":78240,\"line_items\":[{\"order_item_id\":5,\"order_item_product_id\":897,\"order_item_quantity\":2,\"order_item_product_price\":24.99,\"order_item_subtotal\":49.98},{\"order_item_id\":6,\"order_item_product_id\":365,\"order_item_quantity\":5,\"order_item_product_price\":59.99,\"order_item_subtotal\":299.95},{\"order_item_id\":7,\"order_item_product_id\":502,\"order_item_quantity\":3,\"order_item_product_price\":50,\"order_item_subtotal\":150},{\"order_item_id\":8,\"order_item_product_id\":1014,\"order_item_quantity\":4,\"order_item_product_price\":49.98,\"order_item_subtotal\":199.92}]}</td><td>retail-data-topic-01</td><td>5</td><td>2</td><td>2025-04-23T05:58:40.129+0000</td></tr><tr><td>2911</td><td>{'order_id': 8, 'customer_id': 2911, 'customer_fname': 'Mary', 'customer_lname': 'Smith', 'city': 'Caguas', 'state': 'PR', 'pincode': 725, 'line_items': [{'order_item_id': 17, 'order_item_product_id': 365, 'order_item_quantity': 3, 'order_item_product_price': 59.99, 'order_item_subtotal': 179.97}, {'order_item_id': 18, 'order_item_product_id': 365, 'order_item_quantity': 5, 'order_item_product_price': 59.99, 'order_item_subtotal': 299.95}, {'order_item_id': 19, 'order_item_product_id': 1014, 'order_item_quantity': 4, 'order_item_product_price': 49.98, 'order_item_subtotal': 199.92}, {'order_item_id': 20, 'order_item_product_id': 502, 'order_item_quantity': 1, 'order_item_product_price': 50.0, 'order_item_subtotal': 50.0}]}</td><td>retail-data-topic-01</td><td>5</td><td>3</td><td>2025-04-24T06:36:43.359+0000</td></tr><tr><td>2711</td><td>{'order_id': 21, 'customer_id': 2711, 'customer_fname': 'Alice', 'customer_lname': 'Rodriguez', 'city': 'Bronx', 'state': 'NY', 'pincode': 10460, 'line_items': [{'order_item_id': 64, 'order_item_product_id': 897, 'order_item_quantity': 3, 'order_item_product_price': 24.99, 'order_item_subtotal': 74.97}, {'order_item_id': 65, 'order_item_product_id': 276, 'order_item_quantity': 4, 'order_item_product_price': 31.99, 'order_item_subtotal': 127.96}, {'order_item_id': 66, 'order_item_product_id': 37, 'order_item_quantity': 2, 'order_item_product_price': 34.99, 'order_item_subtotal': 69.98}, {'order_item_id': 67, 'order_item_product_id': 502, 'order_item_quantity': 2, 'order_item_product_price': 50.0, 'order_item_subtotal': 100.0}]}</td><td>retail-data-topic-01</td><td>5</td><td>4</td><td>2025-04-24T06:37:25.091+0000</td></tr><tr><td>9503</td><td>{'order_id': 25, 'customer_id': 9503, 'customer_fname': 'Mary', 'customer_lname': 'Fitzpatrick', 'city': 'Orlando', 'state': 'FL', 'pincode': 32822, 'line_items': [{'order_item_id': 74, 'order_item_product_id': 1004, 'order_item_quantity': 1, 'order_item_product_price': 399.98, 'order_item_subtotal': 399.98}]}</td><td>retail-data-topic-01</td><td>5</td><td>5</td><td>2025-04-24T06:37:33.560+0000</td></tr><tr><td>4840</td><td>{'order_id': 35, 'customer_id': 4840, 'customer_fname': 'Mary', 'customer_lname': 'Marshall', 'city': 'Irving', 'state': 'TX', 'pincode': 75061, 'line_items': [{'order_item_id': 95, 'order_item_product_id': 403, 'order_item_quantity': 1, 'order_item_product_price': 129.99, 'order_item_subtotal': 129.99}]}</td><td>retail-data-topic-01</td><td>5</td><td>6</td><td>2025-04-24T06:37:55.242+0000</td></tr><tr><td>8214</td><td>{'order_id': 39, 'customer_id': 8214, 'customer_fname': 'Mary', 'customer_lname': 'Smith', 'city': 'North Hills', 'state': 'CA', 'pincode': 91343, 'line_items': [{'order_item_id': 103, 'order_item_product_id': 1073, 'order_item_quantity': 1, 'order_item_product_price': 199.99, 'order_item_subtotal': 199.99}]}</td><td>retail-data-topic-01</td><td>5</td><td>7</td><td>2025-04-24T06:38:06.586+0000</td></tr><tr><td>2636</td><td>{'order_id': 45, 'customer_id': 2636, 'customer_fname': 'Christian', 'customer_lname': 'Smith', 'city': 'Caguas', 'state': 'PR', 'pincode': 725, 'line_items': [{'order_item_id': 113, 'order_item_product_id': 627, 'order_item_quantity': 5, 'order_item_product_price': 39.99, 'order_item_subtotal': 199.95}, {'order_item_id': 114, 'order_item_product_id': 627, 'order_item_quantity': 4, 'order_item_product_price': 39.99, 'order_item_subtotal': 159.96}, {'order_item_id': 115, 'order_item_product_id': 924, 'order_item_quantity': 5, 'order_item_product_price': 15.99, 'order_item_subtotal': 79.95}, {'order_item_id': 116, 'order_item_product_id': 365, 'order_item_quantity': 1, 'order_item_product_price': 59.99, 'order_item_subtotal': 59.99}]}</td><td>retail-data-topic-01</td><td>5</td><td>8</td><td>2025-04-24T06:38:20.364+0000</td></tr><tr><td>9213</td><td>{'order_id': 58, 'customer_id': 9213, 'customer_fname': 'Jennifer', 'customer_lname': 'Williamson', 'city': 'Rio Grande', 'state': 'PR', 'pincode': 745, 'line_items': [{'order_item_id': 137, 'order_item_product_id': 775, 'order_item_quantity': 2, 'order_item_product_price': 9.99, 'order_item_subtotal': 19.98}, {'order_item_id': 138, 'order_item_product_id': 502, 'order_item_quantity': 1, 'order_item_product_price': 50.0, 'order_item_subtotal': 50.0}, {'order_item_id': 139, 'order_item_product_id': 1004, 'order_item_quantity': 1, 'order_item_product_price': 399.98, 'order_item_subtotal': 399.98}, {'order_item_id': 140, 'order_item_product_id': 1073, 'order_item_quantity': 1, 'order_item_product_price': 199.99, 'order_item_subtotal': 199.99}, {'order_item_id': 141, 'order_item_product_id': 403, 'order_item_quantity': 1, 'order_item_product_price': 129.99, 'order_item_subtotal': 129.99}]}</td><td>retail-data-topic-01</td><td>5</td><td>9</td><td>2025-04-24T06:38:45.316+0000</td></tr><tr><td>11644</td><td>{'order_id': 59, 'customer_id': 11644, 'customer_fname': 'Mildred', 'customer_lname': 'Smith', 'city': 'Caguas', 'state': 'PR', 'pincode': 725, 'line_items': [{'order_item_id': 142, 'order_item_product_id': 957, 'order_item_quantity': 1, 'order_item_product_price': 299.98, 'order_item_subtotal': 299.98}, {'order_item_id': 143, 'order_item_product_id': 365, 'order_item_quantity': 1, 'order_item_product_price': 59.99, 'order_item_subtotal': 59.99}, {'order_item_id': 144, 'order_item_product_id': 365, 'order_item_quantity': 1, 'order_item_product_price': 59.99, 'order_item_subtotal': 59.99}, {'order_item_id': 145, 'order_item_product_id': 1073, 'order_item_quantity': 1, 'order_item_product_price': 199.99, 'order_item_subtotal': 199.99}]}</td><td>retail-data-topic-01</td><td>5</td><td>10</td><td>2025-04-24T06:38:47.945+0000</td></tr><tr><td>2256</td><td>{'order_id': 93, 'customer_id': 2256, 'customer_fname': 'Mary', 'customer_lname': 'Smith', 'city': 'San Jose', 'state': 'CA', 'pincode': 95122, 'line_items': [{'order_item_id': 210, 'order_item_product_id': 778, 'order_item_quantity': 4, 'order_item_product_price': 24.99, 'order_item_subtotal': 99.96}]}</td><td>retail-data-topic-01</td><td>5</td><td>11</td><td>2025-04-24T06:39:53.414+0000</td></tr><tr><td>10784</td><td>{'order_id': 97, 'customer_id': 10784, 'customer_fname': 'Raymond', 'customer_lname': 'Reed', 'city': 'Loveland', 'state': 'OH', 'pincode': 45140, 'line_items': [{'order_item_id': 219, 'order_item_product_id': 886, 'order_item_quantity': 5, 'order_item_product_price': 24.99, 'order_item_subtotal': 124.95}]}</td><td>retail-data-topic-01</td><td>5</td><td>12</td><td>2025-04-24T06:40:04.166+0000</td></tr><tr><td>11542</td><td>{'order_id': 99, 'customer_id': 11542, 'customer_fname': 'Mary', 'customer_lname': 'Perkins', 'city': 'Caguas', 'state': 'PR', 'pincode': 725, 'line_items': [{'order_item_id': 222, 'order_item_product_id': 191, 'order_item_quantity': 5, 'order_item_product_price': 99.99, 'order_item_subtotal': 499.95}, {'order_item_id': 223, 'order_item_product_id': 502, 'order_item_quantity': 4, 'order_item_product_price': 50.0, 'order_item_subtotal': 200.0}, {'order_item_id': 224, 'order_item_product_id': 1073, 'order_item_quantity': 1, 'order_item_product_price': 199.99, 'order_item_subtotal': 199.99}, {'order_item_id': 225, 'order_item_product_id': 1073, 'order_item_quantity': 1, 'order_item_product_price': 199.99, 'order_item_subtotal': 199.99}]}</td><td>retail-data-topic-01</td><td>5</td><td>13</td><td>2025-04-24T06:40:09.628+0000</td></tr><tr><td>5116</td><td>{'order_id': 101, 'customer_id': 5116, 'customer_fname': 'Doris', 'customer_lname': 'Smith', 'city': 'Brockton', 'state': 'MA', 'pincode': 2301, 'line_items': [{'order_item_id': 229, 'order_item_product_id': 191, 'order_item_quantity': 1, 'order_item_product_price': 99.99, 'order_item_subtotal': 99.99}, {'order_item_id': 230, 'order_item_product_id': 957, 'order_item_quantity': 1, 'order_item_product_price': 299.98, 'order_item_subtotal': 299.98}, {'order_item_id': 231, 'order_item_product_id': 1073, 'order_item_quantity': 1, 'order_item_product_price': 199.99, 'order_item_subtotal': 199.99}, {'order_item_id': 232, 'order_item_product_id': 957, 'order_item_quantity': 1, 'order_item_product_price': 299.98, 'order_item_subtotal': 299.98}]}</td><td>retail-data-topic-01</td><td>5</td><td>14</td><td>2025-04-24T06:40:15.016+0000</td></tr><tr><td>7790</td><td>{'order_id': 104, 'customer_id': 7790, 'customer_fname': 'Edward', 'customer_lname': 'Castaneda', 'city': 'Fullerton', 'state': 'CA', 'pincode': 92833, 'line_items': [{'order_item_id': 236, 'order_item_product_id': 403, 'order_item_quantity': 1, 'order_item_product_price': 129.99, 'order_item_subtotal': 129.99}, {'order_item_id': 237, 'order_item_product_id': 957, 'order_item_quantity': 1, 'order_item_product_price': 299.98, 'order_item_subtotal': 299.98}, {'order_item_id': 238, 'order_item_product_id': 365, 'order_item_quantity': 2, 'order_item_product_price': 59.99, 'order_item_subtotal': 119.98}]}</td><td>retail-data-topic-01</td><td>5</td><td>15</td><td>2025-04-24T06:40:20.453+0000</td></tr><tr><td>8220</td><td>{'order_id': 105, 'customer_id': 8220, 'customer_fname': 'Michael', 'customer_lname': 'Smith', 'city': 'Orlando', 'state': 'FL', 'pincode': 32808, 'line_items': [{'order_item_id': 239, 'order_item_product_id': 403, 'order_item_quantity': 1, 'order_item_product_price': 129.99, 'order_item_subtotal': 129.99}, {'order_item_id': 240, 'order_item_product_id': 365, 'order_item_quantity': 3, 'order_item_product_price': 59.99, 'order_item_subtotal': 179.97}, {'order_item_id': 241, 'order_item_product_id': 365, 'order_item_quantity': 2, 'order_item_product_price': 59.99, 'order_item_subtotal': 119.98}]}</td><td>retail-data-topic-01</td><td>5</td><td>16</td><td>2025-04-24T06:40:23.110+0000</td></tr><tr><td>2911</td><td>{'order_id': 8, 'customer_id': 2911, 'customer_fname': 'Mary', 'customer_lname': 'Smith', 'city': 'Caguas', 'state': 'PR', 'pincode': 725, 'line_items': [{'order_item_id': 17, 'order_item_product_id': 365, 'order_item_quantity': 3, 'order_item_product_price': 59.99, 'order_item_subtotal': 179.97}, {'order_item_id': 18, 'order_item_product_id': 365, 'order_item_quantity': 5, 'order_item_product_price': 59.99, 'order_item_subtotal': 299.95}, {'order_item_id': 19, 'order_item_product_id': 1014, 'order_item_quantity': 4, 'order_item_product_price': 49.98, 'order_item_subtotal': 199.92}, {'order_item_id': 20, 'order_item_product_id': 502, 'order_item_quantity': 1, 'order_item_product_price': 50.0, 'order_item_subtotal': 50.0}]}</td><td>retail-data-topic-01</td><td>5</td><td>17</td><td>2025-04-24T08:00:10.179+0000</td></tr><tr><td>2711</td><td>{'order_id': 21, 'customer_id': 2711, 'customer_fname': 'Alice', 'customer_lname': 'Rodriguez', 'city': 'Bronx', 'state': 'NY', 'pincode': 10460, 'line_items': [{'order_item_id': 64, 'order_item_product_id': 897, 'order_item_quantity': 3, 'order_item_product_price': 24.99, 'order_item_subtotal': 74.97}, {'order_item_id': 65, 'order_item_product_id': 276, 'order_item_quantity': 4, 'order_item_product_price': 31.99, 'order_item_subtotal': 127.96}, {'order_item_id': 66, 'order_item_product_id': 37, 'order_item_quantity': 2, 'order_item_product_price': 34.99, 'order_item_subtotal': 69.98}, {'order_item_id': 67, 'order_item_product_id': 502, 'order_item_quantity': 2, 'order_item_product_price': 50.0, 'order_item_subtotal': 100.0}]}</td><td>retail-data-topic-01</td><td>5</td><td>18</td><td>2025-04-24T08:00:57.244+0000</td></tr><tr><td>2911</td><td>{'order_id': 8, 'customer_id': 2911, 'customer_fname': 'Mary', 'customer_lname': 'Smith', 'city': 'Caguas', 'state': 'PR', 'pincode': 725, 'line_items': [{'order_item_id': 17, 'order_item_product_id': 365, 'order_item_quantity': 3, 'order_item_product_price': 59.99, 'order_item_subtotal': 179.97}, {'order_item_id': 18, 'order_item_product_id': 365, 'order_item_quantity': 5, 'order_item_product_price': 59.99, 'order_item_subtotal': 299.95}, {'order_item_id': 19, 'order_item_product_id': 1014, 'order_item_quantity': 4, 'order_item_product_price': 49.98, 'order_item_subtotal': 199.92}, {'order_item_id': 20, 'order_item_product_id': 502, 'order_item_quantity': 1, 'order_item_product_price': 50.0, 'order_item_subtotal': 50.0}]}</td><td>retail-data-topic-01</td><td>5</td><td>19</td><td>2025-04-24T09:22:33.506+0000</td></tr><tr><td>2711</td><td>{'order_id': 21, 'customer_id': 2711, 'customer_fname': 'Alice', 'customer_lname': 'Rodriguez', 'city': 'Bronx', 'state': 'NY', 'pincode': 10460, 'line_items': [{'order_item_id': 64, 'order_item_product_id': 897, 'order_item_quantity': 3, 'order_item_product_price': 24.99, 'order_item_subtotal': 74.97}, {'order_item_id': 65, 'order_item_product_id': 276, 'order_item_quantity': 4, 'order_item_product_price': 31.99, 'order_item_subtotal': 127.96}, {'order_item_id': 66, 'order_item_product_id': 37, 'order_item_quantity': 2, 'order_item_product_price': 34.99, 'order_item_subtotal': 69.98}, {'order_item_id': 67, 'order_item_product_id': 502, 'order_item_quantity': 2, 'order_item_product_price': 50.0, 'order_item_subtotal': 100.0}]}</td><td>retail-data-topic-01</td><td>5</td><td>20</td><td>2025-04-24T09:22:52.720+0000</td></tr><tr><td>9503</td><td>{'order_id': 25, 'customer_id': 9503, 'customer_fname': 'Mary', 'customer_lname': 'Fitzpatrick', 'city': 'Orlando', 'state': 'FL', 'pincode': 32822, 'line_items': [{'order_item_id': 74, 'order_item_product_id': 1004, 'order_item_quantity': 1, 'order_item_product_price': 399.98, 'order_item_subtotal': 399.98}]}</td><td>retail-data-topic-01</td><td>5</td><td>21</td><td>2025-04-24T09:22:54.854+0000</td></tr><tr><td>4840</td><td>{'order_id': 35, 'customer_id': 4840, 'customer_fname': 'Mary', 'customer_lname': 'Marshall', 'city': 'Irving', 'state': 'TX', 'pincode': 75061, 'line_items': [{'order_item_id': 95, 'order_item_product_id': 403, 'order_item_quantity': 1, 'order_item_product_price': 129.99, 'order_item_subtotal': 129.99}]}</td><td>retail-data-topic-01</td><td>5</td><td>22</td><td>2025-04-24T09:23:00.218+0000</td></tr><tr><td>8214</td><td>{'order_id': 39, 'customer_id': 8214, 'customer_fname': 'Mary', 'customer_lname': 'Smith', 'city': 'North Hills', 'state': 'CA', 'pincode': 91343, 'line_items': [{'order_item_id': 103, 'order_item_product_id': 1073, 'order_item_quantity': 1, 'order_item_product_price': 199.99, 'order_item_subtotal': 199.99}]}</td><td>retail-data-topic-01</td><td>5</td><td>23</td><td>2025-04-24T09:23:02.731+0000</td></tr><tr><td>2636</td><td>{'order_id': 45, 'customer_id': 2636, 'customer_fname': 'Christian', 'customer_lname': 'Smith', 'city': 'Caguas', 'state': 'PR', 'pincode': 725, 'line_items': [{'order_item_id': 113, 'order_item_product_id': 627, 'order_item_quantity': 5, 'order_item_product_price': 39.99, 'order_item_subtotal': 199.95}, {'order_item_id': 114, 'order_item_product_id': 627, 'order_item_quantity': 4, 'order_item_product_price': 39.99, 'order_item_subtotal': 159.96}, {'order_item_id': 115, 'order_item_product_id': 924, 'order_item_quantity': 5, 'order_item_product_price': 15.99, 'order_item_subtotal': 79.95}, {'order_item_id': 116, 'order_item_product_id': 365, 'order_item_quantity': 1, 'order_item_product_price': 59.99, 'order_item_subtotal': 59.99}]}</td><td>retail-data-topic-01</td><td>5</td><td>24</td><td>2025-04-24T09:23:06.266+0000</td></tr><tr><td>9213</td><td>{'order_id': 58, 'customer_id': 9213, 'customer_fname': 'Jennifer', 'customer_lname': 'Williamson', 'city': 'Rio Grande', 'state': 'PR', 'pincode': 745, 'line_items': [{'order_item_id': 137, 'order_item_product_id': 775, 'order_item_quantity': 2, 'order_item_product_price': 9.99, 'order_item_subtotal': 19.98}, {'order_item_id': 138, 'order_item_product_id': 502, 'order_item_quantity': 1, 'order_item_product_price': 50.0, 'order_item_subtotal': 50.0}, {'order_item_id': 139, 'order_item_product_id': 1004, 'order_item_quantity': 1, 'order_item_product_price': 399.98, 'order_item_subtotal': 399.98}, {'order_item_id': 140, 'order_item_product_id': 1073, 'order_item_quantity': 1, 'order_item_product_price': 199.99, 'order_item_subtotal': 199.99}, {'order_item_id': 141, 'order_item_product_id': 403, 'order_item_quantity': 1, 'order_item_product_price': 129.99, 'order_item_subtotal': 129.99}]}</td><td>retail-data-topic-01</td><td>5</td><td>25</td><td>2025-04-24T09:23:12.555+0000</td></tr><tr><td>11644</td><td>{'order_id': 59, 'customer_id': 11644, 'customer_fname': 'Mildred', 'customer_lname': 'Smith', 'city': 'Caguas', 'state': 'PR', 'pincode': 725, 'line_items': [{'order_item_id': 142, 'order_item_product_id': 957, 'order_item_quantity': 1, 'order_item_product_price': 299.98, 'order_item_subtotal': 299.98}, {'order_item_id': 143, 'order_item_product_id': 365, 'order_item_quantity': 1, 'order_item_product_price': 59.99, 'order_item_subtotal': 59.99}, {'order_item_id': 144, 'order_item_product_id': 365, 'order_item_quantity': 1, 'order_item_product_price': 59.99, 'order_item_subtotal': 59.99}, {'order_item_id': 145, 'order_item_product_id': 1073, 'order_item_quantity': 1, 'order_item_product_price': 199.99, 'order_item_subtotal': 199.99}]}</td><td>retail-data-topic-01</td><td>5</td><td>26</td><td>2025-04-24T09:23:13.273+0000</td></tr><tr><td>1837</td><td>{'order_id': 12, 'customer_id': 1837, 'customer_fname': 'Mary', 'customer_lname': 'Vega', 'city': 'Caguas', 'state': 'PR', 'pincode': 725, 'line_items': [{'order_item_id': 34, 'order_item_product_id': 957, 'order_item_quantity': 1, 'order_item_product_price': 299.98, 'order_item_subtotal': 299.98}, {'order_item_id': 35, 'order_item_product_id': 134, 'order_item_quantity': 4, 'order_item_product_price': 25.0, 'order_item_subtotal': 100.0}, {'order_item_id': 36, 'order_item_product_id': 1014, 'order_item_quantity': 3, 'order_item_product_price': 49.98, 'order_item_subtotal': 149.94}, {'order_item_id': 37, 'order_item_product_id': 191, 'order_item_quantity': 5, 'order_item_product_price': 99.99, 'order_item_subtotal': 499.95}, {'order_item_id': 38, 'order_item_product_id': 502, 'order_item_quantity': 5, 'order_item_product_price': 50.0, 'order_item_subtotal': 250.0}]}</td><td>retail-data-topic-01</td><td>3</td><td>0</td><td>2025-04-24T06:36:58.253+0000</td></tr><tr><td>656</td><td>{'order_id': 28, 'customer_id': 656, 'customer_fname': 'Julie', 'customer_lname': 'Smith', 'city': 'Pomona', 'state': 'CA', 'pincode': 91767, 'line_items': [{'order_item_id': 78, 'order_item_product_id': 191, 'order_item_quantity': 4, 'order_item_product_price': 99.99, 'order_item_subtotal': 399.96}, {'order_item_id': 79, 'order_item_product_id': 957, 'order_item_quantity': 1, 'order_item_product_price': 299.98, 'order_item_subtotal': 299.98}, {'order_item_id': 80, 'order_item_product_id': 957, 'order_item_quantity': 1, 'order_item_product_price': 299.98, 'order_item_subtotal': 299.98}, {'order_item_id': 81, 'order_item_product_id': 191, 'order_item_quantity': 1, 'order_item_product_price': 99.99, 'order_item_subtotal': 99.99}, {'order_item_id': 82, 'order_item_product_id': 365, 'order_item_quantity': 1, 'order_item_product_price': 59.99, 'order_item_subtotal': 59.99}]}</td><td>retail-data-topic-01</td><td>3</td><td>1</td><td>2025-04-24T06:37:39.062+0000</td></tr><tr><td>6983</td><td>{'order_id': 31, 'customer_id': 6983, 'customer_fname': 'Mary', 'customer_lname': 'Black', 'city': 'Caguas', 'state': 'PR', 'pincode': 725, 'line_items': [{'order_item_id': 89, 'order_item_product_id': 191, 'order_item_quantity': 5, 'order_item_product_price': 99.99, 'order_item_subtotal': 499.95}]}</td><td>retail-data-topic-01</td><td>3</td><td>2</td><td>2025-04-24T06:37:47.111+0000</td></tr><tr><td>5225</td><td>{'order_id': 50, 'customer_id': 5225, 'customer_fname': 'Mary', 'customer_lname': 'Smith', 'city': 'Peabody', 'state': 'MA', 'pincode': 1960, 'line_items': [{'order_item_id': 124, 'order_item_product_id': 403, 'order_item_quantity': 1, 'order_item_product_price': 129.99, 'order_item_subtotal': 129.99}, {'order_item_id': 125, 'order_item_product_id': 957, 'order_item_quantity': 1, 'order_item_product_price': 299.98, 'order_item_subtotal': 299.98}]}</td><td>retail-data-topic-01</td><td>3</td><td>3</td><td>2025-04-24T06:38:31.493+0000</td></tr><tr><td>12271</td><td>{'order_id': 51, 'customer_id': 12271, 'customer_fname': 'Mary', 'customer_lname': 'Small', 'city': 'Ontario', 'state': 'CA', 'pincode': 91761, 'line_items': [{'order_item_id': 126, 'order_item_product_id': 502, 'order_item_quantity': 1, 'order_item_product_price': 50.0, 'order_item_subtotal': 50.0}, {'order_item_id': 127, 'order_item_product_id': 1004, 'order_item_quantity': 1, 'order_item_product_price': 399.98, 'order_item_subtotal': 399.98}]}</td><td>retail-data-topic-01</td><td>3</td><td>4</td><td>2025-04-24T06:38:34.243+0000</td></tr><tr><td>4791</td><td>{'order_id': 61, 'customer_id': 4791, 'customer_fname': 'Mary', 'customer_lname': 'Patton', 'city': 'Hialeah', 'state': 'FL', 'pincode': 33010, 'line_items': [{'order_item_id': 146, 'order_item_product_id': 365, 'order_item_quantity': 2, 'order_item_product_price': 59.99, 'order_item_subtotal': 119.98}, {'order_item_id': 147, 'order_item_product_id': 365, 'order_item_quantity': 2, 'order_item_product_price': 59.99, 'order_item_subtotal': 119.98}, {'order_item_id': 148, 'order_item_product_id': 191, 'order_item_quantity': 4, 'order_item_product_price': 99.99, 'order_item_subtotal': 399.96}]}</td><td>retail-data-topic-01</td><td>3</td><td>5</td><td>2025-04-24T06:38:50.624+0000</td></tr><tr><td>2821</td><td>{'order_id': 69, 'customer_id': 2821, 'customer_fname': 'Mary', 'customer_lname': 'Williams', 'city': 'Santa Ana', 'state': 'CA', 'pincode': 92703, 'line_items': [{'order_item_id': 168, 'order_item_product_id': 365, 'order_item_quantity': 4, 'order_item_product_price': 59.99, 'order_item_subtotal': 239.96}]}</td><td>retail-data-topic-01</td><td>3</td><td>6</td><td>2025-04-24T06:39:12.758+0000</td></tr><tr><td>662</td><td>{'order_id': 74, 'customer_id': 662, 'customer_fname': 'Michelle', 'customer_lname': 'Moss', 'city': 'Caguas', 'state': 'PR', 'pincode': 725, 'line_items': [{'order_item_id': 184, 'order_item_product_id': 365, 'order_item_quantity': 2, 'order_item_product_price': 59.99, 'order_item_subtotal': 119.98}]}</td><td>retail-data-topic-01</td><td>3</td><td>7</td><td>2025-04-24T06:39:26.216+0000</td></tr><tr><td>2505</td><td>{'order_id': 75, 'customer_id': 2505, 'customer_fname': 'Jessica', 'customer_lname': 'Johnson', 'city': 'Caguas', 'state': 'PR', 'pincode': 725, 'line_items': [{'order_item_id': 185, 'order_item_product_id': 403, 'order_item_quantity': 1, 'order_item_product_price': 129.99, 'order_item_subtotal': 129.99}, {'order_item_id': 186, 'order_item_product_id': 502, 'order_item_quantity': 1, 'order_item_product_price': 50.0, 'order_item_subtotal': 50.0}, {'order_item_id': 187, 'order_item_product_id': 502, 'order_item_quantity': 4, 'order_item_product_price': 50.0, 'order_item_subtotal': 200.0}, {'order_item_id': 188, 'order_item_product_id': 1004, 'order_item_quantity': 1, 'order_item_product_price': 399.98, 'order_item_subtotal': 399.98}]}</td><td>retail-data-topic-01</td><td>3</td><td>8</td><td>2025-04-24T06:39:28.846+0000</td></tr><tr><td>674</td><td>{'order_id': 81, 'customer_id': 674, 'customer_fname': 'Jose', 'customer_lname': 'Reynolds', 'city': 'Morrisville', 'state': 'PA', 'pincode': 19067, 'line_items': [{'order_item_id': 194, 'order_item_product_id': 627, 'order_item_quantity': 5, 'order_item_product_price': 39.99, 'order_item_subtotal': 199.95}, {'order_item_id': 195, 'order_item_product_id': 627, 'order_item_quantity': 3, 'order_item_product_price': 39.99, 'order_item_subtotal': 119.97}, {'order_item_id': 196, 'order_item_product_id': 1014, 'order_item_quantity': 4, 'order_item_product_price': 49.98, 'order_item_subtotal': 199.92}, {'order_item_id': 197, 'order_item_product_id': 403, 'order_item_quantity': 1, 'order_item_product_price': 129.99, 'order_item_subtotal': 129.99}]}</td><td>retail-data-topic-01</td><td>3</td><td>9</td><td>2025-04-24T06:39:34.366+0000</td></tr><tr><td>6789</td><td>{'order_id': 84, 'customer_id': 6789, 'customer_fname': 'Jessica', 'customer_lname': 'Mcintosh', 'city': 'Pompano Beach', 'state': 'FL', 'pincode': 33068, 'line_items': [{'order_item_id': 199, 'order_item_product_id': 1004, 'order_item_quantity': 1, 'order_item_product_price': 399.98, 'order_item_subtotal': 399.98}, {'order_item_id': 200, 'order_item_product_id': 191, 'order_item_quantity': 5, 'order_item_product_price': 99.99, 'order_item_subtotal': 499.95}, {'order_item_id': 201, 'order_item_product_id': 627, 'order_item_quantity': 5, 'order_item_product_price': 39.99, 'order_item_subtotal': 199.95}, {'order_item_id': 202, 'order_item_product_id': 502, 'order_item_quantity': 4, 'order_item_product_price': 50.0, 'order_item_subtotal': 200.0}, {'order_item_id': 203, 'order_item_product_id': 1073, 'order_item_quantity': 1, 'order_item_product_price': 199.99, 'order_item_subtotal': 199.99}]}</td><td>retail-data-topic-01</td><td>3</td><td>10</td><td>2025-04-24T06:39:39.814+0000</td></tr><tr><td>3065</td><td>{'order_id': 87, 'customer_id': 3065, 'customer_fname': 'Amy', 'customer_lname': 'Cummings', 'city': 'Caguas', 'state': 'PR', 'pincode': 725, 'line_items': [{'order_item_id': 204, 'order_item_product_id': 627, 'order_item_quantity': 3, 'order_item_product_price': 39.99, 'order_item_subtotal': 119.97}]}</td><td>retail-data-topic-01</td><td>3</td><td>11</td><td>2025-04-24T06:39:42.505+0000</td></tr><tr><td>8912</td><td>{'order_id': 91, 'customer_id': 8912, 'customer_fname': 'Mary', 'customer_lname': 'Blankenship', 'city': 'Caguas', 'state': 'PR', 'pincode': 725, 'line_items': [{'order_item_id': 207, 'order_item_product_id': 1004, 'order_item_quantity': 1, 'order_item_product_price': 399.98, 'order_item_subtotal': 399.98}, {'order_item_id': 208, 'order_item_product_id': 365, 'order_item_quantity': 5, 'order_item_product_price': 59.99, 'order_item_subtotal': 299.95}]}</td><td>retail-data-topic-01</td><td>3</td><td>12</td><td>2025-04-24T06:39:47.985+0000</td></tr><tr><td>11589</td><td>{'order_id': 94, 'customer_id': 11589, 'customer_fname': 'Mary', 'customer_lname': 'Anderson', 'city': 'Kent', 'state': 'WA', 'pincode': 98031, 'line_items': [{'order_item_id': 211, 'order_item_product_id': 1004, 'order_item_quantity': 1, 'order_item_product_price': 399.98, 'order_item_subtotal': 399.98}, {'order_item_id': 212, 'order_item_product_id': 627, 'order_item_quantity': 4, 'order_item_product_price': 39.99, 'order_item_subtotal': 159.96}, {'order_item_id': 213, 'order_item_product_id': 403, 'order_item_quantity': 1, 'order_item_product_price': 129.99, 'order_item_subtotal': 129.99}, {'order_item_id': 214, 'order_item_product_id': 1014, 'order_item_quantity': 1, 'order_item_product_price': 49.98, 'order_item_subtotal': 49.98}]}</td><td>retail-data-topic-01</td><td>3</td><td>13</td><td>2025-04-24T06:39:56.093+0000</td></tr><tr><td>9032</td><td>{'order_id': 95, 'customer_id': 9032, 'customer_fname': 'Lauren', 'customer_lname': 'Munoz', 'city': 'Caguas', 'state': 'PR', 'pincode': 725, 'line_items': [{'order_item_id': 215, 'order_item_product_id': 627, 'order_item_quantity': 5, 'order_item_product_price': 39.99, 'order_item_subtotal': 199.95}]}</td><td>retail-data-topic-01</td><td>3</td><td>14</td><td>2025-04-24T06:39:58.739+0000</td></tr><tr><td>1837</td><td>{'order_id': 12, 'customer_id': 1837, 'customer_fname': 'Mary', 'customer_lname': 'Vega', 'city': 'Caguas', 'state': 'PR', 'pincode': 725, 'line_items': [{'order_item_id': 34, 'order_item_product_id': 957, 'order_item_quantity': 1, 'order_item_product_price': 299.98, 'order_item_subtotal': 299.98}, {'order_item_id': 35, 'order_item_product_id': 134, 'order_item_quantity': 4, 'order_item_product_price': 25.0, 'order_item_subtotal': 100.0}, {'order_item_id': 36, 'order_item_product_id': 1014, 'order_item_quantity': 3, 'order_item_product_price': 49.98, 'order_item_subtotal': 149.94}, {'order_item_id': 37, 'order_item_product_id': 191, 'order_item_quantity': 5, 'order_item_product_price': 99.99, 'order_item_subtotal': 499.95}, {'order_item_id': 38, 'order_item_product_id': 502, 'order_item_quantity': 5, 'order_item_product_price': 50.0, 'order_item_subtotal': 250.0}]}</td><td>retail-data-topic-01</td><td>3</td><td>15</td><td>2025-04-24T08:00:27.484+0000</td></tr><tr><td>1837</td><td>{'order_id': 12, 'customer_id': 1837, 'customer_fname': 'Mary', 'customer_lname': 'Vega', 'city': 'Caguas', 'state': 'PR', 'pincode': 725, 'line_items': [{'order_item_id': 34, 'order_item_product_id': 957, 'order_item_quantity': 1, 'order_item_product_price': 299.98, 'order_item_subtotal': 299.98}, {'order_item_id': 35, 'order_item_product_id': 134, 'order_item_quantity': 4, 'order_item_product_price': 25.0, 'order_item_subtotal': 100.0}, {'order_item_id': 36, 'order_item_product_id': 1014, 'order_item_quantity': 3, 'order_item_product_price': 49.98, 'order_item_subtotal': 149.94}, {'order_item_id': 37, 'order_item_product_id': 191, 'order_item_quantity': 5, 'order_item_product_price': 99.99, 'order_item_subtotal': 499.95}, {'order_item_id': 38, 'order_item_product_id': 502, 'order_item_quantity': 5, 'order_item_product_price': 50.0, 'order_item_subtotal': 250.0}]}</td><td>retail-data-topic-01</td><td>3</td><td>16</td><td>2025-04-24T09:22:44.509+0000</td></tr><tr><td>656</td><td>{'order_id': 28, 'customer_id': 656, 'customer_fname': 'Julie', 'customer_lname': 'Smith', 'city': 'Pomona', 'state': 'CA', 'pincode': 91767, 'line_items': [{'order_item_id': 78, 'order_item_product_id': 191, 'order_item_quantity': 4, 'order_item_product_price': 99.99, 'order_item_subtotal': 399.96}, {'order_item_id': 79, 'order_item_product_id': 957, 'order_item_quantity': 1, 'order_item_product_price': 299.98, 'order_item_subtotal': 299.98}, {'order_item_id': 80, 'order_item_product_id': 957, 'order_item_quantity': 1, 'order_item_product_price': 299.98, 'order_item_subtotal': 299.98}, {'order_item_id': 81, 'order_item_product_id': 191, 'order_item_quantity': 1, 'order_item_product_price': 99.99, 'order_item_subtotal': 99.99}, {'order_item_id': 82, 'order_item_product_id': 365, 'order_item_quantity': 1, 'order_item_product_price': 59.99, 'order_item_subtotal': 59.99}]}</td><td>retail-data-topic-01</td><td>3</td><td>17</td><td>2025-04-24T09:22:56.273+0000</td></tr><tr><td>6983</td><td>{'order_id': 31, 'customer_id': 6983, 'customer_fname': 'Mary', 'customer_lname': 'Black', 'city': 'Caguas', 'state': 'PR', 'pincode': 725, 'line_items': [{'order_item_id': 89, 'order_item_product_id': 191, 'order_item_quantity': 5, 'order_item_product_price': 99.99, 'order_item_subtotal': 499.95}]}</td><td>retail-data-topic-01</td><td>3</td><td>18</td><td>2025-04-24T09:22:58.182+0000</td></tr><tr><td>5225</td><td>{'order_id': 50, 'customer_id': 5225, 'customer_fname': 'Mary', 'customer_lname': 'Smith', 'city': 'Peabody', 'state': 'MA', 'pincode': 1960, 'line_items': [{'order_item_id': 124, 'order_item_product_id': 403, 'order_item_quantity': 1, 'order_item_product_price': 129.99, 'order_item_subtotal': 129.99}, {'order_item_id': 125, 'order_item_product_id': 957, 'order_item_quantity': 1, 'order_item_product_price': 299.98, 'order_item_subtotal': 299.98}]}</td><td>retail-data-topic-01</td><td>3</td><td>19</td><td>2025-04-24T09:23:09.110+0000</td></tr><tr><td>12271</td><td>{'order_id': 51, 'customer_id': 12271, 'customer_fname': 'Mary', 'customer_lname': 'Small', 'city': 'Ontario', 'state': 'CA', 'pincode': 91761, 'line_items': [{'order_item_id': 126, 'order_item_product_id': 502, 'order_item_quantity': 1, 'order_item_product_price': 50.0, 'order_item_subtotal': 50.0}, {'order_item_id': 127, 'order_item_product_id': 1004, 'order_item_quantity': 1, 'order_item_product_price': 399.98, 'order_item_subtotal': 399.98}]}</td><td>retail-data-topic-01</td><td>3</td><td>20</td><td>2025-04-24T09:23:09.827+0000</td></tr><tr><td>8827</td><td>{'order_id': 4, 'customer_id': 8827, 'customer_fname': 'Brian', 'customer_lname': 'Wilson', 'city': 'San Antonio', 'state': 'TX', 'pincode': 78240, 'line_items': [{'order_item_id': 5, 'order_item_product_id': 897, 'order_item_quantity': 2, 'order_item_product_price': 24.99, 'order_item_subtotal': 49.98}, {'order_item_id': 6, 'order_item_product_id': 365, 'order_item_quantity': 5, 'order_item_product_price': 59.99, 'order_item_subtotal': 299.95}, {'order_item_id': 7, 'order_item_product_id': 502, 'order_item_quantity': 3, 'order_item_product_price': 50.0, 'order_item_subtotal': 150.0}, {'order_item_id': 8, 'order_item_product_id': 1014, 'order_item_quantity': 4, 'order_item_product_price': 49.98, 'order_item_subtotal': 199.92}]}</td><td>retail-data-topic-01</td><td>4</td><td>0</td><td>2025-04-24T06:36:33.429+0000</td></tr><tr><td>11318</td><td>{'order_id': 5, 'customer_id': 11318, 'customer_fname': 'Mary', 'customer_lname': 'Henry', 'city': 'Caguas', 'state': 'PR', 'pincode': 725, 'line_items': [{'order_item_id': 9, 'order_item_product_id': 957, 'order_item_quantity': 1, 'order_item_product_price': 299.98, 'order_item_subtotal': 299.98}, {'order_item_id': 10, 'order_item_product_id': 365, 'order_item_quantity': 5, 'order_item_product_price': 59.99, 'order_item_subtotal': 299.95}, {'order_item_id': 11, 'order_item_product_id': 1014, 'order_item_quantity': 2, 'order_item_product_price': 49.98, 'order_item_subtotal': 99.96}, {'order_item_id': 12, 'order_item_product_id': 957, 'order_item_quantity': 1, 'order_item_product_price': 299.98, 'order_item_subtotal': 299.98}, {'order_item_id': 13, 'order_item_product_id': 403, 'order_item_quantity': 1, 'order_item_product_price': 129.99, 'order_item_subtotal': 129.99}]}</td><td>retail-data-topic-01</td><td>4</td><td>1</td><td>2025-04-24T06:36:37.893+0000</td></tr><tr><td>9488</td><td>{'order_id': 19, 'customer_id': 9488, 'customer_fname': 'Mary', 'customer_lname': 'Smith', 'city': 'Hialeah', 'state': 'FL', 'pincode': 33012, 'line_items': [{'order_item_id': 58, 'order_item_product_id': 1004, 'order_item_quantity': 1, 'order_item_product_price': 399.98, 'order_item_subtotal': 399.98}, {'order_item_id': 59, 'order_item_product_id': 957, 'order_item_quantity': 1, 'order_item_product_price': 299.98, 'order_item_subtotal': 299.98}]}</td><td>retail-data-topic-01</td><td>4</td><td>2</td><td>2025-04-24T06:37:19.622+0000</td></tr><tr><td>9198</td><td>{'order_id': 20, 'customer_id': 9198, 'customer_fname': 'David', 'customer_lname': 'Kerr', 'city': 'Bowling Green', 'state': 'KY', 'pincode': 42101, 'line_items': [{'order_item_id': 60, 'order_item_product_id': 502, 'order_item_quantity': 5, 'order_item_product_price': 50.0, 'order_item_subtotal': 250.0}, {'order_item_id': 61, 'order_item_product_id': 1014, 'order_item_quantity': 4, 'order_item_product_price': 49.98, 'order_item_subtotal': 199.92}, {'order_item_id': 62, 'order_item_product_id': 403, 'order_item_quantity': 1, 'order_item_product_price': 129.99, 'order_item_subtotal': 129.99}, {'order_item_id': 63, 'order_item_product_id': 365, 'order_item_quantity': 5, 'order_item_product_price': 59.99, 'order_item_subtotal': 299.95}]}</td><td>retail-data-topic-01</td><td>4</td><td>3</td><td>2025-04-24T06:37:22.475+0000</td></tr><tr><td>196</td><td>{'order_id': 29, 'customer_id': 196, 'customer_fname': 'Thomas', 'customer_lname': 'Watson', 'city': 'Dearborn', 'state': 'MI', 'pincode': 48126, 'line_items': [{'order_item_id': 83, 'order_item_product_id': 1073, 'order_item_quantity': 1, 'order_item_product_price': 199.99, 'order_item_subtotal': 199.99}, {'order_item_id': 84, 'order_item_product_id': 1014, 'order_item_quantity': 5, 'order_item_product_price': 49.98, 'order_item_subtotal': 249.9}, {'order_item_id': 85, 'order_item_product_id': 403, 'order_item_quantity': 1, 'order_item_product_price': 129.99, 'order_item_subtotal': 129.99}, {'order_item_id': 86, 'order_item_product_id': 403, 'order_item_quantity': 1, 'order_item_product_price': 129.99, 'order_item_subtotal': 129.99}, {'order_item_id': 87, 'order_item_product_id': 1004, 'order_item_quantity': 1, 'order_item_product_price': 399.98, 'order_item_subtotal': 399.98}]}</td><td>retail-data-topic-01</td><td>4</td><td>4</td><td>2025-04-24T06:37:41.827+0000</td></tr><tr><td>10039</td><td>{'order_id': 30, 'customer_id': 10039, 'customer_fname': 'Mary', 'customer_lname': 'Butler', 'city': 'Conway', 'state': 'AR', 'pincode': 72032, 'line_items': [{'order_item_id': 88, 'order_item_product_id': 502, 'order_item_quantity': 2, 'order_item_product_price': 50.0, 'order_item_subtotal': 100.0}]}</td><td>retail-data-topic-01</td><td>4</td><td>5</td><td>2025-04-24T06:37:44.492+0000</td></tr><tr><td>5793</td><td>{'order_id': 33, 'customer_id': 5793, 'customer_fname': 'Margaret', 'customer_lname': 'Weeks', 'city': 'Caguas', 'state': 'PR', 'pincode': 725, 'line_items': [{'order_item_id': 90, 'order_item_product_id': 403, 'order_item_quantity': 1, 'order_item_product_price': 129.99, 'order_item_subtotal': 129.99}, {'order_item_id': 91, 'order_item_product_id': 1073, 'order_item_quantity': 1, 'order_item_product_price': 199.99, 'order_item_subtotal': 199.99}, {'order_item_id': 92, 'order_item_product_id': 403, 'order_item_quantity': 1, 'order_item_product_price': 129.99, 'order_item_subtotal': 129.99}, {'order_item_id': 93, 'order_item_product_id': 1014, 'order_item_quantity': 4, 'order_item_product_price': 49.98, 'order_item_subtotal': 199.92}]}</td><td>retail-data-topic-01</td><td>4</td><td>6</td><td>2025-04-24T06:37:49.800+0000</td></tr><tr><td>5649</td><td>{'order_id': 36, 'customer_id': 5649, 'customer_fname': 'Mary', 'customer_lname': 'Nguyen', 'city': 'Caguas', 'state': 'PR', 'pincode': 725, 'line_items': [{'order_item_id': 96, 'order_item_product_id': 502, 'order_item_quantity': 2, 'order_item_product_price': 50.0, 'order_item_subtotal': 100.0}, {'order_item_id': 97, 'order_item_product_id': 957, 'order_item_quantity': 1, 'order_item_product_price': 299.98, 'order_item_subtotal': 299.98}, {'order_item_id': 98, 'order_item_product_id': 1004, 'order_item_quantity': 1, 'order_item_product_price': 399.98, 'order_item_subtotal': 399.98}]}</td><td>retail-data-topic-01</td><td>4</td><td>7</td><td>2025-04-24T06:37:58.029+0000</td></tr><tr><td>5863</td><td>{'order_id': 37, 'customer_id': 5863, 'customer_fname': 'Amy', 'customer_lname': 'Smith', 'city': 'Cordova', 'state': 'TN', 'pincode': 38018, 'line_items': [{'order_item_id': 99, 'order_item_product_id': 365, 'order_item_quantity': 1, 'order_item_product_price': 59.99, 'order_item_subtotal': 59.99}, {'order_item_id': 100, 'order_item_product_id': 906, 'order_item_quantity': 4, 'order_item_product_price': 24.99, 'order_item_subtotal': 99.96}]}</td><td>retail-data-topic-01</td><td>4</td><td>8</td><td>2025-04-24T06:38:00.752+0000</td></tr><tr><td>11586</td><td>{'order_id': 38, 'customer_id': 11586, 'customer_fname': 'Nancy', 'customer_lname': 'Wright', 'city': 'New Orleans', 'state': 'LA', 'pincode': 70122, 'line_items': [{'order_item_id': 101, 'order_item_product_id': 627, 'order_item_quantity': 4, 'order_item_product_price': 39.99, 'order_item_subtotal': 159.96}, {'order_item_id': 102, 'order_item_product_id': 502, 'order_item_quantity': 4, 'order_item_product_price': 50.0, 'order_item_subtotal': 200.0}]}</td><td>retail-data-topic-01</td><td>4</td><td>9</td><td>2025-04-24T06:38:03.907+0000</td></tr><tr><td>7073</td><td>{'order_id': 57, 'customer_id': 7073, 'customer_fname': 'Joan', 'customer_lname': 'Smith', 'city': 'Del Rio', 'state': 'TX', 'pincode': 78840, 'line_items': [{'order_item_id': 133, 'order_item_product_id': 365, 'order_item_quantity': 3, 'order_item_product_price': 59.99, 'order_item_subtotal': 179.97}, {'order_item_id': 134, 'order_item_product_id': 365, 'order_item_quantity': 2, 'order_item_product_price': 59.99, 'order_item_subtotal': 119.98}, {'order_item_id': 135, 'order_item_product_id': 403, 'order_item_quantity': 1, 'order_item_product_price': 129.99, 'order_item_subtotal': 129.99}, {'order_item_id': 136, 'order_item_product_id': 821, 'order_item_quantity': 4, 'order_item_product_price': 51.99, 'order_item_subtotal': 207.96}]}</td><td>retail-data-topic-01</td><td>4</td><td>10</td><td>2025-04-24T06:38:42.653+0000</td></tr><tr><td>9111</td><td>{'order_id': 62, 'customer_id': 9111, 'customer_fname': 'Mary', 'customer_lname': 'Smith', 'city': 'Caguas', 'state': 'PR', 'pincode': 725, 'line_items': [{'order_item_id': 149, 'order_item_product_id': 1004, 'order_item_quantity': 1, 'order_item_product_price': 399.98, 'order_item_subtotal': 399.98}, {'order_item_id': 150, 'order_item_product_id': 1004, 'order_item_quantity': 1, 'order_item_product_price': 399.98, 'order_item_subtotal': 399.98}, {'order_item_id': 151, 'order_item_product_id': 957, 'order_item_quantity': 1, 'order_item_product_price': 299.98, 'order_item_subtotal': 299.98}, {'order_item_id': 152, 'order_item_product_id': 502, 'order_item_quantity': 1, 'order_item_product_price': 50.0, 'order_item_subtotal': 50.0}]}</td><td>retail-data-topic-01</td><td>4</td><td>11</td><td>2025-04-24T06:38:53.304+0000</td></tr><tr><td>1406</td><td>{'order_id': 67, 'customer_id': 1406, 'customer_fname': 'Amy', 'customer_lname': 'Smith', 'city': 'Caguas', 'state': 'PR', 'pincode': 725, 'line_items': [{'order_item_id': 166, 'order_item_product_id': 502, 'order_item_quantity': 3, 'order_item_product_price': 50.0, 'order_item_subtotal': 150.0}]}</td><td>retail-data-topic-01</td><td>4</td><td>12</td><td>2025-04-24T06:39:07.232+0000</td></tr><tr><td>11809</td><td>{'order_id': 70, 'customer_id': 11809, 'customer_fname': 'Eric', 'customer_lname': 'Smith', 'city': 'Jersey City', 'state': 'NJ', 'pincode': 7307, 'line_items': [{'order_item_id': 169, 'order_item_product_id': 1073, 'order_item_quantity': 1, 'order_item_product_price': 199.99, 'order_item_subtotal': 199.99}, {'order_item_id': 170, 'order_item_product_id': 403, 'order_item_quantity': 1, 'order_item_product_price': 129.99, 'order_item_subtotal': 129.99}, {'order_item_id': 171, 'order_item_product_id': 957, 'order_item_quantity': 1, 'order_item_product_price': 299.98, 'order_item_subtotal': 299.98}]}</td><td>retail-data-topic-01</td><td>4</td><td>13</td><td>2025-04-24T06:39:15.389+0000</td></tr><tr><td>4349</td><td>{'order_id': 72, 'customer_id': 4349, 'customer_fname': 'Donna', 'customer_lname': 'Williams', 'city': 'Salt Lake City', 'state': 'UT', 'pincode': 84118, 'line_items': [{'order_item_id': 175, 'order_item_product_id': 627, 'order_item_quantity': 2, 'order_item_product_price': 39.99, 'order_item_subtotal': 79.98}, {'order_item_id': 176, 'order_item_product_id': 1073, 'order_item_quantity': 1, 'order_item_product_price': 199.99, 'order_item_subtotal': 199.99}, {'order_item_id': 177, 'order_item_product_id': 572, 'order_item_quantity': 3, 'order_item_product_price': 39.99, 'order_item_subtotal': 119.97}, {'order_item_id': 178, 'order_item_product_id': 835, 'order_item_quantity': 2, 'order_item_product_price': 31.99, 'order_item_subtotal': 63.98}]}</td><td>retail-data-topic-01</td><td>4</td><td>14</td><td>2025-04-24T06:39:20.793+0000</td></tr><tr><td>12256</td><td>{'order_id': 103, 'customer_id': 12256, 'customer_fname': 'Victoria', 'customer_lname': 'Alvarez', 'city': 'Summerville', 'state': 'SC', 'pincode': 29483, 'line_items': [{'order_item_id': 233, 'order_item_product_id': 365, 'order_item_quantity': 5, 'order_item_product_price': 59.99, 'order_item_subtotal': 299.95}, {'order_item_id': 234, 'order_item_product_id': 403, 'order_item_quantity': 1, 'order_item_product_price': 129.99, 'order_item_subtotal': 129.99}, {'order_item_id': 235, 'order_item_product_id': 1004, 'order_item_quantity': 1, 'order_item_product_price': 399.98, 'order_item_subtotal': 399.98}]}</td><td>retail-data-topic-01</td><td>4</td><td>15</td><td>2025-04-24T06:40:17.680+0000</td></tr><tr><td>8827</td><td>{'order_id': 4, 'customer_id': 8827, 'customer_fname': 'Brian', 'customer_lname': 'Wilson', 'city': 'San Antonio', 'state': 'TX', 'pincode': 78240, 'line_items': [{'order_item_id': 5, 'order_item_product_id': 897, 'order_item_quantity': 2, 'order_item_product_price': 24.99, 'order_item_subtotal': 49.98}, {'order_item_id': 6, 'order_item_product_id': 365, 'order_item_quantity': 5, 'order_item_product_price': 59.99, 'order_item_subtotal': 299.95}, {'order_item_id': 7, 'order_item_product_id': 502, 'order_item_quantity': 3, 'order_item_product_price': 50.0, 'order_item_subtotal': 150.0}, {'order_item_id': 8, 'order_item_product_id': 1014, 'order_item_quantity': 4, 'order_item_product_price': 49.98, 'order_item_subtotal': 199.92}]}</td><td>retail-data-topic-01</td><td>4</td><td>16</td><td>2025-04-24T07:59:58.480+0000</td></tr><tr><td>11318</td><td>{'order_id': 5, 'customer_id': 11318, 'customer_fname': 'Mary', 'customer_lname': 'Henry', 'city': 'Caguas', 'state': 'PR', 'pincode': 725, 'line_items': [{'order_item_id': 9, 'order_item_product_id': 957, 'order_item_quantity': 1, 'order_item_product_price': 299.98, 'order_item_subtotal': 299.98}, {'order_item_id': 10, 'order_item_product_id': 365, 'order_item_quantity': 5, 'order_item_product_price': 59.99, 'order_item_subtotal': 299.95}, {'order_item_id': 11, 'order_item_product_id': 1014, 'order_item_quantity': 2, 'order_item_product_price': 49.98, 'order_item_subtotal': 99.96}, {'order_item_id': 12, 'order_item_product_id': 957, 'order_item_quantity': 1, 'order_item_product_price': 299.98, 'order_item_subtotal': 299.98}, {'order_item_id': 13, 'order_item_product_id': 403, 'order_item_quantity': 1, 'order_item_product_price': 129.99, 'order_item_subtotal': 129.99}]}</td><td>retail-data-topic-01</td><td>4</td><td>17</td><td>2025-04-24T08:00:04.528+0000</td></tr><tr><td>9488</td><td>{'order_id': 19, 'customer_id': 9488, 'customer_fname': 'Mary', 'customer_lname': 'Smith', 'city': 'Hialeah', 'state': 'FL', 'pincode': 33012, 'line_items': [{'order_item_id': 58, 'order_item_product_id': 1004, 'order_item_quantity': 1, 'order_item_product_price': 399.98, 'order_item_subtotal': 399.98}, {'order_item_id': 59, 'order_item_product_id': 957, 'order_item_quantity': 1, 'order_item_product_price': 299.98, 'order_item_subtotal': 299.98}]}</td><td>retail-data-topic-01</td><td>4</td><td>18</td><td>2025-04-24T08:00:51.270+0000</td></tr><tr><td>9198</td><td>{'order_id': 20, 'customer_id': 9198, 'customer_fname': 'David', 'customer_lname': 'Kerr', 'city': 'Bowling Green', 'state': 'KY', 'pincode': 42101, 'line_items': [{'order_item_id': 60, 'order_item_product_id': 502, 'order_item_quantity': 5, 'order_item_product_price': 50.0, 'order_item_subtotal': 250.0}, {'order_item_id': 61, 'order_item_product_id': 1014, 'order_item_quantity': 4, 'order_item_product_price': 49.98, 'order_item_subtotal': 199.92}, {'order_item_id': 62, 'order_item_product_id': 403, 'order_item_quantity': 1, 'order_item_product_price': 129.99, 'order_item_subtotal': 129.99}, {'order_item_id': 63, 'order_item_product_id': 365, 'order_item_quantity': 5, 'order_item_product_price': 59.99, 'order_item_subtotal': 299.95}]}</td><td>retail-data-topic-01</td><td>4</td><td>19</td><td>2025-04-24T08:00:54.174+0000</td></tr><tr><td>8827</td><td>{'order_id': 4, 'customer_id': 8827, 'customer_fname': 'Brian', 'customer_lname': 'Wilson', 'city': 'San Antonio', 'state': 'TX', 'pincode': 78240, 'line_items': [{'order_item_id': 5, 'order_item_product_id': 897, 'order_item_quantity': 2, 'order_item_product_price': 24.99, 'order_item_subtotal': 49.98}, {'order_item_id': 6, 'order_item_product_id': 365, 'order_item_quantity': 5, 'order_item_product_price': 59.99, 'order_item_subtotal': 299.95}, {'order_item_id': 7, 'order_item_product_id': 502, 'order_item_quantity': 3, 'order_item_product_price': 50.0, 'order_item_subtotal': 150.0}, {'order_item_id': 8, 'order_item_product_id': 1014, 'order_item_quantity': 4, 'order_item_product_price': 49.98, 'order_item_subtotal': 199.92}]}</td><td>retail-data-topic-01</td><td>4</td><td>20</td><td>2025-04-24T09:22:29.070+0000</td></tr><tr><td>11318</td><td>{'order_id': 5, 'customer_id': 11318, 'customer_fname': 'Mary', 'customer_lname': 'Henry', 'city': 'Caguas', 'state': 'PR', 'pincode': 725, 'line_items': [{'order_item_id': 9, 'order_item_product_id': 957, 'order_item_quantity': 1, 'order_item_product_price': 299.98, 'order_item_subtotal': 299.98}, {'order_item_id': 10, 'order_item_product_id': 365, 'order_item_quantity': 5, 'order_item_product_price': 59.99, 'order_item_subtotal': 299.95}, {'order_item_id': 11, 'order_item_product_id': 1014, 'order_item_quantity': 2, 'order_item_product_price': 49.98, 'order_item_subtotal': 99.96}, {'order_item_id': 12, 'order_item_product_id': 957, 'order_item_quantity': 1, 'order_item_product_price': 299.98, 'order_item_subtotal': 299.98}, {'order_item_id': 13, 'order_item_product_id': 403, 'order_item_quantity': 1, 'order_item_product_price': 129.99, 'order_item_subtotal': 129.99}]}</td><td>retail-data-topic-01</td><td>4</td><td>21</td><td>2025-04-24T09:22:31.924+0000</td></tr><tr><td>9488</td><td>{'order_id': 19, 'customer_id': 9488, 'customer_fname': 'Mary', 'customer_lname': 'Smith', 'city': 'Hialeah', 'state': 'FL', 'pincode': 33012, 'line_items': [{'order_item_id': 58, 'order_item_product_id': 1004, 'order_item_quantity': 1, 'order_item_product_price': 399.98, 'order_item_subtotal': 399.98}, {'order_item_id': 59, 'order_item_product_id': 957, 'order_item_quantity': 1, 'order_item_product_price': 299.98, 'order_item_subtotal': 299.98}]}</td><td>retail-data-topic-01</td><td>4</td><td>22</td><td>2025-04-24T09:22:51.486+0000</td></tr><tr><td>9198</td><td>{'order_id': 20, 'customer_id': 9198, 'customer_fname': 'David', 'customer_lname': 'Kerr', 'city': 'Bowling Green', 'state': 'KY', 'pincode': 42101, 'line_items': [{'order_item_id': 60, 'order_item_product_id': 502, 'order_item_quantity': 5, 'order_item_product_price': 50.0, 'order_item_subtotal': 250.0}, {'order_item_id': 61, 'order_item_product_id': 1014, 'order_item_quantity': 4, 'order_item_product_price': 49.98, 'order_item_subtotal': 199.92}, {'order_item_id': 62, 'order_item_product_id': 403, 'order_item_quantity': 1, 'order_item_product_price': 129.99, 'order_item_subtotal': 129.99}, {'order_item_id': 63, 'order_item_product_id': 365, 'order_item_quantity': 5, 'order_item_product_price': 59.99, 'order_item_subtotal': 299.95}]}</td><td>retail-data-topic-01</td><td>4</td><td>23</td><td>2025-04-24T09:22:52.096+0000</td></tr><tr><td>196</td><td>{'order_id': 29, 'customer_id': 196, 'customer_fname': 'Thomas', 'customer_lname': 'Watson', 'city': 'Dearborn', 'state': 'MI', 'pincode': 48126, 'line_items': [{'order_item_id': 83, 'order_item_product_id': 1073, 'order_item_quantity': 1, 'order_item_product_price': 199.99, 'order_item_subtotal': 199.99}, {'order_item_id': 84, 'order_item_product_id': 1014, 'order_item_quantity': 5, 'order_item_product_price': 49.98, 'order_item_subtotal': 249.9}, {'order_item_id': 85, 'order_item_product_id': 403, 'order_item_quantity': 1, 'order_item_product_price': 129.99, 'order_item_subtotal': 129.99}, {'order_item_id': 86, 'order_item_product_id': 403, 'order_item_quantity': 1, 'order_item_product_price': 129.99, 'order_item_subtotal': 129.99}, {'order_item_id': 87, 'order_item_product_id': 1004, 'order_item_quantity': 1, 'order_item_product_price': 399.98, 'order_item_subtotal': 399.98}]}</td><td>retail-data-topic-01</td><td>4</td><td>24</td><td>2025-04-24T09:22:56.991+0000</td></tr><tr><td>10039</td><td>{'order_id': 30, 'customer_id': 10039, 'customer_fname': 'Mary', 'customer_lname': 'Butler', 'city': 'Conway', 'state': 'AR', 'pincode': 72032, 'line_items': [{'order_item_id': 88, 'order_item_product_id': 502, 'order_item_quantity': 2, 'order_item_product_price': 50.0, 'order_item_subtotal': 100.0}]}</td><td>retail-data-topic-01</td><td>4</td><td>25</td><td>2025-04-24T09:22:57.586+0000</td></tr><tr><td>5793</td><td>{'order_id': 33, 'customer_id': 5793, 'customer_fname': 'Margaret', 'customer_lname': 'Weeks', 'city': 'Caguas', 'state': 'PR', 'pincode': 725, 'line_items': [{'order_item_id': 90, 'order_item_product_id': 403, 'order_item_quantity': 1, 'order_item_product_price': 129.99, 'order_item_subtotal': 129.99}, {'order_item_id': 91, 'order_item_product_id': 1073, 'order_item_quantity': 1, 'order_item_product_price': 199.99, 'order_item_subtotal': 199.99}, {'order_item_id': 92, 'order_item_product_id': 403, 'order_item_quantity': 1, 'order_item_product_price': 129.99, 'order_item_subtotal': 129.99}, {'order_item_id': 93, 'order_item_product_id': 1014, 'order_item_quantity': 4, 'order_item_product_price': 49.98, 'order_item_subtotal': 199.92}]}</td><td>retail-data-topic-01</td><td>4</td><td>26</td><td>2025-04-24T09:22:58.923+0000</td></tr><tr><td>5649</td><td>{'order_id': 36, 'customer_id': 5649, 'customer_fname': 'Mary', 'customer_lname': 'Nguyen', 'city': 'Caguas', 'state': 'PR', 'pincode': 725, 'line_items': [{'order_item_id': 96, 'order_item_product_id': 502, 'order_item_quantity': 2, 'order_item_product_price': 50.0, 'order_item_subtotal': 100.0}, {'order_item_id': 97, 'order_item_product_id': 957, 'order_item_quantity': 1, 'order_item_product_price': 299.98, 'order_item_subtotal': 299.98}, {'order_item_id': 98, 'order_item_product_id': 1004, 'order_item_quantity': 1, 'order_item_product_price': 399.98, 'order_item_subtotal': 399.98}]}</td><td>retail-data-topic-01</td><td>4</td><td>27</td><td>2025-04-24T09:23:00.942+0000</td></tr><tr><td>5863</td><td>{'order_id': 37, 'customer_id': 5863, 'customer_fname': 'Amy', 'customer_lname': 'Smith', 'city': 'Cordova', 'state': 'TN', 'pincode': 38018, 'line_items': [{'order_item_id': 99, 'order_item_product_id': 365, 'order_item_quantity': 1, 'order_item_product_price': 59.99, 'order_item_subtotal': 59.99}, {'order_item_id': 100, 'order_item_product_id': 906, 'order_item_quantity': 4, 'order_item_product_price': 24.99, 'order_item_subtotal': 99.96}]}</td><td>retail-data-topic-01</td><td>4</td><td>28</td><td>2025-04-24T09:23:01.535+0000</td></tr><tr><td>11586</td><td>{'order_id': 38, 'customer_id': 11586, 'customer_fname': 'Nancy', 'customer_lname': 'Wright', 'city': 'New Orleans', 'state': 'LA', 'pincode': 70122, 'line_items': [{'order_item_id': 101, 'order_item_product_id': 627, 'order_item_quantity': 4, 'order_item_product_price': 39.99, 'order_item_subtotal': 159.96}, {'order_item_id': 102, 'order_item_product_id': 502, 'order_item_quantity': 4, 'order_item_product_price': 50.0, 'order_item_subtotal': 200.0}]}</td><td>retail-data-topic-01</td><td>4</td><td>29</td><td>2025-04-24T09:23:02.130+0000</td></tr><tr><td>7073</td><td>{'order_id': 57, 'customer_id': 7073, 'customer_fname': 'Joan', 'customer_lname': 'Smith', 'city': 'Del Rio', 'state': 'TX', 'pincode': 78840, 'line_items': [{'order_item_id': 133, 'order_item_product_id': 365, 'order_item_quantity': 3, 'order_item_product_price': 59.99, 'order_item_subtotal': 179.97}, {'order_item_id': 134, 'order_item_product_id': 365, 'order_item_quantity': 2, 'order_item_product_price': 59.99, 'order_item_subtotal': 119.98}, {'order_item_id': 135, 'order_item_product_id': 403, 'order_item_quantity': 1, 'order_item_product_price': 129.99, 'order_item_subtotal': 129.99}, {'order_item_id': 136, 'order_item_product_id': 821, 'order_item_quantity': 4, 'order_item_product_price': 51.99, 'order_item_subtotal': 207.96}]}</td><td>retail-data-topic-01</td><td>4</td><td>30</td><td>2025-04-24T09:23:11.959+0000</td></tr><tr><td>11599</td><td>{\"order_id\":1,\"customer_id\":11599,\"customer_fname\":\"Mary\",\"customer_lname\":\"Malone\",\"city\":\"Hickory\",\"state\":\"NC\",\"pincode\":28601,\"line_items\":[{\"order_item_id\":1,\"order_item_product_id\":957,\"order_item_quantity\":1,\"order_item_product_price\":299.98,\"order_item_subtotal\":299.98}]}</td><td>retail-data-topic-01</td><td>0</td><td>0</td><td>2025-04-24T06:17:38.791+0000</td></tr><tr><td>11599</td><td>{'order_id': 1, 'customer_id': 11599, 'customer_fname': 'Mary', 'customer_lname': 'Malone', 'city': 'Hickory', 'state': 'NC', 'pincode': 28601, 'line_items': [{'order_item_id': 1, 'order_item_product_id': 957, 'order_item_quantity': 1, 'order_item_product_price': 299.98, 'order_item_subtotal': 299.98}]}</td><td>retail-data-topic-01</td><td>0</td><td>1</td><td>2025-04-24T06:36:21.973+0000</td></tr><tr><td>2568</td><td>{'order_id': 15, 'customer_id': 2568, 'customer_fname': 'Maria', 'customer_lname': 'Smith', 'city': 'Memphis', 'state': 'TN', 'pincode': 38127, 'line_items': [{'order_item_id': 43, 'order_item_product_id': 502, 'order_item_quantity': 1, 'order_item_product_price': 50.0, 'order_item_subtotal': 50.0}, {'order_item_id': 44, 'order_item_product_id': 1073, 'order_item_quantity': 1, 'order_item_product_price': 199.99, 'order_item_subtotal': 199.99}, {'order_item_id': 45, 'order_item_product_id': 828, 'order_item_quantity': 3, 'order_item_product_price': 31.99, 'order_item_subtotal': 95.97}, {'order_item_id': 46, 'order_item_product_id': 365, 'order_item_quantity': 3, 'order_item_product_price': 59.99, 'order_item_subtotal': 179.97}, {'order_item_id': 47, 'order_item_product_id': 1004, 'order_item_quantity': 1, 'order_item_product_price': 399.98, 'order_item_subtotal': 399.98}]}</td><td>retail-data-topic-01</td><td>0</td><td>2</td><td>2025-04-24T06:37:08.315+0000</td></tr><tr><td>2667</td><td>{'order_id': 17, 'customer_id': 2667, 'customer_fname': 'Tammy', 'customer_lname': 'Smith', 'city': 'Sun Valley', 'state': 'CA', 'pincode': 91352, 'line_items': [{'order_item_id': 50, 'order_item_product_id': 810, 'order_item_quantity': 4, 'order_item_product_price': 19.99, 'order_item_subtotal': 79.96}, {'order_item_id': 51, 'order_item_product_id': 1014, 'order_item_quantity': 2, 'order_item_product_price': 49.98, 'order_item_subtotal': 99.96}, {'order_item_id': 52, 'order_item_product_id': 93, 'order_item_quantity': 3, 'order_item_product_price': 24.99, 'order_item_subtotal': 74.97}, {'order_item_id': 53, 'order_item_product_id': 1073, 'order_item_quantity': 1, 'order_item_product_price': 199.99, 'order_item_subtotal': 199.99}, {'order_item_id': 54, 'order_item_product_id': 365, 'order_item_quantity': 4, 'order_item_product_price': 59.99, 'order_item_subtotal': 239.96}]}</td><td>retail-data-topic-01</td><td>0</td><td>3</td><td>2025-04-24T06:37:14.036+0000</td></tr><tr><td>1205</td><td>{'order_id': 18, 'customer_id': 1205, 'customer_fname': 'Mary', 'customer_lname': 'Powell', 'city': 'Miami', 'state': 'FL', 'pincode': 33126, 'line_items': [{'order_item_id': 55, 'order_item_product_id': 1073, 'order_item_quantity': 1, 'order_item_product_price': 199.99, 'order_item_subtotal': 199.99}, {'order_item_id': 56, 'order_item_product_id': 365, 'order_item_quantity': 2, 'order_item_product_price': 59.99, 'order_item_subtotal': 119.98}, {'order_item_id': 57, 'order_item_product_id': 403, 'order_item_quantity': 1, 'order_item_product_price': 129.99, 'order_item_subtotal': 129.99}]}</td><td>retail-data-topic-01</td><td>0</td><td>4</td><td>2025-04-24T06:37:16.752+0000</td></tr><tr><td>11441</td><td>{'order_id': 24, 'customer_id': 11441, 'customer_fname': 'Mary', 'customer_lname': 'Ferguson', 'city': 'Lutz', 'state': 'FL', 'pincode': 33549, 'line_items': [{'order_item_id': 69, 'order_item_product_id': 403, 'order_item_quantity': 1, 'order_item_product_price': 129.99, 'order_item_subtotal': 129.99}, {'order_item_id': 70, 'order_item_product_id': 502, 'order_item_quantity': 1, 'order_item_product_price': 50.0, 'order_item_subtotal': 50.0}, {'order_item_id': 71, 'order_item_product_id': 502, 'order_item_quantity': 5, 'order_item_product_price': 50.0, 'order_item_subtotal': 250.0}, {'order_item_id': 72, 'order_item_product_id': 1073, 'order_item_quantity': 1, 'order_item_product_price': 199.99, 'order_item_subtotal': 199.99}, {'order_item_id': 73, 'order_item_product_id': 1073, 'order_item_quantity': 1, 'order_item_product_price': 199.99, 'order_item_subtotal': 199.99}]}</td><td>retail-data-topic-01</td><td>0</td><td>5</td><td>2025-04-24T06:37:30.665+0000</td></tr><tr><td>10500</td><td>{'order_id': 44, 'customer_id': 10500, 'customer_fname': 'Mary', 'customer_lname': 'Smith', 'city': 'Caguas', 'state': 'PR', 'pincode': 725, 'line_items': [{'order_item_id': 112, 'order_item_product_id': 1004, 'order_item_quantity': 1, 'order_item_product_price': 399.98, 'order_item_subtotal': 399.98}]}</td><td>retail-data-topic-01</td><td>0</td><td>6</td><td>2025-04-24T06:38:17.651+0000</td></tr><tr><td>1549</td><td>{'order_id': 46, 'customer_id': 1549, 'customer_fname': 'Diane', 'customer_lname': 'Wiggins', 'city': 'Oregon City', 'state': 'OR', 'pincode': 97045, 'line_items': [{'order_item_id': 117, 'order_item_product_id': 403, 'order_item_quantity': 1, 'order_item_product_price': 129.99, 'order_item_subtotal': 129.99}, {'order_item_id': 118, 'order_item_product_id': 1014, 'order_item_quantity': 2, 'order_item_product_price': 49.98, 'order_item_subtotal': 99.96}]}</td><td>retail-data-topic-01</td><td>0</td><td>7</td><td>2025-04-24T06:38:23.000+0000</td></tr><tr><td>12186</td><td>{'order_id': 48, 'customer_id': 12186, 'customer_fname': 'Gloria', 'customer_lname': 'Mcknight', 'city': 'Flushing', 'state': 'NY', 'pincode': 11355, 'line_items': [{'order_item_id': 119, 'order_item_product_id': 1014, 'order_item_quantity': 1, 'order_item_product_price': 49.98, 'order_item_subtotal': 49.98}, {'order_item_id': 120, 'order_item_product_id': 886, 'order_item_quantity': 2, 'order_item_product_price': 24.99, 'order_item_subtotal': 49.98}]}</td><td>retail-data-topic-01</td><td>0</td><td>8</td><td>2025-04-24T06:38:25.822+0000</td></tr><tr><td>1871</td><td>{'order_id': 49, 'customer_id': 1871, 'customer_fname': 'Mary', 'customer_lname': 'Mcknight', 'city': 'Caguas', 'state': 'PR', 'pincode': 725, 'line_items': [{'order_item_id': 121, 'order_item_product_id': 957, 'order_item_quantity': 1, 'order_item_product_price': 299.98, 'order_item_subtotal': 299.98}, {'order_item_id': 122, 'order_item_product_id': 365, 'order_item_quantity': 2, 'order_item_product_price': 59.99, 'order_item_subtotal': 119.98}, {'order_item_id': 123, 'order_item_product_id': 403, 'order_item_quantity': 1, 'order_item_product_price': 129.99, 'order_item_subtotal': 129.99}]}</td><td>retail-data-topic-01</td><td>0</td><td>9</td><td>2025-04-24T06:38:28.727+0000</td></tr><tr><td>5126</td><td>{'order_id': 52, 'customer_id': 5126, 'customer_fname': 'Karen', 'customer_lname': 'Roberts', 'city': 'Wheeling', 'state': 'WV', 'pincode': 26003, 'line_items': [{'order_item_id': 128, 'order_item_product_id': 1014, 'order_item_quantity': 5, 'order_item_product_price': 49.98, 'order_item_subtotal': 249.9}, {'order_item_id': 129, 'order_item_product_id': 1014, 'order_item_quantity': 3, 'order_item_product_price': 49.98, 'order_item_subtotal': 149.94}]}</td><td>retail-data-topic-01</td><td>0</td><td>10</td><td>2025-04-24T06:38:36.921+0000</td></tr><tr><td>1148</td><td>{'order_id': 63, 'customer_id': 1148, 'customer_fname': 'Mary', 'customer_lname': 'Anderson', 'city': 'Augusta', 'state': 'GA', 'pincode': 30907, 'line_items': [{'order_item_id': 153, 'order_item_product_id': 1004, 'order_item_quantity': 1, 'order_item_product_price': 399.98, 'order_item_subtotal': 399.98}, {'order_item_id': 154, 'order_item_product_id': 1014, 'order_item_quantity': 2, 'order_item_product_price': 49.98, 'order_item_subtotal': 99.96}, {'order_item_id': 155, 'order_item_product_id': 1004, 'order_item_quantity': 1, 'order_item_product_price': 399.98, 'order_item_subtotal': 399.98}]}</td><td>retail-data-topic-01</td><td>0</td><td>11</td><td>2025-04-24T06:38:55.924+0000</td></tr><tr><td>8646</td><td>{'order_id': 71, 'customer_id': 8646, 'customer_fname': 'Mary', 'customer_lname': 'Smith', 'city': 'Piscataway', 'state': 'NJ', 'pincode': 8854, 'line_items': [{'order_item_id': 172, 'order_item_product_id': 191, 'order_item_quantity': 5, 'order_item_product_price': 99.99, 'order_item_subtotal': 499.95}, {'order_item_id': 173, 'order_item_product_id': 365, 'order_item_quantity': 2, 'order_item_product_price': 59.99, 'order_item_subtotal': 119.98}, {'order_item_id': 174, 'order_item_product_id': 627, 'order_item_quantity': 1, 'order_item_product_price': 39.99, 'order_item_subtotal': 39.99}]}</td><td>retail-data-topic-01</td><td>0</td><td>12</td><td>2025-04-24T06:39:18.083+0000</td></tr><tr><td>3809</td><td>{'order_id': 88, 'customer_id': 3809, 'customer_fname': 'Melissa', 'customer_lname': 'Taylor', 'city': 'Lakewood', 'state': 'NJ', 'pincode': 8701, 'line_items': [{'order_item_id': 205, 'order_item_product_id': 403, 'order_item_quantity': 1, 'order_item_product_price': 129.99, 'order_item_subtotal': 129.99}, {'order_item_id': 206, 'order_item_product_id': 1014, 'order_item_quantity': 3, 'order_item_product_price': 49.98, 'order_item_subtotal': 149.94}]}</td><td>retail-data-topic-01</td><td>0</td><td>13</td><td>2025-04-24T06:39:45.226+0000</td></tr><tr><td>5243</td><td>{'order_id': 98, 'customer_id': 5243, 'customer_fname': 'Mary', 'customer_lname': 'Smith', 'city': 'Caguas', 'state': 'PR', 'pincode': 725, 'line_items': [{'order_item_id': 220, 'order_item_product_id': 403, 'order_item_quantity': 1, 'order_item_product_price': 129.99, 'order_item_subtotal': 129.99}, {'order_item_id': 221, 'order_item_product_id': 502, 'order_item_quantity': 2, 'order_item_product_price': 50.0, 'order_item_subtotal': 100.0}]}</td><td>retail-data-topic-01</td><td>0</td><td>14</td><td>2025-04-24T06:40:06.914+0000</td></tr><tr><td>395</td><td>{'order_id': 106, 'customer_id': 395, 'customer_fname': 'Edward', 'customer_lname': 'Castro', 'city': 'Revere', 'state': 'MA', 'pincode': 2151, 'line_items': [{'order_item_id': 242, 'order_item_product_id': 191, 'order_item_quantity': 1, 'order_item_product_price': 99.99, 'order_item_subtotal': 99.99}]}</td><td>retail-data-topic-01</td><td>0</td><td>15</td><td>2025-04-24T06:40:25.747+0000</td></tr><tr><td>11599</td><td>{'order_id': 1, 'customer_id': 11599, 'customer_fname': 'Mary', 'customer_lname': 'Malone', 'city': 'Hickory', 'state': 'NC', 'pincode': 28601, 'line_items': [{'order_item_id': 1, 'order_item_product_id': 957, 'order_item_quantity': 1, 'order_item_product_price': 299.98, 'order_item_subtotal': 299.98}]}</td><td>retail-data-topic-01</td><td>0</td><td>16</td><td>2025-04-24T07:59:45.272+0000</td></tr><tr><td>2568</td><td>{'order_id': 15, 'customer_id': 2568, 'customer_fname': 'Maria', 'customer_lname': 'Smith', 'city': 'Memphis', 'state': 'TN', 'pincode': 38127, 'line_items': [{'order_item_id': 43, 'order_item_product_id': 502, 'order_item_quantity': 1, 'order_item_product_price': 50.0, 'order_item_subtotal': 50.0}, {'order_item_id': 44, 'order_item_product_id': 1073, 'order_item_quantity': 1, 'order_item_product_price': 199.99, 'order_item_subtotal': 199.99}, {'order_item_id': 45, 'order_item_product_id': 828, 'order_item_quantity': 3, 'order_item_product_price': 31.99, 'order_item_subtotal': 95.97}, {'order_item_id': 46, 'order_item_product_id': 365, 'order_item_quantity': 3, 'order_item_product_price': 59.99, 'order_item_subtotal': 179.97}, {'order_item_id': 47, 'order_item_product_id': 1004, 'order_item_quantity': 1, 'order_item_product_price': 399.98, 'order_item_subtotal': 399.98}]}</td><td>retail-data-topic-01</td><td>0</td><td>17</td><td>2025-04-24T08:00:39.334+0000</td></tr><tr><td>2667</td><td>{'order_id': 17, 'customer_id': 2667, 'customer_fname': 'Tammy', 'customer_lname': 'Smith', 'city': 'Sun Valley', 'state': 'CA', 'pincode': 91352, 'line_items': [{'order_item_id': 50, 'order_item_product_id': 810, 'order_item_quantity': 4, 'order_item_product_price': 19.99, 'order_item_subtotal': 79.96}, {'order_item_id': 51, 'order_item_product_id': 1014, 'order_item_quantity': 2, 'order_item_product_price': 49.98, 'order_item_subtotal': 99.96}, {'order_item_id': 52, 'order_item_product_id': 93, 'order_item_quantity': 3, 'order_item_product_price': 24.99, 'order_item_subtotal': 74.97}, {'order_item_id': 53, 'order_item_product_id': 1073, 'order_item_quantity': 1, 'order_item_product_price': 199.99, 'order_item_subtotal': 199.99}, {'order_item_id': 54, 'order_item_product_id': 365, 'order_item_quantity': 4, 'order_item_product_price': 59.99, 'order_item_subtotal': 239.96}]}</td><td>retail-data-topic-01</td><td>0</td><td>18</td><td>2025-04-24T08:00:44.830+0000</td></tr><tr><td>1205</td><td>{'order_id': 18, 'customer_id': 1205, 'customer_fname': 'Mary', 'customer_lname': 'Powell', 'city': 'Miami', 'state': 'FL', 'pincode': 33126, 'line_items': [{'order_item_id': 55, 'order_item_product_id': 1073, 'order_item_quantity': 1, 'order_item_product_price': 199.99, 'order_item_subtotal': 199.99}, {'order_item_id': 56, 'order_item_product_id': 365, 'order_item_quantity': 2, 'order_item_product_price': 59.99, 'order_item_subtotal': 119.98}, {'order_item_id': 57, 'order_item_product_id': 403, 'order_item_quantity': 1, 'order_item_product_price': 129.99, 'order_item_subtotal': 129.99}]}</td><td>retail-data-topic-01</td><td>0</td><td>19</td><td>2025-04-24T08:00:47.757+0000</td></tr><tr><td>11599</td><td>{'order_id': 1, 'customer_id': 11599, 'customer_fname': 'Mary', 'customer_lname': 'Malone', 'city': 'Hickory', 'state': 'NC', 'pincode': 28601, 'line_items': [{'order_item_id': 1, 'order_item_product_id': 957, 'order_item_quantity': 1, 'order_item_product_price': 299.98, 'order_item_subtotal': 299.98}]}</td><td>retail-data-topic-01</td><td>0</td><td>20</td><td>2025-04-24T09:22:13.481+0000</td></tr><tr><td>2568</td><td>{'order_id': 15, 'customer_id': 2568, 'customer_fname': 'Maria', 'customer_lname': 'Smith', 'city': 'Memphis', 'state': 'TN', 'pincode': 38127, 'line_items': [{'order_item_id': 43, 'order_item_product_id': 502, 'order_item_quantity': 1, 'order_item_product_price': 50.0, 'order_item_subtotal': 50.0}, {'order_item_id': 44, 'order_item_product_id': 1073, 'order_item_quantity': 1, 'order_item_product_price': 199.99, 'order_item_subtotal': 199.99}, {'order_item_id': 45, 'order_item_product_id': 828, 'order_item_quantity': 3, 'order_item_product_price': 31.99, 'order_item_subtotal': 95.97}, {'order_item_id': 46, 'order_item_product_id': 365, 'order_item_quantity': 3, 'order_item_product_price': 59.99, 'order_item_subtotal': 179.97}, {'order_item_id': 47, 'order_item_product_id': 1004, 'order_item_quantity': 1, 'order_item_product_price': 399.98, 'order_item_subtotal': 399.98}]}</td><td>retail-data-topic-01</td><td>0</td><td>21</td><td>2025-04-24T09:22:48.654+0000</td></tr><tr><td>2667</td><td>{'order_id': 17, 'customer_id': 2667, 'customer_fname': 'Tammy', 'customer_lname': 'Smith', 'city': 'Sun Valley', 'state': 'CA', 'pincode': 91352, 'line_items': [{'order_item_id': 50, 'order_item_product_id': 810, 'order_item_quantity': 4, 'order_item_product_price': 19.99, 'order_item_subtotal': 79.96}, {'order_item_id': 51, 'order_item_product_id': 1014, 'order_item_quantity': 2, 'order_item_product_price': 49.98, 'order_item_subtotal': 99.96}, {'order_item_id': 52, 'order_item_product_id': 93, 'order_item_quantity': 3, 'order_item_product_price': 24.99, 'order_item_subtotal': 74.97}, {'order_item_id': 53, 'order_item_product_id': 1073, 'order_item_quantity': 1, 'order_item_product_price': 199.99, 'order_item_subtotal': 199.99}, {'order_item_id': 54, 'order_item_product_id': 365, 'order_item_quantity': 4, 'order_item_product_price': 59.99, 'order_item_subtotal': 239.96}]}</td><td>retail-data-topic-01</td><td>0</td><td>22</td><td>2025-04-24T09:22:50.071+0000</td></tr><tr><td>1205</td><td>{'order_id': 18, 'customer_id': 1205, 'customer_fname': 'Mary', 'customer_lname': 'Powell', 'city': 'Miami', 'state': 'FL', 'pincode': 33126, 'line_items': [{'order_item_id': 55, 'order_item_product_id': 1073, 'order_item_quantity': 1, 'order_item_product_price': 199.99, 'order_item_subtotal': 199.99}, {'order_item_id': 56, 'order_item_product_id': 365, 'order_item_quantity': 2, 'order_item_product_price': 59.99, 'order_item_subtotal': 119.98}, {'order_item_id': 57, 'order_item_product_id': 403, 'order_item_quantity': 1, 'order_item_product_price': 129.99, 'order_item_subtotal': 129.99}]}</td><td>retail-data-topic-01</td><td>0</td><td>23</td><td>2025-04-24T09:22:50.779+0000</td></tr><tr><td>11441</td><td>{'order_id': 24, 'customer_id': 11441, 'customer_fname': 'Mary', 'customer_lname': 'Ferguson', 'city': 'Lutz', 'state': 'FL', 'pincode': 33549, 'line_items': [{'order_item_id': 69, 'order_item_product_id': 403, 'order_item_quantity': 1, 'order_item_product_price': 129.99, 'order_item_subtotal': 129.99}, {'order_item_id': 70, 'order_item_product_id': 502, 'order_item_quantity': 1, 'order_item_product_price': 50.0, 'order_item_subtotal': 50.0}, {'order_item_id': 71, 'order_item_product_id': 502, 'order_item_quantity': 5, 'order_item_product_price': 50.0, 'order_item_subtotal': 250.0}, {'order_item_id': 72, 'order_item_product_id': 1073, 'order_item_quantity': 1, 'order_item_product_price': 199.99, 'order_item_subtotal': 199.99}, {'order_item_id': 73, 'order_item_product_id': 1073, 'order_item_quantity': 1, 'order_item_product_price': 199.99, 'order_item_subtotal': 199.99}]}</td><td>retail-data-topic-01</td><td>0</td><td>24</td><td>2025-04-24T09:22:54.143+0000</td></tr><tr><td>10500</td><td>{'order_id': 44, 'customer_id': 10500, 'customer_fname': 'Mary', 'customer_lname': 'Smith', 'city': 'Caguas', 'state': 'PR', 'pincode': 725, 'line_items': [{'order_item_id': 112, 'order_item_product_id': 1004, 'order_item_quantity': 1, 'order_item_product_price': 399.98, 'order_item_subtotal': 399.98}]}</td><td>retail-data-topic-01</td><td>0</td><td>25</td><td>2025-04-24T09:23:05.560+0000</td></tr><tr><td>1549</td><td>{'order_id': 46, 'customer_id': 1549, 'customer_fname': 'Diane', 'customer_lname': 'Wiggins', 'city': 'Oregon City', 'state': 'OR', 'pincode': 97045, 'line_items': [{'order_item_id': 117, 'order_item_product_id': 403, 'order_item_quantity': 1, 'order_item_product_price': 129.99, 'order_item_subtotal': 129.99}, {'order_item_id': 118, 'order_item_product_id': 1014, 'order_item_quantity': 2, 'order_item_product_price': 49.98, 'order_item_subtotal': 99.96}]}</td><td>retail-data-topic-01</td><td>0</td><td>26</td><td>2025-04-24T09:23:06.985+0000</td></tr><tr><td>12186</td><td>{'order_id': 48, 'customer_id': 12186, 'customer_fname': 'Gloria', 'customer_lname': 'Mcknight', 'city': 'Flushing', 'state': 'NY', 'pincode': 11355, 'line_items': [{'order_item_id': 119, 'order_item_product_id': 1014, 'order_item_quantity': 1, 'order_item_product_price': 49.98, 'order_item_subtotal': 49.98}, {'order_item_id': 120, 'order_item_product_id': 886, 'order_item_quantity': 2, 'order_item_product_price': 24.99, 'order_item_subtotal': 49.98}]}</td><td>retail-data-topic-01</td><td>0</td><td>27</td><td>2025-04-24T09:23:07.694+0000</td></tr><tr><td>1871</td><td>{'order_id': 49, 'customer_id': 1871, 'customer_fname': 'Mary', 'customer_lname': 'Mcknight', 'city': 'Caguas', 'state': 'PR', 'pincode': 725, 'line_items': [{'order_item_id': 121, 'order_item_product_id': 957, 'order_item_quantity': 1, 'order_item_product_price': 299.98, 'order_item_subtotal': 299.98}, {'order_item_id': 122, 'order_item_product_id': 365, 'order_item_quantity': 2, 'order_item_product_price': 59.99, 'order_item_subtotal': 119.98}, {'order_item_id': 123, 'order_item_product_id': 403, 'order_item_quantity': 1, 'order_item_product_price': 129.99, 'order_item_subtotal': 129.99}]}</td><td>retail-data-topic-01</td><td>0</td><td>28</td><td>2025-04-24T09:23:08.402+0000</td></tr><tr><td>5126</td><td>{'order_id': 52, 'customer_id': 5126, 'customer_fname': 'Karen', 'customer_lname': 'Roberts', 'city': 'Wheeling', 'state': 'WV', 'pincode': 26003, 'line_items': [{'order_item_id': 128, 'order_item_product_id': 1014, 'order_item_quantity': 5, 'order_item_product_price': 49.98, 'order_item_subtotal': 249.9}, {'order_item_id': 129, 'order_item_product_id': 1014, 'order_item_quantity': 3, 'order_item_product_price': 49.98, 'order_item_subtotal': 149.94}]}</td><td>retail-data-topic-01</td><td>0</td><td>29</td><td>2025-04-24T09:23:10.543+0000</td></tr></tbody></table></div>"
      ]
     },
     "metadata": {
      "application/vnd.databricks.v1+output": {
       "addedWidgets": {},
       "aggData": [],
       "aggError": "",
       "aggOverflow": false,
       "aggSchema": [],
       "aggSeriesLimitReached": false,
       "aggType": "",
       "arguments": {},
       "columnCustomDisplayInfos": {},
       "data": [
        [
         "124",
         "{\"order_id\":18,\"customer_id\":1205,\"customer_fname\":\"Mary\",\"customer_lname\":\"Powell\",\"city\":\"Miami\",\"state\":\"FL\",\"pincode\":33126,\"line_items\":[{\"order_item_id\":55,\"order_item_product_id\":1073,\"order_item_quantity\":1,\"order_item_product_price\":199.99,\"order_item_subtotal\":199.99},{\"order_item_id\":56,\"order_item_product_id\":365,\"order_item_quantity\":2,\"order_item_product_price\":59.99,\"order_item_subtotal\":119.98},{\"order_item_id\":57,\"order_item_product_id\":403,\"order_item_quantity\":1,\"order_item_product_price\":129.99,\"order_item_subtotal\":129.99}]}",
         "retail-data-topic-01",
         2,
         0,
         "2025-04-23T05:59:33.880+0000"
        ],
        [
         "5657",
         "{'order_id': 9, 'customer_id': 5657, 'customer_fname': 'Mary', 'customer_lname': 'James', 'city': 'Lakewood', 'state': 'OH', 'pincode': 44107, 'line_items': [{'order_item_id': 21, 'order_item_product_id': 191, 'order_item_quantity': 2, 'order_item_product_price': 99.99, 'order_item_subtotal': 199.98}, {'order_item_id': 22, 'order_item_product_id': 1073, 'order_item_quantity': 1, 'order_item_product_price': 199.99, 'order_item_subtotal': 199.99}, {'order_item_id': 23, 'order_item_product_id': 1073, 'order_item_quantity': 1, 'order_item_product_price': 199.99, 'order_item_subtotal': 199.99}]}",
         "retail-data-topic-01",
         2,
         1,
         "2025-04-24T06:36:47.860+0000"
        ],
        [
         "5648",
         "{'order_id': 10, 'customer_id': 5648, 'customer_fname': 'Joshua', 'customer_lname': 'Smith', 'city': 'Memphis', 'state': 'TN', 'pincode': 38111, 'line_items': [{'order_item_id': 24, 'order_item_product_id': 1073, 'order_item_quantity': 1, 'order_item_product_price': 199.99, 'order_item_subtotal': 199.99}, {'order_item_id': 25, 'order_item_product_id': 1014, 'order_item_quantity': 2, 'order_item_product_price': 49.98, 'order_item_subtotal': 99.96}, {'order_item_id': 26, 'order_item_product_id': 403, 'order_item_quantity': 1, 'order_item_product_price': 129.99, 'order_item_subtotal': 129.99}, {'order_item_id': 27, 'order_item_product_id': 917, 'order_item_quantity': 1, 'order_item_product_price': 21.99, 'order_item_subtotal': 21.99}, {'order_item_id': 28, 'order_item_product_id': 1073, 'order_item_quantity': 1, 'order_item_product_price': 199.99, 'order_item_subtotal': 199.99}]}",
         "retail-data-topic-01",
         2,
         2,
         "2025-04-24T06:36:52.732+0000"
        ],
        [
         "9842",
         "{'order_id': 14, 'customer_id': 9842, 'customer_fname': 'Mary', 'customer_lname': 'Smith', 'city': 'Caguas', 'state': 'PR', 'pincode': 725, 'line_items': [{'order_item_id': 40, 'order_item_product_id': 1004, 'order_item_quantity': 1, 'order_item_product_price': 399.98, 'order_item_subtotal': 399.98}, {'order_item_id': 41, 'order_item_product_id': 1014, 'order_item_quantity': 2, 'order_item_product_price': 49.98, 'order_item_subtotal': 99.96}, {'order_item_id': 42, 'order_item_product_id': 502, 'order_item_quantity': 1, 'order_item_product_price': 50.0, 'order_item_subtotal': 50.0}]}",
         "retail-data-topic-01",
         2,
         3,
         "2025-04-24T06:37:05.541+0000"
        ],
        [
         "3241",
         "{'order_id': 27, 'customer_id': 3241, 'customer_fname': 'Willie', 'customer_lname': 'Smith', 'city': 'Caguas', 'state': 'PR', 'pincode': 725, 'line_items': [{'order_item_id': 75, 'order_item_product_id': 502, 'order_item_quantity': 3, 'order_item_product_price': 50.0, 'order_item_subtotal': 150.0}, {'order_item_id': 76, 'order_item_product_id': 1073, 'order_item_quantity': 1, 'order_item_product_price': 199.99, 'order_item_subtotal': 199.99}, {'order_item_id': 77, 'order_item_product_id': 1004, 'order_item_quantity': 1, 'order_item_product_price': 399.98, 'order_item_subtotal': 399.98}]}",
         "retail-data-topic-01",
         2,
         4,
         "2025-04-24T06:37:36.284+0000"
        ],
        [
         "4189",
         "{'order_id': 34, 'customer_id': 4189, 'customer_fname': 'Heather', 'customer_lname': 'Johnson', 'city': 'Los Angeles', 'state': 'CA', 'pincode': 90044, 'line_items': [{'order_item_id': 94, 'order_item_product_id': 957, 'order_item_quantity': 1, 'order_item_product_price': 299.98, 'order_item_subtotal': 299.98}]}",
         "retail-data-topic-01",
         2,
         5,
         "2025-04-24T06:37:52.504+0000"
        ],
        [
         "8136",
         "{'order_id': 41, 'customer_id': 8136, 'customer_fname': 'Charles', 'customer_lname': 'Smith', 'city': 'Saint Charles', 'state': 'MO', 'pincode': 63301, 'line_items': [{'order_item_id': 104, 'order_item_product_id': 1014, 'order_item_quantity': 4, 'order_item_product_price': 49.98, 'order_item_subtotal': 199.92}, {'order_item_id': 105, 'order_item_product_id': 825, 'order_item_quantity': 4, 'order_item_product_price': 31.99, 'order_item_subtotal': 127.96}]}",
         "retail-data-topic-01",
         2,
         6,
         "2025-04-24T06:38:09.297+0000"
        ],
        [
         "7776",
         "{'order_id': 43, 'customer_id': 7776, 'customer_fname': 'Julie', 'customer_lname': 'Smith', 'city': 'Caguas', 'state': 'PR', 'pincode': 725, 'line_items': [{'order_item_id': 109, 'order_item_product_id': 957, 'order_item_quantity': 1, 'order_item_product_price': 299.98, 'order_item_subtotal': 299.98}, {'order_item_id': 110, 'order_item_product_id': 191, 'order_item_quantity': 1, 'order_item_product_price': 99.99, 'order_item_subtotal': 99.99}, {'order_item_id': 111, 'order_item_product_id': 403, 'order_item_quantity': 1, 'order_item_product_price': 129.99, 'order_item_subtotal': 129.99}]}",
         "retail-data-topic-01",
         2,
         7,
         "2025-04-24T06:38:14.827+0000"
        ],
        [
         "5579",
         "{'order_id': 64, 'customer_id': 5579, 'customer_fname': 'Mary', 'customer_lname': 'Hurley', 'city': 'Elgin', 'state': 'IL', 'pincode': 60123, 'line_items': [{'order_item_id': 156, 'order_item_product_id': 502, 'order_item_quantity': 3, 'order_item_product_price': 50.0, 'order_item_subtotal': 150.0}, {'order_item_id': 157, 'order_item_product_id': 502, 'order_item_quantity': 1, 'order_item_product_price': 50.0, 'order_item_subtotal': 50.0}, {'order_item_id': 158, 'order_item_product_id': 365, 'order_item_quantity': 1, 'order_item_product_price': 59.99, 'order_item_subtotal': 59.99}, {'order_item_id': 159, 'order_item_product_id': 191, 'order_item_quantity': 2, 'order_item_product_price': 99.99, 'order_item_subtotal': 199.98}, {'order_item_id': 160, 'order_item_product_id': 502, 'order_item_quantity': 4, 'order_item_product_price': 50.0, 'order_item_subtotal': 200.0}]}",
         "retail-data-topic-01",
         2,
         8,
         "2025-04-24T06:38:58.729+0000"
        ],
        [
         "4320",
         "{'order_id': 68, 'customer_id': 4320, 'customer_fname': 'Jordan', 'customer_lname': 'Taylor', 'city': 'Caguas', 'state': 'PR', 'pincode': 725, 'line_items': [{'order_item_id': 167, 'order_item_product_id': 957, 'order_item_quantity': 1, 'order_item_product_price': 299.98, 'order_item_subtotal': 299.98}]}",
         "retail-data-topic-01",
         2,
         9,
         "2025-04-24T06:39:09.891+0000"
        ],
        [
         "7915",
         "{'order_id': 77, 'customer_id': 7915, 'customer_fname': 'Justin', 'customer_lname': 'Murphy', 'city': 'Caguas', 'state': 'PR', 'pincode': 725, 'line_items': [{'order_item_id': 189, 'order_item_product_id': 1014, 'order_item_quantity': 2, 'order_item_product_price': 49.98, 'order_item_subtotal': 99.96}, {'order_item_id': 190, 'order_item_product_id': 365, 'order_item_quantity': 5, 'order_item_product_price': 59.99, 'order_item_subtotal': 299.95}, {'order_item_id': 191, 'order_item_product_id': 191, 'order_item_quantity': 1, 'order_item_product_price': 99.99, 'order_item_subtotal': 99.99}, {'order_item_id': 192, 'order_item_product_id': 403, 'order_item_quantity': 1, 'order_item_product_price': 129.99, 'order_item_subtotal': 129.99}, {'order_item_id': 193, 'order_item_product_id': 502, 'order_item_quantity': 2, 'order_item_product_price': 50.0, 'order_item_subtotal': 100.0}]}",
         "retail-data-topic-01",
         2,
         10,
         "2025-04-24T06:39:31.498+0000"
        ],
        [
         "1265",
         "{'order_id': 83, 'customer_id': 1265, 'customer_fname': 'Albert', 'customer_lname': 'Jones', 'city': 'San Francisco', 'state': 'CA', 'pincode': 94122, 'line_items': [{'order_item_id': 198, 'order_item_product_id': 1073, 'order_item_quantity': 1, 'order_item_product_price': 199.99, 'order_item_subtotal': 199.99}]}",
         "retail-data-topic-01",
         2,
         11,
         "2025-04-24T06:39:37.030+0000"
        ],
        [
         "6932",
         "{'order_id': 92, 'customer_id': 6932, 'customer_fname': 'Evelyn', 'customer_lname': 'Herring', 'city': 'Brooklyn', 'state': 'NY', 'pincode': 11236, 'line_items': [{'order_item_id': 209, 'order_item_product_id': 1014, 'order_item_quantity': 4, 'order_item_product_price': 49.98, 'order_item_subtotal': 199.92}]}",
         "retail-data-topic-01",
         2,
         12,
         "2025-04-24T06:39:50.627+0000"
        ],
        [
         "12131",
         "{'order_id': 100, 'customer_id': 12131, 'customer_fname': 'Douglas', 'customer_lname': 'Smith', 'city': 'Everett', 'state': 'WA', 'pincode': 98208, 'line_items': [{'order_item_id': 226, 'order_item_product_id': 403, 'order_item_quantity': 1, 'order_item_product_price': 129.99, 'order_item_subtotal': 129.99}, {'order_item_id': 227, 'order_item_product_id': 365, 'order_item_quantity': 2, 'order_item_product_price': 59.99, 'order_item_subtotal': 119.98}, {'order_item_id': 228, 'order_item_product_id': 191, 'order_item_quantity': 3, 'order_item_product_price': 99.99, 'order_item_subtotal': 299.97}]}",
         "retail-data-topic-01",
         2,
         13,
         "2025-04-24T06:40:12.257+0000"
        ],
        [
         "1845",
         "{'order_id': 107, 'customer_id': 1845, 'customer_fname': 'Mary', 'customer_lname': 'Jones', 'city': 'York', 'state': 'PA', 'pincode': 17404, 'line_items': [{'order_item_id': 243, 'order_item_product_id': 565, 'order_item_quantity': 4, 'order_item_product_price': 70.0, 'order_item_subtotal': 280.0}, {'order_item_id': 244, 'order_item_product_id': 502, 'order_item_quantity': 5, 'order_item_product_price': 50.0, 'order_item_subtotal': 250.0}, {'order_item_id': 245, 'order_item_product_id': 403, 'order_item_quantity': 1, 'order_item_product_price': 129.99, 'order_item_subtotal': 129.99}, {'order_item_id': 246, 'order_item_product_id': 627, 'order_item_quantity': 2, 'order_item_product_price': 39.99, 'order_item_subtotal': 79.98}, {'order_item_id': 247, 'order_item_product_id': 957, 'order_item_quantity': 1, 'order_item_product_price': 299.98, 'order_item_subtotal': 299.98}]}",
         "retail-data-topic-01",
         2,
         14,
         "2025-04-24T06:40:28.557+0000"
        ],
        [
         "5657",
         "{'order_id': 9, 'customer_id': 5657, 'customer_fname': 'Mary', 'customer_lname': 'James', 'city': 'Lakewood', 'state': 'OH', 'pincode': 44107, 'line_items': [{'order_item_id': 21, 'order_item_product_id': 191, 'order_item_quantity': 2, 'order_item_product_price': 99.99, 'order_item_subtotal': 199.98}, {'order_item_id': 22, 'order_item_product_id': 1073, 'order_item_quantity': 1, 'order_item_product_price': 199.99, 'order_item_subtotal': 199.99}, {'order_item_id': 23, 'order_item_product_id': 1073, 'order_item_quantity': 1, 'order_item_product_price': 199.99, 'order_item_subtotal': 199.99}]}",
         "retail-data-topic-01",
         2,
         15,
         "2025-04-24T08:00:15.957+0000"
        ],
        [
         "5648",
         "{'order_id': 10, 'customer_id': 5648, 'customer_fname': 'Joshua', 'customer_lname': 'Smith', 'city': 'Memphis', 'state': 'TN', 'pincode': 38111, 'line_items': [{'order_item_id': 24, 'order_item_product_id': 1073, 'order_item_quantity': 1, 'order_item_product_price': 199.99, 'order_item_subtotal': 199.99}, {'order_item_id': 25, 'order_item_product_id': 1014, 'order_item_quantity': 2, 'order_item_product_price': 49.98, 'order_item_subtotal': 99.96}, {'order_item_id': 26, 'order_item_product_id': 403, 'order_item_quantity': 1, 'order_item_product_price': 129.99, 'order_item_subtotal': 129.99}, {'order_item_id': 27, 'order_item_product_id': 917, 'order_item_quantity': 1, 'order_item_product_price': 21.99, 'order_item_subtotal': 21.99}, {'order_item_id': 28, 'order_item_product_id': 1073, 'order_item_quantity': 1, 'order_item_product_price': 199.99, 'order_item_subtotal': 199.99}]}",
         "retail-data-topic-01",
         2,
         16,
         "2025-04-24T08:00:21.539+0000"
        ],
        [
         "9842",
         "{'order_id': 14, 'customer_id': 9842, 'customer_fname': 'Mary', 'customer_lname': 'Smith', 'city': 'Caguas', 'state': 'PR', 'pincode': 725, 'line_items': [{'order_item_id': 40, 'order_item_product_id': 1004, 'order_item_quantity': 1, 'order_item_product_price': 399.98, 'order_item_subtotal': 399.98}, {'order_item_id': 41, 'order_item_product_id': 1014, 'order_item_quantity': 2, 'order_item_product_price': 49.98, 'order_item_subtotal': 99.96}, {'order_item_id': 42, 'order_item_product_id': 502, 'order_item_quantity': 1, 'order_item_product_price': 50.0, 'order_item_subtotal': 50.0}]}",
         "retail-data-topic-01",
         2,
         17,
         "2025-04-24T08:00:36.195+0000"
        ],
        [
         "5657",
         "{'order_id': 9, 'customer_id': 5657, 'customer_fname': 'Mary', 'customer_lname': 'James', 'city': 'Lakewood', 'state': 'OH', 'pincode': 44107, 'line_items': [{'order_item_id': 21, 'order_item_product_id': 191, 'order_item_quantity': 2, 'order_item_product_price': 99.99, 'order_item_subtotal': 199.98}, {'order_item_id': 22, 'order_item_product_id': 1073, 'order_item_quantity': 1, 'order_item_product_price': 199.99, 'order_item_subtotal': 199.99}, {'order_item_id': 23, 'order_item_product_id': 1073, 'order_item_quantity': 1, 'order_item_product_price': 199.99, 'order_item_subtotal': 199.99}]}",
         "retail-data-topic-01",
         2,
         18,
         "2025-04-24T09:22:37.935+0000"
        ],
        [
         "5648",
         "{'order_id': 10, 'customer_id': 5648, 'customer_fname': 'Joshua', 'customer_lname': 'Smith', 'city': 'Memphis', 'state': 'TN', 'pincode': 38111, 'line_items': [{'order_item_id': 24, 'order_item_product_id': 1073, 'order_item_quantity': 1, 'order_item_product_price': 199.99, 'order_item_subtotal': 199.99}, {'order_item_id': 25, 'order_item_product_id': 1014, 'order_item_quantity': 2, 'order_item_product_price': 49.98, 'order_item_subtotal': 99.96}, {'order_item_id': 26, 'order_item_product_id': 403, 'order_item_quantity': 1, 'order_item_product_price': 129.99, 'order_item_subtotal': 129.99}, {'order_item_id': 27, 'order_item_product_id': 917, 'order_item_quantity': 1, 'order_item_product_price': 21.99, 'order_item_subtotal': 21.99}, {'order_item_id': 28, 'order_item_product_id': 1073, 'order_item_quantity': 1, 'order_item_product_price': 199.99, 'order_item_subtotal': 199.99}]}",
         "retail-data-topic-01",
         2,
         19,
         "2025-04-24T09:22:43.098+0000"
        ],
        [
         "9842",
         "{'order_id': 14, 'customer_id': 9842, 'customer_fname': 'Mary', 'customer_lname': 'Smith', 'city': 'Caguas', 'state': 'PR', 'pincode': 725, 'line_items': [{'order_item_id': 40, 'order_item_product_id': 1004, 'order_item_quantity': 1, 'order_item_product_price': 399.98, 'order_item_subtotal': 399.98}, {'order_item_id': 41, 'order_item_product_id': 1014, 'order_item_quantity': 2, 'order_item_product_price': 49.98, 'order_item_subtotal': 99.96}, {'order_item_id': 42, 'order_item_product_id': 502, 'order_item_quantity': 1, 'order_item_product_price': 50.0, 'order_item_subtotal': 50.0}]}",
         "retail-data-topic-01",
         2,
         20,
         "2025-04-24T09:22:47.952+0000"
        ],
        [
         "3241",
         "{'order_id': 27, 'customer_id': 3241, 'customer_fname': 'Willie', 'customer_lname': 'Smith', 'city': 'Caguas', 'state': 'PR', 'pincode': 725, 'line_items': [{'order_item_id': 75, 'order_item_product_id': 502, 'order_item_quantity': 3, 'order_item_product_price': 50.0, 'order_item_subtotal': 150.0}, {'order_item_id': 76, 'order_item_product_id': 1073, 'order_item_quantity': 1, 'order_item_product_price': 199.99, 'order_item_subtotal': 199.99}, {'order_item_id': 77, 'order_item_product_id': 1004, 'order_item_quantity': 1, 'order_item_product_price': 399.98, 'order_item_subtotal': 399.98}]}",
         "retail-data-topic-01",
         2,
         21,
         "2025-04-24T09:22:55.573+0000"
        ],
        [
         "4189",
         "{'order_id': 34, 'customer_id': 4189, 'customer_fname': 'Heather', 'customer_lname': 'Johnson', 'city': 'Los Angeles', 'state': 'CA', 'pincode': 90044, 'line_items': [{'order_item_id': 94, 'order_item_product_id': 957, 'order_item_quantity': 1, 'order_item_product_price': 299.98, 'order_item_subtotal': 299.98}]}",
         "retail-data-topic-01",
         2,
         22,
         "2025-04-24T09:22:59.518+0000"
        ],
        [
         "8136",
         "{'order_id': 41, 'customer_id': 8136, 'customer_fname': 'Charles', 'customer_lname': 'Smith', 'city': 'Saint Charles', 'state': 'MO', 'pincode': 63301, 'line_items': [{'order_item_id': 104, 'order_item_product_id': 1014, 'order_item_quantity': 4, 'order_item_product_price': 49.98, 'order_item_subtotal': 199.92}, {'order_item_id': 105, 'order_item_product_id': 825, 'order_item_quantity': 4, 'order_item_product_price': 31.99, 'order_item_subtotal': 127.96}]}",
         "retail-data-topic-01",
         2,
         23,
         "2025-04-24T09:23:03.450+0000"
        ],
        [
         "7776",
         "{'order_id': 43, 'customer_id': 7776, 'customer_fname': 'Julie', 'customer_lname': 'Smith', 'city': 'Caguas', 'state': 'PR', 'pincode': 725, 'line_items': [{'order_item_id': 109, 'order_item_product_id': 957, 'order_item_quantity': 1, 'order_item_product_price': 299.98, 'order_item_subtotal': 299.98}, {'order_item_id': 110, 'order_item_product_id': 191, 'order_item_quantity': 1, 'order_item_product_price': 99.99, 'order_item_subtotal': 99.99}, {'order_item_id': 111, 'order_item_product_id': 403, 'order_item_quantity': 1, 'order_item_product_price': 129.99, 'order_item_subtotal': 129.99}]}",
         "retail-data-topic-01",
         2,
         24,
         "2025-04-24T09:23:04.859+0000"
        ],
        [
         "256",
         "{\"order_id\":2,\"customer_id\":256,\"customer_fname\":\"David\",\"customer_lname\":\"Rodriguez\",\"city\":\"Chicago\",\"state\":\"IL\",\"pincode\":60625,\"line_items\":[{\"order_item_id\":2,\"order_item_product_id\":1073,\"order_item_quantity\":1,\"order_item_product_price\":199.99,\"order_item_subtotal\":199.99},{\"order_item_id\":3,\"order_item_product_id\":502,\"order_item_quantity\":5,\"order_item_product_price\":50.0,\"order_item_subtotal\":250.0},{\"order_item_id\":4,\"order_item_product_id\":403,\"order_item_quantity\":1,\"order_item_product_price\":129.99,\"order_item_subtotal\":129.99}]}",
         "retail-data-topic-01",
         1,
         0,
         "2025-04-24T06:20:13.564+0000"
        ],
        [
         "256",
         "{\"order_id\":2,\"customer_id\":256,\"customer_fname\":\"David\",\"customer_lname\":\"Rodriguez\",\"city\":\"Chicago\",\"state\":\"IL\",\"pincode\":60625,\"line_items\":[{\"order_item_id\":2,\"order_item_product_id\":1073,\"order_item_quantity\":1,\"order_item_product_price\":199.99,\"order_item_subtotal\":199.99},{\"order_item_id\":3,\"order_item_product_id\":502,\"order_item_quantity\":5,\"order_item_product_price\":50.0,\"order_item_subtotal\":250.0},{\"order_item_id\":4,\"order_item_product_id\":403,\"order_item_quantity\":1,\"order_item_product_price\":129.99,\"order_item_subtotal\":129.99}]}",
         "retail-data-topic-01",
         1,
         1,
         "2025-04-24T06:24:05.359+0000"
        ],
        [
         "256",
         "{\"order_id\":2,\"customer_id\":256,\"customer_fname\":\"David\",\"customer_lname\":\"Rodriguez\",\"city\":\"Chicago\",\"state\":\"IL\",\"pincode\":60625,\"line_items\":[{\"order_item_id\":2,\"order_item_product_id\":1073,\"order_item_quantity\":1,\"order_item_product_price\":199.99,\"order_item_subtotal\":199.99},{\"order_item_id\":3,\"order_item_product_id\":502,\"order_item_quantity\":5,\"order_item_product_price\":50.0,\"order_item_subtotal\":250.0},{\"order_item_id\":4,\"order_item_product_id\":403,\"order_item_quantity\":1,\"order_item_product_price\":129.99,\"order_item_subtotal\":129.99}]}",
         "retail-data-topic-01",
         1,
         2,
         "2025-04-24T06:26:50.822+0000"
        ],
        [
         "256",
         "{\"order_id\":2,\"customer_id\":256,\"customer_fname\":\"David\",\"customer_lname\":\"Rodriguez\",\"city\":\"Chicago\",\"state\":\"IL\",\"pincode\":60625,\"line_items\":[{\"order_item_id\":2,\"order_item_product_id\":1073,\"order_item_quantity\":1,\"order_item_product_price\":199.99,\"order_item_subtotal\":199.99},{\"order_item_id\":3,\"order_item_product_id\":502,\"order_item_quantity\":5,\"order_item_product_price\":50.0,\"order_item_subtotal\":250.0},{\"order_item_id\":4,\"order_item_product_id\":403,\"order_item_quantity\":1,\"order_item_product_price\":129.99,\"order_item_subtotal\":129.99}]}",
         "retail-data-topic-01",
         1,
         3,
         "2025-04-24T06:27:31.889+0000"
        ],
        [
         "256",
         "{\"order_id\":2,\"customer_id\":256,\"customer_fname\":\"David\",\"customer_lname\":\"Rodriguez\",\"city\":\"Chicago\",\"state\":\"IL\",\"pincode\":60625,\"line_items\":[{\"order_item_id\":2,\"order_item_product_id\":1073,\"order_item_quantity\":1,\"order_item_product_price\":199.99,\"order_item_subtotal\":199.99},{\"order_item_id\":3,\"order_item_product_id\":502,\"order_item_quantity\":5,\"order_item_product_price\":50.0,\"order_item_subtotal\":250.0},{\"order_item_id\":4,\"order_item_product_id\":403,\"order_item_quantity\":1,\"order_item_product_price\":129.99,\"order_item_subtotal\":129.99}]}",
         "retail-data-topic-01",
         1,
         4,
         "2025-04-24T06:28:03.361+0000"
        ],
        [
         "256",
         "{\"order_id\":2,\"customer_id\":256,\"customer_fname\":\"David\",\"customer_lname\":\"Rodriguez\",\"city\":\"Chicago\",\"state\":\"IL\",\"pincode\":60625,\"line_items\":[{\"order_item_id\":2,\"order_item_product_id\":1073,\"order_item_quantity\":1,\"order_item_product_price\":199.99,\"order_item_subtotal\":199.99},{\"order_item_id\":3,\"order_item_product_id\":502,\"order_item_quantity\":5,\"order_item_product_price\":50.0,\"order_item_subtotal\":250.0},{\"order_item_id\":4,\"order_item_product_id\":403,\"order_item_quantity\":1,\"order_item_product_price\":129.99,\"order_item_subtotal\":129.99}]}",
         "retail-data-topic-01",
         1,
         5,
         "2025-04-24T06:32:06.916+0000"
        ],
        [
         "256",
         "{\"order_id\":2,\"customer_id\":256,\"customer_fname\":\"David\",\"customer_lname\":\"Rodriguez\",\"city\":\"Chicago\",\"state\":\"IL\",\"pincode\":60625,\"line_items\":[{\"order_item_id\":2,\"order_item_product_id\":1073,\"order_item_quantity\":1,\"order_item_product_price\":199.99,\"order_item_subtotal\":199.99},{\"order_item_id\":3,\"order_item_product_id\":502,\"order_item_quantity\":5,\"order_item_product_price\":50.0,\"order_item_subtotal\":250.0},{\"order_item_id\":4,\"order_item_product_id\":403,\"order_item_quantity\":1,\"order_item_product_price\":129.99,\"order_item_subtotal\":129.99}]}",
         "retail-data-topic-01",
         1,
         6,
         "2025-04-24T06:32:19.271+0000"
        ],
        [
         "256",
         "{\"order_id\":2,\"customer_id\":256,\"customer_fname\":\"David\",\"customer_lname\":\"Rodriguez\",\"city\":\"Chicago\",\"state\":\"IL\",\"pincode\":60625,\"line_items\":[{\"order_item_id\":2,\"order_item_product_id\":1073,\"order_item_quantity\":1,\"order_item_product_price\":199.99,\"order_item_subtotal\":199.99},{\"order_item_id\":3,\"order_item_product_id\":502,\"order_item_quantity\":5,\"order_item_product_price\":50.0,\"order_item_subtotal\":250.0},{\"order_item_id\":4,\"order_item_product_id\":403,\"order_item_quantity\":1,\"order_item_product_price\":129.99,\"order_item_subtotal\":129.99}]}",
         "retail-data-topic-01",
         1,
         7,
         "2025-04-24T06:32:45.420+0000"
        ],
        [
         "256",
         "{'order_id': 2, 'customer_id': 256, 'customer_fname': 'David', 'customer_lname': 'Rodriguez', 'city': 'Chicago', 'state': 'IL', 'pincode': 60625, 'line_items': [{'order_item_id': 2, 'order_item_product_id': 1073, 'order_item_quantity': 1, 'order_item_product_price': 199.99, 'order_item_subtotal': 199.99}, {'order_item_id': 3, 'order_item_product_id': 502, 'order_item_quantity': 5, 'order_item_product_price': 50.0, 'order_item_subtotal': 250.0}, {'order_item_id': 4, 'order_item_product_id': 403, 'order_item_quantity': 1, 'order_item_product_price': 129.99, 'order_item_subtotal': 129.99}]}",
         "retail-data-topic-01",
         1,
         8,
         "2025-04-24T06:36:28.334+0000"
        ],
        [
         "4530",
         "{'order_id': 7, 'customer_id': 4530, 'customer_fname': 'Mary', 'customer_lname': 'Smith', 'city': 'Miami', 'state': 'FL', 'pincode': 33161, 'line_items': [{'order_item_id': 14, 'order_item_product_id': 1073, 'order_item_quantity': 1, 'order_item_product_price': 199.99, 'order_item_subtotal': 199.99}, {'order_item_id': 15, 'order_item_product_id': 957, 'order_item_quantity': 1, 'order_item_product_price': 299.98, 'order_item_subtotal': 299.98}, {'order_item_id': 16, 'order_item_product_id': 926, 'order_item_quantity': 5, 'order_item_product_price': 15.99, 'order_item_subtotal': 79.95}]}",
         "retail-data-topic-01",
         1,
         9,
         "2025-04-24T06:36:40.515+0000"
        ],
        [
         "918",
         "{'order_id': 11, 'customer_id': 918, 'customer_fname': 'Nathan', 'customer_lname': 'Smith', 'city': 'Caguas', 'state': 'PR', 'pincode': 725, 'line_items': [{'order_item_id': 29, 'order_item_product_id': 365, 'order_item_quantity': 1, 'order_item_product_price': 59.99, 'order_item_subtotal': 59.99}, {'order_item_id': 30, 'order_item_product_id': 627, 'order_item_quantity': 4, 'order_item_product_price': 39.99, 'order_item_subtotal': 159.96}, {'order_item_id': 31, 'order_item_product_id': 1014, 'order_item_quantity': 1, 'order_item_product_price': 49.98, 'order_item_subtotal': 49.98}, {'order_item_id': 32, 'order_item_product_id': 191, 'order_item_quantity': 4, 'order_item_product_price': 99.99, 'order_item_subtotal': 399.96}, {'order_item_id': 33, 'order_item_product_id': 1014, 'order_item_quantity': 5, 'order_item_product_price': 49.98, 'order_item_subtotal': 249.9}]}",
         "retail-data-topic-01",
         1,
         10,
         "2025-04-24T06:36:55.442+0000"
        ],
        [
         "9149",
         "{'order_id': 13, 'customer_id': 9149, 'customer_fname': 'Ronald', 'customer_lname': 'Whitehead', 'city': 'Santa Ana', 'state': 'CA', 'pincode': 92705, 'line_items': [{'order_item_id': 39, 'order_item_product_id': 276, 'order_item_quantity': 4, 'order_item_product_price': 31.99, 'order_item_subtotal': 127.96}]}",
         "retail-data-topic-01",
         1,
         11,
         "2025-04-24T06:37:02.818+0000"
        ],
        [
         "7276",
         "{'order_id': 16, 'customer_id': 7276, 'customer_fname': 'Pamela', 'customer_lname': 'Smith', 'city': 'Caguas', 'state': 'PR', 'pincode': 725, 'line_items': [{'order_item_id': 48, 'order_item_product_id': 365, 'order_item_quantity': 2, 'order_item_product_price': 59.99, 'order_item_subtotal': 119.98}, {'order_item_id': 49, 'order_item_product_id': 365, 'order_item_quantity': 5, 'order_item_product_price': 59.99, 'order_item_subtotal': 299.95}]}",
         "retail-data-topic-01",
         1,
         12,
         "2025-04-24T06:37:11.223+0000"
        ],
        [
         "4367",
         "{'order_id': 23, 'customer_id': 4367, 'customer_fname': 'Danielle', 'customer_lname': 'Moran', 'city': 'Springfield', 'state': 'MO', 'pincode': 65807, 'line_items': [{'order_item_id': 68, 'order_item_product_id': 957, 'order_item_quantity': 1, 'order_item_product_price': 299.98, 'order_item_subtotal': 299.98}]}",
         "retail-data-topic-01",
         1,
         13,
         "2025-04-24T06:37:27.800+0000"
        ],
        [
         "9776",
         "{'order_id': 42, 'customer_id': 9776, 'customer_fname': 'Diane', 'customer_lname': 'Davis', 'city': 'Endicott', 'state': 'NY', 'pincode': 13760, 'line_items': [{'order_item_id': 106, 'order_item_product_id': 627, 'order_item_quantity': 1, 'order_item_product_price': 39.99, 'order_item_subtotal': 39.99}, {'order_item_id': 107, 'order_item_product_id': 365, 'order_item_quantity': 5, 'order_item_product_price': 59.99, 'order_item_subtotal': 299.95}, {'order_item_id': 108, 'order_item_product_id': 1004, 'order_item_quantity': 1, 'order_item_product_price': 399.98, 'order_item_subtotal': 399.98}]}",
         "retail-data-topic-01",
         1,
         14,
         "2025-04-24T06:38:12.035+0000"
        ],
        [
         "10519",
         "{'order_id': 56, 'customer_id': 10519, 'customer_fname': 'Mary', 'customer_lname': 'Smith', 'city': 'Caguas', 'state': 'PR', 'pincode': 725, 'line_items': [{'order_item_id': 130, 'order_item_product_id': 1073, 'order_item_quantity': 1, 'order_item_product_price': 199.99, 'order_item_subtotal': 199.99}, {'order_item_id': 131, 'order_item_product_id': 1014, 'order_item_quantity': 4, 'order_item_product_price': 49.98, 'order_item_subtotal': 199.92}, {'order_item_id': 132, 'order_item_product_id': 957, 'order_item_quantity': 1, 'order_item_product_price': 299.98, 'order_item_subtotal': 299.98}]}",
         "retail-data-topic-01",
         1,
         15,
         "2025-04-24T06:38:39.823+0000"
        ],
        [
         "5903",
         "{'order_id': 65, 'customer_id': 5903, 'customer_fname': 'Virginia', 'customer_lname': 'Smith', 'city': 'Antioch', 'state': 'TN', 'pincode': 37013, 'line_items': [{'order_item_id': 161, 'order_item_product_id': 957, 'order_item_quantity': 1, 'order_item_product_price': 299.98, 'order_item_subtotal': 299.98}]}",
         "retail-data-topic-01",
         1,
         16,
         "2025-04-24T06:39:01.595+0000"
        ],
        [
         "1792",
         "{'order_id': 66, 'customer_id': 1792, 'customer_fname': 'Roy', 'customer_lname': 'Rodriguez', 'city': 'Jersey City', 'state': 'NJ', 'pincode': 7305, 'line_items': [{'order_item_id': 162, 'order_item_product_id': 403, 'order_item_quantity': 1, 'order_item_product_price': 129.99, 'order_item_subtotal': 129.99}, {'order_item_id': 163, 'order_item_product_id': 365, 'order_item_quantity': 2, 'order_item_product_price': 59.99, 'order_item_subtotal': 119.98}, {'order_item_id': 164, 'order_item_product_id': 957, 'order_item_quantity': 1, 'order_item_product_price': 299.98, 'order_item_subtotal': 299.98}, {'order_item_id': 165, 'order_item_product_id': 403, 'order_item_quantity': 1, 'order_item_product_price': 129.99, 'order_item_subtotal': 129.99}]}",
         "retail-data-topic-01",
         1,
         17,
         "2025-04-24T06:39:04.397+0000"
        ],
        [
         "8504",
         "{'order_id': 73, 'customer_id': 8504, 'customer_fname': 'Mary', 'customer_lname': 'Davis', 'city': 'Virginia Beach', 'state': 'VA', 'pincode': 23462, 'line_items': [{'order_item_id': 179, 'order_item_product_id': 1014, 'order_item_quantity': 5, 'order_item_product_price': 49.98, 'order_item_subtotal': 249.9}, {'order_item_id': 180, 'order_item_product_id': 1014, 'order_item_quantity': 5, 'order_item_product_price': 49.98, 'order_item_subtotal': 249.9}, {'order_item_id': 181, 'order_item_product_id': 1014, 'order_item_quantity': 5, 'order_item_product_price': 49.98, 'order_item_subtotal': 249.9}, {'order_item_id': 182, 'order_item_product_id': 403, 'order_item_quantity': 1, 'order_item_product_price': 129.99, 'order_item_subtotal': 129.99}, {'order_item_id': 183, 'order_item_product_id': 191, 'order_item_quantity': 4, 'order_item_product_price': 99.99, 'order_item_subtotal': 399.96}]}",
         "retail-data-topic-01",
         1,
         18,
         "2025-04-24T06:39:23.492+0000"
        ],
        [
         "8683",
         "{'order_id': 96, 'customer_id': 8683, 'customer_fname': 'Samantha', 'customer_lname': 'Smith', 'city': 'Brighton', 'state': 'MA', 'pincode': 2135, 'line_items': [{'order_item_id': 216, 'order_item_product_id': 1014, 'order_item_quantity': 2, 'order_item_product_price': 49.98, 'order_item_subtotal': 99.96}, {'order_item_id': 217, 'order_item_product_id': 957, 'order_item_quantity': 1, 'order_item_product_price': 299.98, 'order_item_subtotal': 299.98}, {'order_item_id': 218, 'order_item_product_id': 403, 'order_item_quantity': 1, 'order_item_product_price': 129.99, 'order_item_subtotal': 129.99}]}",
         "retail-data-topic-01",
         1,
         19,
         "2025-04-24T06:40:01.437+0000"
        ],
        [
         "256",
         "{'order_id': 2, 'customer_id': 256, 'customer_fname': 'David', 'customer_lname': 'Rodriguez', 'city': 'Chicago', 'state': 'IL', 'pincode': 60625, 'line_items': [{'order_item_id': 2, 'order_item_product_id': 1073, 'order_item_quantity': 1, 'order_item_product_price': 199.99, 'order_item_subtotal': 199.99}, {'order_item_id': 3, 'order_item_product_id': 502, 'order_item_quantity': 5, 'order_item_product_price': 50.0, 'order_item_subtotal': 250.0}, {'order_item_id': 4, 'order_item_product_id': 403, 'order_item_quantity': 1, 'order_item_product_price': 129.99, 'order_item_subtotal': 129.99}]}",
         "retail-data-topic-01",
         1,
         20,
         "2025-04-24T07:59:52.206+0000"
        ],
        [
         "4530",
         "{'order_id': 7, 'customer_id': 4530, 'customer_fname': 'Mary', 'customer_lname': 'Smith', 'city': 'Miami', 'state': 'FL', 'pincode': 33161, 'line_items': [{'order_item_id': 14, 'order_item_product_id': 1073, 'order_item_quantity': 1, 'order_item_product_price': 199.99, 'order_item_subtotal': 199.99}, {'order_item_id': 15, 'order_item_product_id': 957, 'order_item_quantity': 1, 'order_item_product_price': 299.98, 'order_item_subtotal': 299.98}, {'order_item_id': 16, 'order_item_product_id': 926, 'order_item_quantity': 5, 'order_item_product_price': 15.99, 'order_item_subtotal': 79.95}]}",
         "retail-data-topic-01",
         1,
         21,
         "2025-04-24T08:00:07.290+0000"
        ],
        [
         "918",
         "{'order_id': 11, 'customer_id': 918, 'customer_fname': 'Nathan', 'customer_lname': 'Smith', 'city': 'Caguas', 'state': 'PR', 'pincode': 725, 'line_items': [{'order_item_id': 29, 'order_item_product_id': 365, 'order_item_quantity': 1, 'order_item_product_price': 59.99, 'order_item_subtotal': 59.99}, {'order_item_id': 30, 'order_item_product_id': 627, 'order_item_quantity': 4, 'order_item_product_price': 39.99, 'order_item_subtotal': 159.96}, {'order_item_id': 31, 'order_item_product_id': 1014, 'order_item_quantity': 1, 'order_item_product_price': 49.98, 'order_item_subtotal': 49.98}, {'order_item_id': 32, 'order_item_product_id': 191, 'order_item_quantity': 4, 'order_item_product_price': 99.99, 'order_item_subtotal': 399.96}, {'order_item_id': 33, 'order_item_product_id': 1014, 'order_item_quantity': 5, 'order_item_product_price': 49.98, 'order_item_subtotal': 249.9}]}",
         "retail-data-topic-01",
         1,
         22,
         "2025-04-24T08:00:24.427+0000"
        ],
        [
         "9149",
         "{'order_id': 13, 'customer_id': 9149, 'customer_fname': 'Ronald', 'customer_lname': 'Whitehead', 'city': 'Santa Ana', 'state': 'CA', 'pincode': 92705, 'line_items': [{'order_item_id': 39, 'order_item_product_id': 276, 'order_item_quantity': 4, 'order_item_product_price': 31.99, 'order_item_subtotal': 127.96}]}",
         "retail-data-topic-01",
         1,
         23,
         "2025-04-24T08:00:33.246+0000"
        ],
        [
         "7276",
         "{'order_id': 16, 'customer_id': 7276, 'customer_fname': 'Pamela', 'customer_lname': 'Smith', 'city': 'Caguas', 'state': 'PR', 'pincode': 725, 'line_items': [{'order_item_id': 48, 'order_item_product_id': 365, 'order_item_quantity': 2, 'order_item_product_price': 59.99, 'order_item_subtotal': 119.98}, {'order_item_id': 49, 'order_item_product_id': 365, 'order_item_quantity': 5, 'order_item_product_price': 59.99, 'order_item_subtotal': 299.95}]}",
         "retail-data-topic-01",
         1,
         24,
         "2025-04-24T08:00:42.090+0000"
        ],
        [
         "256",
         "{'order_id': 2, 'customer_id': 256, 'customer_fname': 'David', 'customer_lname': 'Rodriguez', 'city': 'Chicago', 'state': 'IL', 'pincode': 60625, 'line_items': [{'order_item_id': 2, 'order_item_product_id': 1073, 'order_item_quantity': 1, 'order_item_product_price': 199.99, 'order_item_subtotal': 199.99}, {'order_item_id': 3, 'order_item_product_id': 502, 'order_item_quantity': 5, 'order_item_product_price': 50.0, 'order_item_subtotal': 250.0}, {'order_item_id': 4, 'order_item_product_id': 403, 'order_item_quantity': 1, 'order_item_product_price': 129.99, 'order_item_subtotal': 129.99}]}",
         "retail-data-topic-01",
         1,
         25,
         "2025-04-24T09:22:21.033+0000"
        ],
        [
         "4530",
         "{'order_id': 7, 'customer_id': 4530, 'customer_fname': 'Mary', 'customer_lname': 'Smith', 'city': 'Miami', 'state': 'FL', 'pincode': 33161, 'line_items': [{'order_item_id': 14, 'order_item_product_id': 1073, 'order_item_quantity': 1, 'order_item_product_price': 199.99, 'order_item_subtotal': 199.99}, {'order_item_id': 15, 'order_item_product_id': 957, 'order_item_quantity': 1, 'order_item_product_price': 299.98, 'order_item_subtotal': 299.98}, {'order_item_id': 16, 'order_item_product_id': 926, 'order_item_quantity': 5, 'order_item_product_price': 15.99, 'order_item_subtotal': 79.95}]}",
         "retail-data-topic-01",
         1,
         26,
         "2025-04-24T09:22:32.651+0000"
        ],
        [
         "918",
         "{'order_id': 11, 'customer_id': 918, 'customer_fname': 'Nathan', 'customer_lname': 'Smith', 'city': 'Caguas', 'state': 'PR', 'pincode': 725, 'line_items': [{'order_item_id': 29, 'order_item_product_id': 365, 'order_item_quantity': 1, 'order_item_product_price': 59.99, 'order_item_subtotal': 59.99}, {'order_item_id': 30, 'order_item_product_id': 627, 'order_item_quantity': 4, 'order_item_product_price': 39.99, 'order_item_subtotal': 159.96}, {'order_item_id': 31, 'order_item_product_id': 1014, 'order_item_quantity': 1, 'order_item_product_price': 49.98, 'order_item_subtotal': 49.98}, {'order_item_id': 32, 'order_item_product_id': 191, 'order_item_quantity': 4, 'order_item_product_price': 99.99, 'order_item_subtotal': 399.96}, {'order_item_id': 33, 'order_item_product_id': 1014, 'order_item_quantity': 5, 'order_item_product_price': 49.98, 'order_item_subtotal': 249.9}]}",
         "retail-data-topic-01",
         1,
         27,
         "2025-04-24T09:22:43.798+0000"
        ],
        [
         "9149",
         "{'order_id': 13, 'customer_id': 9149, 'customer_fname': 'Ronald', 'customer_lname': 'Whitehead', 'city': 'Santa Ana', 'state': 'CA', 'pincode': 92705, 'line_items': [{'order_item_id': 39, 'order_item_product_id': 276, 'order_item_quantity': 4, 'order_item_product_price': 31.99, 'order_item_subtotal': 127.96}]}",
         "retail-data-topic-01",
         1,
         28,
         "2025-04-24T09:22:47.241+0000"
        ],
        [
         "7276",
         "{'order_id': 16, 'customer_id': 7276, 'customer_fname': 'Pamela', 'customer_lname': 'Smith', 'city': 'Caguas', 'state': 'PR', 'pincode': 725, 'line_items': [{'order_item_id': 48, 'order_item_product_id': 365, 'order_item_quantity': 2, 'order_item_product_price': 59.99, 'order_item_subtotal': 119.98}, {'order_item_id': 49, 'order_item_product_id': 365, 'order_item_quantity': 5, 'order_item_product_price': 59.99, 'order_item_subtotal': 299.95}]}",
         "retail-data-topic-01",
         1,
         29,
         "2025-04-24T09:22:49.363+0000"
        ],
        [
         "4367",
         "{'order_id': 23, 'customer_id': 4367, 'customer_fname': 'Danielle', 'customer_lname': 'Moran', 'city': 'Springfield', 'state': 'MO', 'pincode': 65807, 'line_items': [{'order_item_id': 68, 'order_item_product_id': 957, 'order_item_quantity': 1, 'order_item_product_price': 299.98, 'order_item_subtotal': 299.98}]}",
         "retail-data-topic-01",
         1,
         30,
         "2025-04-24T09:22:53.437+0000"
        ],
        [
         "9776",
         "{'order_id': 42, 'customer_id': 9776, 'customer_fname': 'Diane', 'customer_lname': 'Davis', 'city': 'Endicott', 'state': 'NY', 'pincode': 13760, 'line_items': [{'order_item_id': 106, 'order_item_product_id': 627, 'order_item_quantity': 1, 'order_item_product_price': 39.99, 'order_item_subtotal': 39.99}, {'order_item_id': 107, 'order_item_product_id': 365, 'order_item_quantity': 5, 'order_item_product_price': 59.99, 'order_item_subtotal': 299.95}, {'order_item_id': 108, 'order_item_product_id': 1004, 'order_item_quantity': 1, 'order_item_product_price': 399.98, 'order_item_subtotal': 399.98}]}",
         "retail-data-topic-01",
         1,
         31,
         "2025-04-24T09:23:04.150+0000"
        ],
        [
         "10519",
         "{'order_id': 56, 'customer_id': 10519, 'customer_fname': 'Mary', 'customer_lname': 'Smith', 'city': 'Caguas', 'state': 'PR', 'pincode': 725, 'line_items': [{'order_item_id': 130, 'order_item_product_id': 1073, 'order_item_quantity': 1, 'order_item_product_price': 199.99, 'order_item_subtotal': 199.99}, {'order_item_id': 131, 'order_item_product_id': 1014, 'order_item_quantity': 4, 'order_item_product_price': 49.98, 'order_item_subtotal': 199.92}, {'order_item_id': 132, 'order_item_product_id': 957, 'order_item_quantity': 1, 'order_item_product_price': 299.98, 'order_item_subtotal': 299.98}]}",
         "retail-data-topic-01",
         1,
         32,
         "2025-04-24T09:23:11.251+0000"
        ],
        [
         "123",
         "{\"order_id\":1,\"customer_id\":11599,\"customer_fname\":\"Mary\",\"customer_lname\":\"Malone\",\"city\":\"Hickory\",\"state\":\"NC\",\"pincode\":28601,\"line_items\":[{\"order_item_id\":1,\"order_item_product_id\":957,\"order_item_quantity\":1,\"order_item_product_price\":299.98,\"order_item_subtotal\":299.98}]}",
         "retail-data-topic-01",
         5,
         0,
         "2025-04-23T05:56:30.775+0000"
        ],
        [
         "123",
         "{\"order_id\":2,\"customer_id\":256,\"customer_fname\":\"David\",\"customer_lname\":\"Rodriguez\",\"city\":\"Chicago\",\"state\":\"IL\",\"pincode\":60625,\"line_items\":[{\"order_item_id\":2,\"order_item_product_id\":1073,\"order_item_quantity\":1,\"order_item_product_price\":199.99,\"order_item_subtotal\":199.99},{\"order_item_id\":3,\"order_item_product_id\":502,\"order_item_quantity\":5,\"order_item_product_price\":50,\"order_item_subtotal\":250},{\"order_item_id\":4,\"order_item_product_id\":403,\"order_item_quantity\":1,\"order_item_product_price\":129.99,\"order_item_subtotal\":129.99}]}",
         "retail-data-topic-01",
         5,
         1,
         "2025-04-23T05:57:57.707+0000"
        ],
        [
         "123",
         "{\"order_id\":4,\"customer_id\":8827,\"customer_fname\":\"Brian\",\"customer_lname\":\"Wilson\",\"city\":\"San Antonio\",\"state\":\"TX\",\"pincode\":78240,\"line_items\":[{\"order_item_id\":5,\"order_item_product_id\":897,\"order_item_quantity\":2,\"order_item_product_price\":24.99,\"order_item_subtotal\":49.98},{\"order_item_id\":6,\"order_item_product_id\":365,\"order_item_quantity\":5,\"order_item_product_price\":59.99,\"order_item_subtotal\":299.95},{\"order_item_id\":7,\"order_item_product_id\":502,\"order_item_quantity\":3,\"order_item_product_price\":50,\"order_item_subtotal\":150},{\"order_item_id\":8,\"order_item_product_id\":1014,\"order_item_quantity\":4,\"order_item_product_price\":49.98,\"order_item_subtotal\":199.92}]}",
         "retail-data-topic-01",
         5,
         2,
         "2025-04-23T05:58:40.129+0000"
        ],
        [
         "2911",
         "{'order_id': 8, 'customer_id': 2911, 'customer_fname': 'Mary', 'customer_lname': 'Smith', 'city': 'Caguas', 'state': 'PR', 'pincode': 725, 'line_items': [{'order_item_id': 17, 'order_item_product_id': 365, 'order_item_quantity': 3, 'order_item_product_price': 59.99, 'order_item_subtotal': 179.97}, {'order_item_id': 18, 'order_item_product_id': 365, 'order_item_quantity': 5, 'order_item_product_price': 59.99, 'order_item_subtotal': 299.95}, {'order_item_id': 19, 'order_item_product_id': 1014, 'order_item_quantity': 4, 'order_item_product_price': 49.98, 'order_item_subtotal': 199.92}, {'order_item_id': 20, 'order_item_product_id': 502, 'order_item_quantity': 1, 'order_item_product_price': 50.0, 'order_item_subtotal': 50.0}]}",
         "retail-data-topic-01",
         5,
         3,
         "2025-04-24T06:36:43.359+0000"
        ],
        [
         "2711",
         "{'order_id': 21, 'customer_id': 2711, 'customer_fname': 'Alice', 'customer_lname': 'Rodriguez', 'city': 'Bronx', 'state': 'NY', 'pincode': 10460, 'line_items': [{'order_item_id': 64, 'order_item_product_id': 897, 'order_item_quantity': 3, 'order_item_product_price': 24.99, 'order_item_subtotal': 74.97}, {'order_item_id': 65, 'order_item_product_id': 276, 'order_item_quantity': 4, 'order_item_product_price': 31.99, 'order_item_subtotal': 127.96}, {'order_item_id': 66, 'order_item_product_id': 37, 'order_item_quantity': 2, 'order_item_product_price': 34.99, 'order_item_subtotal': 69.98}, {'order_item_id': 67, 'order_item_product_id': 502, 'order_item_quantity': 2, 'order_item_product_price': 50.0, 'order_item_subtotal': 100.0}]}",
         "retail-data-topic-01",
         5,
         4,
         "2025-04-24T06:37:25.091+0000"
        ],
        [
         "9503",
         "{'order_id': 25, 'customer_id': 9503, 'customer_fname': 'Mary', 'customer_lname': 'Fitzpatrick', 'city': 'Orlando', 'state': 'FL', 'pincode': 32822, 'line_items': [{'order_item_id': 74, 'order_item_product_id': 1004, 'order_item_quantity': 1, 'order_item_product_price': 399.98, 'order_item_subtotal': 399.98}]}",
         "retail-data-topic-01",
         5,
         5,
         "2025-04-24T06:37:33.560+0000"
        ],
        [
         "4840",
         "{'order_id': 35, 'customer_id': 4840, 'customer_fname': 'Mary', 'customer_lname': 'Marshall', 'city': 'Irving', 'state': 'TX', 'pincode': 75061, 'line_items': [{'order_item_id': 95, 'order_item_product_id': 403, 'order_item_quantity': 1, 'order_item_product_price': 129.99, 'order_item_subtotal': 129.99}]}",
         "retail-data-topic-01",
         5,
         6,
         "2025-04-24T06:37:55.242+0000"
        ],
        [
         "8214",
         "{'order_id': 39, 'customer_id': 8214, 'customer_fname': 'Mary', 'customer_lname': 'Smith', 'city': 'North Hills', 'state': 'CA', 'pincode': 91343, 'line_items': [{'order_item_id': 103, 'order_item_product_id': 1073, 'order_item_quantity': 1, 'order_item_product_price': 199.99, 'order_item_subtotal': 199.99}]}",
         "retail-data-topic-01",
         5,
         7,
         "2025-04-24T06:38:06.586+0000"
        ],
        [
         "2636",
         "{'order_id': 45, 'customer_id': 2636, 'customer_fname': 'Christian', 'customer_lname': 'Smith', 'city': 'Caguas', 'state': 'PR', 'pincode': 725, 'line_items': [{'order_item_id': 113, 'order_item_product_id': 627, 'order_item_quantity': 5, 'order_item_product_price': 39.99, 'order_item_subtotal': 199.95}, {'order_item_id': 114, 'order_item_product_id': 627, 'order_item_quantity': 4, 'order_item_product_price': 39.99, 'order_item_subtotal': 159.96}, {'order_item_id': 115, 'order_item_product_id': 924, 'order_item_quantity': 5, 'order_item_product_price': 15.99, 'order_item_subtotal': 79.95}, {'order_item_id': 116, 'order_item_product_id': 365, 'order_item_quantity': 1, 'order_item_product_price': 59.99, 'order_item_subtotal': 59.99}]}",
         "retail-data-topic-01",
         5,
         8,
         "2025-04-24T06:38:20.364+0000"
        ],
        [
         "9213",
         "{'order_id': 58, 'customer_id': 9213, 'customer_fname': 'Jennifer', 'customer_lname': 'Williamson', 'city': 'Rio Grande', 'state': 'PR', 'pincode': 745, 'line_items': [{'order_item_id': 137, 'order_item_product_id': 775, 'order_item_quantity': 2, 'order_item_product_price': 9.99, 'order_item_subtotal': 19.98}, {'order_item_id': 138, 'order_item_product_id': 502, 'order_item_quantity': 1, 'order_item_product_price': 50.0, 'order_item_subtotal': 50.0}, {'order_item_id': 139, 'order_item_product_id': 1004, 'order_item_quantity': 1, 'order_item_product_price': 399.98, 'order_item_subtotal': 399.98}, {'order_item_id': 140, 'order_item_product_id': 1073, 'order_item_quantity': 1, 'order_item_product_price': 199.99, 'order_item_subtotal': 199.99}, {'order_item_id': 141, 'order_item_product_id': 403, 'order_item_quantity': 1, 'order_item_product_price': 129.99, 'order_item_subtotal': 129.99}]}",
         "retail-data-topic-01",
         5,
         9,
         "2025-04-24T06:38:45.316+0000"
        ],
        [
         "11644",
         "{'order_id': 59, 'customer_id': 11644, 'customer_fname': 'Mildred', 'customer_lname': 'Smith', 'city': 'Caguas', 'state': 'PR', 'pincode': 725, 'line_items': [{'order_item_id': 142, 'order_item_product_id': 957, 'order_item_quantity': 1, 'order_item_product_price': 299.98, 'order_item_subtotal': 299.98}, {'order_item_id': 143, 'order_item_product_id': 365, 'order_item_quantity': 1, 'order_item_product_price': 59.99, 'order_item_subtotal': 59.99}, {'order_item_id': 144, 'order_item_product_id': 365, 'order_item_quantity': 1, 'order_item_product_price': 59.99, 'order_item_subtotal': 59.99}, {'order_item_id': 145, 'order_item_product_id': 1073, 'order_item_quantity': 1, 'order_item_product_price': 199.99, 'order_item_subtotal': 199.99}]}",
         "retail-data-topic-01",
         5,
         10,
         "2025-04-24T06:38:47.945+0000"
        ],
        [
         "2256",
         "{'order_id': 93, 'customer_id': 2256, 'customer_fname': 'Mary', 'customer_lname': 'Smith', 'city': 'San Jose', 'state': 'CA', 'pincode': 95122, 'line_items': [{'order_item_id': 210, 'order_item_product_id': 778, 'order_item_quantity': 4, 'order_item_product_price': 24.99, 'order_item_subtotal': 99.96}]}",
         "retail-data-topic-01",
         5,
         11,
         "2025-04-24T06:39:53.414+0000"
        ],
        [
         "10784",
         "{'order_id': 97, 'customer_id': 10784, 'customer_fname': 'Raymond', 'customer_lname': 'Reed', 'city': 'Loveland', 'state': 'OH', 'pincode': 45140, 'line_items': [{'order_item_id': 219, 'order_item_product_id': 886, 'order_item_quantity': 5, 'order_item_product_price': 24.99, 'order_item_subtotal': 124.95}]}",
         "retail-data-topic-01",
         5,
         12,
         "2025-04-24T06:40:04.166+0000"
        ],
        [
         "11542",
         "{'order_id': 99, 'customer_id': 11542, 'customer_fname': 'Mary', 'customer_lname': 'Perkins', 'city': 'Caguas', 'state': 'PR', 'pincode': 725, 'line_items': [{'order_item_id': 222, 'order_item_product_id': 191, 'order_item_quantity': 5, 'order_item_product_price': 99.99, 'order_item_subtotal': 499.95}, {'order_item_id': 223, 'order_item_product_id': 502, 'order_item_quantity': 4, 'order_item_product_price': 50.0, 'order_item_subtotal': 200.0}, {'order_item_id': 224, 'order_item_product_id': 1073, 'order_item_quantity': 1, 'order_item_product_price': 199.99, 'order_item_subtotal': 199.99}, {'order_item_id': 225, 'order_item_product_id': 1073, 'order_item_quantity': 1, 'order_item_product_price': 199.99, 'order_item_subtotal': 199.99}]}",
         "retail-data-topic-01",
         5,
         13,
         "2025-04-24T06:40:09.628+0000"
        ],
        [
         "5116",
         "{'order_id': 101, 'customer_id': 5116, 'customer_fname': 'Doris', 'customer_lname': 'Smith', 'city': 'Brockton', 'state': 'MA', 'pincode': 2301, 'line_items': [{'order_item_id': 229, 'order_item_product_id': 191, 'order_item_quantity': 1, 'order_item_product_price': 99.99, 'order_item_subtotal': 99.99}, {'order_item_id': 230, 'order_item_product_id': 957, 'order_item_quantity': 1, 'order_item_product_price': 299.98, 'order_item_subtotal': 299.98}, {'order_item_id': 231, 'order_item_product_id': 1073, 'order_item_quantity': 1, 'order_item_product_price': 199.99, 'order_item_subtotal': 199.99}, {'order_item_id': 232, 'order_item_product_id': 957, 'order_item_quantity': 1, 'order_item_product_price': 299.98, 'order_item_subtotal': 299.98}]}",
         "retail-data-topic-01",
         5,
         14,
         "2025-04-24T06:40:15.016+0000"
        ],
        [
         "7790",
         "{'order_id': 104, 'customer_id': 7790, 'customer_fname': 'Edward', 'customer_lname': 'Castaneda', 'city': 'Fullerton', 'state': 'CA', 'pincode': 92833, 'line_items': [{'order_item_id': 236, 'order_item_product_id': 403, 'order_item_quantity': 1, 'order_item_product_price': 129.99, 'order_item_subtotal': 129.99}, {'order_item_id': 237, 'order_item_product_id': 957, 'order_item_quantity': 1, 'order_item_product_price': 299.98, 'order_item_subtotal': 299.98}, {'order_item_id': 238, 'order_item_product_id': 365, 'order_item_quantity': 2, 'order_item_product_price': 59.99, 'order_item_subtotal': 119.98}]}",
         "retail-data-topic-01",
         5,
         15,
         "2025-04-24T06:40:20.453+0000"
        ],
        [
         "8220",
         "{'order_id': 105, 'customer_id': 8220, 'customer_fname': 'Michael', 'customer_lname': 'Smith', 'city': 'Orlando', 'state': 'FL', 'pincode': 32808, 'line_items': [{'order_item_id': 239, 'order_item_product_id': 403, 'order_item_quantity': 1, 'order_item_product_price': 129.99, 'order_item_subtotal': 129.99}, {'order_item_id': 240, 'order_item_product_id': 365, 'order_item_quantity': 3, 'order_item_product_price': 59.99, 'order_item_subtotal': 179.97}, {'order_item_id': 241, 'order_item_product_id': 365, 'order_item_quantity': 2, 'order_item_product_price': 59.99, 'order_item_subtotal': 119.98}]}",
         "retail-data-topic-01",
         5,
         16,
         "2025-04-24T06:40:23.110+0000"
        ],
        [
         "2911",
         "{'order_id': 8, 'customer_id': 2911, 'customer_fname': 'Mary', 'customer_lname': 'Smith', 'city': 'Caguas', 'state': 'PR', 'pincode': 725, 'line_items': [{'order_item_id': 17, 'order_item_product_id': 365, 'order_item_quantity': 3, 'order_item_product_price': 59.99, 'order_item_subtotal': 179.97}, {'order_item_id': 18, 'order_item_product_id': 365, 'order_item_quantity': 5, 'order_item_product_price': 59.99, 'order_item_subtotal': 299.95}, {'order_item_id': 19, 'order_item_product_id': 1014, 'order_item_quantity': 4, 'order_item_product_price': 49.98, 'order_item_subtotal': 199.92}, {'order_item_id': 20, 'order_item_product_id': 502, 'order_item_quantity': 1, 'order_item_product_price': 50.0, 'order_item_subtotal': 50.0}]}",
         "retail-data-topic-01",
         5,
         17,
         "2025-04-24T08:00:10.179+0000"
        ],
        [
         "2711",
         "{'order_id': 21, 'customer_id': 2711, 'customer_fname': 'Alice', 'customer_lname': 'Rodriguez', 'city': 'Bronx', 'state': 'NY', 'pincode': 10460, 'line_items': [{'order_item_id': 64, 'order_item_product_id': 897, 'order_item_quantity': 3, 'order_item_product_price': 24.99, 'order_item_subtotal': 74.97}, {'order_item_id': 65, 'order_item_product_id': 276, 'order_item_quantity': 4, 'order_item_product_price': 31.99, 'order_item_subtotal': 127.96}, {'order_item_id': 66, 'order_item_product_id': 37, 'order_item_quantity': 2, 'order_item_product_price': 34.99, 'order_item_subtotal': 69.98}, {'order_item_id': 67, 'order_item_product_id': 502, 'order_item_quantity': 2, 'order_item_product_price': 50.0, 'order_item_subtotal': 100.0}]}",
         "retail-data-topic-01",
         5,
         18,
         "2025-04-24T08:00:57.244+0000"
        ],
        [
         "2911",
         "{'order_id': 8, 'customer_id': 2911, 'customer_fname': 'Mary', 'customer_lname': 'Smith', 'city': 'Caguas', 'state': 'PR', 'pincode': 725, 'line_items': [{'order_item_id': 17, 'order_item_product_id': 365, 'order_item_quantity': 3, 'order_item_product_price': 59.99, 'order_item_subtotal': 179.97}, {'order_item_id': 18, 'order_item_product_id': 365, 'order_item_quantity': 5, 'order_item_product_price': 59.99, 'order_item_subtotal': 299.95}, {'order_item_id': 19, 'order_item_product_id': 1014, 'order_item_quantity': 4, 'order_item_product_price': 49.98, 'order_item_subtotal': 199.92}, {'order_item_id': 20, 'order_item_product_id': 502, 'order_item_quantity': 1, 'order_item_product_price': 50.0, 'order_item_subtotal': 50.0}]}",
         "retail-data-topic-01",
         5,
         19,
         "2025-04-24T09:22:33.506+0000"
        ],
        [
         "2711",
         "{'order_id': 21, 'customer_id': 2711, 'customer_fname': 'Alice', 'customer_lname': 'Rodriguez', 'city': 'Bronx', 'state': 'NY', 'pincode': 10460, 'line_items': [{'order_item_id': 64, 'order_item_product_id': 897, 'order_item_quantity': 3, 'order_item_product_price': 24.99, 'order_item_subtotal': 74.97}, {'order_item_id': 65, 'order_item_product_id': 276, 'order_item_quantity': 4, 'order_item_product_price': 31.99, 'order_item_subtotal': 127.96}, {'order_item_id': 66, 'order_item_product_id': 37, 'order_item_quantity': 2, 'order_item_product_price': 34.99, 'order_item_subtotal': 69.98}, {'order_item_id': 67, 'order_item_product_id': 502, 'order_item_quantity': 2, 'order_item_product_price': 50.0, 'order_item_subtotal': 100.0}]}",
         "retail-data-topic-01",
         5,
         20,
         "2025-04-24T09:22:52.720+0000"
        ],
        [
         "9503",
         "{'order_id': 25, 'customer_id': 9503, 'customer_fname': 'Mary', 'customer_lname': 'Fitzpatrick', 'city': 'Orlando', 'state': 'FL', 'pincode': 32822, 'line_items': [{'order_item_id': 74, 'order_item_product_id': 1004, 'order_item_quantity': 1, 'order_item_product_price': 399.98, 'order_item_subtotal': 399.98}]}",
         "retail-data-topic-01",
         5,
         21,
         "2025-04-24T09:22:54.854+0000"
        ],
        [
         "4840",
         "{'order_id': 35, 'customer_id': 4840, 'customer_fname': 'Mary', 'customer_lname': 'Marshall', 'city': 'Irving', 'state': 'TX', 'pincode': 75061, 'line_items': [{'order_item_id': 95, 'order_item_product_id': 403, 'order_item_quantity': 1, 'order_item_product_price': 129.99, 'order_item_subtotal': 129.99}]}",
         "retail-data-topic-01",
         5,
         22,
         "2025-04-24T09:23:00.218+0000"
        ],
        [
         "8214",
         "{'order_id': 39, 'customer_id': 8214, 'customer_fname': 'Mary', 'customer_lname': 'Smith', 'city': 'North Hills', 'state': 'CA', 'pincode': 91343, 'line_items': [{'order_item_id': 103, 'order_item_product_id': 1073, 'order_item_quantity': 1, 'order_item_product_price': 199.99, 'order_item_subtotal': 199.99}]}",
         "retail-data-topic-01",
         5,
         23,
         "2025-04-24T09:23:02.731+0000"
        ],
        [
         "2636",
         "{'order_id': 45, 'customer_id': 2636, 'customer_fname': 'Christian', 'customer_lname': 'Smith', 'city': 'Caguas', 'state': 'PR', 'pincode': 725, 'line_items': [{'order_item_id': 113, 'order_item_product_id': 627, 'order_item_quantity': 5, 'order_item_product_price': 39.99, 'order_item_subtotal': 199.95}, {'order_item_id': 114, 'order_item_product_id': 627, 'order_item_quantity': 4, 'order_item_product_price': 39.99, 'order_item_subtotal': 159.96}, {'order_item_id': 115, 'order_item_product_id': 924, 'order_item_quantity': 5, 'order_item_product_price': 15.99, 'order_item_subtotal': 79.95}, {'order_item_id': 116, 'order_item_product_id': 365, 'order_item_quantity': 1, 'order_item_product_price': 59.99, 'order_item_subtotal': 59.99}]}",
         "retail-data-topic-01",
         5,
         24,
         "2025-04-24T09:23:06.266+0000"
        ],
        [
         "9213",
         "{'order_id': 58, 'customer_id': 9213, 'customer_fname': 'Jennifer', 'customer_lname': 'Williamson', 'city': 'Rio Grande', 'state': 'PR', 'pincode': 745, 'line_items': [{'order_item_id': 137, 'order_item_product_id': 775, 'order_item_quantity': 2, 'order_item_product_price': 9.99, 'order_item_subtotal': 19.98}, {'order_item_id': 138, 'order_item_product_id': 502, 'order_item_quantity': 1, 'order_item_product_price': 50.0, 'order_item_subtotal': 50.0}, {'order_item_id': 139, 'order_item_product_id': 1004, 'order_item_quantity': 1, 'order_item_product_price': 399.98, 'order_item_subtotal': 399.98}, {'order_item_id': 140, 'order_item_product_id': 1073, 'order_item_quantity': 1, 'order_item_product_price': 199.99, 'order_item_subtotal': 199.99}, {'order_item_id': 141, 'order_item_product_id': 403, 'order_item_quantity': 1, 'order_item_product_price': 129.99, 'order_item_subtotal': 129.99}]}",
         "retail-data-topic-01",
         5,
         25,
         "2025-04-24T09:23:12.555+0000"
        ],
        [
         "11644",
         "{'order_id': 59, 'customer_id': 11644, 'customer_fname': 'Mildred', 'customer_lname': 'Smith', 'city': 'Caguas', 'state': 'PR', 'pincode': 725, 'line_items': [{'order_item_id': 142, 'order_item_product_id': 957, 'order_item_quantity': 1, 'order_item_product_price': 299.98, 'order_item_subtotal': 299.98}, {'order_item_id': 143, 'order_item_product_id': 365, 'order_item_quantity': 1, 'order_item_product_price': 59.99, 'order_item_subtotal': 59.99}, {'order_item_id': 144, 'order_item_product_id': 365, 'order_item_quantity': 1, 'order_item_product_price': 59.99, 'order_item_subtotal': 59.99}, {'order_item_id': 145, 'order_item_product_id': 1073, 'order_item_quantity': 1, 'order_item_product_price': 199.99, 'order_item_subtotal': 199.99}]}",
         "retail-data-topic-01",
         5,
         26,
         "2025-04-24T09:23:13.273+0000"
        ],
        [
         "1837",
         "{'order_id': 12, 'customer_id': 1837, 'customer_fname': 'Mary', 'customer_lname': 'Vega', 'city': 'Caguas', 'state': 'PR', 'pincode': 725, 'line_items': [{'order_item_id': 34, 'order_item_product_id': 957, 'order_item_quantity': 1, 'order_item_product_price': 299.98, 'order_item_subtotal': 299.98}, {'order_item_id': 35, 'order_item_product_id': 134, 'order_item_quantity': 4, 'order_item_product_price': 25.0, 'order_item_subtotal': 100.0}, {'order_item_id': 36, 'order_item_product_id': 1014, 'order_item_quantity': 3, 'order_item_product_price': 49.98, 'order_item_subtotal': 149.94}, {'order_item_id': 37, 'order_item_product_id': 191, 'order_item_quantity': 5, 'order_item_product_price': 99.99, 'order_item_subtotal': 499.95}, {'order_item_id': 38, 'order_item_product_id': 502, 'order_item_quantity': 5, 'order_item_product_price': 50.0, 'order_item_subtotal': 250.0}]}",
         "retail-data-topic-01",
         3,
         0,
         "2025-04-24T06:36:58.253+0000"
        ],
        [
         "656",
         "{'order_id': 28, 'customer_id': 656, 'customer_fname': 'Julie', 'customer_lname': 'Smith', 'city': 'Pomona', 'state': 'CA', 'pincode': 91767, 'line_items': [{'order_item_id': 78, 'order_item_product_id': 191, 'order_item_quantity': 4, 'order_item_product_price': 99.99, 'order_item_subtotal': 399.96}, {'order_item_id': 79, 'order_item_product_id': 957, 'order_item_quantity': 1, 'order_item_product_price': 299.98, 'order_item_subtotal': 299.98}, {'order_item_id': 80, 'order_item_product_id': 957, 'order_item_quantity': 1, 'order_item_product_price': 299.98, 'order_item_subtotal': 299.98}, {'order_item_id': 81, 'order_item_product_id': 191, 'order_item_quantity': 1, 'order_item_product_price': 99.99, 'order_item_subtotal': 99.99}, {'order_item_id': 82, 'order_item_product_id': 365, 'order_item_quantity': 1, 'order_item_product_price': 59.99, 'order_item_subtotal': 59.99}]}",
         "retail-data-topic-01",
         3,
         1,
         "2025-04-24T06:37:39.062+0000"
        ],
        [
         "6983",
         "{'order_id': 31, 'customer_id': 6983, 'customer_fname': 'Mary', 'customer_lname': 'Black', 'city': 'Caguas', 'state': 'PR', 'pincode': 725, 'line_items': [{'order_item_id': 89, 'order_item_product_id': 191, 'order_item_quantity': 5, 'order_item_product_price': 99.99, 'order_item_subtotal': 499.95}]}",
         "retail-data-topic-01",
         3,
         2,
         "2025-04-24T06:37:47.111+0000"
        ],
        [
         "5225",
         "{'order_id': 50, 'customer_id': 5225, 'customer_fname': 'Mary', 'customer_lname': 'Smith', 'city': 'Peabody', 'state': 'MA', 'pincode': 1960, 'line_items': [{'order_item_id': 124, 'order_item_product_id': 403, 'order_item_quantity': 1, 'order_item_product_price': 129.99, 'order_item_subtotal': 129.99}, {'order_item_id': 125, 'order_item_product_id': 957, 'order_item_quantity': 1, 'order_item_product_price': 299.98, 'order_item_subtotal': 299.98}]}",
         "retail-data-topic-01",
         3,
         3,
         "2025-04-24T06:38:31.493+0000"
        ],
        [
         "12271",
         "{'order_id': 51, 'customer_id': 12271, 'customer_fname': 'Mary', 'customer_lname': 'Small', 'city': 'Ontario', 'state': 'CA', 'pincode': 91761, 'line_items': [{'order_item_id': 126, 'order_item_product_id': 502, 'order_item_quantity': 1, 'order_item_product_price': 50.0, 'order_item_subtotal': 50.0}, {'order_item_id': 127, 'order_item_product_id': 1004, 'order_item_quantity': 1, 'order_item_product_price': 399.98, 'order_item_subtotal': 399.98}]}",
         "retail-data-topic-01",
         3,
         4,
         "2025-04-24T06:38:34.243+0000"
        ],
        [
         "4791",
         "{'order_id': 61, 'customer_id': 4791, 'customer_fname': 'Mary', 'customer_lname': 'Patton', 'city': 'Hialeah', 'state': 'FL', 'pincode': 33010, 'line_items': [{'order_item_id': 146, 'order_item_product_id': 365, 'order_item_quantity': 2, 'order_item_product_price': 59.99, 'order_item_subtotal': 119.98}, {'order_item_id': 147, 'order_item_product_id': 365, 'order_item_quantity': 2, 'order_item_product_price': 59.99, 'order_item_subtotal': 119.98}, {'order_item_id': 148, 'order_item_product_id': 191, 'order_item_quantity': 4, 'order_item_product_price': 99.99, 'order_item_subtotal': 399.96}]}",
         "retail-data-topic-01",
         3,
         5,
         "2025-04-24T06:38:50.624+0000"
        ],
        [
         "2821",
         "{'order_id': 69, 'customer_id': 2821, 'customer_fname': 'Mary', 'customer_lname': 'Williams', 'city': 'Santa Ana', 'state': 'CA', 'pincode': 92703, 'line_items': [{'order_item_id': 168, 'order_item_product_id': 365, 'order_item_quantity': 4, 'order_item_product_price': 59.99, 'order_item_subtotal': 239.96}]}",
         "retail-data-topic-01",
         3,
         6,
         "2025-04-24T06:39:12.758+0000"
        ],
        [
         "662",
         "{'order_id': 74, 'customer_id': 662, 'customer_fname': 'Michelle', 'customer_lname': 'Moss', 'city': 'Caguas', 'state': 'PR', 'pincode': 725, 'line_items': [{'order_item_id': 184, 'order_item_product_id': 365, 'order_item_quantity': 2, 'order_item_product_price': 59.99, 'order_item_subtotal': 119.98}]}",
         "retail-data-topic-01",
         3,
         7,
         "2025-04-24T06:39:26.216+0000"
        ],
        [
         "2505",
         "{'order_id': 75, 'customer_id': 2505, 'customer_fname': 'Jessica', 'customer_lname': 'Johnson', 'city': 'Caguas', 'state': 'PR', 'pincode': 725, 'line_items': [{'order_item_id': 185, 'order_item_product_id': 403, 'order_item_quantity': 1, 'order_item_product_price': 129.99, 'order_item_subtotal': 129.99}, {'order_item_id': 186, 'order_item_product_id': 502, 'order_item_quantity': 1, 'order_item_product_price': 50.0, 'order_item_subtotal': 50.0}, {'order_item_id': 187, 'order_item_product_id': 502, 'order_item_quantity': 4, 'order_item_product_price': 50.0, 'order_item_subtotal': 200.0}, {'order_item_id': 188, 'order_item_product_id': 1004, 'order_item_quantity': 1, 'order_item_product_price': 399.98, 'order_item_subtotal': 399.98}]}",
         "retail-data-topic-01",
         3,
         8,
         "2025-04-24T06:39:28.846+0000"
        ],
        [
         "674",
         "{'order_id': 81, 'customer_id': 674, 'customer_fname': 'Jose', 'customer_lname': 'Reynolds', 'city': 'Morrisville', 'state': 'PA', 'pincode': 19067, 'line_items': [{'order_item_id': 194, 'order_item_product_id': 627, 'order_item_quantity': 5, 'order_item_product_price': 39.99, 'order_item_subtotal': 199.95}, {'order_item_id': 195, 'order_item_product_id': 627, 'order_item_quantity': 3, 'order_item_product_price': 39.99, 'order_item_subtotal': 119.97}, {'order_item_id': 196, 'order_item_product_id': 1014, 'order_item_quantity': 4, 'order_item_product_price': 49.98, 'order_item_subtotal': 199.92}, {'order_item_id': 197, 'order_item_product_id': 403, 'order_item_quantity': 1, 'order_item_product_price': 129.99, 'order_item_subtotal': 129.99}]}",
         "retail-data-topic-01",
         3,
         9,
         "2025-04-24T06:39:34.366+0000"
        ],
        [
         "6789",
         "{'order_id': 84, 'customer_id': 6789, 'customer_fname': 'Jessica', 'customer_lname': 'Mcintosh', 'city': 'Pompano Beach', 'state': 'FL', 'pincode': 33068, 'line_items': [{'order_item_id': 199, 'order_item_product_id': 1004, 'order_item_quantity': 1, 'order_item_product_price': 399.98, 'order_item_subtotal': 399.98}, {'order_item_id': 200, 'order_item_product_id': 191, 'order_item_quantity': 5, 'order_item_product_price': 99.99, 'order_item_subtotal': 499.95}, {'order_item_id': 201, 'order_item_product_id': 627, 'order_item_quantity': 5, 'order_item_product_price': 39.99, 'order_item_subtotal': 199.95}, {'order_item_id': 202, 'order_item_product_id': 502, 'order_item_quantity': 4, 'order_item_product_price': 50.0, 'order_item_subtotal': 200.0}, {'order_item_id': 203, 'order_item_product_id': 1073, 'order_item_quantity': 1, 'order_item_product_price': 199.99, 'order_item_subtotal': 199.99}]}",
         "retail-data-topic-01",
         3,
         10,
         "2025-04-24T06:39:39.814+0000"
        ],
        [
         "3065",
         "{'order_id': 87, 'customer_id': 3065, 'customer_fname': 'Amy', 'customer_lname': 'Cummings', 'city': 'Caguas', 'state': 'PR', 'pincode': 725, 'line_items': [{'order_item_id': 204, 'order_item_product_id': 627, 'order_item_quantity': 3, 'order_item_product_price': 39.99, 'order_item_subtotal': 119.97}]}",
         "retail-data-topic-01",
         3,
         11,
         "2025-04-24T06:39:42.505+0000"
        ],
        [
         "8912",
         "{'order_id': 91, 'customer_id': 8912, 'customer_fname': 'Mary', 'customer_lname': 'Blankenship', 'city': 'Caguas', 'state': 'PR', 'pincode': 725, 'line_items': [{'order_item_id': 207, 'order_item_product_id': 1004, 'order_item_quantity': 1, 'order_item_product_price': 399.98, 'order_item_subtotal': 399.98}, {'order_item_id': 208, 'order_item_product_id': 365, 'order_item_quantity': 5, 'order_item_product_price': 59.99, 'order_item_subtotal': 299.95}]}",
         "retail-data-topic-01",
         3,
         12,
         "2025-04-24T06:39:47.985+0000"
        ],
        [
         "11589",
         "{'order_id': 94, 'customer_id': 11589, 'customer_fname': 'Mary', 'customer_lname': 'Anderson', 'city': 'Kent', 'state': 'WA', 'pincode': 98031, 'line_items': [{'order_item_id': 211, 'order_item_product_id': 1004, 'order_item_quantity': 1, 'order_item_product_price': 399.98, 'order_item_subtotal': 399.98}, {'order_item_id': 212, 'order_item_product_id': 627, 'order_item_quantity': 4, 'order_item_product_price': 39.99, 'order_item_subtotal': 159.96}, {'order_item_id': 213, 'order_item_product_id': 403, 'order_item_quantity': 1, 'order_item_product_price': 129.99, 'order_item_subtotal': 129.99}, {'order_item_id': 214, 'order_item_product_id': 1014, 'order_item_quantity': 1, 'order_item_product_price': 49.98, 'order_item_subtotal': 49.98}]}",
         "retail-data-topic-01",
         3,
         13,
         "2025-04-24T06:39:56.093+0000"
        ],
        [
         "9032",
         "{'order_id': 95, 'customer_id': 9032, 'customer_fname': 'Lauren', 'customer_lname': 'Munoz', 'city': 'Caguas', 'state': 'PR', 'pincode': 725, 'line_items': [{'order_item_id': 215, 'order_item_product_id': 627, 'order_item_quantity': 5, 'order_item_product_price': 39.99, 'order_item_subtotal': 199.95}]}",
         "retail-data-topic-01",
         3,
         14,
         "2025-04-24T06:39:58.739+0000"
        ],
        [
         "1837",
         "{'order_id': 12, 'customer_id': 1837, 'customer_fname': 'Mary', 'customer_lname': 'Vega', 'city': 'Caguas', 'state': 'PR', 'pincode': 725, 'line_items': [{'order_item_id': 34, 'order_item_product_id': 957, 'order_item_quantity': 1, 'order_item_product_price': 299.98, 'order_item_subtotal': 299.98}, {'order_item_id': 35, 'order_item_product_id': 134, 'order_item_quantity': 4, 'order_item_product_price': 25.0, 'order_item_subtotal': 100.0}, {'order_item_id': 36, 'order_item_product_id': 1014, 'order_item_quantity': 3, 'order_item_product_price': 49.98, 'order_item_subtotal': 149.94}, {'order_item_id': 37, 'order_item_product_id': 191, 'order_item_quantity': 5, 'order_item_product_price': 99.99, 'order_item_subtotal': 499.95}, {'order_item_id': 38, 'order_item_product_id': 502, 'order_item_quantity': 5, 'order_item_product_price': 50.0, 'order_item_subtotal': 250.0}]}",
         "retail-data-topic-01",
         3,
         15,
         "2025-04-24T08:00:27.484+0000"
        ],
        [
         "1837",
         "{'order_id': 12, 'customer_id': 1837, 'customer_fname': 'Mary', 'customer_lname': 'Vega', 'city': 'Caguas', 'state': 'PR', 'pincode': 725, 'line_items': [{'order_item_id': 34, 'order_item_product_id': 957, 'order_item_quantity': 1, 'order_item_product_price': 299.98, 'order_item_subtotal': 299.98}, {'order_item_id': 35, 'order_item_product_id': 134, 'order_item_quantity': 4, 'order_item_product_price': 25.0, 'order_item_subtotal': 100.0}, {'order_item_id': 36, 'order_item_product_id': 1014, 'order_item_quantity': 3, 'order_item_product_price': 49.98, 'order_item_subtotal': 149.94}, {'order_item_id': 37, 'order_item_product_id': 191, 'order_item_quantity': 5, 'order_item_product_price': 99.99, 'order_item_subtotal': 499.95}, {'order_item_id': 38, 'order_item_product_id': 502, 'order_item_quantity': 5, 'order_item_product_price': 50.0, 'order_item_subtotal': 250.0}]}",
         "retail-data-topic-01",
         3,
         16,
         "2025-04-24T09:22:44.509+0000"
        ],
        [
         "656",
         "{'order_id': 28, 'customer_id': 656, 'customer_fname': 'Julie', 'customer_lname': 'Smith', 'city': 'Pomona', 'state': 'CA', 'pincode': 91767, 'line_items': [{'order_item_id': 78, 'order_item_product_id': 191, 'order_item_quantity': 4, 'order_item_product_price': 99.99, 'order_item_subtotal': 399.96}, {'order_item_id': 79, 'order_item_product_id': 957, 'order_item_quantity': 1, 'order_item_product_price': 299.98, 'order_item_subtotal': 299.98}, {'order_item_id': 80, 'order_item_product_id': 957, 'order_item_quantity': 1, 'order_item_product_price': 299.98, 'order_item_subtotal': 299.98}, {'order_item_id': 81, 'order_item_product_id': 191, 'order_item_quantity': 1, 'order_item_product_price': 99.99, 'order_item_subtotal': 99.99}, {'order_item_id': 82, 'order_item_product_id': 365, 'order_item_quantity': 1, 'order_item_product_price': 59.99, 'order_item_subtotal': 59.99}]}",
         "retail-data-topic-01",
         3,
         17,
         "2025-04-24T09:22:56.273+0000"
        ],
        [
         "6983",
         "{'order_id': 31, 'customer_id': 6983, 'customer_fname': 'Mary', 'customer_lname': 'Black', 'city': 'Caguas', 'state': 'PR', 'pincode': 725, 'line_items': [{'order_item_id': 89, 'order_item_product_id': 191, 'order_item_quantity': 5, 'order_item_product_price': 99.99, 'order_item_subtotal': 499.95}]}",
         "retail-data-topic-01",
         3,
         18,
         "2025-04-24T09:22:58.182+0000"
        ],
        [
         "5225",
         "{'order_id': 50, 'customer_id': 5225, 'customer_fname': 'Mary', 'customer_lname': 'Smith', 'city': 'Peabody', 'state': 'MA', 'pincode': 1960, 'line_items': [{'order_item_id': 124, 'order_item_product_id': 403, 'order_item_quantity': 1, 'order_item_product_price': 129.99, 'order_item_subtotal': 129.99}, {'order_item_id': 125, 'order_item_product_id': 957, 'order_item_quantity': 1, 'order_item_product_price': 299.98, 'order_item_subtotal': 299.98}]}",
         "retail-data-topic-01",
         3,
         19,
         "2025-04-24T09:23:09.110+0000"
        ],
        [
         "12271",
         "{'order_id': 51, 'customer_id': 12271, 'customer_fname': 'Mary', 'customer_lname': 'Small', 'city': 'Ontario', 'state': 'CA', 'pincode': 91761, 'line_items': [{'order_item_id': 126, 'order_item_product_id': 502, 'order_item_quantity': 1, 'order_item_product_price': 50.0, 'order_item_subtotal': 50.0}, {'order_item_id': 127, 'order_item_product_id': 1004, 'order_item_quantity': 1, 'order_item_product_price': 399.98, 'order_item_subtotal': 399.98}]}",
         "retail-data-topic-01",
         3,
         20,
         "2025-04-24T09:23:09.827+0000"
        ],
        [
         "8827",
         "{'order_id': 4, 'customer_id': 8827, 'customer_fname': 'Brian', 'customer_lname': 'Wilson', 'city': 'San Antonio', 'state': 'TX', 'pincode': 78240, 'line_items': [{'order_item_id': 5, 'order_item_product_id': 897, 'order_item_quantity': 2, 'order_item_product_price': 24.99, 'order_item_subtotal': 49.98}, {'order_item_id': 6, 'order_item_product_id': 365, 'order_item_quantity': 5, 'order_item_product_price': 59.99, 'order_item_subtotal': 299.95}, {'order_item_id': 7, 'order_item_product_id': 502, 'order_item_quantity': 3, 'order_item_product_price': 50.0, 'order_item_subtotal': 150.0}, {'order_item_id': 8, 'order_item_product_id': 1014, 'order_item_quantity': 4, 'order_item_product_price': 49.98, 'order_item_subtotal': 199.92}]}",
         "retail-data-topic-01",
         4,
         0,
         "2025-04-24T06:36:33.429+0000"
        ],
        [
         "11318",
         "{'order_id': 5, 'customer_id': 11318, 'customer_fname': 'Mary', 'customer_lname': 'Henry', 'city': 'Caguas', 'state': 'PR', 'pincode': 725, 'line_items': [{'order_item_id': 9, 'order_item_product_id': 957, 'order_item_quantity': 1, 'order_item_product_price': 299.98, 'order_item_subtotal': 299.98}, {'order_item_id': 10, 'order_item_product_id': 365, 'order_item_quantity': 5, 'order_item_product_price': 59.99, 'order_item_subtotal': 299.95}, {'order_item_id': 11, 'order_item_product_id': 1014, 'order_item_quantity': 2, 'order_item_product_price': 49.98, 'order_item_subtotal': 99.96}, {'order_item_id': 12, 'order_item_product_id': 957, 'order_item_quantity': 1, 'order_item_product_price': 299.98, 'order_item_subtotal': 299.98}, {'order_item_id': 13, 'order_item_product_id': 403, 'order_item_quantity': 1, 'order_item_product_price': 129.99, 'order_item_subtotal': 129.99}]}",
         "retail-data-topic-01",
         4,
         1,
         "2025-04-24T06:36:37.893+0000"
        ],
        [
         "9488",
         "{'order_id': 19, 'customer_id': 9488, 'customer_fname': 'Mary', 'customer_lname': 'Smith', 'city': 'Hialeah', 'state': 'FL', 'pincode': 33012, 'line_items': [{'order_item_id': 58, 'order_item_product_id': 1004, 'order_item_quantity': 1, 'order_item_product_price': 399.98, 'order_item_subtotal': 399.98}, {'order_item_id': 59, 'order_item_product_id': 957, 'order_item_quantity': 1, 'order_item_product_price': 299.98, 'order_item_subtotal': 299.98}]}",
         "retail-data-topic-01",
         4,
         2,
         "2025-04-24T06:37:19.622+0000"
        ],
        [
         "9198",
         "{'order_id': 20, 'customer_id': 9198, 'customer_fname': 'David', 'customer_lname': 'Kerr', 'city': 'Bowling Green', 'state': 'KY', 'pincode': 42101, 'line_items': [{'order_item_id': 60, 'order_item_product_id': 502, 'order_item_quantity': 5, 'order_item_product_price': 50.0, 'order_item_subtotal': 250.0}, {'order_item_id': 61, 'order_item_product_id': 1014, 'order_item_quantity': 4, 'order_item_product_price': 49.98, 'order_item_subtotal': 199.92}, {'order_item_id': 62, 'order_item_product_id': 403, 'order_item_quantity': 1, 'order_item_product_price': 129.99, 'order_item_subtotal': 129.99}, {'order_item_id': 63, 'order_item_product_id': 365, 'order_item_quantity': 5, 'order_item_product_price': 59.99, 'order_item_subtotal': 299.95}]}",
         "retail-data-topic-01",
         4,
         3,
         "2025-04-24T06:37:22.475+0000"
        ],
        [
         "196",
         "{'order_id': 29, 'customer_id': 196, 'customer_fname': 'Thomas', 'customer_lname': 'Watson', 'city': 'Dearborn', 'state': 'MI', 'pincode': 48126, 'line_items': [{'order_item_id': 83, 'order_item_product_id': 1073, 'order_item_quantity': 1, 'order_item_product_price': 199.99, 'order_item_subtotal': 199.99}, {'order_item_id': 84, 'order_item_product_id': 1014, 'order_item_quantity': 5, 'order_item_product_price': 49.98, 'order_item_subtotal': 249.9}, {'order_item_id': 85, 'order_item_product_id': 403, 'order_item_quantity': 1, 'order_item_product_price': 129.99, 'order_item_subtotal': 129.99}, {'order_item_id': 86, 'order_item_product_id': 403, 'order_item_quantity': 1, 'order_item_product_price': 129.99, 'order_item_subtotal': 129.99}, {'order_item_id': 87, 'order_item_product_id': 1004, 'order_item_quantity': 1, 'order_item_product_price': 399.98, 'order_item_subtotal': 399.98}]}",
         "retail-data-topic-01",
         4,
         4,
         "2025-04-24T06:37:41.827+0000"
        ],
        [
         "10039",
         "{'order_id': 30, 'customer_id': 10039, 'customer_fname': 'Mary', 'customer_lname': 'Butler', 'city': 'Conway', 'state': 'AR', 'pincode': 72032, 'line_items': [{'order_item_id': 88, 'order_item_product_id': 502, 'order_item_quantity': 2, 'order_item_product_price': 50.0, 'order_item_subtotal': 100.0}]}",
         "retail-data-topic-01",
         4,
         5,
         "2025-04-24T06:37:44.492+0000"
        ],
        [
         "5793",
         "{'order_id': 33, 'customer_id': 5793, 'customer_fname': 'Margaret', 'customer_lname': 'Weeks', 'city': 'Caguas', 'state': 'PR', 'pincode': 725, 'line_items': [{'order_item_id': 90, 'order_item_product_id': 403, 'order_item_quantity': 1, 'order_item_product_price': 129.99, 'order_item_subtotal': 129.99}, {'order_item_id': 91, 'order_item_product_id': 1073, 'order_item_quantity': 1, 'order_item_product_price': 199.99, 'order_item_subtotal': 199.99}, {'order_item_id': 92, 'order_item_product_id': 403, 'order_item_quantity': 1, 'order_item_product_price': 129.99, 'order_item_subtotal': 129.99}, {'order_item_id': 93, 'order_item_product_id': 1014, 'order_item_quantity': 4, 'order_item_product_price': 49.98, 'order_item_subtotal': 199.92}]}",
         "retail-data-topic-01",
         4,
         6,
         "2025-04-24T06:37:49.800+0000"
        ],
        [
         "5649",
         "{'order_id': 36, 'customer_id': 5649, 'customer_fname': 'Mary', 'customer_lname': 'Nguyen', 'city': 'Caguas', 'state': 'PR', 'pincode': 725, 'line_items': [{'order_item_id': 96, 'order_item_product_id': 502, 'order_item_quantity': 2, 'order_item_product_price': 50.0, 'order_item_subtotal': 100.0}, {'order_item_id': 97, 'order_item_product_id': 957, 'order_item_quantity': 1, 'order_item_product_price': 299.98, 'order_item_subtotal': 299.98}, {'order_item_id': 98, 'order_item_product_id': 1004, 'order_item_quantity': 1, 'order_item_product_price': 399.98, 'order_item_subtotal': 399.98}]}",
         "retail-data-topic-01",
         4,
         7,
         "2025-04-24T06:37:58.029+0000"
        ],
        [
         "5863",
         "{'order_id': 37, 'customer_id': 5863, 'customer_fname': 'Amy', 'customer_lname': 'Smith', 'city': 'Cordova', 'state': 'TN', 'pincode': 38018, 'line_items': [{'order_item_id': 99, 'order_item_product_id': 365, 'order_item_quantity': 1, 'order_item_product_price': 59.99, 'order_item_subtotal': 59.99}, {'order_item_id': 100, 'order_item_product_id': 906, 'order_item_quantity': 4, 'order_item_product_price': 24.99, 'order_item_subtotal': 99.96}]}",
         "retail-data-topic-01",
         4,
         8,
         "2025-04-24T06:38:00.752+0000"
        ],
        [
         "11586",
         "{'order_id': 38, 'customer_id': 11586, 'customer_fname': 'Nancy', 'customer_lname': 'Wright', 'city': 'New Orleans', 'state': 'LA', 'pincode': 70122, 'line_items': [{'order_item_id': 101, 'order_item_product_id': 627, 'order_item_quantity': 4, 'order_item_product_price': 39.99, 'order_item_subtotal': 159.96}, {'order_item_id': 102, 'order_item_product_id': 502, 'order_item_quantity': 4, 'order_item_product_price': 50.0, 'order_item_subtotal': 200.0}]}",
         "retail-data-topic-01",
         4,
         9,
         "2025-04-24T06:38:03.907+0000"
        ],
        [
         "7073",
         "{'order_id': 57, 'customer_id': 7073, 'customer_fname': 'Joan', 'customer_lname': 'Smith', 'city': 'Del Rio', 'state': 'TX', 'pincode': 78840, 'line_items': [{'order_item_id': 133, 'order_item_product_id': 365, 'order_item_quantity': 3, 'order_item_product_price': 59.99, 'order_item_subtotal': 179.97}, {'order_item_id': 134, 'order_item_product_id': 365, 'order_item_quantity': 2, 'order_item_product_price': 59.99, 'order_item_subtotal': 119.98}, {'order_item_id': 135, 'order_item_product_id': 403, 'order_item_quantity': 1, 'order_item_product_price': 129.99, 'order_item_subtotal': 129.99}, {'order_item_id': 136, 'order_item_product_id': 821, 'order_item_quantity': 4, 'order_item_product_price': 51.99, 'order_item_subtotal': 207.96}]}",
         "retail-data-topic-01",
         4,
         10,
         "2025-04-24T06:38:42.653+0000"
        ],
        [
         "9111",
         "{'order_id': 62, 'customer_id': 9111, 'customer_fname': 'Mary', 'customer_lname': 'Smith', 'city': 'Caguas', 'state': 'PR', 'pincode': 725, 'line_items': [{'order_item_id': 149, 'order_item_product_id': 1004, 'order_item_quantity': 1, 'order_item_product_price': 399.98, 'order_item_subtotal': 399.98}, {'order_item_id': 150, 'order_item_product_id': 1004, 'order_item_quantity': 1, 'order_item_product_price': 399.98, 'order_item_subtotal': 399.98}, {'order_item_id': 151, 'order_item_product_id': 957, 'order_item_quantity': 1, 'order_item_product_price': 299.98, 'order_item_subtotal': 299.98}, {'order_item_id': 152, 'order_item_product_id': 502, 'order_item_quantity': 1, 'order_item_product_price': 50.0, 'order_item_subtotal': 50.0}]}",
         "retail-data-topic-01",
         4,
         11,
         "2025-04-24T06:38:53.304+0000"
        ],
        [
         "1406",
         "{'order_id': 67, 'customer_id': 1406, 'customer_fname': 'Amy', 'customer_lname': 'Smith', 'city': 'Caguas', 'state': 'PR', 'pincode': 725, 'line_items': [{'order_item_id': 166, 'order_item_product_id': 502, 'order_item_quantity': 3, 'order_item_product_price': 50.0, 'order_item_subtotal': 150.0}]}",
         "retail-data-topic-01",
         4,
         12,
         "2025-04-24T06:39:07.232+0000"
        ],
        [
         "11809",
         "{'order_id': 70, 'customer_id': 11809, 'customer_fname': 'Eric', 'customer_lname': 'Smith', 'city': 'Jersey City', 'state': 'NJ', 'pincode': 7307, 'line_items': [{'order_item_id': 169, 'order_item_product_id': 1073, 'order_item_quantity': 1, 'order_item_product_price': 199.99, 'order_item_subtotal': 199.99}, {'order_item_id': 170, 'order_item_product_id': 403, 'order_item_quantity': 1, 'order_item_product_price': 129.99, 'order_item_subtotal': 129.99}, {'order_item_id': 171, 'order_item_product_id': 957, 'order_item_quantity': 1, 'order_item_product_price': 299.98, 'order_item_subtotal': 299.98}]}",
         "retail-data-topic-01",
         4,
         13,
         "2025-04-24T06:39:15.389+0000"
        ],
        [
         "4349",
         "{'order_id': 72, 'customer_id': 4349, 'customer_fname': 'Donna', 'customer_lname': 'Williams', 'city': 'Salt Lake City', 'state': 'UT', 'pincode': 84118, 'line_items': [{'order_item_id': 175, 'order_item_product_id': 627, 'order_item_quantity': 2, 'order_item_product_price': 39.99, 'order_item_subtotal': 79.98}, {'order_item_id': 176, 'order_item_product_id': 1073, 'order_item_quantity': 1, 'order_item_product_price': 199.99, 'order_item_subtotal': 199.99}, {'order_item_id': 177, 'order_item_product_id': 572, 'order_item_quantity': 3, 'order_item_product_price': 39.99, 'order_item_subtotal': 119.97}, {'order_item_id': 178, 'order_item_product_id': 835, 'order_item_quantity': 2, 'order_item_product_price': 31.99, 'order_item_subtotal': 63.98}]}",
         "retail-data-topic-01",
         4,
         14,
         "2025-04-24T06:39:20.793+0000"
        ],
        [
         "12256",
         "{'order_id': 103, 'customer_id': 12256, 'customer_fname': 'Victoria', 'customer_lname': 'Alvarez', 'city': 'Summerville', 'state': 'SC', 'pincode': 29483, 'line_items': [{'order_item_id': 233, 'order_item_product_id': 365, 'order_item_quantity': 5, 'order_item_product_price': 59.99, 'order_item_subtotal': 299.95}, {'order_item_id': 234, 'order_item_product_id': 403, 'order_item_quantity': 1, 'order_item_product_price': 129.99, 'order_item_subtotal': 129.99}, {'order_item_id': 235, 'order_item_product_id': 1004, 'order_item_quantity': 1, 'order_item_product_price': 399.98, 'order_item_subtotal': 399.98}]}",
         "retail-data-topic-01",
         4,
         15,
         "2025-04-24T06:40:17.680+0000"
        ],
        [
         "8827",
         "{'order_id': 4, 'customer_id': 8827, 'customer_fname': 'Brian', 'customer_lname': 'Wilson', 'city': 'San Antonio', 'state': 'TX', 'pincode': 78240, 'line_items': [{'order_item_id': 5, 'order_item_product_id': 897, 'order_item_quantity': 2, 'order_item_product_price': 24.99, 'order_item_subtotal': 49.98}, {'order_item_id': 6, 'order_item_product_id': 365, 'order_item_quantity': 5, 'order_item_product_price': 59.99, 'order_item_subtotal': 299.95}, {'order_item_id': 7, 'order_item_product_id': 502, 'order_item_quantity': 3, 'order_item_product_price': 50.0, 'order_item_subtotal': 150.0}, {'order_item_id': 8, 'order_item_product_id': 1014, 'order_item_quantity': 4, 'order_item_product_price': 49.98, 'order_item_subtotal': 199.92}]}",
         "retail-data-topic-01",
         4,
         16,
         "2025-04-24T07:59:58.480+0000"
        ],
        [
         "11318",
         "{'order_id': 5, 'customer_id': 11318, 'customer_fname': 'Mary', 'customer_lname': 'Henry', 'city': 'Caguas', 'state': 'PR', 'pincode': 725, 'line_items': [{'order_item_id': 9, 'order_item_product_id': 957, 'order_item_quantity': 1, 'order_item_product_price': 299.98, 'order_item_subtotal': 299.98}, {'order_item_id': 10, 'order_item_product_id': 365, 'order_item_quantity': 5, 'order_item_product_price': 59.99, 'order_item_subtotal': 299.95}, {'order_item_id': 11, 'order_item_product_id': 1014, 'order_item_quantity': 2, 'order_item_product_price': 49.98, 'order_item_subtotal': 99.96}, {'order_item_id': 12, 'order_item_product_id': 957, 'order_item_quantity': 1, 'order_item_product_price': 299.98, 'order_item_subtotal': 299.98}, {'order_item_id': 13, 'order_item_product_id': 403, 'order_item_quantity': 1, 'order_item_product_price': 129.99, 'order_item_subtotal': 129.99}]}",
         "retail-data-topic-01",
         4,
         17,
         "2025-04-24T08:00:04.528+0000"
        ],
        [
         "9488",
         "{'order_id': 19, 'customer_id': 9488, 'customer_fname': 'Mary', 'customer_lname': 'Smith', 'city': 'Hialeah', 'state': 'FL', 'pincode': 33012, 'line_items': [{'order_item_id': 58, 'order_item_product_id': 1004, 'order_item_quantity': 1, 'order_item_product_price': 399.98, 'order_item_subtotal': 399.98}, {'order_item_id': 59, 'order_item_product_id': 957, 'order_item_quantity': 1, 'order_item_product_price': 299.98, 'order_item_subtotal': 299.98}]}",
         "retail-data-topic-01",
         4,
         18,
         "2025-04-24T08:00:51.270+0000"
        ],
        [
         "9198",
         "{'order_id': 20, 'customer_id': 9198, 'customer_fname': 'David', 'customer_lname': 'Kerr', 'city': 'Bowling Green', 'state': 'KY', 'pincode': 42101, 'line_items': [{'order_item_id': 60, 'order_item_product_id': 502, 'order_item_quantity': 5, 'order_item_product_price': 50.0, 'order_item_subtotal': 250.0}, {'order_item_id': 61, 'order_item_product_id': 1014, 'order_item_quantity': 4, 'order_item_product_price': 49.98, 'order_item_subtotal': 199.92}, {'order_item_id': 62, 'order_item_product_id': 403, 'order_item_quantity': 1, 'order_item_product_price': 129.99, 'order_item_subtotal': 129.99}, {'order_item_id': 63, 'order_item_product_id': 365, 'order_item_quantity': 5, 'order_item_product_price': 59.99, 'order_item_subtotal': 299.95}]}",
         "retail-data-topic-01",
         4,
         19,
         "2025-04-24T08:00:54.174+0000"
        ],
        [
         "8827",
         "{'order_id': 4, 'customer_id': 8827, 'customer_fname': 'Brian', 'customer_lname': 'Wilson', 'city': 'San Antonio', 'state': 'TX', 'pincode': 78240, 'line_items': [{'order_item_id': 5, 'order_item_product_id': 897, 'order_item_quantity': 2, 'order_item_product_price': 24.99, 'order_item_subtotal': 49.98}, {'order_item_id': 6, 'order_item_product_id': 365, 'order_item_quantity': 5, 'order_item_product_price': 59.99, 'order_item_subtotal': 299.95}, {'order_item_id': 7, 'order_item_product_id': 502, 'order_item_quantity': 3, 'order_item_product_price': 50.0, 'order_item_subtotal': 150.0}, {'order_item_id': 8, 'order_item_product_id': 1014, 'order_item_quantity': 4, 'order_item_product_price': 49.98, 'order_item_subtotal': 199.92}]}",
         "retail-data-topic-01",
         4,
         20,
         "2025-04-24T09:22:29.070+0000"
        ],
        [
         "11318",
         "{'order_id': 5, 'customer_id': 11318, 'customer_fname': 'Mary', 'customer_lname': 'Henry', 'city': 'Caguas', 'state': 'PR', 'pincode': 725, 'line_items': [{'order_item_id': 9, 'order_item_product_id': 957, 'order_item_quantity': 1, 'order_item_product_price': 299.98, 'order_item_subtotal': 299.98}, {'order_item_id': 10, 'order_item_product_id': 365, 'order_item_quantity': 5, 'order_item_product_price': 59.99, 'order_item_subtotal': 299.95}, {'order_item_id': 11, 'order_item_product_id': 1014, 'order_item_quantity': 2, 'order_item_product_price': 49.98, 'order_item_subtotal': 99.96}, {'order_item_id': 12, 'order_item_product_id': 957, 'order_item_quantity': 1, 'order_item_product_price': 299.98, 'order_item_subtotal': 299.98}, {'order_item_id': 13, 'order_item_product_id': 403, 'order_item_quantity': 1, 'order_item_product_price': 129.99, 'order_item_subtotal': 129.99}]}",
         "retail-data-topic-01",
         4,
         21,
         "2025-04-24T09:22:31.924+0000"
        ],
        [
         "9488",
         "{'order_id': 19, 'customer_id': 9488, 'customer_fname': 'Mary', 'customer_lname': 'Smith', 'city': 'Hialeah', 'state': 'FL', 'pincode': 33012, 'line_items': [{'order_item_id': 58, 'order_item_product_id': 1004, 'order_item_quantity': 1, 'order_item_product_price': 399.98, 'order_item_subtotal': 399.98}, {'order_item_id': 59, 'order_item_product_id': 957, 'order_item_quantity': 1, 'order_item_product_price': 299.98, 'order_item_subtotal': 299.98}]}",
         "retail-data-topic-01",
         4,
         22,
         "2025-04-24T09:22:51.486+0000"
        ],
        [
         "9198",
         "{'order_id': 20, 'customer_id': 9198, 'customer_fname': 'David', 'customer_lname': 'Kerr', 'city': 'Bowling Green', 'state': 'KY', 'pincode': 42101, 'line_items': [{'order_item_id': 60, 'order_item_product_id': 502, 'order_item_quantity': 5, 'order_item_product_price': 50.0, 'order_item_subtotal': 250.0}, {'order_item_id': 61, 'order_item_product_id': 1014, 'order_item_quantity': 4, 'order_item_product_price': 49.98, 'order_item_subtotal': 199.92}, {'order_item_id': 62, 'order_item_product_id': 403, 'order_item_quantity': 1, 'order_item_product_price': 129.99, 'order_item_subtotal': 129.99}, {'order_item_id': 63, 'order_item_product_id': 365, 'order_item_quantity': 5, 'order_item_product_price': 59.99, 'order_item_subtotal': 299.95}]}",
         "retail-data-topic-01",
         4,
         23,
         "2025-04-24T09:22:52.096+0000"
        ],
        [
         "196",
         "{'order_id': 29, 'customer_id': 196, 'customer_fname': 'Thomas', 'customer_lname': 'Watson', 'city': 'Dearborn', 'state': 'MI', 'pincode': 48126, 'line_items': [{'order_item_id': 83, 'order_item_product_id': 1073, 'order_item_quantity': 1, 'order_item_product_price': 199.99, 'order_item_subtotal': 199.99}, {'order_item_id': 84, 'order_item_product_id': 1014, 'order_item_quantity': 5, 'order_item_product_price': 49.98, 'order_item_subtotal': 249.9}, {'order_item_id': 85, 'order_item_product_id': 403, 'order_item_quantity': 1, 'order_item_product_price': 129.99, 'order_item_subtotal': 129.99}, {'order_item_id': 86, 'order_item_product_id': 403, 'order_item_quantity': 1, 'order_item_product_price': 129.99, 'order_item_subtotal': 129.99}, {'order_item_id': 87, 'order_item_product_id': 1004, 'order_item_quantity': 1, 'order_item_product_price': 399.98, 'order_item_subtotal': 399.98}]}",
         "retail-data-topic-01",
         4,
         24,
         "2025-04-24T09:22:56.991+0000"
        ],
        [
         "10039",
         "{'order_id': 30, 'customer_id': 10039, 'customer_fname': 'Mary', 'customer_lname': 'Butler', 'city': 'Conway', 'state': 'AR', 'pincode': 72032, 'line_items': [{'order_item_id': 88, 'order_item_product_id': 502, 'order_item_quantity': 2, 'order_item_product_price': 50.0, 'order_item_subtotal': 100.0}]}",
         "retail-data-topic-01",
         4,
         25,
         "2025-04-24T09:22:57.586+0000"
        ],
        [
         "5793",
         "{'order_id': 33, 'customer_id': 5793, 'customer_fname': 'Margaret', 'customer_lname': 'Weeks', 'city': 'Caguas', 'state': 'PR', 'pincode': 725, 'line_items': [{'order_item_id': 90, 'order_item_product_id': 403, 'order_item_quantity': 1, 'order_item_product_price': 129.99, 'order_item_subtotal': 129.99}, {'order_item_id': 91, 'order_item_product_id': 1073, 'order_item_quantity': 1, 'order_item_product_price': 199.99, 'order_item_subtotal': 199.99}, {'order_item_id': 92, 'order_item_product_id': 403, 'order_item_quantity': 1, 'order_item_product_price': 129.99, 'order_item_subtotal': 129.99}, {'order_item_id': 93, 'order_item_product_id': 1014, 'order_item_quantity': 4, 'order_item_product_price': 49.98, 'order_item_subtotal': 199.92}]}",
         "retail-data-topic-01",
         4,
         26,
         "2025-04-24T09:22:58.923+0000"
        ],
        [
         "5649",
         "{'order_id': 36, 'customer_id': 5649, 'customer_fname': 'Mary', 'customer_lname': 'Nguyen', 'city': 'Caguas', 'state': 'PR', 'pincode': 725, 'line_items': [{'order_item_id': 96, 'order_item_product_id': 502, 'order_item_quantity': 2, 'order_item_product_price': 50.0, 'order_item_subtotal': 100.0}, {'order_item_id': 97, 'order_item_product_id': 957, 'order_item_quantity': 1, 'order_item_product_price': 299.98, 'order_item_subtotal': 299.98}, {'order_item_id': 98, 'order_item_product_id': 1004, 'order_item_quantity': 1, 'order_item_product_price': 399.98, 'order_item_subtotal': 399.98}]}",
         "retail-data-topic-01",
         4,
         27,
         "2025-04-24T09:23:00.942+0000"
        ],
        [
         "5863",
         "{'order_id': 37, 'customer_id': 5863, 'customer_fname': 'Amy', 'customer_lname': 'Smith', 'city': 'Cordova', 'state': 'TN', 'pincode': 38018, 'line_items': [{'order_item_id': 99, 'order_item_product_id': 365, 'order_item_quantity': 1, 'order_item_product_price': 59.99, 'order_item_subtotal': 59.99}, {'order_item_id': 100, 'order_item_product_id': 906, 'order_item_quantity': 4, 'order_item_product_price': 24.99, 'order_item_subtotal': 99.96}]}",
         "retail-data-topic-01",
         4,
         28,
         "2025-04-24T09:23:01.535+0000"
        ],
        [
         "11586",
         "{'order_id': 38, 'customer_id': 11586, 'customer_fname': 'Nancy', 'customer_lname': 'Wright', 'city': 'New Orleans', 'state': 'LA', 'pincode': 70122, 'line_items': [{'order_item_id': 101, 'order_item_product_id': 627, 'order_item_quantity': 4, 'order_item_product_price': 39.99, 'order_item_subtotal': 159.96}, {'order_item_id': 102, 'order_item_product_id': 502, 'order_item_quantity': 4, 'order_item_product_price': 50.0, 'order_item_subtotal': 200.0}]}",
         "retail-data-topic-01",
         4,
         29,
         "2025-04-24T09:23:02.130+0000"
        ],
        [
         "7073",
         "{'order_id': 57, 'customer_id': 7073, 'customer_fname': 'Joan', 'customer_lname': 'Smith', 'city': 'Del Rio', 'state': 'TX', 'pincode': 78840, 'line_items': [{'order_item_id': 133, 'order_item_product_id': 365, 'order_item_quantity': 3, 'order_item_product_price': 59.99, 'order_item_subtotal': 179.97}, {'order_item_id': 134, 'order_item_product_id': 365, 'order_item_quantity': 2, 'order_item_product_price': 59.99, 'order_item_subtotal': 119.98}, {'order_item_id': 135, 'order_item_product_id': 403, 'order_item_quantity': 1, 'order_item_product_price': 129.99, 'order_item_subtotal': 129.99}, {'order_item_id': 136, 'order_item_product_id': 821, 'order_item_quantity': 4, 'order_item_product_price': 51.99, 'order_item_subtotal': 207.96}]}",
         "retail-data-topic-01",
         4,
         30,
         "2025-04-24T09:23:11.959+0000"
        ],
        [
         "11599",
         "{\"order_id\":1,\"customer_id\":11599,\"customer_fname\":\"Mary\",\"customer_lname\":\"Malone\",\"city\":\"Hickory\",\"state\":\"NC\",\"pincode\":28601,\"line_items\":[{\"order_item_id\":1,\"order_item_product_id\":957,\"order_item_quantity\":1,\"order_item_product_price\":299.98,\"order_item_subtotal\":299.98}]}",
         "retail-data-topic-01",
         0,
         0,
         "2025-04-24T06:17:38.791+0000"
        ],
        [
         "11599",
         "{'order_id': 1, 'customer_id': 11599, 'customer_fname': 'Mary', 'customer_lname': 'Malone', 'city': 'Hickory', 'state': 'NC', 'pincode': 28601, 'line_items': [{'order_item_id': 1, 'order_item_product_id': 957, 'order_item_quantity': 1, 'order_item_product_price': 299.98, 'order_item_subtotal': 299.98}]}",
         "retail-data-topic-01",
         0,
         1,
         "2025-04-24T06:36:21.973+0000"
        ],
        [
         "2568",
         "{'order_id': 15, 'customer_id': 2568, 'customer_fname': 'Maria', 'customer_lname': 'Smith', 'city': 'Memphis', 'state': 'TN', 'pincode': 38127, 'line_items': [{'order_item_id': 43, 'order_item_product_id': 502, 'order_item_quantity': 1, 'order_item_product_price': 50.0, 'order_item_subtotal': 50.0}, {'order_item_id': 44, 'order_item_product_id': 1073, 'order_item_quantity': 1, 'order_item_product_price': 199.99, 'order_item_subtotal': 199.99}, {'order_item_id': 45, 'order_item_product_id': 828, 'order_item_quantity': 3, 'order_item_product_price': 31.99, 'order_item_subtotal': 95.97}, {'order_item_id': 46, 'order_item_product_id': 365, 'order_item_quantity': 3, 'order_item_product_price': 59.99, 'order_item_subtotal': 179.97}, {'order_item_id': 47, 'order_item_product_id': 1004, 'order_item_quantity': 1, 'order_item_product_price': 399.98, 'order_item_subtotal': 399.98}]}",
         "retail-data-topic-01",
         0,
         2,
         "2025-04-24T06:37:08.315+0000"
        ],
        [
         "2667",
         "{'order_id': 17, 'customer_id': 2667, 'customer_fname': 'Tammy', 'customer_lname': 'Smith', 'city': 'Sun Valley', 'state': 'CA', 'pincode': 91352, 'line_items': [{'order_item_id': 50, 'order_item_product_id': 810, 'order_item_quantity': 4, 'order_item_product_price': 19.99, 'order_item_subtotal': 79.96}, {'order_item_id': 51, 'order_item_product_id': 1014, 'order_item_quantity': 2, 'order_item_product_price': 49.98, 'order_item_subtotal': 99.96}, {'order_item_id': 52, 'order_item_product_id': 93, 'order_item_quantity': 3, 'order_item_product_price': 24.99, 'order_item_subtotal': 74.97}, {'order_item_id': 53, 'order_item_product_id': 1073, 'order_item_quantity': 1, 'order_item_product_price': 199.99, 'order_item_subtotal': 199.99}, {'order_item_id': 54, 'order_item_product_id': 365, 'order_item_quantity': 4, 'order_item_product_price': 59.99, 'order_item_subtotal': 239.96}]}",
         "retail-data-topic-01",
         0,
         3,
         "2025-04-24T06:37:14.036+0000"
        ],
        [
         "1205",
         "{'order_id': 18, 'customer_id': 1205, 'customer_fname': 'Mary', 'customer_lname': 'Powell', 'city': 'Miami', 'state': 'FL', 'pincode': 33126, 'line_items': [{'order_item_id': 55, 'order_item_product_id': 1073, 'order_item_quantity': 1, 'order_item_product_price': 199.99, 'order_item_subtotal': 199.99}, {'order_item_id': 56, 'order_item_product_id': 365, 'order_item_quantity': 2, 'order_item_product_price': 59.99, 'order_item_subtotal': 119.98}, {'order_item_id': 57, 'order_item_product_id': 403, 'order_item_quantity': 1, 'order_item_product_price': 129.99, 'order_item_subtotal': 129.99}]}",
         "retail-data-topic-01",
         0,
         4,
         "2025-04-24T06:37:16.752+0000"
        ],
        [
         "11441",
         "{'order_id': 24, 'customer_id': 11441, 'customer_fname': 'Mary', 'customer_lname': 'Ferguson', 'city': 'Lutz', 'state': 'FL', 'pincode': 33549, 'line_items': [{'order_item_id': 69, 'order_item_product_id': 403, 'order_item_quantity': 1, 'order_item_product_price': 129.99, 'order_item_subtotal': 129.99}, {'order_item_id': 70, 'order_item_product_id': 502, 'order_item_quantity': 1, 'order_item_product_price': 50.0, 'order_item_subtotal': 50.0}, {'order_item_id': 71, 'order_item_product_id': 502, 'order_item_quantity': 5, 'order_item_product_price': 50.0, 'order_item_subtotal': 250.0}, {'order_item_id': 72, 'order_item_product_id': 1073, 'order_item_quantity': 1, 'order_item_product_price': 199.99, 'order_item_subtotal': 199.99}, {'order_item_id': 73, 'order_item_product_id': 1073, 'order_item_quantity': 1, 'order_item_product_price': 199.99, 'order_item_subtotal': 199.99}]}",
         "retail-data-topic-01",
         0,
         5,
         "2025-04-24T06:37:30.665+0000"
        ],
        [
         "10500",
         "{'order_id': 44, 'customer_id': 10500, 'customer_fname': 'Mary', 'customer_lname': 'Smith', 'city': 'Caguas', 'state': 'PR', 'pincode': 725, 'line_items': [{'order_item_id': 112, 'order_item_product_id': 1004, 'order_item_quantity': 1, 'order_item_product_price': 399.98, 'order_item_subtotal': 399.98}]}",
         "retail-data-topic-01",
         0,
         6,
         "2025-04-24T06:38:17.651+0000"
        ],
        [
         "1549",
         "{'order_id': 46, 'customer_id': 1549, 'customer_fname': 'Diane', 'customer_lname': 'Wiggins', 'city': 'Oregon City', 'state': 'OR', 'pincode': 97045, 'line_items': [{'order_item_id': 117, 'order_item_product_id': 403, 'order_item_quantity': 1, 'order_item_product_price': 129.99, 'order_item_subtotal': 129.99}, {'order_item_id': 118, 'order_item_product_id': 1014, 'order_item_quantity': 2, 'order_item_product_price': 49.98, 'order_item_subtotal': 99.96}]}",
         "retail-data-topic-01",
         0,
         7,
         "2025-04-24T06:38:23.000+0000"
        ],
        [
         "12186",
         "{'order_id': 48, 'customer_id': 12186, 'customer_fname': 'Gloria', 'customer_lname': 'Mcknight', 'city': 'Flushing', 'state': 'NY', 'pincode': 11355, 'line_items': [{'order_item_id': 119, 'order_item_product_id': 1014, 'order_item_quantity': 1, 'order_item_product_price': 49.98, 'order_item_subtotal': 49.98}, {'order_item_id': 120, 'order_item_product_id': 886, 'order_item_quantity': 2, 'order_item_product_price': 24.99, 'order_item_subtotal': 49.98}]}",
         "retail-data-topic-01",
         0,
         8,
         "2025-04-24T06:38:25.822+0000"
        ],
        [
         "1871",
         "{'order_id': 49, 'customer_id': 1871, 'customer_fname': 'Mary', 'customer_lname': 'Mcknight', 'city': 'Caguas', 'state': 'PR', 'pincode': 725, 'line_items': [{'order_item_id': 121, 'order_item_product_id': 957, 'order_item_quantity': 1, 'order_item_product_price': 299.98, 'order_item_subtotal': 299.98}, {'order_item_id': 122, 'order_item_product_id': 365, 'order_item_quantity': 2, 'order_item_product_price': 59.99, 'order_item_subtotal': 119.98}, {'order_item_id': 123, 'order_item_product_id': 403, 'order_item_quantity': 1, 'order_item_product_price': 129.99, 'order_item_subtotal': 129.99}]}",
         "retail-data-topic-01",
         0,
         9,
         "2025-04-24T06:38:28.727+0000"
        ],
        [
         "5126",
         "{'order_id': 52, 'customer_id': 5126, 'customer_fname': 'Karen', 'customer_lname': 'Roberts', 'city': 'Wheeling', 'state': 'WV', 'pincode': 26003, 'line_items': [{'order_item_id': 128, 'order_item_product_id': 1014, 'order_item_quantity': 5, 'order_item_product_price': 49.98, 'order_item_subtotal': 249.9}, {'order_item_id': 129, 'order_item_product_id': 1014, 'order_item_quantity': 3, 'order_item_product_price': 49.98, 'order_item_subtotal': 149.94}]}",
         "retail-data-topic-01",
         0,
         10,
         "2025-04-24T06:38:36.921+0000"
        ],
        [
         "1148",
         "{'order_id': 63, 'customer_id': 1148, 'customer_fname': 'Mary', 'customer_lname': 'Anderson', 'city': 'Augusta', 'state': 'GA', 'pincode': 30907, 'line_items': [{'order_item_id': 153, 'order_item_product_id': 1004, 'order_item_quantity': 1, 'order_item_product_price': 399.98, 'order_item_subtotal': 399.98}, {'order_item_id': 154, 'order_item_product_id': 1014, 'order_item_quantity': 2, 'order_item_product_price': 49.98, 'order_item_subtotal': 99.96}, {'order_item_id': 155, 'order_item_product_id': 1004, 'order_item_quantity': 1, 'order_item_product_price': 399.98, 'order_item_subtotal': 399.98}]}",
         "retail-data-topic-01",
         0,
         11,
         "2025-04-24T06:38:55.924+0000"
        ],
        [
         "8646",
         "{'order_id': 71, 'customer_id': 8646, 'customer_fname': 'Mary', 'customer_lname': 'Smith', 'city': 'Piscataway', 'state': 'NJ', 'pincode': 8854, 'line_items': [{'order_item_id': 172, 'order_item_product_id': 191, 'order_item_quantity': 5, 'order_item_product_price': 99.99, 'order_item_subtotal': 499.95}, {'order_item_id': 173, 'order_item_product_id': 365, 'order_item_quantity': 2, 'order_item_product_price': 59.99, 'order_item_subtotal': 119.98}, {'order_item_id': 174, 'order_item_product_id': 627, 'order_item_quantity': 1, 'order_item_product_price': 39.99, 'order_item_subtotal': 39.99}]}",
         "retail-data-topic-01",
         0,
         12,
         "2025-04-24T06:39:18.083+0000"
        ],
        [
         "3809",
         "{'order_id': 88, 'customer_id': 3809, 'customer_fname': 'Melissa', 'customer_lname': 'Taylor', 'city': 'Lakewood', 'state': 'NJ', 'pincode': 8701, 'line_items': [{'order_item_id': 205, 'order_item_product_id': 403, 'order_item_quantity': 1, 'order_item_product_price': 129.99, 'order_item_subtotal': 129.99}, {'order_item_id': 206, 'order_item_product_id': 1014, 'order_item_quantity': 3, 'order_item_product_price': 49.98, 'order_item_subtotal': 149.94}]}",
         "retail-data-topic-01",
         0,
         13,
         "2025-04-24T06:39:45.226+0000"
        ],
        [
         "5243",
         "{'order_id': 98, 'customer_id': 5243, 'customer_fname': 'Mary', 'customer_lname': 'Smith', 'city': 'Caguas', 'state': 'PR', 'pincode': 725, 'line_items': [{'order_item_id': 220, 'order_item_product_id': 403, 'order_item_quantity': 1, 'order_item_product_price': 129.99, 'order_item_subtotal': 129.99}, {'order_item_id': 221, 'order_item_product_id': 502, 'order_item_quantity': 2, 'order_item_product_price': 50.0, 'order_item_subtotal': 100.0}]}",
         "retail-data-topic-01",
         0,
         14,
         "2025-04-24T06:40:06.914+0000"
        ],
        [
         "395",
         "{'order_id': 106, 'customer_id': 395, 'customer_fname': 'Edward', 'customer_lname': 'Castro', 'city': 'Revere', 'state': 'MA', 'pincode': 2151, 'line_items': [{'order_item_id': 242, 'order_item_product_id': 191, 'order_item_quantity': 1, 'order_item_product_price': 99.99, 'order_item_subtotal': 99.99}]}",
         "retail-data-topic-01",
         0,
         15,
         "2025-04-24T06:40:25.747+0000"
        ],
        [
         "11599",
         "{'order_id': 1, 'customer_id': 11599, 'customer_fname': 'Mary', 'customer_lname': 'Malone', 'city': 'Hickory', 'state': 'NC', 'pincode': 28601, 'line_items': [{'order_item_id': 1, 'order_item_product_id': 957, 'order_item_quantity': 1, 'order_item_product_price': 299.98, 'order_item_subtotal': 299.98}]}",
         "retail-data-topic-01",
         0,
         16,
         "2025-04-24T07:59:45.272+0000"
        ],
        [
         "2568",
         "{'order_id': 15, 'customer_id': 2568, 'customer_fname': 'Maria', 'customer_lname': 'Smith', 'city': 'Memphis', 'state': 'TN', 'pincode': 38127, 'line_items': [{'order_item_id': 43, 'order_item_product_id': 502, 'order_item_quantity': 1, 'order_item_product_price': 50.0, 'order_item_subtotal': 50.0}, {'order_item_id': 44, 'order_item_product_id': 1073, 'order_item_quantity': 1, 'order_item_product_price': 199.99, 'order_item_subtotal': 199.99}, {'order_item_id': 45, 'order_item_product_id': 828, 'order_item_quantity': 3, 'order_item_product_price': 31.99, 'order_item_subtotal': 95.97}, {'order_item_id': 46, 'order_item_product_id': 365, 'order_item_quantity': 3, 'order_item_product_price': 59.99, 'order_item_subtotal': 179.97}, {'order_item_id': 47, 'order_item_product_id': 1004, 'order_item_quantity': 1, 'order_item_product_price': 399.98, 'order_item_subtotal': 399.98}]}",
         "retail-data-topic-01",
         0,
         17,
         "2025-04-24T08:00:39.334+0000"
        ],
        [
         "2667",
         "{'order_id': 17, 'customer_id': 2667, 'customer_fname': 'Tammy', 'customer_lname': 'Smith', 'city': 'Sun Valley', 'state': 'CA', 'pincode': 91352, 'line_items': [{'order_item_id': 50, 'order_item_product_id': 810, 'order_item_quantity': 4, 'order_item_product_price': 19.99, 'order_item_subtotal': 79.96}, {'order_item_id': 51, 'order_item_product_id': 1014, 'order_item_quantity': 2, 'order_item_product_price': 49.98, 'order_item_subtotal': 99.96}, {'order_item_id': 52, 'order_item_product_id': 93, 'order_item_quantity': 3, 'order_item_product_price': 24.99, 'order_item_subtotal': 74.97}, {'order_item_id': 53, 'order_item_product_id': 1073, 'order_item_quantity': 1, 'order_item_product_price': 199.99, 'order_item_subtotal': 199.99}, {'order_item_id': 54, 'order_item_product_id': 365, 'order_item_quantity': 4, 'order_item_product_price': 59.99, 'order_item_subtotal': 239.96}]}",
         "retail-data-topic-01",
         0,
         18,
         "2025-04-24T08:00:44.830+0000"
        ],
        [
         "1205",
         "{'order_id': 18, 'customer_id': 1205, 'customer_fname': 'Mary', 'customer_lname': 'Powell', 'city': 'Miami', 'state': 'FL', 'pincode': 33126, 'line_items': [{'order_item_id': 55, 'order_item_product_id': 1073, 'order_item_quantity': 1, 'order_item_product_price': 199.99, 'order_item_subtotal': 199.99}, {'order_item_id': 56, 'order_item_product_id': 365, 'order_item_quantity': 2, 'order_item_product_price': 59.99, 'order_item_subtotal': 119.98}, {'order_item_id': 57, 'order_item_product_id': 403, 'order_item_quantity': 1, 'order_item_product_price': 129.99, 'order_item_subtotal': 129.99}]}",
         "retail-data-topic-01",
         0,
         19,
         "2025-04-24T08:00:47.757+0000"
        ],
        [
         "11599",
         "{'order_id': 1, 'customer_id': 11599, 'customer_fname': 'Mary', 'customer_lname': 'Malone', 'city': 'Hickory', 'state': 'NC', 'pincode': 28601, 'line_items': [{'order_item_id': 1, 'order_item_product_id': 957, 'order_item_quantity': 1, 'order_item_product_price': 299.98, 'order_item_subtotal': 299.98}]}",
         "retail-data-topic-01",
         0,
         20,
         "2025-04-24T09:22:13.481+0000"
        ],
        [
         "2568",
         "{'order_id': 15, 'customer_id': 2568, 'customer_fname': 'Maria', 'customer_lname': 'Smith', 'city': 'Memphis', 'state': 'TN', 'pincode': 38127, 'line_items': [{'order_item_id': 43, 'order_item_product_id': 502, 'order_item_quantity': 1, 'order_item_product_price': 50.0, 'order_item_subtotal': 50.0}, {'order_item_id': 44, 'order_item_product_id': 1073, 'order_item_quantity': 1, 'order_item_product_price': 199.99, 'order_item_subtotal': 199.99}, {'order_item_id': 45, 'order_item_product_id': 828, 'order_item_quantity': 3, 'order_item_product_price': 31.99, 'order_item_subtotal': 95.97}, {'order_item_id': 46, 'order_item_product_id': 365, 'order_item_quantity': 3, 'order_item_product_price': 59.99, 'order_item_subtotal': 179.97}, {'order_item_id': 47, 'order_item_product_id': 1004, 'order_item_quantity': 1, 'order_item_product_price': 399.98, 'order_item_subtotal': 399.98}]}",
         "retail-data-topic-01",
         0,
         21,
         "2025-04-24T09:22:48.654+0000"
        ],
        [
         "2667",
         "{'order_id': 17, 'customer_id': 2667, 'customer_fname': 'Tammy', 'customer_lname': 'Smith', 'city': 'Sun Valley', 'state': 'CA', 'pincode': 91352, 'line_items': [{'order_item_id': 50, 'order_item_product_id': 810, 'order_item_quantity': 4, 'order_item_product_price': 19.99, 'order_item_subtotal': 79.96}, {'order_item_id': 51, 'order_item_product_id': 1014, 'order_item_quantity': 2, 'order_item_product_price': 49.98, 'order_item_subtotal': 99.96}, {'order_item_id': 52, 'order_item_product_id': 93, 'order_item_quantity': 3, 'order_item_product_price': 24.99, 'order_item_subtotal': 74.97}, {'order_item_id': 53, 'order_item_product_id': 1073, 'order_item_quantity': 1, 'order_item_product_price': 199.99, 'order_item_subtotal': 199.99}, {'order_item_id': 54, 'order_item_product_id': 365, 'order_item_quantity': 4, 'order_item_product_price': 59.99, 'order_item_subtotal': 239.96}]}",
         "retail-data-topic-01",
         0,
         22,
         "2025-04-24T09:22:50.071+0000"
        ],
        [
         "1205",
         "{'order_id': 18, 'customer_id': 1205, 'customer_fname': 'Mary', 'customer_lname': 'Powell', 'city': 'Miami', 'state': 'FL', 'pincode': 33126, 'line_items': [{'order_item_id': 55, 'order_item_product_id': 1073, 'order_item_quantity': 1, 'order_item_product_price': 199.99, 'order_item_subtotal': 199.99}, {'order_item_id': 56, 'order_item_product_id': 365, 'order_item_quantity': 2, 'order_item_product_price': 59.99, 'order_item_subtotal': 119.98}, {'order_item_id': 57, 'order_item_product_id': 403, 'order_item_quantity': 1, 'order_item_product_price': 129.99, 'order_item_subtotal': 129.99}]}",
         "retail-data-topic-01",
         0,
         23,
         "2025-04-24T09:22:50.779+0000"
        ],
        [
         "11441",
         "{'order_id': 24, 'customer_id': 11441, 'customer_fname': 'Mary', 'customer_lname': 'Ferguson', 'city': 'Lutz', 'state': 'FL', 'pincode': 33549, 'line_items': [{'order_item_id': 69, 'order_item_product_id': 403, 'order_item_quantity': 1, 'order_item_product_price': 129.99, 'order_item_subtotal': 129.99}, {'order_item_id': 70, 'order_item_product_id': 502, 'order_item_quantity': 1, 'order_item_product_price': 50.0, 'order_item_subtotal': 50.0}, {'order_item_id': 71, 'order_item_product_id': 502, 'order_item_quantity': 5, 'order_item_product_price': 50.0, 'order_item_subtotal': 250.0}, {'order_item_id': 72, 'order_item_product_id': 1073, 'order_item_quantity': 1, 'order_item_product_price': 199.99, 'order_item_subtotal': 199.99}, {'order_item_id': 73, 'order_item_product_id': 1073, 'order_item_quantity': 1, 'order_item_product_price': 199.99, 'order_item_subtotal': 199.99}]}",
         "retail-data-topic-01",
         0,
         24,
         "2025-04-24T09:22:54.143+0000"
        ],
        [
         "10500",
         "{'order_id': 44, 'customer_id': 10500, 'customer_fname': 'Mary', 'customer_lname': 'Smith', 'city': 'Caguas', 'state': 'PR', 'pincode': 725, 'line_items': [{'order_item_id': 112, 'order_item_product_id': 1004, 'order_item_quantity': 1, 'order_item_product_price': 399.98, 'order_item_subtotal': 399.98}]}",
         "retail-data-topic-01",
         0,
         25,
         "2025-04-24T09:23:05.560+0000"
        ],
        [
         "1549",
         "{'order_id': 46, 'customer_id': 1549, 'customer_fname': 'Diane', 'customer_lname': 'Wiggins', 'city': 'Oregon City', 'state': 'OR', 'pincode': 97045, 'line_items': [{'order_item_id': 117, 'order_item_product_id': 403, 'order_item_quantity': 1, 'order_item_product_price': 129.99, 'order_item_subtotal': 129.99}, {'order_item_id': 118, 'order_item_product_id': 1014, 'order_item_quantity': 2, 'order_item_product_price': 49.98, 'order_item_subtotal': 99.96}]}",
         "retail-data-topic-01",
         0,
         26,
         "2025-04-24T09:23:06.985+0000"
        ],
        [
         "12186",
         "{'order_id': 48, 'customer_id': 12186, 'customer_fname': 'Gloria', 'customer_lname': 'Mcknight', 'city': 'Flushing', 'state': 'NY', 'pincode': 11355, 'line_items': [{'order_item_id': 119, 'order_item_product_id': 1014, 'order_item_quantity': 1, 'order_item_product_price': 49.98, 'order_item_subtotal': 49.98}, {'order_item_id': 120, 'order_item_product_id': 886, 'order_item_quantity': 2, 'order_item_product_price': 24.99, 'order_item_subtotal': 49.98}]}",
         "retail-data-topic-01",
         0,
         27,
         "2025-04-24T09:23:07.694+0000"
        ],
        [
         "1871",
         "{'order_id': 49, 'customer_id': 1871, 'customer_fname': 'Mary', 'customer_lname': 'Mcknight', 'city': 'Caguas', 'state': 'PR', 'pincode': 725, 'line_items': [{'order_item_id': 121, 'order_item_product_id': 957, 'order_item_quantity': 1, 'order_item_product_price': 299.98, 'order_item_subtotal': 299.98}, {'order_item_id': 122, 'order_item_product_id': 365, 'order_item_quantity': 2, 'order_item_product_price': 59.99, 'order_item_subtotal': 119.98}, {'order_item_id': 123, 'order_item_product_id': 403, 'order_item_quantity': 1, 'order_item_product_price': 129.99, 'order_item_subtotal': 129.99}]}",
         "retail-data-topic-01",
         0,
         28,
         "2025-04-24T09:23:08.402+0000"
        ],
        [
         "5126",
         "{'order_id': 52, 'customer_id': 5126, 'customer_fname': 'Karen', 'customer_lname': 'Roberts', 'city': 'Wheeling', 'state': 'WV', 'pincode': 26003, 'line_items': [{'order_item_id': 128, 'order_item_product_id': 1014, 'order_item_quantity': 5, 'order_item_product_price': 49.98, 'order_item_subtotal': 249.9}, {'order_item_id': 129, 'order_item_product_id': 1014, 'order_item_quantity': 3, 'order_item_product_price': 49.98, 'order_item_subtotal': 149.94}]}",
         "retail-data-topic-01",
         0,
         29,
         "2025-04-24T09:23:10.543+0000"
        ]
       ],
       "datasetInfos": [],
       "dbfsResultPath": null,
       "isJsonSchema": true,
       "metadata": {},
       "overflow": false,
       "plotOptions": {
        "customPlotOptions": {},
        "displayType": "table",
        "pivotAggregation": null,
        "pivotColumns": null,
        "xColumns": null,
        "yColumns": null
       },
       "removedWidgets": [],
       "schema": [
        {
         "metadata": "{}",
         "name": "key",
         "type": "\"string\""
        },
        {
         "metadata": "{}",
         "name": "value",
         "type": "\"string\""
        },
        {
         "metadata": "{}",
         "name": "topic",
         "type": "\"string\""
        },
        {
         "metadata": "{}",
         "name": "partition",
         "type": "\"integer\""
        },
        {
         "metadata": "{}",
         "name": "offset",
         "type": "\"long\""
        },
        {
         "metadata": "{}",
         "name": "timestamp",
         "type": "\"timestamp\""
        }
       ],
       "type": "table"
      }
     },
     "output_type": "display_data"
    }
   ],
   "source": [
    "display(df)"
   ]
  }
 ],
 "metadata": {
  "application/vnd.databricks.v1+notebook": {
   "computePreferences": null,
   "dashboards": [],
   "environmentMetadata": {
    "base_environment": "",
    "environment_version": "1"
   },
   "inputWidgetPreferences": null,
   "language": "python",
   "notebookMetadata": {
    "pythonIndentUnit": 4
   },
   "notebookName": "kafka-consumer-batch-mode",
   "widgets": {}
  }
 },
 "nbformat": 4,
 "nbformat_minor": 0
}