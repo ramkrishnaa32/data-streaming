{
 "cells": [
  {
   "cell_type": "code",
   "execution_count": 0,
   "metadata": {
    "application/vnd.databricks.v1+cell": {
     "cellMetadata": {
      "byteLimit": 2048000,
      "rowLimit": 10000
     },
     "inputWidgets": {},
     "nuid": "4602f973-2e8b-45eb-9d2c-1361b4128a02",
     "showTitle": false,
     "title": ""
    }
   },
   "outputs": [],
   "source": [
    "from pyspark.sql.functions import *"
   ]
  },
  {
   "cell_type": "code",
   "execution_count": 0,
   "metadata": {
    "application/vnd.databricks.v1+cell": {
     "cellMetadata": {
      "byteLimit": 2048000,
      "rowLimit": 10000
     },
     "inputWidgets": {},
     "nuid": "59116ce5-9790-4fb5-ab7a-09b4815fcd73",
     "showTitle": false,
     "title": ""
    }
   },
   "outputs": [],
   "source": [
    "confluentBootstrapServers = 'pkc-l7pr2.ap-south-1.aws.confluent.cloud:9092'\n",
    "confluentApiKey = 'Z2OSAATSA55GQVZK'\n",
    "confluentSecret = 'a1QC+319eHmIkhcb665BX6v2PCI5utizHlkPmZJQX43Tbx0ZtlWEht4888R1IJqq'\n",
    "confluentTopicName = 'retail-data-new'\n",
    "confluentTargetTopicName = 'processed_orders'"
   ]
  },
  {
   "cell_type": "code",
   "execution_count": 0,
   "metadata": {
    "application/vnd.databricks.v1+cell": {
     "cellMetadata": {
      "byteLimit": 2048000,
      "rowLimit": 10000
     },
     "inputWidgets": {},
     "nuid": "cc53786b-a93d-4e29-85d6-1865ea12f91e",
     "showTitle": false,
     "title": ""
    }
   },
   "outputs": [],
   "source": [
    "orders_df = spark \\\n",
    ".readStream \\\n",
    ".format(\"kafka\") \\\n",
    ".option(\"kafka.bootstrap.servers\",confluentBootstrapServers) \\\n",
    ".option(\"kafka.security.protocol\",\"SASL_SSL\") \\\n",
    ".option(\"kafka.sasl.mechanism\",\"PLAIN\") \\\n",
    ".option(\"kafka.sasl.jaas.config\", \"kafkashaded.org.apache.kafka.common.security.plain.PlainLoginModule required username='{}' password='{}';\".format(confluentApiKey, confluentSecret)) \\\n",
    ".option(\"kafka.ssl.endpoint.identification.algorithm\",\"https\") \\\n",
    ".option(\"subscribe\",confluentTopicName) \\\n",
    ".option(\"startingTimestamp\",1) \\\n",
    ".option(\"maxOffsetsPerTrigger\",50) \\\n",
    ".load()\n"
   ]
  },
  {
   "cell_type": "code",
   "execution_count": 0,
   "metadata": {
    "application/vnd.databricks.v1+cell": {
     "cellMetadata": {
      "byteLimit": 2048000,
      "rowLimit": 10000
     },
     "inputWidgets": {},
     "nuid": "f1396aea-d5fd-4521-9598-d7195fa596a9",
     "showTitle": false,
     "title": ""
    }
   },
   "outputs": [],
   "source": [
    "converted_orders_df = orders_df.selectExpr(\"CAST(key as string) AS key\",\"CAST(value as string) AS value\",\"topic\",\"partition\",\"offset\",\"timestamp\",\"timestampType\")"
   ]
  },
  {
   "cell_type": "code",
   "execution_count": 0,
   "metadata": {
    "application/vnd.databricks.v1+cell": {
     "cellMetadata": {
      "byteLimit": 2048000,
      "rowLimit": 10000
     },
     "inputWidgets": {},
     "nuid": "bd53951c-eaf8-4acb-9435-c21712df06ff",
     "showTitle": false,
     "title": ""
    }
   },
   "outputs": [],
   "source": [
    "orders_schema = \"order_id long,customer_id long,customer_fname string,customer_lname string,city string,state string,pincode long,line_items array<struct<order_item_id: long,order_item_product_id: long,order_item_quantity: long,order_item_product_price: float,order_item_subtotal: float>>\""
   ]
  },
  {
   "cell_type": "code",
   "execution_count": 0,
   "metadata": {
    "application/vnd.databricks.v1+cell": {
     "cellMetadata": {
      "byteLimit": 2048000,
      "rowLimit": 10000
     },
     "inputWidgets": {},
     "nuid": "fa733932-63bb-4f7d-ac23-5fd2a99dae33",
     "showTitle": false,
     "title": ""
    }
   },
   "outputs": [],
   "source": "parsed_orders_df = converted_orders_df.select(\"key\", from_json(\"value\",orders_schema).alias(\"value\"),\"topic\",\"partition\",\"offset\",\"timestamp\",\"timestampType\")"
  },
  {
   "cell_type": "code",
   "execution_count": 0,
   "metadata": {
    "application/vnd.databricks.v1+cell": {
     "cellMetadata": {
      "byteLimit": 2048000,
      "rowLimit": 10000
     },
     "inputWidgets": {},
     "nuid": "03b8930d-9541-45c4-ad7e-218d6eaf4c02",
     "showTitle": false,
     "title": ""
    }
   },
   "outputs": [],
   "source": [
    "parsed_orders_df.createOrReplaceTempView(\"orders\")"
   ]
  },
  {
   "cell_type": "code",
   "execution_count": 0,
   "metadata": {
    "application/vnd.databricks.v1+cell": {
     "cellMetadata": {
      "byteLimit": 2048000,
      "rowLimit": 10000
     },
     "inputWidgets": {},
     "nuid": "1dfb716c-7852-439e-8ca7-ab7a8a544417",
     "showTitle": false,
     "title": ""
    }
   },
   "outputs": [],
   "source": [
    "filtered_orders = spark.sql(\"select CAST(key as string) AS key, CAST(value as string) AS value from orders where value.city = 'Chicago'\")"
   ]
  },
  {
   "cell_type": "code",
   "execution_count": 0,
   "metadata": {
    "application/vnd.databricks.v1+cell": {
     "cellMetadata": {
      "byteLimit": 2048000,
      "rowLimit": 10000
     },
     "inputWidgets": {},
     "nuid": "a5996509-6b17-4ad0-a606-31b399b872e2",
     "showTitle": false,
     "title": ""
    }
   },
   "outputs": [
    {
     "name": "stdout",
     "output_type": "stream",
     "text": [
      "Out[22]: <pyspark.sql.streaming.query.StreamingQuery at 0x7f08ae45f220>"
     ]
    }
   ],
   "source": [
    "query = filtered_orders \\\n",
    "    .writeStream \\\n",
    "    .queryName(\"ingestionquery\") \\\n",
    "    .format(\"kafka\") \\\n",
    "    .outputMode(\"append\") \\\n",
    "    .option(\"checkpointLocation\", \"checkpointdir304\") \\\n",
    "    .option(\"kafka.bootstrap.servers\", confluentBootstrapServers) \\\n",
    "    .option(\"kafka.security.protocol\", \"SASL_SSL\") \\\n",
    "    .option(\"kafka.sasl.mechanism\", \"PLAIN\") \\\n",
    "    .option(\"kafka.sasl.jaas.config\", \"kafkashaded.org.apache.kafka.common.security.plain.PlainLoginModule required username='{}' password='{}';\".format(confluentApiKey, confluentSecret)) \\\n",
    "    .option(\"kafka.ssl.endpoint.identification.algorithm\", \"https\") \\\n",
    "    .option(\"topic\", confluentTargetTopicName) \\\n",
    "    .option(\"kafka.batch.size\", \"16384\") \\\n",
    "    .option(\"kafka.linger.ms\", \"1\") \\\n",
    "    .trigger(processingTime='2 seconds') \\\n",
    "    .start()"
   ]
  },
  {
   "cell_type": "code",
   "execution_count": 0,
   "metadata": {
    "application/vnd.databricks.v1+cell": {
     "cellMetadata": {},
     "inputWidgets": {},
     "nuid": "74f7c205-93f9-4e8d-966c-d2a91ea19303",
     "showTitle": false,
     "title": ""
    }
   },
   "outputs": [],
   "source": [
    "try:\n",
    "    query.awaitTermination()\n",
    "except Exception as e:\n",
    "    print(f\"Streaming query failed: {str(e)}\")\n",
    "    query.stop()"
   ]
  }
 ],
 "metadata": {
  "application/vnd.databricks.v1+notebook": {
   "dashboards": [],
   "language": "python",
   "notebookMetadata": {
    "pythonIndentUnit": 4
   },
   "notebookName": "kafkaconsumer-streaming3",
   "widgets": {}
  },
  "language_info": {
   "name": "python"
  }
 },
 "nbformat": 4,
 "nbformat_minor": 0
}
