{
 "cells": [
  {
   "cell_type": "markdown",
   "metadata": {
    "application/vnd.databricks.v1+cell": {
     "cellMetadata": {},
     "inputWidgets": {},
     "nuid": "3271af65-b540-445a-9954-5f6c6582645a",
     "showTitle": false,
     "title": ""
    }
   },
   "source": [
    "First we will clearn input directory and drop output table and its respective warehouse directory using below commands"
   ]
  },
  {
   "cell_type": "code",
   "execution_count": 0,
   "metadata": {
    "application/vnd.databricks.v1+cell": {
     "cellMetadata": {
      "byteLimit": 2048000,
      "rowLimit": 10000
     },
     "inputWidgets": {},
     "nuid": "863354b0-347a-40ce-bdd8-8154a7e86830",
     "showTitle": false,
     "title": ""
    }
   },
   "outputs": [
    {
     "output_type": "stream",
     "name": "stdout",
     "output_type": "stream",
     "text": [
      "Out[2]: True"
     ]
    }
   ],
   "source": [
    "dbutils.fs.rm(\"dbfs:/FileStore/streaming_input/input1\", True)"
   ]
  },
  {
   "cell_type": "code",
   "execution_count": 0,
   "metadata": {
    "application/vnd.databricks.v1+cell": {
     "cellMetadata": {
      "byteLimit": 2048000,
      "rowLimit": 10000
     },
     "inputWidgets": {},
     "nuid": "3b740498-55b1-4890-8c3d-86349741369b",
     "showTitle": false,
     "title": ""
    }
   },
   "outputs": [
    {
     "output_type": "stream",
     "name": "stdout",
     "output_type": "stream",
     "text": [
      "Out[3]: DataFrame[]"
     ]
    }
   ],
   "source": [
    "#if table exist you can drop that table using below command\n",
    "\n",
    "spark.sql(\"drop table orders_result_final\")"
   ]
  },
  {
   "cell_type": "code",
   "execution_count": 0,
   "metadata": {
    "application/vnd.databricks.v1+cell": {
     "cellMetadata": {
      "byteLimit": 2048000,
      "rowLimit": 10000
     },
     "inputWidgets": {},
     "nuid": "cfd0d5e3-b009-4ab7-93c9-43f1a8b4e8c0",
     "showTitle": false,
     "title": ""
    }
   },
   "outputs": [
    {
     "output_type": "stream",
     "name": "stdout",
     "output_type": "stream",
     "text": [
      "Out[4]: False"
     ]
    }
   ],
   "source": [
    "#Also we will delete the directory also\n",
    "dbutils.fs.rm(\"dbfs:/user/hive/warehouse/orders_result_final\", True)"
   ]
  },
  {
   "cell_type": "code",
   "execution_count": 0,
   "metadata": {
    "application/vnd.databricks.v1+cell": {
     "cellMetadata": {
      "byteLimit": 2048000,
      "rowLimit": 10000
     },
     "inputWidgets": {},
     "nuid": "6ee8d11b-cddf-481e-9532-5b43f4ab4b5b",
     "showTitle": false,
     "title": ""
    }
   },
   "outputs": [
    {
     "output_type": "stream",
     "name": "stdout",
     "output_type": "stream",
     "text": [
      "Out[5]: True"
     ]
    }
   ],
   "source": [
    "# we will create input directory\n",
    "dbutils.fs.mkdirs(\"dbfs:/FileStore/streaming_input/input1\")"
   ]
  },
  {
   "cell_type": "code",
   "execution_count": 0,
   "metadata": {
    "application/vnd.databricks.v1+cell": {
     "cellMetadata": {
      "byteLimit": 2048000,
      "rowLimit": 10000
     },
     "inputWidgets": {},
     "nuid": "4e9f8039-9cb7-4279-924d-6f55ab618845",
     "showTitle": false,
     "title": ""
    }
   },
   "outputs": [
    {
     "output_type": "stream",
     "name": "stdout",
     "output_type": "stream",
     "text": [
      "Out[6]: DataFrame[]"
     ]
    }
   ],
   "source": [
    "#target table creation command\n",
    "\n",
    "spark.sql(\"create table orders_result_final (customer_id long, orders_placed long, products_purchased long, amount_spent float)\")"
   ]
  },
  {
   "cell_type": "code",
   "execution_count": 0,
   "metadata": {
    "application/vnd.databricks.v1+cell": {
     "cellMetadata": {
      "byteLimit": 2048000,
      "rowLimit": 10000
     },
     "inputWidgets": {},
     "nuid": "05385a0e-8249-48e3-a3c1-dd16afeaecc2",
     "showTitle": false,
     "title": ""
    }
   },
   "outputs": [],
   "source": [
    "schema_json = \"order_id long, customer_id long, customer_fname string, customer_lname string,  city string, state string, pincode long, line_iems array<struct<order_item_id:long, order_item_product_id:long, order_item_quantity:long, order_item_subtotal:float, order_item_product_price:float>>\""
   ]
  },
  {
   "cell_type": "code",
   "execution_count": 0,
   "metadata": {
    "application/vnd.databricks.v1+cell": {
     "cellMetadata": {
      "byteLimit": 2048000,
      "rowLimit": 10000
     },
     "inputWidgets": {},
     "nuid": "8d26c629-dd5e-4fc1-a186-7b5b8432836e",
     "showTitle": false,
     "title": ""
    }
   },
   "outputs": [],
   "source": [
    "order_data = spark.readStream \\\n",
    ".format(\"json\") \\\n",
    ".schema(schema_json) \\\n",
    ".option(\"path\", \"dbfs:/FileStore/streaming_input/input1\") \\\n",
    ".load()\n"
   ]
  },
  {
   "cell_type": "code",
   "execution_count": 0,
   "metadata": {
    "application/vnd.databricks.v1+cell": {
     "cellMetadata": {
      "byteLimit": 2048000,
      "rowLimit": 10000
     },
     "inputWidgets": {},
     "nuid": "b4db5467-392b-4513-bd02-7161254fa847",
     "showTitle": false,
     "title": ""
    }
   },
   "outputs": [],
   "source": [
    "order_data.createOrReplaceTempView(\"orders\")"
   ]
  },
  {
   "cell_type": "code",
   "execution_count": 0,
   "metadata": {
    "application/vnd.databricks.v1+cell": {
     "cellMetadata": {
      "byteLimit": 2048000,
      "rowLimit": 10000
     },
     "inputWidgets": {},
     "nuid": "11204a38-6d4e-41c1-aa56-9e90046d2b10",
     "showTitle": false,
     "title": ""
    }
   },
   "outputs": [],
   "source": [
    "exploded_orders = spark.sql(\"select order_id, customer_id, city, state, pincode, explode(line_iems) as lines from orders\")"
   ]
  },
  {
   "cell_type": "code",
   "execution_count": 0,
   "metadata": {
    "application/vnd.databricks.v1+cell": {
     "cellMetadata": {
      "byteLimit": 2048000,
      "rowLimit": 10000
     },
     "inputWidgets": {},
     "nuid": "01b3a5fd-e871-4e53-8bf5-02cbd1d3aca2",
     "showTitle": false,
     "title": ""
    }
   },
   "outputs": [],
   "source": [
    "exploded_orders.createOrReplaceTempView(\"exploded_orders\")"
   ]
  },
  {
   "cell_type": "code",
   "execution_count": 0,
   "metadata": {
    "application/vnd.databricks.v1+cell": {
     "cellMetadata": {
      "byteLimit": 2048000,
      "rowLimit": 10000
     },
     "inputWidgets": {},
     "nuid": "d3c9c89e-9861-4f8e-aecc-61c3788a32cc",
     "showTitle": false,
     "title": ""
    }
   },
   "outputs": [],
   "source": [
    "flattened_orders = spark.sql(\"\"\"select order_id, customer_id, city, state, pincode, \n",
    "                            lines.order_item_id as item_id,\n",
    "                            lines.order_item_product_id as product_id, \n",
    "                            lines.order_item_quantity as quantity,\n",
    "                            lines.order_item_product_price as product_price, \n",
    "                            lines.order_item_subtotal as subtotal\n",
    "                            from exploded_orders\"\"\")"
   ]
  },
  {
   "cell_type": "code",
   "execution_count": 0,
   "metadata": {
    "application/vnd.databricks.v1+cell": {
     "cellMetadata": {
      "byteLimit": 2048000,
      "rowLimit": 10000
     },
     "inputWidgets": {},
     "nuid": "a9c2a32c-0b95-4ab2-b216-e4ce8a11d1f6",
     "showTitle": false,
     "title": ""
    }
   },
   "outputs": [],
   "source": [
    "# from pyspark.sql.functions import distinct"
   ]
  },
  {
   "cell_type": "code",
   "execution_count": 0,
   "metadata": {
    "application/vnd.databricks.v1+cell": {
     "cellMetadata": {
      "byteLimit": 2048000,
      "rowLimit": 10000
     },
     "inputWidgets": {},
     "nuid": "98961e34-6650-4305-8067-41816dfea1a6",
     "showTitle": false,
     "title": ""
    }
   },
   "outputs": [],
   "source": [
    "def myfunction(flattened_orders, batch_id):\n",
    "\n",
    "    flattened_orders.createOrReplaceTempView(\"flattened_orders\")\n",
    "\n",
    "    aggregated_orders = flattened_orders._jdf.sparkSession().sql(\"\"\"select customer_id, approx_count_distinct(order_id) as orders_placed, count(product_id) as products_purchased, sum(subtotal) \n",
    "                              as amount_spent\n",
    "                              from flattened_orders\n",
    "                              group By customer_id\n",
    "                              \"\"\")\n",
    "    \n",
    "\n",
    "    aggregated_orders.createOrReplaceTempView(\"orders_result\")\n",
    "\n",
    "    merge_statement = \"\"\"merge into orders_result_final t using orders_result s \n",
    "    on t.customer_id = s.customer_id\n",
    "    when matched \n",
    "    then update set t.orders_placed = t.orders_placed + s.orders_placed, t.products_purchased = t.products_purchased + s.products_purchased, t.amount_spent = t.amount_spent + s.amount_spent\n",
    "    when not matched \n",
    "    then insert * \n",
    "    \"\"\"\n",
    "    flattened_orders._jdf.sparkSession().sql(merge_statement)\n",
    "\n",
    "\n",
    "    "
   ]
  },
  {
   "cell_type": "code",
   "execution_count": 0,
   "metadata": {
    "application/vnd.databricks.v1+cell": {
     "cellMetadata": {
      "byteLimit": 2048000,
      "rowLimit": 10000
     },
     "inputWidgets": {},
     "nuid": "07b49f24-7769-4ccb-aea4-11c805e54547",
     "showTitle": false,
     "title": ""
    }
   },
   "outputs": [],
   "source": [
    "streaming_query = flattened_orders \\\n",
    "    .writeStream \\\n",
    "    .format(\"delta\") \\\n",
    "    .outputMode(\"update\") \\\n",
    "    .option(\"checkpointLocation\", \"Checkpointlocation111\") \\\n",
    "    .foreachBatch(myfunction) \\\n",
    "    .start()"
   ]
  },
  {
   "cell_type": "code",
   "execution_count": 0,
   "metadata": {
    "application/vnd.databricks.v1+cell": {
     "cellMetadata": {
      "byteLimit": 2048000,
      "rowLimit": 10000
     },
     "inputWidgets": {},
     "nuid": "b9209bfb-3bf1-47fa-92a0-d625a1921440",
     "showTitle": false,
     "title": ""
    }
   },
   "outputs": [
    {
     "output_type": "stream",
     "name": "stdout",
     "output_type": "stream",
     "text": [
      "+-----------+-------------+------------------+------------+\n|customer_id|orders_placed|products_purchased|amount_spent|\n+-----------+-------------+------------------+------------+\n|      11599|            3|                 6|     1409.93|\n|       6272|            3|                 8|   1709.8401|\n|        256|            2|                 6|     1159.96|\n|       8827|            2|                 8|   1399.7001|\n|      11318|            2|                10|     2259.72|\n|      10280|            3|                10|     2659.76|\n+-----------+-------------+------------------+------------+\n\n"
     ]
    }
   ],
   "source": [
    "spark.sql(\"select * from orders_result_final\").show()"
   ]
  },
  {
   "cell_type": "code",
   "execution_count": 0,
   "metadata": {
    "application/vnd.databricks.v1+cell": {
     "cellMetadata": {
      "byteLimit": 2048000,
      "rowLimit": 10000
     },
     "inputWidgets": {},
     "nuid": "26a5d072-89d8-41ad-b503-da720527d5f8",
     "showTitle": false,
     "title": ""
    }
   },
   "outputs": [
    {
     "output_type": "display_data",
     "data": {
      "text/plain": [
       ""
      ]
     },
     "metadata": {
      "application/vnd.databricks.v1+output": {
       "arguments": {},
       "data": "",
       "errorSummary": "Command skipped",
       "errorTraceType": "ansi",
       "metadata": {},
       "type": "ipynbError"
      }
     },
     "output_type": "display_data"
    }
   ],
   "source": [
    "streaming_query.explain()"
   ]
  },
  {
   "cell_type": "code",
   "execution_count": 0,
   "metadata": {
    "application/vnd.databricks.v1+cell": {
     "cellMetadata": {},
     "inputWidgets": {},
     "nuid": "8048f7ea-9e6e-49db-ae6e-48ff937b42ca",
     "showTitle": false,
     "title": ""
    }
   },
   "outputs": [],
   "source": []
  }
 ],
 "metadata": {
  "application/vnd.databricks.v1+notebook": {
   "dashboards": [],
   "environmentMetadata": null,
   "language": "python",
   "notebookMetadata": {
    "pythonIndentUnit": 4
   },
   "notebookName": "Week28_s1_Streaming_transformation_without_statestore",
   "widgets": {}
  }
 },
 "nbformat": 4,
 "nbformat_minor": 0
}
