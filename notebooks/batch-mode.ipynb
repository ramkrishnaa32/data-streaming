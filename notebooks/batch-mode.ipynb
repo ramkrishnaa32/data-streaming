{
 "cells": [
  {
   "cell_type": "code",
   "execution_count": 1,
   "id": "7bad0774",
   "metadata": {},
   "outputs": [
    {
     "name": "stderr",
     "output_type": "stream",
     "text": [
      "25/04/12 20:52:37 WARN Utils: Your hostname, Rams-MacBook-Pro.local resolves to a loopback address: 127.0.0.1; using 192.168.1.7 instead (on interface en0)\n",
      "25/04/12 20:52:37 WARN Utils: Set SPARK_LOCAL_IP if you need to bind to another address\n",
      "Setting default log level to \"WARN\".\n",
      "To adjust logging level use sc.setLogLevel(newLevel). For SparkR, use setLogLevel(newLevel).\n",
      "25/04/12 20:52:37 WARN NativeCodeLoader: Unable to load native-hadoop library for your platform... using builtin-java classes where applicable\n"
     ]
    }
   ],
   "source": [
    "from pyspark.sql import SparkSession\n",
    "import getpass\n",
    "username = getpass.getuser()\n",
    "spark = SparkSession. \\\n",
    "    builder. \\\n",
    "    config(\"spark.sql.warehouse.dir\", f\"/user/{username}/warehouse\"). \\\n",
    "    enableHiveSupport(). \\\n",
    "    master('local'). \\\n",
    "    getOrCreate()"
   ]
  },
  {
   "cell_type": "code",
   "execution_count": 2,
   "id": "9651ba2f",
   "metadata": {},
   "outputs": [],
   "source": [
    "from pyspark.sql.functions import *"
   ]
  },
  {
   "cell_type": "code",
   "execution_count": 3,
   "id": "d27d3d54",
   "metadata": {},
   "outputs": [],
   "source": [
    "orders_schema = \"order_id long,customer_id long,customer_fname string,customer_lname string,city string,state string,pincode long,line_items array<struct<order_item_id: long,order_item_product_id: long,order_item_quantity: long,order_item_product_price: float,order_item_subtotal: float>>\""
   ]
  },
  {
   "cell_type": "code",
   "execution_count": 7,
   "id": "1aaf520e",
   "metadata": {},
   "outputs": [],
   "source": [
    "orders_df = spark \\\n",
    ".read \\\n",
    ".format(\"json\") \\\n",
    ".schema(orders_schema) \\\n",
    ".option(\"path\",\"/Users/kramkrishnaachary/Learning/Github/structured-streaming/data/aggregated/\") \\\n",
    ".load()"
   ]
  },
  {
   "cell_type": "code",
   "execution_count": 8,
   "id": "760058a0",
   "metadata": {},
   "outputs": [],
   "source": [
    "orders_df.createOrReplaceTempView(\"orders\")\n",
    "   "
   ]
  },
  {
   "cell_type": "code",
   "execution_count": 9,
   "id": "def062c8",
   "metadata": {},
   "outputs": [
    {
     "name": "stdout",
     "output_type": "stream",
     "text": [
      "+--------+-----------+--------------+--------------+-----------+-----+-------+----------+\n",
      "|order_id|customer_id|customer_fname|customer_lname|       city|state|pincode|line_items|\n",
      "+--------+-----------+--------------+--------------+-----------+-----+-------+----------+\n",
      "|    3875|       9557|          Mary|      Figueroa|    Gardena|   CA|  90247|      NULL|\n",
      "|    5340|       8355|      Jonathan|        Parker|Lake Forest|   CA|  92630|      NULL|\n",
      "|    8882|       8355|      Jonathan|        Parker|Lake Forest|   CA|  92630|      NULL|\n",
      "|    9523|       9557|          Mary|      Figueroa|    Gardena|   CA|  90247|      NULL|\n",
      "|   18685|       9557|          Mary|      Figueroa|    Gardena|   CA|  90247|      NULL|\n",
      "|   19287|       9557|          Mary|      Figueroa|    Gardena|   CA|  90247|      NULL|\n",
      "|   23915|       8355|      Jonathan|        Parker|Lake Forest|   CA|  92630|      NULL|\n",
      "|   23916|       9557|          Mary|      Figueroa|    Gardena|   CA|  90247|      NULL|\n",
      "|   24175|       8355|      Jonathan|        Parker|Lake Forest|   CA|  92630|      NULL|\n",
      "|   36392|       8355|      Jonathan|        Parker|Lake Forest|   CA|  92630|      NULL|\n",
      "|   41780|       9557|          Mary|      Figueroa|    Gardena|   CA|  90247|      NULL|\n",
      "|   44609|       8355|      Jonathan|        Parker|Lake Forest|   CA|  92630|      NULL|\n",
      "|   47741|       9557|          Mary|      Figueroa|    Gardena|   CA|  90247|      NULL|\n",
      "|   58781|       9557|          Mary|      Figueroa|    Gardena|   CA|  90247|      NULL|\n",
      "|   61855|       9557|          Mary|      Figueroa|    Gardena|   CA|  90247|      NULL|\n",
      "|    8765|      10280|      Nicholas|         Knapp|     Caguas|   PR|    725|      NULL|\n",
      "|   20281|       6272|       Charles|       Simmons| Toms River|   NJ|   8753|      NULL|\n",
      "|   23911|       6272|       Charles|       Simmons| Toms River|   NJ|   8753|      NULL|\n",
      "|   23914|      10280|      Nicholas|         Knapp|     Caguas|   PR|    725|      NULL|\n",
      "|   29567|      10280|      Nicholas|         Knapp|     Caguas|   PR|    725|      NULL|\n",
      "+--------+-----------+--------------+--------------+-----------+-----+-------+----------+\n",
      "only showing top 20 rows\n",
      "\n"
     ]
    }
   ],
   "source": [
    "spark.sql(\"select * from orders\").show()"
   ]
  },
  {
   "cell_type": "code",
   "execution_count": 7,
   "id": "6e95cd8c",
   "metadata": {},
   "outputs": [],
   "source": [
    "exploded_orders = spark.sql(\"\"\"select order_id,customer_id,city,state,\n",
    "pincode,explode(line_items) lines from orders\"\"\")"
   ]
  },
  {
   "cell_type": "code",
   "execution_count": 8,
   "id": "2b5fbe75",
   "metadata": {},
   "outputs": [
    {
     "name": "stdout",
     "output_type": "stream",
     "text": [
      "+--------+-----------+-----------+-----+-------+--------------------+\n",
      "|order_id|customer_id|       city|state|pincode|               lines|\n",
      "+--------+-----------+-----------+-----+-------+--------------------+\n",
      "|       1|      11599|    Hickory|   NC|  28601|{1, 957, 1, 299.9...|\n",
      "|       2|        256|    Chicago|   IL|  60625|{2, 1073, 1, 199....|\n",
      "|       2|        256|    Chicago|   IL|  60625|{3, 502, 5, 50.0,...|\n",
      "|       2|        256|    Chicago|   IL|  60625|{4, 403, 1, 129.9...|\n",
      "|       4|       8827|San Antonio|   TX|  78240|{5, 897, 2, 24.99...|\n",
      "|       4|       8827|San Antonio|   TX|  78240|{6, 365, 5, 59.99...|\n",
      "|       4|       8827|San Antonio|   TX|  78240|{7, 502, 3, 50.0,...|\n",
      "|       4|       8827|San Antonio|   TX|  78240|{8, 1014, 4, 49.9...|\n",
      "|       5|      11318|     Caguas|   PR|    725|{9, 957, 1, 299.9...|\n",
      "|       5|      11318|     Caguas|   PR|    725|{10, 365, 5, 59.9...|\n",
      "|       5|      11318|     Caguas|   PR|    725|{11, 1014, 2, 49....|\n",
      "|       5|      11318|     Caguas|   PR|    725|{12, 957, 1, 299....|\n",
      "|       5|      11318|     Caguas|   PR|    725|{13, 403, 1, 129....|\n",
      "|       7|       4530|      Miami|   FL|  33161|{14, 1073, 1, 199...|\n",
      "|       7|       4530|      Miami|   FL|  33161|{15, 957, 1, 299....|\n",
      "|       7|       4530|      Miami|   FL|  33161|{16, 926, 5, 15.9...|\n",
      "|       8|       2911|     Caguas|   PR|    725|{17, 365, 3, 59.9...|\n",
      "|       8|       2911|     Caguas|   PR|    725|{18, 365, 5, 59.9...|\n",
      "|       8|       2911|     Caguas|   PR|    725|{19, 1014, 4, 49....|\n",
      "|       8|       2911|     Caguas|   PR|    725|{20, 502, 1, 50.0...|\n",
      "+--------+-----------+-----------+-----+-------+--------------------+\n",
      "only showing top 20 rows\n",
      "\n"
     ]
    }
   ],
   "source": [
    "exploded_orders.show()"
   ]
  },
  {
   "cell_type": "code",
   "execution_count": 41,
   "id": "db471a3e",
   "metadata": {},
   "outputs": [],
   "source": [
    "exploded_orders.createOrReplaceTempView(\"exploded_orders\")"
   ]
  },
  {
   "cell_type": "code",
   "execution_count": 53,
   "id": "d39071da",
   "metadata": {},
   "outputs": [],
   "source": [
    "flattened_orders = spark.sql(\"\"\"select order_id, customer_id, city, state, pincode, \n",
    "lines.order_item_id as item_id, lines.order_item_product_id as product_id,\n",
    "lines.order_item_quantity as quantity,lines.order_item_product_price as price,\n",
    "lines.order_item_subtotal as subtotal from exploded_orders\"\"\")"
   ]
  },
  {
   "cell_type": "code",
   "execution_count": 54,
   "id": "2ec50c18",
   "metadata": {},
   "outputs": [
    {
     "name": "stdout",
     "output_type": "stream",
     "text": [
      "+--------+-----------+-----------+-----+-------+-------+----------+--------+------+--------+\n",
      "|order_id|customer_id|       city|state|pincode|item_id|product_id|quantity| price|subtotal|\n",
      "+--------+-----------+-----------+-----+-------+-------+----------+--------+------+--------+\n",
      "|       1|      11599|    Hickory|   NC|  28601|      1|       957|       1|299.98|  299.98|\n",
      "|       2|        256|    Chicago|   IL|  60625|      2|      1073|       1|199.99|  199.99|\n",
      "|       2|        256|    Chicago|   IL|  60625|      3|       502|       5|  50.0|   250.0|\n",
      "|       2|        256|    Chicago|   IL|  60625|      4|       403|       1|129.99|  129.99|\n",
      "|       4|       8827|San Antonio|   TX|  78240|      5|       897|       2| 24.99|   49.98|\n",
      "|       4|       8827|San Antonio|   TX|  78240|      6|       365|       5| 59.99|  299.95|\n",
      "|       4|       8827|San Antonio|   TX|  78240|      7|       502|       3|  50.0|   150.0|\n",
      "|       4|       8827|San Antonio|   TX|  78240|      8|      1014|       4| 49.98|  199.92|\n",
      "|       5|      11318|     Caguas|   PR|    725|      9|       957|       1|299.98|  299.98|\n",
      "|       5|      11318|     Caguas|   PR|    725|     10|       365|       5| 59.99|  299.95|\n",
      "|       5|      11318|     Caguas|   PR|    725|     11|      1014|       2| 49.98|   99.96|\n",
      "|       5|      11318|     Caguas|   PR|    725|     12|       957|       1|299.98|  299.98|\n",
      "|       5|      11318|     Caguas|   PR|    725|     13|       403|       1|129.99|  129.99|\n",
      "|       7|       4530|      Miami|   FL|  33161|     14|      1073|       1|199.99|  199.99|\n",
      "|       7|       4530|      Miami|   FL|  33161|     15|       957|       1|299.98|  299.98|\n",
      "|       7|       4530|      Miami|   FL|  33161|     16|       926|       5| 15.99|   79.95|\n",
      "|       8|       2911|     Caguas|   PR|    725|     17|       365|       3| 59.99|  179.97|\n",
      "|       8|       2911|     Caguas|   PR|    725|     18|       365|       5| 59.99|  299.95|\n",
      "|       8|       2911|     Caguas|   PR|    725|     19|      1014|       4| 49.98|  199.92|\n",
      "|       8|       2911|     Caguas|   PR|    725|     20|       502|       1|  50.0|    50.0|\n",
      "+--------+-----------+-----------+-----+-------+-------+----------+--------+------+--------+\n",
      "only showing top 20 rows\n",
      "\n"
     ]
    }
   ],
   "source": [
    "flattened_orders.show()"
   ]
  },
  {
   "cell_type": "code",
   "execution_count": 55,
   "id": "04ca5e9f",
   "metadata": {},
   "outputs": [],
   "source": [
    "flattened_orders.createOrReplaceTempView(\"orders_flattened\")"
   ]
  },
  {
   "cell_type": "code",
   "execution_count": 65,
   "id": "e213f381",
   "metadata": {},
   "outputs": [],
   "source": [
    "aggregated_orders = spark.sql(\"\"\"select customer_id, count(distinct(order_id)) as orders_placed, \n",
    "count(item_id) as products_purchased,sum(subtotal) as amount_spent \n",
    "from orders_flattened group by customer_id\"\"\")"
   ]
  },
  {
   "cell_type": "code",
   "execution_count": 66,
   "id": "8193aae6",
   "metadata": {},
   "outputs": [],
   "source": [
    "aggregated_orders.createOrReplaceTempView(\"orders_aggregated\")"
   ]
  },
  {
   "cell_type": "code",
   "execution_count": 67,
   "id": "e301c115",
   "metadata": {},
   "outputs": [
    {
     "name": "stdout",
     "output_type": "stream",
     "text": [
      "+-----------+-------------+------------------+-----------------+\n",
      "|customer_id|orders_placed|products_purchased|     amount_spent|\n",
      "+-----------+-------------+------------------+-----------------+\n",
      "|        256|           10|                22|4169.480072021484|\n",
      "+-----------+-------------+------------------+-----------------+\n",
      "\n"
     ]
    }
   ],
   "source": [
    "spark.sql(\"select * from orders_aggregated where customer_id = 256\").show()"
   ]
  },
  {
   "cell_type": "code",
   "execution_count": 71,
   "id": "277ee40a",
   "metadata": {},
   "outputs": [],
   "source": [
    "aggregated_orders \\\n",
    ".repartition(1) \\\n",
    ".write \\\n",
    ".format(\"csv\") \\\n",
    ".mode(\"overwrite\") \\\n",
    ".option(\"header\",True) \\\n",
    ".option(\"path\",\"/user/itv005857/json_output_result1\") \\\n",
    ".save()"
   ]
  },
  {
   "cell_type": "code",
   "execution_count": 25,
   "id": "a464ca63",
   "metadata": {},
   "outputs": [],
   "source": [
    "spark.stop()"
   ]
  },
  {
   "cell_type": "code",
   "execution_count": null,
   "id": "737fd6b6",
   "metadata": {},
   "outputs": [],
   "source": []
  }
 ],
 "metadata": {
  "kernelspec": {
   "display_name": "venv",
   "language": "python",
   "name": "python3"
  },
  "language_info": {
   "codemirror_mode": {
    "name": "ipython",
    "version": 3
   },
   "file_extension": ".py",
   "mimetype": "text/x-python",
   "name": "python",
   "nbconvert_exporter": "python",
   "pygments_lexer": "ipython3",
   "version": "3.9.22"
  }
 },
 "nbformat": 4,
 "nbformat_minor": 5
}
